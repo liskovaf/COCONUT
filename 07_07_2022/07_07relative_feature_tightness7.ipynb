{
 "cells": [
  {
   "cell_type": "markdown",
   "id": "09cb58ba",
   "metadata": {
    "pycharm": {
     "name": "#%% md\n"
    }
   },
   "source": [
    "# Relative feature tightness using part 7 for test data"
   ]
  },
  {
   "cell_type": "code",
   "execution_count": 22,
   "id": "b7559bf4",
   "metadata": {
    "pycharm": {
     "name": "#%%\n"
    }
   },
   "outputs": [],
   "source": [
    "import pandas as pd\n",
    "import seaborn as sns\n",
    "import matplotlib.pyplot as plt\n",
    "import csv\n",
    "import numpy as np\n",
    "\n",
    "from ast import literal_eval\n",
    "import re\n",
    "import sys\n",
    "sys.path.insert(0,\"./../fip3\")\n",
    "from fip import profiles"
   ]
  },
  {
   "cell_type": "markdown",
   "id": "fc50f8f1",
   "metadata": {
    "pycharm": {
     "name": "#%% md\n"
    }
   },
   "source": [
    "## Dataset prep"
   ]
  },
  {
   "cell_type": "markdown",
   "id": "005b3e57",
   "metadata": {
    "pycharm": {
     "name": "#%% md\n"
    }
   },
   "source": [
    "### Making feature pointwise mutual information profiles"
   ]
  },
  {
   "cell_type": "code",
   "execution_count": 23,
   "id": "d60972a1-b5a0-4b6f-9c0e-9cf37fdb53f4",
   "metadata": {},
   "outputs": [],
   "source": [
    "profile0 = profiles.CooccurrenceProfile.from_dataframe(pd.read_csv('../data/CP1/COCONUT/COCOp0_38630.csv', dtype={'feature1': 'str','feature2' : 'str' }), vector_count=38630)\n",
    "profile1 = profiles.CooccurrenceProfile.from_dataframe(pd.read_csv('../data/CP1/COCONUT/COCOp1_38630.csv', dtype={'feature1': 'str','feature2' : 'str' }), vector_count=38630)\n",
    "profile2 = profiles.CooccurrenceProfile.from_dataframe(pd.read_csv('../data/CP1/COCONUT/COCOp2_38630.csv', dtype={'feature1': 'str','feature2' : 'str' }), vector_count=38630)\n",
    "profile3 = profiles.CooccurrenceProfile.from_dataframe(pd.read_csv('../data/CP1/COCONUT/COCOp3_38630.csv', dtype={'feature1': 'str','feature2' : 'str' }), vector_count=38630)\n",
    "profile4 = profiles.CooccurrenceProfile.from_dataframe(pd.read_csv('../data/CP1/COCONUT/COCOp4_38630.csv', dtype={'feature1': 'str','feature2' : 'str' }), vector_count=38630)\n",
    "profile5 = profiles.CooccurrenceProfile.from_dataframe(pd.read_csv('../data/CP1/COCONUT/COCOp5_38630.csv', dtype={'feature1': 'str','feature2' : 'str' }), vector_count=38630)\n",
    "profile6 = profiles.CooccurrenceProfile.from_dataframe(pd.read_csv('../data/CP1/COCONUT/COCOp6_38630.csv', dtype={'feature1': 'str','feature2' : 'str' }), vector_count=38630)\n",
    "profile8 = profiles.CooccurrenceProfile.from_dataframe(pd.read_csv('../data/CP1/COCONUT/COCOp8_38629.csv', dtype={'feature1': 'str','feature2' : 'str' }), vector_count=38629)\n",
    "profile9 = profiles.CooccurrenceProfile.from_dataframe(pd.read_csv('../data/CP1/COCONUT/COCOp9_38629.csv', dtype={'feature1': 'str','feature2' : 'str' }), vector_count=38629)"
   ]
  },
  {
   "cell_type": "code",
   "execution_count": 24,
   "id": "d928eb58-08cf-4743-8c58-7196f59da70b",
   "metadata": {},
   "outputs": [
    {
     "data": {
      "text/plain": [
       "<fip.profiles.CooccurrenceProfile at 0x7f90be0bba90>"
      ]
     },
     "execution_count": 24,
     "metadata": {},
     "output_type": "execute_result"
    }
   ],
   "source": [
    "profile0.add_another_cooccurrence_profile(profile1)\n",
    "profile0.add_another_cooccurrence_profile(profile2)\n",
    "profile0.add_another_cooccurrence_profile(profile3)\n",
    "profile0.add_another_cooccurrence_profile(profile4)\n",
    "profile0.add_another_cooccurrence_profile(profile5)\n",
    "profile0.add_another_cooccurrence_profile(profile6)\n",
    "profile0.add_another_cooccurrence_profile(profile8)\n",
    "profile0.add_another_cooccurrence_profile(profile9)"
   ]
  },
  {
   "cell_type": "code",
   "execution_count": 25,
   "id": "7147d116-0c36-4a62-8f6c-c1667667a7c9",
   "metadata": {},
   "outputs": [],
   "source": [
    "probability_profile = profiles.CooccurrenceProbabilityProfile.from_cooccurrence_profile(profile0)"
   ]
  },
  {
   "cell_type": "code",
   "execution_count": 26,
   "id": "f7dab206-f6a7-4d2b-9677-e7fab771e423",
   "metadata": {},
   "outputs": [],
   "source": [
    "pmi_profile = profiles.PointwiseMutualInformationProfile.from_cooccurrence_probability_profile(probability_profile)"
   ]
  },
  {
   "cell_type": "code",
   "execution_count": 27,
   "id": "d83c7314-5776-4b99-80cf-25536ba50afa",
   "metadata": {},
   "outputs": [],
   "source": [
    "reference_profile0 = profiles.CooccurrenceProfile.from_dataframe(pd.read_csv('../data/CP1/ZINC/ZINCp0_37902.csv', dtype={'feature1': 'str','feature2' : 'str' }), vector_count=37902)\n",
    "reference_profile1 = profiles.CooccurrenceProfile.from_dataframe(pd.read_csv('../data/CP1/ZINC/ZINCp1_37902.csv', dtype={'feature1': 'str','feature2' : 'str' }), vector_count=37902)\n",
    "reference_profile2 = profiles.CooccurrenceProfile.from_dataframe(pd.read_csv('../data/CP1/ZINC/ZINCp2_37901.csv', dtype={'feature1': 'str','feature2' : 'str' }), vector_count=37901)\n",
    "reference_profile3 = profiles.CooccurrenceProfile.from_dataframe(pd.read_csv('../data/CP1/ZINC/ZINCp3_37901.csv', dtype={'feature1': 'str','feature2' : 'str' }), vector_count=37901)\n",
    "reference_profile4 = profiles.CooccurrenceProfile.from_dataframe(pd.read_csv('../data/CP1/ZINC/ZINCp4_37901.csv', dtype={'feature1': 'str','feature2' : 'str' }), vector_count=37901)\n",
    "reference_profile5 = profiles.CooccurrenceProfile.from_dataframe(pd.read_csv('../data/CP1/ZINC/ZINCp5_37901.csv', dtype={'feature1': 'str','feature2' : 'str' }), vector_count=37901)\n",
    "reference_profile6 = profiles.CooccurrenceProfile.from_dataframe(pd.read_csv('../data/CP1/ZINC/ZINCp6_37901.csv', dtype={'feature1': 'str','feature2' : 'str' }), vector_count=37901)\n",
    "reference_profile8 = profiles.CooccurrenceProfile.from_dataframe(pd.read_csv('../data/CP1/ZINC/ZINCp8_37901.csv', dtype={'feature1': 'str','feature2' : 'str' }), vector_count=37901)\n",
    "reference_profile9 = profiles.CooccurrenceProfile.from_dataframe(pd.read_csv('../data/CP1/ZINC/ZINCp9_37901.csv', dtype={'feature1': 'str','feature2' : 'str' }), vector_count=37901)"
   ]
  },
  {
   "cell_type": "code",
   "execution_count": 28,
   "id": "3e7d1500-bc9f-424d-8be0-5a3c575b0dc8",
   "metadata": {},
   "outputs": [
    {
     "data": {
      "text/plain": [
       "<fip.profiles.CooccurrenceProfile at 0x7f90c26609d0>"
      ]
     },
     "execution_count": 28,
     "metadata": {},
     "output_type": "execute_result"
    }
   ],
   "source": [
    "reference_profile0.add_another_cooccurrence_profile(reference_profile1)\n",
    "reference_profile0.add_another_cooccurrence_profile(reference_profile2)\n",
    "reference_profile0.add_another_cooccurrence_profile(reference_profile3)\n",
    "reference_profile0.add_another_cooccurrence_profile(reference_profile4)\n",
    "reference_profile0.add_another_cooccurrence_profile(reference_profile5)\n",
    "reference_profile0.add_another_cooccurrence_profile(reference_profile6)\n",
    "reference_profile0.add_another_cooccurrence_profile(reference_profile8)\n",
    "reference_profile0.add_another_cooccurrence_profile(reference_profile9)"
   ]
  },
  {
   "cell_type": "code",
   "execution_count": 29,
   "id": "bbffde8b-6839-461a-8a68-8e466d80b123",
   "metadata": {},
   "outputs": [],
   "source": [
    "reference_probability_profile = profiles.CooccurrenceProbabilityProfile.from_cooccurrence_profile(reference_profile0)"
   ]
  },
  {
   "cell_type": "code",
   "execution_count": 30,
   "id": "ae1fcc8e-72fa-4bd9-9fa8-a28a87077b9f",
   "metadata": {},
   "outputs": [],
   "source": [
    "reference_pmi_profile = profiles.PointwiseMutualInformationProfile.from_cooccurrence_probability_profile(reference_probability_profile)"
   ]
  },
  {
   "cell_type": "markdown",
   "id": "8141d215",
   "metadata": {
    "pycharm": {
     "name": "#%% md\n"
    }
   },
   "source": [
    "### Making feature pointwise KL divergence profile between COCONUT and ZINC"
   ]
  },
  {
   "cell_type": "code",
   "execution_count": 31,
   "id": "e2da7160",
   "metadata": {
    "pycharm": {
     "name": "#%%\n"
    }
   },
   "outputs": [
    {
     "data": {
      "text/html": [
       "<div>\n",
       "<style scoped>\n",
       "    .dataframe tbody tr th:only-of-type {\n",
       "        vertical-align: middle;\n",
       "    }\n",
       "\n",
       "    .dataframe tbody tr th {\n",
       "        vertical-align: top;\n",
       "    }\n",
       "\n",
       "    .dataframe thead th {\n",
       "        text-align: right;\n",
       "    }\n",
       "</style>\n",
       "<table border=\"1\" class=\"dataframe\">\n",
       "  <thead>\n",
       "    <tr style=\"text-align: right;\">\n",
       "      <th></th>\n",
       "      <th></th>\n",
       "      <th>value</th>\n",
       "    </tr>\n",
       "    <tr>\n",
       "      <th>feature1</th>\n",
       "      <th>feature2</th>\n",
       "      <th></th>\n",
       "    </tr>\n",
       "  </thead>\n",
       "  <tbody>\n",
       "    <tr>\n",
       "      <th rowspan=\"5\" valign=\"top\">0</th>\n",
       "      <th>0</th>\n",
       "      <td>2.068281</td>\n",
       "    </tr>\n",
       "    <tr>\n",
       "      <th>1</th>\n",
       "      <td>2.872632</td>\n",
       "    </tr>\n",
       "    <tr>\n",
       "      <th>10</th>\n",
       "      <td>4.496093</td>\n",
       "    </tr>\n",
       "    <tr>\n",
       "      <th>100</th>\n",
       "      <td>5.431967</td>\n",
       "    </tr>\n",
       "    <tr>\n",
       "      <th>1000</th>\n",
       "      <td>3.330083</td>\n",
       "    </tr>\n",
       "    <tr>\n",
       "      <th>...</th>\n",
       "      <th>...</th>\n",
       "      <td>...</td>\n",
       "    </tr>\n",
       "    <tr>\n",
       "      <th>928</th>\n",
       "      <th>972</th>\n",
       "      <td>-0.027473</td>\n",
       "    </tr>\n",
       "    <tr>\n",
       "      <th>939</th>\n",
       "      <th>986</th>\n",
       "      <td>-1.027473</td>\n",
       "    </tr>\n",
       "    <tr>\n",
       "      <th>959</th>\n",
       "      <th>966</th>\n",
       "      <td>-3.486905</td>\n",
       "    </tr>\n",
       "    <tr>\n",
       "      <th>968</th>\n",
       "      <th>990</th>\n",
       "      <td>-3.486905</td>\n",
       "    </tr>\n",
       "    <tr>\n",
       "      <th>969</th>\n",
       "      <th>995</th>\n",
       "      <td>-0.027473</td>\n",
       "    </tr>\n",
       "  </tbody>\n",
       "</table>\n",
       "<p>2097997 rows × 1 columns</p>\n",
       "</div>"
      ],
      "text/plain": [
       "                      value\n",
       "feature1 feature2          \n",
       "0        0         2.068281\n",
       "         1         2.872632\n",
       "         10        4.496093\n",
       "         100       5.431967\n",
       "         1000      3.330083\n",
       "...                     ...\n",
       "928      972      -0.027473\n",
       "939      986      -1.027473\n",
       "959      966      -3.486905\n",
       "968      990      -3.486905\n",
       "969      995      -0.027473\n",
       "\n",
       "[2097997 rows x 1 columns]"
      ]
     },
     "execution_count": 31,
     "metadata": {},
     "output_type": "execute_result"
    }
   ],
   "source": [
    "difference_pkld_profile = profiles.PointwiseKLDivergenceProfile.from_cooccurrence_probability_profiles(\n",
    "    probability_profile, reference_probability_profile)\n",
    "difference_pkld_profile.df"
   ]
  },
  {
   "cell_type": "markdown",
   "id": "280a3dd8",
   "metadata": {
    "pycharm": {
     "name": "#%% md\n"
    }
   },
   "source": [
    "### Sampling structures from COCONUT and ZINC datasets"
   ]
  },
  {
   "cell_type": "code",
   "execution_count": 32,
   "id": "212cd152",
   "metadata": {
    "pycharm": {
     "name": "#%%\n"
    }
   },
   "outputs": [],
   "source": [
    "coconut_samples = pd.read_csv('../data/CP1/COCONUT/COCOrandom.csv', delimiter = ' ')\n",
    "coconut_samples = coconut_samples.drop(['Coconut_id'], axis=1)\n",
    "coconut_samples['Name'] = 'COCONUT'"
   ]
  },
  {
   "cell_type": "code",
   "execution_count": 33,
   "id": "95627151-b248-427d-a494-4f84494aa1d6",
   "metadata": {},
   "outputs": [],
   "source": [
    "df_split_coco = np.array_split(coconut_samples, 10)"
   ]
  },
  {
   "cell_type": "code",
   "execution_count": 34,
   "id": "13b1766b-989b-4995-950c-e7f7bbe1f5fd",
   "metadata": {},
   "outputs": [
    {
     "data": {
      "text/html": [
       "<div>\n",
       "<style scoped>\n",
       "    .dataframe tbody tr th:only-of-type {\n",
       "        vertical-align: middle;\n",
       "    }\n",
       "\n",
       "    .dataframe tbody tr th {\n",
       "        vertical-align: top;\n",
       "    }\n",
       "\n",
       "    .dataframe thead th {\n",
       "        text-align: right;\n",
       "    }\n",
       "</style>\n",
       "<table border=\"1\" class=\"dataframe\">\n",
       "  <thead>\n",
       "    <tr style=\"text-align: right;\">\n",
       "      <th></th>\n",
       "      <th>Smiles</th>\n",
       "      <th>MW</th>\n",
       "      <th>logP</th>\n",
       "      <th>Inchi</th>\n",
       "      <th>Inchi_s</th>\n",
       "      <th>Name</th>\n",
       "      <th>ECFP</th>\n",
       "      <th>Bitset</th>\n",
       "    </tr>\n",
       "  </thead>\n",
       "  <tbody>\n",
       "    <tr>\n",
       "      <th>270410</th>\n",
       "      <td>C1CCC(C23CC(CC4CCCN=C42)C2CCCCN2C3)NC1</td>\n",
       "      <td>315.267448</td>\n",
       "      <td>3.2440</td>\n",
       "      <td>LHZDKNLVYWYRSS-UHFFFAOYSA-N</td>\n",
       "      <td>LHZDKNLVYWYRSS</td>\n",
       "      <td>COCONUT</td>\n",
       "      <td>&lt;rdkit.DataStructs.cDataStructs.ExplicitBitVec...</td>\n",
       "      <td>[33, 51, 118, 162, 264, 305, 313, 325, 378, 50...</td>\n",
       "    </tr>\n",
       "    <tr>\n",
       "      <th>270411</th>\n",
       "      <td>COc1cccc(C=CC(O)C(O)C(O)C(C)OC)c1CO</td>\n",
       "      <td>312.157288</td>\n",
       "      <td>0.3183</td>\n",
       "      <td>ODQVGZIJMRNPQK-UHFFFAOYSA-N</td>\n",
       "      <td>ODQVGZIJMRNPQK</td>\n",
       "      <td>COCONUT</td>\n",
       "      <td>&lt;rdkit.DataStructs.cDataStructs.ExplicitBitVec...</td>\n",
       "      <td>[1, 40, 80, 146, 210, 222, 227, 249, 283, 368,...</td>\n",
       "    </tr>\n",
       "    <tr>\n",
       "      <th>270412</th>\n",
       "      <td>COc1ccc(CNC(=O)c2cc3c([nH]c4ccccc43)c(-c3ccc(C...</td>\n",
       "      <td>449.210327</td>\n",
       "      <td>6.4451</td>\n",
       "      <td>QRNUBGNGCMKPQO-UHFFFAOYSA-N</td>\n",
       "      <td>QRNUBGNGCMKPQO</td>\n",
       "      <td>COCONUT</td>\n",
       "      <td>&lt;rdkit.DataStructs.cDataStructs.ExplicitBitVec...</td>\n",
       "      <td>[1, 68, 80, 119, 197, 223, 255, 283, 310, 322,...</td>\n",
       "    </tr>\n",
       "    <tr>\n",
       "      <th>270413</th>\n",
       "      <td>CC(=O)OC(CCC(C)=CCCC(=O)c1ccc(O)cc1O)C(C)(O)CC...</td>\n",
       "      <td>432.251189</td>\n",
       "      <td>5.2163</td>\n",
       "      <td>JDVWBXDBNKCEEE-UHFFFAOYSA-N</td>\n",
       "      <td>JDVWBXDBNKCEEE</td>\n",
       "      <td>COCONUT</td>\n",
       "      <td>&lt;rdkit.DataStructs.cDataStructs.ExplicitBitVec...</td>\n",
       "      <td>[1, 24, 67, 69, 80, 114, 205, 237, 357, 370, 3...</td>\n",
       "    </tr>\n",
       "    <tr>\n",
       "      <th>270414</th>\n",
       "      <td>COCNc1cc2c3c([nH+]1)-n1cc4cc(C56CCOCC5CCc5cccc...</td>\n",
       "      <td>1004.484442</td>\n",
       "      <td>10.6355</td>\n",
       "      <td>ANWQUIINLJNKGK-UHFFFAOYSA-O</td>\n",
       "      <td>ANWQUIINLJNKGK</td>\n",
       "      <td>COCONUT</td>\n",
       "      <td>&lt;rdkit.DataStructs.cDataStructs.ExplicitBitVec...</td>\n",
       "      <td>[22, 48, 49, 58, 65, 80, 95, 104, 128, 155, 21...</td>\n",
       "    </tr>\n",
       "    <tr>\n",
       "      <th>...</th>\n",
       "      <td>...</td>\n",
       "      <td>...</td>\n",
       "      <td>...</td>\n",
       "      <td>...</td>\n",
       "      <td>...</td>\n",
       "      <td>...</td>\n",
       "      <td>...</td>\n",
       "      <td>...</td>\n",
       "    </tr>\n",
       "    <tr>\n",
       "      <th>309034</th>\n",
       "      <td>S=C(NNc1ccccc1)NC(c1ccccc1)(c1ccccc1)c1ccccc1</td>\n",
       "      <td>409.161269</td>\n",
       "      <td>5.4697</td>\n",
       "      <td>RFKBPYKOKYSLIQ-UHFFFAOYSA-N</td>\n",
       "      <td>RFKBPYKOKYSLIQ</td>\n",
       "      <td>COCONUT</td>\n",
       "      <td>&lt;rdkit.DataStructs.cDataStructs.ExplicitBitVec...</td>\n",
       "      <td>[97, 105, 110, 114, 191, 354, 389, 639, 696, 7...</td>\n",
       "    </tr>\n",
       "    <tr>\n",
       "      <th>309035</th>\n",
       "      <td>COc1cc(C(O)C(O)OC2OC(COC(=O)C=Cc3cc(OC)c(O)c(O...</td>\n",
       "      <td>568.179206</td>\n",
       "      <td>-0.4438</td>\n",
       "      <td>LTEDCNNXJUTLEF-UHFFFAOYSA-N</td>\n",
       "      <td>LTEDCNNXJUTLEF</td>\n",
       "      <td>COCONUT</td>\n",
       "      <td>&lt;rdkit.DataStructs.cDataStructs.ExplicitBitVec...</td>\n",
       "      <td>[1, 31, 58, 80, 147, 176, 202, 220, 227, 249, ...</td>\n",
       "    </tr>\n",
       "    <tr>\n",
       "      <th>309036</th>\n",
       "      <td>CC(=O)OC1CC2(C)C3CC(OC4OC(CO)C(O)C(O)C4O)C4C(C...</td>\n",
       "      <td>910.492601</td>\n",
       "      <td>2.4365</td>\n",
       "      <td>GZJSPFHGRIJXBF-UHFFFAOYSA-N</td>\n",
       "      <td>GZJSPFHGRIJXBF</td>\n",
       "      <td>COCONUT</td>\n",
       "      <td>&lt;rdkit.DataStructs.cDataStructs.ExplicitBitVec...</td>\n",
       "      <td>[80, 114, 176, 222, 242, 249, 260, 267, 303, 3...</td>\n",
       "    </tr>\n",
       "    <tr>\n",
       "      <th>309037</th>\n",
       "      <td>CC(C)=CCCC(C)C1CC(O)C2(C)C3=CCC4C(C)(CCC(O)C4(...</td>\n",
       "      <td>440.365431</td>\n",
       "      <td>7.2259</td>\n",
       "      <td>CCFQLQIYEHITNK-UHFFFAOYSA-N</td>\n",
       "      <td>CCFQLQIYEHITNK</td>\n",
       "      <td>COCONUT</td>\n",
       "      <td>&lt;rdkit.DataStructs.cDataStructs.ExplicitBitVec...</td>\n",
       "      <td>[1, 8, 61, 63, 80, 111, 137, 203, 283, 401, 44...</td>\n",
       "    </tr>\n",
       "    <tr>\n",
       "      <th>309038</th>\n",
       "      <td>NC(C(O)C=O)C(O)C(O)CO</td>\n",
       "      <td>179.079373</td>\n",
       "      <td>-3.4124</td>\n",
       "      <td>FOEXHEVNPRRHDY-UHFFFAOYSA-N</td>\n",
       "      <td>FOEXHEVNPRRHDY</td>\n",
       "      <td>COCONUT</td>\n",
       "      <td>&lt;rdkit.DataStructs.cDataStructs.ExplicitBitVec...</td>\n",
       "      <td>[1, 80, 222, 227, 441, 482, 508, 650, 657, 694...</td>\n",
       "    </tr>\n",
       "  </tbody>\n",
       "</table>\n",
       "<p>38629 rows × 8 columns</p>\n",
       "</div>"
      ],
      "text/plain": [
       "                                                   Smiles           MW  \\\n",
       "270410             C1CCC(C23CC(CC4CCCN=C42)C2CCCCN2C3)NC1   315.267448   \n",
       "270411                COc1cccc(C=CC(O)C(O)C(O)C(C)OC)c1CO   312.157288   \n",
       "270412  COc1ccc(CNC(=O)c2cc3c([nH]c4ccccc43)c(-c3ccc(C...   449.210327   \n",
       "270413  CC(=O)OC(CCC(C)=CCCC(=O)c1ccc(O)cc1O)C(C)(O)CC...   432.251189   \n",
       "270414  COCNc1cc2c3c([nH+]1)-n1cc4cc(C56CCOCC5CCc5cccc...  1004.484442   \n",
       "...                                                   ...          ...   \n",
       "309034      S=C(NNc1ccccc1)NC(c1ccccc1)(c1ccccc1)c1ccccc1   409.161269   \n",
       "309035  COc1cc(C(O)C(O)OC2OC(COC(=O)C=Cc3cc(OC)c(O)c(O...   568.179206   \n",
       "309036  CC(=O)OC1CC2(C)C3CC(OC4OC(CO)C(O)C(O)C4O)C4C(C...   910.492601   \n",
       "309037  CC(C)=CCCC(C)C1CC(O)C2(C)C3=CCC4C(C)(CCC(O)C4(...   440.365431   \n",
       "309038                              NC(C(O)C=O)C(O)C(O)CO   179.079373   \n",
       "\n",
       "           logP                        Inchi         Inchi_s     Name  \\\n",
       "270410   3.2440  LHZDKNLVYWYRSS-UHFFFAOYSA-N  LHZDKNLVYWYRSS  COCONUT   \n",
       "270411   0.3183  ODQVGZIJMRNPQK-UHFFFAOYSA-N  ODQVGZIJMRNPQK  COCONUT   \n",
       "270412   6.4451  QRNUBGNGCMKPQO-UHFFFAOYSA-N  QRNUBGNGCMKPQO  COCONUT   \n",
       "270413   5.2163  JDVWBXDBNKCEEE-UHFFFAOYSA-N  JDVWBXDBNKCEEE  COCONUT   \n",
       "270414  10.6355  ANWQUIINLJNKGK-UHFFFAOYSA-O  ANWQUIINLJNKGK  COCONUT   \n",
       "...         ...                          ...             ...      ...   \n",
       "309034   5.4697  RFKBPYKOKYSLIQ-UHFFFAOYSA-N  RFKBPYKOKYSLIQ  COCONUT   \n",
       "309035  -0.4438  LTEDCNNXJUTLEF-UHFFFAOYSA-N  LTEDCNNXJUTLEF  COCONUT   \n",
       "309036   2.4365  GZJSPFHGRIJXBF-UHFFFAOYSA-N  GZJSPFHGRIJXBF  COCONUT   \n",
       "309037   7.2259  CCFQLQIYEHITNK-UHFFFAOYSA-N  CCFQLQIYEHITNK  COCONUT   \n",
       "309038  -3.4124  FOEXHEVNPRRHDY-UHFFFAOYSA-N  FOEXHEVNPRRHDY  COCONUT   \n",
       "\n",
       "                                                     ECFP  \\\n",
       "270410  <rdkit.DataStructs.cDataStructs.ExplicitBitVec...   \n",
       "270411  <rdkit.DataStructs.cDataStructs.ExplicitBitVec...   \n",
       "270412  <rdkit.DataStructs.cDataStructs.ExplicitBitVec...   \n",
       "270413  <rdkit.DataStructs.cDataStructs.ExplicitBitVec...   \n",
       "270414  <rdkit.DataStructs.cDataStructs.ExplicitBitVec...   \n",
       "...                                                   ...   \n",
       "309034  <rdkit.DataStructs.cDataStructs.ExplicitBitVec...   \n",
       "309035  <rdkit.DataStructs.cDataStructs.ExplicitBitVec...   \n",
       "309036  <rdkit.DataStructs.cDataStructs.ExplicitBitVec...   \n",
       "309037  <rdkit.DataStructs.cDataStructs.ExplicitBitVec...   \n",
       "309038  <rdkit.DataStructs.cDataStructs.ExplicitBitVec...   \n",
       "\n",
       "                                                   Bitset  \n",
       "270410  [33, 51, 118, 162, 264, 305, 313, 325, 378, 50...  \n",
       "270411  [1, 40, 80, 146, 210, 222, 227, 249, 283, 368,...  \n",
       "270412  [1, 68, 80, 119, 197, 223, 255, 283, 310, 322,...  \n",
       "270413  [1, 24, 67, 69, 80, 114, 205, 237, 357, 370, 3...  \n",
       "270414  [22, 48, 49, 58, 65, 80, 95, 104, 128, 155, 21...  \n",
       "...                                                   ...  \n",
       "309034  [97, 105, 110, 114, 191, 354, 389, 639, 696, 7...  \n",
       "309035  [1, 31, 58, 80, 147, 176, 202, 220, 227, 249, ...  \n",
       "309036  [80, 114, 176, 222, 242, 249, 260, 267, 303, 3...  \n",
       "309037  [1, 8, 61, 63, 80, 111, 137, 203, 283, 401, 44...  \n",
       "309038  [1, 80, 222, 227, 441, 482, 508, 650, 657, 694...  \n",
       "\n",
       "[38629 rows x 8 columns]"
      ]
     },
     "execution_count": 34,
     "metadata": {},
     "output_type": "execute_result"
    }
   ],
   "source": [
    "df_split_coco[7]"
   ]
  },
  {
   "cell_type": "code",
   "execution_count": 35,
   "id": "f7ed85f8",
   "metadata": {
    "pycharm": {
     "name": "#%%\n"
    }
   },
   "outputs": [],
   "source": [
    "zinc_samples = pd.read_csv('../data/CP1/ZINC/ZINCrandom.csv', delimiter = ' ')\n",
    "zinc_samples = zinc_samples.drop(['Zinc_id'], axis=1)"
   ]
  },
  {
   "cell_type": "code",
   "execution_count": 36,
   "id": "f90fed46-cb6b-47c0-9dd3-a66ef9ee60d8",
   "metadata": {},
   "outputs": [
    {
     "data": {
      "text/html": [
       "<div>\n",
       "<style scoped>\n",
       "    .dataframe tbody tr th:only-of-type {\n",
       "        vertical-align: middle;\n",
       "    }\n",
       "\n",
       "    .dataframe tbody tr th {\n",
       "        vertical-align: top;\n",
       "    }\n",
       "\n",
       "    .dataframe thead th {\n",
       "        text-align: right;\n",
       "    }\n",
       "</style>\n",
       "<table border=\"1\" class=\"dataframe\">\n",
       "  <thead>\n",
       "    <tr style=\"text-align: right;\">\n",
       "      <th></th>\n",
       "      <th>Smiles</th>\n",
       "      <th>MW</th>\n",
       "      <th>logP</th>\n",
       "      <th>Inchi</th>\n",
       "      <th>Inchi_s</th>\n",
       "      <th>Name</th>\n",
       "      <th>ECFP</th>\n",
       "      <th>Bitset</th>\n",
       "    </tr>\n",
       "  </thead>\n",
       "  <tbody>\n",
       "    <tr>\n",
       "      <th>265309</th>\n",
       "      <td>Cc1cnnc(N2CCS[C@H](C(F)(F)F)C2)c1</td>\n",
       "      <td>263.070403</td>\n",
       "      <td>2.26912</td>\n",
       "      <td>NFKXVPWUFOJQHO-QMMMGPOBSA-N</td>\n",
       "      <td>NFKXVPWUFOJQHO</td>\n",
       "      <td>ZINC</td>\n",
       "      <td>&lt;rdkit.DataStructs.cDataStructs.ExplicitBitVec...</td>\n",
       "      <td>[114, 177, 241, 255, 281, 377, 378, 407, 436, ...</td>\n",
       "    </tr>\n",
       "    <tr>\n",
       "      <th>265310</th>\n",
       "      <td>CC1=N[C@@H]2NN=CN2C(O)=C1</td>\n",
       "      <td>152.069811</td>\n",
       "      <td>-0.00760</td>\n",
       "      <td>JVTCVGIAQSOTBK-ZCFIWIBFSA-N</td>\n",
       "      <td>JVTCVGIAQSOTBK</td>\n",
       "      <td>ZINC</td>\n",
       "      <td>&lt;rdkit.DataStructs.cDataStructs.ExplicitBitVec...</td>\n",
       "      <td>[84, 106, 300, 378, 384, 397, 519, 739, 807, 8...</td>\n",
       "    </tr>\n",
       "    <tr>\n",
       "      <th>265311</th>\n",
       "      <td>CCCCC(CCCC)c1ccnc(N)c1</td>\n",
       "      <td>220.193949</td>\n",
       "      <td>4.12780</td>\n",
       "      <td>CZBMURBNJQQQDC-UHFFFAOYSA-N</td>\n",
       "      <td>CZBMURBNJQQQDC</td>\n",
       "      <td>ZINC</td>\n",
       "      <td>&lt;rdkit.DataStructs.cDataStructs.ExplicitBitVec...</td>\n",
       "      <td>[1, 62, 80, 143, 294, 377, 378, 591, 627, 739,...</td>\n",
       "    </tr>\n",
       "    <tr>\n",
       "      <th>265312</th>\n",
       "      <td>CC(C)CCN1C[C@@H]2OCCN(c3ncc(F)cn3)[C@@H]2C1</td>\n",
       "      <td>294.185590</td>\n",
       "      <td>1.55120</td>\n",
       "      <td>DUGKINZEMKOWKF-KGLIPLIRSA-N</td>\n",
       "      <td>DUGKINZEMKOWKF</td>\n",
       "      <td>ZINC</td>\n",
       "      <td>&lt;rdkit.DataStructs.cDataStructs.ExplicitBitVec...</td>\n",
       "      <td>[1, 21, 68, 80, 102, 283, 340, 378, 656, 667, ...</td>\n",
       "    </tr>\n",
       "    <tr>\n",
       "      <th>265313</th>\n",
       "      <td>O=C(Cc1ccc(F)cc1)Nc1nnc(-c2ccccc2)s1</td>\n",
       "      <td>313.068511</td>\n",
       "      <td>3.52540</td>\n",
       "      <td>MDWISCUYGLSIGD-UHFFFAOYSA-N</td>\n",
       "      <td>MDWISCUYGLSIGD</td>\n",
       "      <td>ZINC</td>\n",
       "      <td>&lt;rdkit.DataStructs.cDataStructs.ExplicitBitVec...</td>\n",
       "      <td>[41, 80, 90, 162, 310, 325, 378, 385, 389, 650...</td>\n",
       "    </tr>\n",
       "    <tr>\n",
       "      <th>...</th>\n",
       "      <td>...</td>\n",
       "      <td>...</td>\n",
       "      <td>...</td>\n",
       "      <td>...</td>\n",
       "      <td>...</td>\n",
       "      <td>...</td>\n",
       "      <td>...</td>\n",
       "      <td>...</td>\n",
       "    </tr>\n",
       "    <tr>\n",
       "      <th>303205</th>\n",
       "      <td>CCOC(=O)c1c(NC(=O)c2cc(-c3ccc(CC)cc3)nc3ccccc2...</td>\n",
       "      <td>484.182064</td>\n",
       "      <td>6.83350</td>\n",
       "      <td>HMHFQFSULDXOOG-UHFFFAOYSA-N</td>\n",
       "      <td>HMHFQFSULDXOOG</td>\n",
       "      <td>ZINC</td>\n",
       "      <td>&lt;rdkit.DataStructs.cDataStructs.ExplicitBitVec...</td>\n",
       "      <td>[1, 42, 50, 54, 80, 145, 147, 162, 216, 220, 2...</td>\n",
       "    </tr>\n",
       "    <tr>\n",
       "      <th>303206</th>\n",
       "      <td>CN(C)c1nccnc1[C@H]1CN(Cc2cc3ccccc3s2)CCO1</td>\n",
       "      <td>354.151432</td>\n",
       "      <td>3.33080</td>\n",
       "      <td>FUFKNLNNLYPNRI-MRXNPFEDSA-N</td>\n",
       "      <td>FUFKNLNNLYPNRI</td>\n",
       "      <td>ZINC</td>\n",
       "      <td>&lt;rdkit.DataStructs.cDataStructs.ExplicitBitVec...</td>\n",
       "      <td>[80, 95, 162, 259, 377, 378, 388, 461, 556, 65...</td>\n",
       "    </tr>\n",
       "    <tr>\n",
       "      <th>303207</th>\n",
       "      <td>COc1ccc(-c2oc3ncn4nc(CSc5nc6ccccc6o5)nc4c3c2-c...</td>\n",
       "      <td>535.131425</td>\n",
       "      <td>6.65520</td>\n",
       "      <td>ZFGYKGBESMBREX-UHFFFAOYSA-N</td>\n",
       "      <td>ZFGYKGBESMBREX</td>\n",
       "      <td>ZINC</td>\n",
       "      <td>&lt;rdkit.DataStructs.cDataStructs.ExplicitBitVec...</td>\n",
       "      <td>[80, 115, 116, 147, 153, 212, 289, 322, 341, 3...</td>\n",
       "    </tr>\n",
       "    <tr>\n",
       "      <th>303208</th>\n",
       "      <td>Cc1sc(NC(=O)c2ccccn2)c(C(N)=O)c1C</td>\n",
       "      <td>275.072848</td>\n",
       "      <td>2.11114</td>\n",
       "      <td>XXDWSRDIRVDROE-UHFFFAOYSA-N</td>\n",
       "      <td>XXDWSRDIRVDROE</td>\n",
       "      <td>ZINC</td>\n",
       "      <td>&lt;rdkit.DataStructs.cDataStructs.ExplicitBitVec...</td>\n",
       "      <td>[1, 50, 122, 140, 162, 214, 216, 252, 309, 313...</td>\n",
       "    </tr>\n",
       "    <tr>\n",
       "      <th>303209</th>\n",
       "      <td>CCCSc1nc2sc3c(c2c2nnc(SCC(=O)N[C@@H](C)CCc4ccc...</td>\n",
       "      <td>555.179638</td>\n",
       "      <td>5.92200</td>\n",
       "      <td>QMXFVSNVFNNIKK-KRWDZBQOSA-N</td>\n",
       "      <td>QMXFVSNVFNNIKK</td>\n",
       "      <td>ZINC</td>\n",
       "      <td>&lt;rdkit.DataStructs.cDataStructs.ExplicitBitVec...</td>\n",
       "      <td>[1, 41, 42, 59, 80, 97, 116, 117, 124, 162, 28...</td>\n",
       "    </tr>\n",
       "  </tbody>\n",
       "</table>\n",
       "<p>37901 rows × 8 columns</p>\n",
       "</div>"
      ],
      "text/plain": [
       "                                                   Smiles          MW  \\\n",
       "265309                  Cc1cnnc(N2CCS[C@H](C(F)(F)F)C2)c1  263.070403   \n",
       "265310                          CC1=N[C@@H]2NN=CN2C(O)=C1  152.069811   \n",
       "265311                             CCCCC(CCCC)c1ccnc(N)c1  220.193949   \n",
       "265312        CC(C)CCN1C[C@@H]2OCCN(c3ncc(F)cn3)[C@@H]2C1  294.185590   \n",
       "265313               O=C(Cc1ccc(F)cc1)Nc1nnc(-c2ccccc2)s1  313.068511   \n",
       "...                                                   ...         ...   \n",
       "303205  CCOC(=O)c1c(NC(=O)c2cc(-c3ccc(CC)cc3)nc3ccccc2...  484.182064   \n",
       "303206          CN(C)c1nccnc1[C@H]1CN(Cc2cc3ccccc3s2)CCO1  354.151432   \n",
       "303207  COc1ccc(-c2oc3ncn4nc(CSc5nc6ccccc6o5)nc4c3c2-c...  535.131425   \n",
       "303208                  Cc1sc(NC(=O)c2ccccn2)c(C(N)=O)c1C  275.072848   \n",
       "303209  CCCSc1nc2sc3c(c2c2nnc(SCC(=O)N[C@@H](C)CCc4ccc...  555.179638   \n",
       "\n",
       "           logP                        Inchi         Inchi_s  Name  \\\n",
       "265309  2.26912  NFKXVPWUFOJQHO-QMMMGPOBSA-N  NFKXVPWUFOJQHO  ZINC   \n",
       "265310 -0.00760  JVTCVGIAQSOTBK-ZCFIWIBFSA-N  JVTCVGIAQSOTBK  ZINC   \n",
       "265311  4.12780  CZBMURBNJQQQDC-UHFFFAOYSA-N  CZBMURBNJQQQDC  ZINC   \n",
       "265312  1.55120  DUGKINZEMKOWKF-KGLIPLIRSA-N  DUGKINZEMKOWKF  ZINC   \n",
       "265313  3.52540  MDWISCUYGLSIGD-UHFFFAOYSA-N  MDWISCUYGLSIGD  ZINC   \n",
       "...         ...                          ...             ...   ...   \n",
       "303205  6.83350  HMHFQFSULDXOOG-UHFFFAOYSA-N  HMHFQFSULDXOOG  ZINC   \n",
       "303206  3.33080  FUFKNLNNLYPNRI-MRXNPFEDSA-N  FUFKNLNNLYPNRI  ZINC   \n",
       "303207  6.65520  ZFGYKGBESMBREX-UHFFFAOYSA-N  ZFGYKGBESMBREX  ZINC   \n",
       "303208  2.11114  XXDWSRDIRVDROE-UHFFFAOYSA-N  XXDWSRDIRVDROE  ZINC   \n",
       "303209  5.92200  QMXFVSNVFNNIKK-KRWDZBQOSA-N  QMXFVSNVFNNIKK  ZINC   \n",
       "\n",
       "                                                     ECFP  \\\n",
       "265309  <rdkit.DataStructs.cDataStructs.ExplicitBitVec...   \n",
       "265310  <rdkit.DataStructs.cDataStructs.ExplicitBitVec...   \n",
       "265311  <rdkit.DataStructs.cDataStructs.ExplicitBitVec...   \n",
       "265312  <rdkit.DataStructs.cDataStructs.ExplicitBitVec...   \n",
       "265313  <rdkit.DataStructs.cDataStructs.ExplicitBitVec...   \n",
       "...                                                   ...   \n",
       "303205  <rdkit.DataStructs.cDataStructs.ExplicitBitVec...   \n",
       "303206  <rdkit.DataStructs.cDataStructs.ExplicitBitVec...   \n",
       "303207  <rdkit.DataStructs.cDataStructs.ExplicitBitVec...   \n",
       "303208  <rdkit.DataStructs.cDataStructs.ExplicitBitVec...   \n",
       "303209  <rdkit.DataStructs.cDataStructs.ExplicitBitVec...   \n",
       "\n",
       "                                                   Bitset  \n",
       "265309  [114, 177, 241, 255, 281, 377, 378, 407, 436, ...  \n",
       "265310  [84, 106, 300, 378, 384, 397, 519, 739, 807, 8...  \n",
       "265311  [1, 62, 80, 143, 294, 377, 378, 591, 627, 739,...  \n",
       "265312  [1, 21, 68, 80, 102, 283, 340, 378, 656, 667, ...  \n",
       "265313  [41, 80, 90, 162, 310, 325, 378, 385, 389, 650...  \n",
       "...                                                   ...  \n",
       "303205  [1, 42, 50, 54, 80, 145, 147, 162, 216, 220, 2...  \n",
       "303206  [80, 95, 162, 259, 377, 378, 388, 461, 556, 65...  \n",
       "303207  [80, 115, 116, 147, 153, 212, 289, 322, 341, 3...  \n",
       "303208  [1, 50, 122, 140, 162, 214, 216, 252, 309, 313...  \n",
       "303209  [1, 41, 42, 59, 80, 97, 116, 117, 124, 162, 28...  \n",
       "\n",
       "[37901 rows x 8 columns]"
      ]
     },
     "execution_count": 36,
     "metadata": {},
     "output_type": "execute_result"
    }
   ],
   "source": [
    "df_split_zinc = np.array_split(zinc_samples, 10)\n",
    "df_split_zinc[7]"
   ]
  },
  {
   "cell_type": "code",
   "execution_count": 37,
   "id": "7d675f14",
   "metadata": {},
   "outputs": [],
   "source": [
    "joint_samples = pd.concat((df_split_coco[7], df_split_zinc[7]), ignore_index=True)"
   ]
  },
  {
   "cell_type": "code",
   "execution_count": 38,
   "id": "1378e876-1044-43b3-80e4-5fdaa4afb463",
   "metadata": {},
   "outputs": [
    {
     "name": "stderr",
     "output_type": "stream",
     "text": [
      "/var/tmp/pbs.43231.lich-compute.vscht.cz/ipykernel_11997/3101749155.py:7: SettingWithCopyWarning: \n",
      "A value is trying to be set on a copy of a slice from a DataFrame\n",
      "\n",
      "See the caveats in the documentation: https://pandas.pydata.org/pandas-docs/stable/user_guide/indexing.html#returning-a-view-versus-a-copy\n",
      "  joint_samples['Bitset'][x] = tup\n"
     ]
    }
   ],
   "source": [
    "for x in joint_samples.index:\n",
    "    a = joint_samples['Bitset'][x]\n",
    "    a = a.split(\", \")\n",
    "    a = re.sub('\\[', '', str(a))\n",
    "    a = re.sub('\\]', '', str(a))\n",
    "    tup = literal_eval(a)\n",
    "    joint_samples['Bitset'][x] = tup"
   ]
  },
  {
   "cell_type": "markdown",
   "id": "4139ba77",
   "metadata": {
    "pycharm": {
     "name": "#%% md\n"
    }
   },
   "source": [
    "## Relative feature tightness against a PMI interrelation profile"
   ]
  },
  {
   "cell_type": "code",
   "execution_count": 39,
   "id": "5b78b1e8",
   "metadata": {
    "collapsed": false,
    "jupyter": {
     "outputs_hidden": false
    },
    "pycharm": {
     "name": "#%%\n"
    }
   },
   "outputs": [],
   "source": [
    "joint_samples['RFT'] = joint_samples['Bitset'].apply(\n",
    "    lambda x: difference_pkld_profile.relative_feature_divergence(x))"
   ]
  },
  {
   "cell_type": "code",
   "execution_count": 40,
   "id": "30d14231",
   "metadata": {
    "collapsed": false,
    "jupyter": {
     "outputs_hidden": false
    },
    "pycharm": {
     "name": "#%%\n"
    }
   },
   "outputs": [
    {
     "data": {
      "image/png": "[encoded data removed]",
      "text/plain": [
       "<Figure size 842.4x595.44 with 1 Axes>"
      ]
     },
     "metadata": {},
     "output_type": "display_data"
    }
   ],
   "source": [
    "a4_dims = (11.7, 8.27)\n",
    "sns.set_style(\"darkgrid\")\n",
    "fig, ax = plt.subplots(figsize=a4_dims)\n",
    "sns.histplot(joint_samples, x='RFT', hue='Name')\n",
    "plt.title('Relative feature tightness against a PMI interrelation profile 7')\n",
    "plt.savefig(f\"../images//joint_samples_RFT7.svg\", format=\"svg\")"
   ]
  },
  {
   "cell_type": "markdown",
   "id": "ba97db5d",
   "metadata": {
    "pycharm": {
     "name": "#%% md\n"
    }
   },
   "source": [
    "According to the histogram, there is a visible split between Relative feature tightness distribution against the pointwise KL divergence profile between COCONUT and ZINC datasets, based on their radius 2 fragments. Larger fragments might diverge even further."
   ]
  },
  {
   "cell_type": "markdown",
   "id": "5d6b4d0c-d4ae-40ac-8be0-23e3acb79a10",
   "metadata": {},
   "source": [
    "# ROC curve"
   ]
  },
  {
   "cell_type": "code",
   "execution_count": 41,
   "id": "499b5e15-b4ec-4a9c-b746-d97d43d1dccc",
   "metadata": {},
   "outputs": [],
   "source": [
    "from matplotlib.pyplot import figure\n",
    "from sklearn.metrics import roc_curve, auc\n",
    "from sklearn import metrics\n",
    "\n",
    "fpr, tpr, thresholds = metrics.roc_curve(joint_samples['Name'], joint_samples['RFT'], pos_label = 'COCONUT')\n",
    "roc_auc = metrics.auc(fpr, tpr)"
   ]
  },
  {
   "cell_type": "code",
   "execution_count": 42,
   "id": "b883809a-0028-48ef-a078-9e8a3dd8aa0d",
   "metadata": {},
   "outputs": [
    {
     "data": {
      "text/plain": [
       "<Figure size 432x288 with 0 Axes>"
      ]
     },
     "metadata": {},
     "output_type": "display_data"
    },
    {
     "data": {
      "image/png": "[encoded data removed]",
      "text/plain": [
       "<Figure size 842.4x595.44 with 1 Axes>"
      ]
     },
     "metadata": {},
     "output_type": "display_data"
    }
   ],
   "source": [
    "plt.figure()\n",
    "figure(figsize=(11.7, 8.27))\n",
    "plt.plot(fpr,tpr,color=\"darkorange\",label=\"ROC curve (area = %0.2f)\" % roc_auc)\n",
    "plt.plot([0, 1], [0, 1], color=\"navy\", linestyle=\"--\")\n",
    "plt.xlim([-0.01, 1.01])\n",
    "plt.ylim([0.0, 1.01])\n",
    "plt.xlabel(\"False Positive Rate\")\n",
    "plt.ylabel(\"True Positive Rate\")\n",
    "plt.title('Receiver Operating Characteristic 7')\n",
    "plt.legend(loc=\"lower right\")\n",
    "plt.savefig(f\"../images//joint_samples_ROC7.svg\", format=\"svg\")\n",
    "plt.show()"
   ]
  },
  {
   "cell_type": "code",
   "execution_count": null,
   "id": "67611dec-7a85-4f4a-8d4d-6461762d852f",
   "metadata": {},
   "outputs": [],
   "source": []
  }
 ],
 "metadata": {
  "kernelspec": {
   "display_name": "Python 3 (ipykernel)",
   "language": "python",
   "name": "python3"
  },
  "language_info": {
   "codemirror_mode": {
    "name": "ipython",
    "version": 3
   },
   "file_extension": ".py",
   "mimetype": "text/x-python",
   "name": "python",
   "nbconvert_exporter": "python",
   "pygments_lexer": "ipython3",
   "version": "3.9.7"
  }
 },
 "nbformat": 4,
 "nbformat_minor": 5
}
