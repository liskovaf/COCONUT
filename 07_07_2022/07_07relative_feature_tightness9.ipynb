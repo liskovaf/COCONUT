{
 "cells": [
  {
   "cell_type": "markdown",
   "id": "09cb58ba",
   "metadata": {
    "pycharm": {
     "name": "#%% md\n"
    }
   },
   "source": [
    "# Relative feature tightness using part 9 for test data"
   ]
  },
  {
   "cell_type": "code",
   "execution_count": 1,
   "id": "b7559bf4",
   "metadata": {
    "pycharm": {
     "name": "#%%\n"
    }
   },
   "outputs": [],
   "source": [
    "import pandas as pd\n",
    "import seaborn as sns\n",
    "import matplotlib.pyplot as plt\n",
    "import csv\n",
    "import numpy as np\n",
    "\n",
    "from ast import literal_eval\n",
    "import re\n",
    "import sys\n",
    "sys.path.insert(0,\"./../fip3\")\n",
    "from fip import profiles"
   ]
  },
  {
   "cell_type": "markdown",
   "id": "fc50f8f1",
   "metadata": {
    "pycharm": {
     "name": "#%% md\n"
    }
   },
   "source": [
    "## Dataset prep"
   ]
  },
  {
   "cell_type": "markdown",
   "id": "005b3e57",
   "metadata": {
    "pycharm": {
     "name": "#%% md\n"
    }
   },
   "source": [
    "### Making feature pointwise mutual information profiles"
   ]
  },
  {
   "cell_type": "code",
   "execution_count": 2,
   "id": "d60972a1-b5a0-4b6f-9c0e-9cf37fdb53f4",
   "metadata": {},
   "outputs": [],
   "source": [
    "profile0 = profiles.CooccurrenceProfile.from_dataframe(pd.read_csv('../data/CP1/COCONUT/COCOp0_38630.csv', dtype={'feature1': 'str','feature2' : 'str' }), vector_count=38630)\n",
    "profile1 = profiles.CooccurrenceProfile.from_dataframe(pd.read_csv('../data/CP1/COCONUT/COCOp1_38630.csv', dtype={'feature1': 'str','feature2' : 'str' }), vector_count=38630)\n",
    "profile2 = profiles.CooccurrenceProfile.from_dataframe(pd.read_csv('../data/CP1/COCONUT/COCOp2_38630.csv', dtype={'feature1': 'str','feature2' : 'str' }), vector_count=38630)\n",
    "profile3 = profiles.CooccurrenceProfile.from_dataframe(pd.read_csv('../data/CP1/COCONUT/COCOp3_38630.csv', dtype={'feature1': 'str','feature2' : 'str' }), vector_count=38630)\n",
    "profile4 = profiles.CooccurrenceProfile.from_dataframe(pd.read_csv('../data/CP1/COCONUT/COCOp4_38630.csv', dtype={'feature1': 'str','feature2' : 'str' }), vector_count=38630)\n",
    "profile5 = profiles.CooccurrenceProfile.from_dataframe(pd.read_csv('../data/CP1/COCONUT/COCOp5_38630.csv', dtype={'feature1': 'str','feature2' : 'str' }), vector_count=38630)\n",
    "profile6 = profiles.CooccurrenceProfile.from_dataframe(pd.read_csv('../data/CP1/COCONUT/COCOp6_38630.csv', dtype={'feature1': 'str','feature2' : 'str' }), vector_count=38630)\n",
    "profile7 = profiles.CooccurrenceProfile.from_dataframe(pd.read_csv('../data/CP1/COCONUT/COCOp7_38629.csv', dtype={'feature1': 'str','feature2' : 'str' }), vector_count=38629)\n",
    "profile8 = profiles.CooccurrenceProfile.from_dataframe(pd.read_csv('../data/CP1/COCONUT/COCOp8_38629.csv', dtype={'feature1': 'str','feature2' : 'str' }), vector_count=38629)"
   ]
  },
  {
   "cell_type": "code",
   "execution_count": 3,
   "id": "d928eb58-08cf-4743-8c58-7196f59da70b",
   "metadata": {},
   "outputs": [
    {
     "data": {
      "text/plain": [
       "<fip.profiles.CooccurrenceProfile at 0x7f04b8212b50>"
      ]
     },
     "execution_count": 3,
     "metadata": {},
     "output_type": "execute_result"
    }
   ],
   "source": [
    "profile0.add_another_cooccurrence_profile(profile1)\n",
    "profile0.add_another_cooccurrence_profile(profile2)\n",
    "profile0.add_another_cooccurrence_profile(profile3)\n",
    "profile0.add_another_cooccurrence_profile(profile4)\n",
    "profile0.add_another_cooccurrence_profile(profile5)\n",
    "profile0.add_another_cooccurrence_profile(profile6)\n",
    "profile0.add_another_cooccurrence_profile(profile7)\n",
    "profile0.add_another_cooccurrence_profile(profile8)"
   ]
  },
  {
   "cell_type": "code",
   "execution_count": 4,
   "id": "7147d116-0c36-4a62-8f6c-c1667667a7c9",
   "metadata": {},
   "outputs": [],
   "source": [
    "probability_profile = profiles.CooccurrenceProbabilityProfile.from_cooccurrence_profile(profile0)"
   ]
  },
  {
   "cell_type": "code",
   "execution_count": 5,
   "id": "f7dab206-f6a7-4d2b-9677-e7fab771e423",
   "metadata": {},
   "outputs": [],
   "source": [
    "pmi_profile = profiles.PointwiseMutualInformationProfile.from_cooccurrence_probability_profile(probability_profile)"
   ]
  },
  {
   "cell_type": "code",
   "execution_count": 6,
   "id": "d83c7314-5776-4b99-80cf-25536ba50afa",
   "metadata": {},
   "outputs": [],
   "source": [
    "reference_profile0 = profiles.CooccurrenceProfile.from_dataframe(pd.read_csv('../data/CP1/ZINC/ZINCp0_37902.csv', dtype={'feature1': 'str','feature2' : 'str' }), vector_count=37902)\n",
    "reference_profile1 = profiles.CooccurrenceProfile.from_dataframe(pd.read_csv('../data/CP1/ZINC/ZINCp1_37902.csv', dtype={'feature1': 'str','feature2' : 'str' }), vector_count=37902)\n",
    "reference_profile2 = profiles.CooccurrenceProfile.from_dataframe(pd.read_csv('../data/CP1/ZINC/ZINCp2_37901.csv', dtype={'feature1': 'str','feature2' : 'str' }), vector_count=37901)\n",
    "reference_profile3 = profiles.CooccurrenceProfile.from_dataframe(pd.read_csv('../data/CP1/ZINC/ZINCp3_37901.csv', dtype={'feature1': 'str','feature2' : 'str' }), vector_count=37901)\n",
    "reference_profile4 = profiles.CooccurrenceProfile.from_dataframe(pd.read_csv('../data/CP1/ZINC/ZINCp4_37901.csv', dtype={'feature1': 'str','feature2' : 'str' }), vector_count=37901)\n",
    "reference_profile5 = profiles.CooccurrenceProfile.from_dataframe(pd.read_csv('../data/CP1/ZINC/ZINCp5_37901.csv', dtype={'feature1': 'str','feature2' : 'str' }), vector_count=37901)\n",
    "reference_profile6 = profiles.CooccurrenceProfile.from_dataframe(pd.read_csv('../data/CP1/ZINC/ZINCp6_37901.csv', dtype={'feature1': 'str','feature2' : 'str' }), vector_count=37901)\n",
    "reference_profile7 = profiles.CooccurrenceProfile.from_dataframe(pd.read_csv('../data/CP1/ZINC/ZINCp7_37901.csv', dtype={'feature1': 'str','feature2' : 'str' }), vector_count=37901)\n",
    "reference_profile8 = profiles.CooccurrenceProfile.from_dataframe(pd.read_csv('../data/CP1/ZINC/ZINCp8_37901.csv', dtype={'feature1': 'str','feature2' : 'str' }), vector_count=37901)"
   ]
  },
  {
   "cell_type": "code",
   "execution_count": 7,
   "id": "3e7d1500-bc9f-424d-8be0-5a3c575b0dc8",
   "metadata": {},
   "outputs": [
    {
     "data": {
      "text/plain": [
       "<fip.profiles.CooccurrenceProfile at 0x7f039ab40f10>"
      ]
     },
     "execution_count": 7,
     "metadata": {},
     "output_type": "execute_result"
    }
   ],
   "source": [
    "reference_profile0.add_another_cooccurrence_profile(reference_profile1)\n",
    "reference_profile0.add_another_cooccurrence_profile(reference_profile2)\n",
    "reference_profile0.add_another_cooccurrence_profile(reference_profile3)\n",
    "reference_profile0.add_another_cooccurrence_profile(reference_profile4)\n",
    "reference_profile0.add_another_cooccurrence_profile(reference_profile5)\n",
    "reference_profile0.add_another_cooccurrence_profile(reference_profile6)\n",
    "reference_profile0.add_another_cooccurrence_profile(reference_profile7)\n",
    "reference_profile0.add_another_cooccurrence_profile(reference_profile8)"
   ]
  },
  {
   "cell_type": "code",
   "execution_count": 8,
   "id": "bbffde8b-6839-461a-8a68-8e466d80b123",
   "metadata": {},
   "outputs": [],
   "source": [
    "reference_probability_profile = profiles.CooccurrenceProbabilityProfile.from_cooccurrence_profile(reference_profile0)"
   ]
  },
  {
   "cell_type": "code",
   "execution_count": 9,
   "id": "ae1fcc8e-72fa-4bd9-9fa8-a28a87077b9f",
   "metadata": {},
   "outputs": [],
   "source": [
    "reference_pmi_profile = profiles.PointwiseMutualInformationProfile.from_cooccurrence_probability_profile(reference_probability_profile)"
   ]
  },
  {
   "cell_type": "markdown",
   "id": "8141d215",
   "metadata": {
    "pycharm": {
     "name": "#%% md\n"
    }
   },
   "source": [
    "### Making feature pointwise KL divergence profile between COCONUT and ZINC"
   ]
  },
  {
   "cell_type": "code",
   "execution_count": 10,
   "id": "e2da7160",
   "metadata": {
    "pycharm": {
     "name": "#%%\n"
    }
   },
   "outputs": [
    {
     "data": {
      "text/html": [
       "<div>\n",
       "<style scoped>\n",
       "    .dataframe tbody tr th:only-of-type {\n",
       "        vertical-align: middle;\n",
       "    }\n",
       "\n",
       "    .dataframe tbody tr th {\n",
       "        vertical-align: top;\n",
       "    }\n",
       "\n",
       "    .dataframe thead th {\n",
       "        text-align: right;\n",
       "    }\n",
       "</style>\n",
       "<table border=\"1\" class=\"dataframe\">\n",
       "  <thead>\n",
       "    <tr style=\"text-align: right;\">\n",
       "      <th></th>\n",
       "      <th></th>\n",
       "      <th>value</th>\n",
       "    </tr>\n",
       "    <tr>\n",
       "      <th>feature1</th>\n",
       "      <th>feature2</th>\n",
       "      <th></th>\n",
       "    </tr>\n",
       "  </thead>\n",
       "  <tbody>\n",
       "    <tr>\n",
       "      <th rowspan=\"5\" valign=\"top\">0</th>\n",
       "      <th>0</th>\n",
       "      <td>2.035007</td>\n",
       "    </tr>\n",
       "    <tr>\n",
       "      <th>1</th>\n",
       "      <td>2.851579</td>\n",
       "    </tr>\n",
       "    <tr>\n",
       "      <th>10</th>\n",
       "      <td>4.527120</td>\n",
       "    </tr>\n",
       "    <tr>\n",
       "      <th>100</th>\n",
       "      <td>5.527124</td>\n",
       "    </tr>\n",
       "    <tr>\n",
       "      <th>1000</th>\n",
       "      <td>3.330083</td>\n",
       "    </tr>\n",
       "    <tr>\n",
       "      <th>...</th>\n",
       "      <th>...</th>\n",
       "      <td>...</td>\n",
       "    </tr>\n",
       "    <tr>\n",
       "      <th>948</th>\n",
       "      <th>963</th>\n",
       "      <td>-3.197398</td>\n",
       "    </tr>\n",
       "    <tr>\n",
       "      <th>958</th>\n",
       "      <th>982</th>\n",
       "      <td>-1.027473</td>\n",
       "    </tr>\n",
       "    <tr>\n",
       "      <th>959</th>\n",
       "      <th>995</th>\n",
       "      <td>-0.027473</td>\n",
       "    </tr>\n",
       "    <tr>\n",
       "      <th>968</th>\n",
       "      <th>990</th>\n",
       "      <td>-3.612436</td>\n",
       "    </tr>\n",
       "    <tr>\n",
       "      <th>969</th>\n",
       "      <th>995</th>\n",
       "      <td>-0.027473</td>\n",
       "    </tr>\n",
       "  </tbody>\n",
       "</table>\n",
       "<p>2098016 rows × 1 columns</p>\n",
       "</div>"
      ],
      "text/plain": [
       "                      value\n",
       "feature1 feature2          \n",
       "0        0         2.035007\n",
       "         1         2.851579\n",
       "         10        4.527120\n",
       "         100       5.527124\n",
       "         1000      3.330083\n",
       "...                     ...\n",
       "948      963      -3.197398\n",
       "958      982      -1.027473\n",
       "959      995      -0.027473\n",
       "968      990      -3.612436\n",
       "969      995      -0.027473\n",
       "\n",
       "[2098016 rows x 1 columns]"
      ]
     },
     "execution_count": 10,
     "metadata": {},
     "output_type": "execute_result"
    }
   ],
   "source": [
    "difference_pkld_profile = profiles.PointwiseKLDivergenceProfile.from_cooccurrence_probability_profiles(\n",
    "    probability_profile, reference_probability_profile)\n",
    "difference_pkld_profile.df"
   ]
  },
  {
   "cell_type": "markdown",
   "id": "280a3dd8",
   "metadata": {
    "pycharm": {
     "name": "#%% md\n"
    }
   },
   "source": [
    "### Sampling structures from COCONUT and ZINC datasets"
   ]
  },
  {
   "cell_type": "code",
   "execution_count": 11,
   "id": "212cd152",
   "metadata": {
    "pycharm": {
     "name": "#%%\n"
    }
   },
   "outputs": [],
   "source": [
    "coconut_samples = pd.read_csv('../data/CP1/COCONUT/COCOrandom.csv', delimiter = ' ')\n",
    "coconut_samples = coconut_samples.drop(['Coconut_id'], axis=1)\n",
    "coconut_samples['Name'] = 'COCONUT'"
   ]
  },
  {
   "cell_type": "code",
   "execution_count": 12,
   "id": "95627151-b248-427d-a494-4f84494aa1d6",
   "metadata": {},
   "outputs": [],
   "source": [
    "df_split_coco = np.array_split(coconut_samples, 10)"
   ]
  },
  {
   "cell_type": "code",
   "execution_count": 13,
   "id": "13b1766b-989b-4995-950c-e7f7bbe1f5fd",
   "metadata": {},
   "outputs": [
    {
     "data": {
      "text/html": [
       "<div>\n",
       "<style scoped>\n",
       "    .dataframe tbody tr th:only-of-type {\n",
       "        vertical-align: middle;\n",
       "    }\n",
       "\n",
       "    .dataframe tbody tr th {\n",
       "        vertical-align: top;\n",
       "    }\n",
       "\n",
       "    .dataframe thead th {\n",
       "        text-align: right;\n",
       "    }\n",
       "</style>\n",
       "<table border=\"1\" class=\"dataframe\">\n",
       "  <thead>\n",
       "    <tr style=\"text-align: right;\">\n",
       "      <th></th>\n",
       "      <th>Smiles</th>\n",
       "      <th>MW</th>\n",
       "      <th>logP</th>\n",
       "      <th>Inchi</th>\n",
       "      <th>Inchi_s</th>\n",
       "      <th>Name</th>\n",
       "      <th>ECFP</th>\n",
       "      <th>Bitset</th>\n",
       "    </tr>\n",
       "  </thead>\n",
       "  <tbody>\n",
       "    <tr>\n",
       "      <th>347668</th>\n",
       "      <td>C=C(C(=O)OC)C1CCC2(C)C(OC3OC(CO)C(O)C(O)C3O)CC...</td>\n",
       "      <td>460.230847</td>\n",
       "      <td>-1.30520</td>\n",
       "      <td>UIUPSHYSTLJURC-UHFFFAOYSA-N</td>\n",
       "      <td>UIUPSHYSTLJURC</td>\n",
       "      <td>COCONUT</td>\n",
       "      <td>&lt;rdkit.DataStructs.cDataStructs.ExplicitBitVec...</td>\n",
       "      <td>[80, 209, 222, 224, 249, 485, 489, 610, 619, 6...</td>\n",
       "    </tr>\n",
       "    <tr>\n",
       "      <th>347669</th>\n",
       "      <td>COC(=O)C(O)Cc1ccccc1</td>\n",
       "      <td>180.078644</td>\n",
       "      <td>0.76300</td>\n",
       "      <td>NMPPJJIBQQCOOI-UHFFFAOYSA-N</td>\n",
       "      <td>NMPPJJIBQQCOOI</td>\n",
       "      <td>COCONUT</td>\n",
       "      <td>&lt;rdkit.DataStructs.cDataStructs.ExplicitBitVec...</td>\n",
       "      <td>[1, 54, 79, 80, 147, 227, 389, 637, 650, 695, ...</td>\n",
       "    </tr>\n",
       "    <tr>\n",
       "      <th>347670</th>\n",
       "      <td>CS(=O)(=O)N1CCN2C(=O)c3cc(-c4ccco4)ccc3NC(=O)C2C1</td>\n",
       "      <td>375.088892</td>\n",
       "      <td>0.98470</td>\n",
       "      <td>ZEMLBLQINDSYAF-UHFFFAOYSA-N</td>\n",
       "      <td>ZEMLBLQINDSYAF</td>\n",
       "      <td>COCONUT</td>\n",
       "      <td>&lt;rdkit.DataStructs.cDataStructs.ExplicitBitVec...</td>\n",
       "      <td>[7, 74, 121, 142, 250, 268, 314, 350, 352, 474...</td>\n",
       "    </tr>\n",
       "    <tr>\n",
       "      <th>347671</th>\n",
       "      <td>CC1CCC2(C)C(C(=O)O)CCCC2C1(C)CCc1ccoc1</td>\n",
       "      <td>318.219495</td>\n",
       "      <td>5.15560</td>\n",
       "      <td>NTRSOYPAPOGZQP-UHFFFAOYSA-N</td>\n",
       "      <td>NTRSOYPAPOGZQP</td>\n",
       "      <td>COCONUT</td>\n",
       "      <td>&lt;rdkit.DataStructs.cDataStructs.ExplicitBitVec...</td>\n",
       "      <td>[5, 80, 120, 149, 158, 384, 389, 396, 407, 478...</td>\n",
       "    </tr>\n",
       "    <tr>\n",
       "      <th>347672</th>\n",
       "      <td>COc1ccc(C2=C(C=NCCc3c[nH]c4ccccc34)C(c3ccccc3C...</td>\n",
       "      <td>528.241293</td>\n",
       "      <td>7.74262</td>\n",
       "      <td>CCUNELBHYTXERR-UHFFFAOYSA-N</td>\n",
       "      <td>CCUNELBHYTXERR</td>\n",
       "      <td>COCONUT</td>\n",
       "      <td>&lt;rdkit.DataStructs.cDataStructs.ExplicitBitVec...</td>\n",
       "      <td>[14, 80, 94, 119, 140, 144, 249, 328, 335, 364...</td>\n",
       "    </tr>\n",
       "    <tr>\n",
       "      <th>...</th>\n",
       "      <td>...</td>\n",
       "      <td>...</td>\n",
       "      <td>...</td>\n",
       "      <td>...</td>\n",
       "      <td>...</td>\n",
       "      <td>...</td>\n",
       "      <td>...</td>\n",
       "      <td>...</td>\n",
       "    </tr>\n",
       "    <tr>\n",
       "      <th>386292</th>\n",
       "      <td>COC(=O)C1=COC(OC2OC(COC(=O)c3ccc(O)c(OC)c3)C(O...</td>\n",
       "      <td>554.163556</td>\n",
       "      <td>-0.63720</td>\n",
       "      <td>LIVSNGMPJUCRLO-UHFFFAOYSA-N</td>\n",
       "      <td>LIVSNGMPJUCRLO</td>\n",
       "      <td>COCONUT</td>\n",
       "      <td>&lt;rdkit.DataStructs.cDataStructs.ExplicitBitVec...</td>\n",
       "      <td>[58, 80, 145, 147, 167, 231, 233, 249, 314, 42...</td>\n",
       "    </tr>\n",
       "    <tr>\n",
       "      <th>386293</th>\n",
       "      <td>Cc1c(CCC(=O)NCC(=O)NCC(=O)[O-])c(=O)oc2cc(O)c(...</td>\n",
       "      <td>395.065152</td>\n",
       "      <td>-0.62468</td>\n",
       "      <td>SSZVGMXOKPZNCV-UHFFFAOYSA-M</td>\n",
       "      <td>SSZVGMXOKPZNCV</td>\n",
       "      <td>COCONUT</td>\n",
       "      <td>&lt;rdkit.DataStructs.cDataStructs.ExplicitBitVec...</td>\n",
       "      <td>[41, 80, 197, 252, 254, 305, 314, 366, 406, 42...</td>\n",
       "    </tr>\n",
       "    <tr>\n",
       "      <th>386294</th>\n",
       "      <td>CC(=O)Oc1c(C)cc2c(c1O)C(=O)C(C1=CC(=O)c3cc(C)c...</td>\n",
       "      <td>490.089997</td>\n",
       "      <td>2.87624</td>\n",
       "      <td>JODPOMYHTFZNTK-UHFFFAOYSA-N</td>\n",
       "      <td>JODPOMYHTFZNTK</td>\n",
       "      <td>COCONUT</td>\n",
       "      <td>&lt;rdkit.DataStructs.cDataStructs.ExplicitBitVec...</td>\n",
       "      <td>[16, 39, 84, 202, 224, 314, 333, 352, 516, 641...</td>\n",
       "    </tr>\n",
       "    <tr>\n",
       "      <th>386295</th>\n",
       "      <td>C[N+]([O-])=NCOC1OC(CO)C(O)C(OC2OC(COC3OC(CO)C...</td>\n",
       "      <td>576.201398</td>\n",
       "      <td>-6.99890</td>\n",
       "      <td>STHHNNUYQQUJGY-UHFFFAOYSA-N</td>\n",
       "      <td>STHHNNUYQQUJGY</td>\n",
       "      <td>COCONUT</td>\n",
       "      <td>&lt;rdkit.DataStructs.cDataStructs.ExplicitBitVec...</td>\n",
       "      <td>[77, 80, 170, 222, 349, 443, 489, 588, 610, 65...</td>\n",
       "    </tr>\n",
       "    <tr>\n",
       "      <th>386296</th>\n",
       "      <td>CCCC1OC(CC(=O)O)CC2(O)C(=O)c3cccc(O)c3C(=O)C12O</td>\n",
       "      <td>364.115818</td>\n",
       "      <td>0.66570</td>\n",
       "      <td>XDYYASNFOIEXFT-UHFFFAOYSA-N</td>\n",
       "      <td>XDYYASNFOIEXFT</td>\n",
       "      <td>COCONUT</td>\n",
       "      <td>&lt;rdkit.DataStructs.cDataStructs.ExplicitBitVec...</td>\n",
       "      <td>[80, 194, 294, 298, 314, 352, 389, 490, 492, 5...</td>\n",
       "    </tr>\n",
       "  </tbody>\n",
       "</table>\n",
       "<p>38629 rows × 8 columns</p>\n",
       "</div>"
      ],
      "text/plain": [
       "                                                   Smiles          MW  \\\n",
       "347668  C=C(C(=O)OC)C1CCC2(C)C(OC3OC(CO)C(O)C(O)C3O)CC...  460.230847   \n",
       "347669                               COC(=O)C(O)Cc1ccccc1  180.078644   \n",
       "347670  CS(=O)(=O)N1CCN2C(=O)c3cc(-c4ccco4)ccc3NC(=O)C2C1  375.088892   \n",
       "347671             CC1CCC2(C)C(C(=O)O)CCCC2C1(C)CCc1ccoc1  318.219495   \n",
       "347672  COc1ccc(C2=C(C=NCCc3c[nH]c4ccccc34)C(c3ccccc3C...  528.241293   \n",
       "...                                                   ...         ...   \n",
       "386292  COC(=O)C1=COC(OC2OC(COC(=O)c3ccc(O)c(OC)c3)C(O...  554.163556   \n",
       "386293  Cc1c(CCC(=O)NCC(=O)NCC(=O)[O-])c(=O)oc2cc(O)c(...  395.065152   \n",
       "386294  CC(=O)Oc1c(C)cc2c(c1O)C(=O)C(C1=CC(=O)c3cc(C)c...  490.089997   \n",
       "386295  C[N+]([O-])=NCOC1OC(CO)C(O)C(OC2OC(COC3OC(CO)C...  576.201398   \n",
       "386296    CCCC1OC(CC(=O)O)CC2(O)C(=O)c3cccc(O)c3C(=O)C12O  364.115818   \n",
       "\n",
       "           logP                        Inchi         Inchi_s     Name  \\\n",
       "347668 -1.30520  UIUPSHYSTLJURC-UHFFFAOYSA-N  UIUPSHYSTLJURC  COCONUT   \n",
       "347669  0.76300  NMPPJJIBQQCOOI-UHFFFAOYSA-N  NMPPJJIBQQCOOI  COCONUT   \n",
       "347670  0.98470  ZEMLBLQINDSYAF-UHFFFAOYSA-N  ZEMLBLQINDSYAF  COCONUT   \n",
       "347671  5.15560  NTRSOYPAPOGZQP-UHFFFAOYSA-N  NTRSOYPAPOGZQP  COCONUT   \n",
       "347672  7.74262  CCUNELBHYTXERR-UHFFFAOYSA-N  CCUNELBHYTXERR  COCONUT   \n",
       "...         ...                          ...             ...      ...   \n",
       "386292 -0.63720  LIVSNGMPJUCRLO-UHFFFAOYSA-N  LIVSNGMPJUCRLO  COCONUT   \n",
       "386293 -0.62468  SSZVGMXOKPZNCV-UHFFFAOYSA-M  SSZVGMXOKPZNCV  COCONUT   \n",
       "386294  2.87624  JODPOMYHTFZNTK-UHFFFAOYSA-N  JODPOMYHTFZNTK  COCONUT   \n",
       "386295 -6.99890  STHHNNUYQQUJGY-UHFFFAOYSA-N  STHHNNUYQQUJGY  COCONUT   \n",
       "386296  0.66570  XDYYASNFOIEXFT-UHFFFAOYSA-N  XDYYASNFOIEXFT  COCONUT   \n",
       "\n",
       "                                                     ECFP  \\\n",
       "347668  <rdkit.DataStructs.cDataStructs.ExplicitBitVec...   \n",
       "347669  <rdkit.DataStructs.cDataStructs.ExplicitBitVec...   \n",
       "347670  <rdkit.DataStructs.cDataStructs.ExplicitBitVec...   \n",
       "347671  <rdkit.DataStructs.cDataStructs.ExplicitBitVec...   \n",
       "347672  <rdkit.DataStructs.cDataStructs.ExplicitBitVec...   \n",
       "...                                                   ...   \n",
       "386292  <rdkit.DataStructs.cDataStructs.ExplicitBitVec...   \n",
       "386293  <rdkit.DataStructs.cDataStructs.ExplicitBitVec...   \n",
       "386294  <rdkit.DataStructs.cDataStructs.ExplicitBitVec...   \n",
       "386295  <rdkit.DataStructs.cDataStructs.ExplicitBitVec...   \n",
       "386296  <rdkit.DataStructs.cDataStructs.ExplicitBitVec...   \n",
       "\n",
       "                                                   Bitset  \n",
       "347668  [80, 209, 222, 224, 249, 485, 489, 610, 619, 6...  \n",
       "347669  [1, 54, 79, 80, 147, 227, 389, 637, 650, 695, ...  \n",
       "347670  [7, 74, 121, 142, 250, 268, 314, 350, 352, 474...  \n",
       "347671  [5, 80, 120, 149, 158, 384, 389, 396, 407, 478...  \n",
       "347672  [14, 80, 94, 119, 140, 144, 249, 328, 335, 364...  \n",
       "...                                                   ...  \n",
       "386292  [58, 80, 145, 147, 167, 231, 233, 249, 314, 42...  \n",
       "386293  [41, 80, 197, 252, 254, 305, 314, 366, 406, 42...  \n",
       "386294  [16, 39, 84, 202, 224, 314, 333, 352, 516, 641...  \n",
       "386295  [77, 80, 170, 222, 349, 443, 489, 588, 610, 65...  \n",
       "386296  [80, 194, 294, 298, 314, 352, 389, 490, 492, 5...  \n",
       "\n",
       "[38629 rows x 8 columns]"
      ]
     },
     "execution_count": 13,
     "metadata": {},
     "output_type": "execute_result"
    }
   ],
   "source": [
    "df_split_coco[9]"
   ]
  },
  {
   "cell_type": "code",
   "execution_count": 14,
   "id": "f7ed85f8",
   "metadata": {
    "pycharm": {
     "name": "#%%\n"
    }
   },
   "outputs": [],
   "source": [
    "zinc_samples = pd.read_csv('../data/CP1/ZINC/ZINCrandom.csv', delimiter = ' ')\n",
    "zinc_samples = zinc_samples.drop(['Zinc_id'], axis=1)"
   ]
  },
  {
   "cell_type": "code",
   "execution_count": 15,
   "id": "f90fed46-cb6b-47c0-9dd3-a66ef9ee60d8",
   "metadata": {},
   "outputs": [
    {
     "data": {
      "text/html": [
       "<div>\n",
       "<style scoped>\n",
       "    .dataframe tbody tr th:only-of-type {\n",
       "        vertical-align: middle;\n",
       "    }\n",
       "\n",
       "    .dataframe tbody tr th {\n",
       "        vertical-align: top;\n",
       "    }\n",
       "\n",
       "    .dataframe thead th {\n",
       "        text-align: right;\n",
       "    }\n",
       "</style>\n",
       "<table border=\"1\" class=\"dataframe\">\n",
       "  <thead>\n",
       "    <tr style=\"text-align: right;\">\n",
       "      <th></th>\n",
       "      <th>Smiles</th>\n",
       "      <th>MW</th>\n",
       "      <th>logP</th>\n",
       "      <th>Inchi</th>\n",
       "      <th>Inchi_s</th>\n",
       "      <th>Name</th>\n",
       "      <th>ECFP</th>\n",
       "      <th>Bitset</th>\n",
       "    </tr>\n",
       "  </thead>\n",
       "  <tbody>\n",
       "    <tr>\n",
       "      <th>341111</th>\n",
       "      <td>Cc1ccccc1-c1cccc(CC2(C(=O)NC(C)C)CCN(C(=O)C3CC...</td>\n",
       "      <td>446.293328</td>\n",
       "      <td>5.52812</td>\n",
       "      <td>SUYHNOGEZNHGOI-UHFFFAOYSA-N</td>\n",
       "      <td>SUYHNOGEZNHGOI</td>\n",
       "      <td>ZINC</td>\n",
       "      <td>&lt;rdkit.DataStructs.cDataStructs.ExplicitBitVec...</td>\n",
       "      <td>[1, 53, 80, 117, 184, 188, 217, 246, 283, 310,...</td>\n",
       "    </tr>\n",
       "    <tr>\n",
       "      <th>341112</th>\n",
       "      <td>CCCOC(=O)c1ccc(Nc2cc(Cl)ccc2C)c(N)c1</td>\n",
       "      <td>318.113506</td>\n",
       "      <td>4.54102</td>\n",
       "      <td>NQDHFRARHMZOPA-UHFFFAOYSA-N</td>\n",
       "      <td>NQDHFRARHMZOPA</td>\n",
       "      <td>ZINC</td>\n",
       "      <td>&lt;rdkit.DataStructs.cDataStructs.ExplicitBitVec...</td>\n",
       "      <td>[13, 80, 99, 145, 147, 165, 167, 216, 294, 450...</td>\n",
       "    </tr>\n",
       "    <tr>\n",
       "      <th>341113</th>\n",
       "      <td>CCOCCOCCN1CNc2nc(N)[nH]c(=O)c2C1</td>\n",
       "      <td>283.164440</td>\n",
       "      <td>-0.40980</td>\n",
       "      <td>IFWMXZKGZHNCLA-UHFFFAOYSA-N</td>\n",
       "      <td>IFWMXZKGZHNCLA</td>\n",
       "      <td>ZINC</td>\n",
       "      <td>&lt;rdkit.DataStructs.cDataStructs.ExplicitBitVec...</td>\n",
       "      <td>[13, 80, 156, 204, 294, 314, 326, 334, 361, 37...</td>\n",
       "    </tr>\n",
       "    <tr>\n",
       "      <th>341114</th>\n",
       "      <td>COC(=O)C(CN)CN</td>\n",
       "      <td>132.089878</td>\n",
       "      <td>-1.30700</td>\n",
       "      <td>FECXFRRSZGZESE-UHFFFAOYSA-N</td>\n",
       "      <td>FECXFRRSZGZESE</td>\n",
       "      <td>ZINC</td>\n",
       "      <td>&lt;rdkit.DataStructs.cDataStructs.ExplicitBitVec...</td>\n",
       "      <td>[1, 54, 80, 147, 265, 302, 650, 695, 807, 841,...</td>\n",
       "    </tr>\n",
       "    <tr>\n",
       "      <th>341115</th>\n",
       "      <td>CNC(=O)[C@H](Cc1cnc[nH]1)NC(=O)c1ncc(C#N)cc1Cl</td>\n",
       "      <td>332.078851</td>\n",
       "      <td>0.41688</td>\n",
       "      <td>FRXHTCPSJYTRAP-NSHDSACASA-N</td>\n",
       "      <td>FRXHTCPSJYTRAP</td>\n",
       "      <td>ZINC</td>\n",
       "      <td>&lt;rdkit.DataStructs.cDataStructs.ExplicitBitVec...</td>\n",
       "      <td>[1, 11, 79, 80, 94, 102, 117, 188, 191, 305, 3...</td>\n",
       "    </tr>\n",
       "    <tr>\n",
       "      <th>...</th>\n",
       "      <td>...</td>\n",
       "      <td>...</td>\n",
       "      <td>...</td>\n",
       "      <td>...</td>\n",
       "      <td>...</td>\n",
       "      <td>...</td>\n",
       "      <td>...</td>\n",
       "      <td>...</td>\n",
       "    </tr>\n",
       "    <tr>\n",
       "      <th>379007</th>\n",
       "      <td>CCOC(=O)C1=C(C)N=c2s/c(=C\\c3ccc(OCC)c(OC)c3)c(...</td>\n",
       "      <td>478.156243</td>\n",
       "      <td>3.20560</td>\n",
       "      <td>NKVUPLXRBGDCKZ-FQWPPLDYSA-N</td>\n",
       "      <td>NKVUPLXRBGDCKZ</td>\n",
       "      <td>ZINC</td>\n",
       "      <td>&lt;rdkit.DataStructs.cDataStructs.ExplicitBitVec...</td>\n",
       "      <td>[25, 80, 94, 125, 145, 147, 162, 237, 249, 281...</td>\n",
       "    </tr>\n",
       "    <tr>\n",
       "      <th>379008</th>\n",
       "      <td>CCCCOc1ccc(-c2nn(-c3ccccc3)cc2CNC(=O)c2ccc(OCC...</td>\n",
       "      <td>501.242770</td>\n",
       "      <td>6.57610</td>\n",
       "      <td>GRVSBYRYFLOHAZ-UHFFFAOYSA-N</td>\n",
       "      <td>GRVSBYRYFLOHAZ</td>\n",
       "      <td>ZINC</td>\n",
       "      <td>&lt;rdkit.DataStructs.cDataStructs.ExplicitBitVec...</td>\n",
       "      <td>[13, 76, 80, 94, 102, 197, 255, 265, 294, 322,...</td>\n",
       "    </tr>\n",
       "    <tr>\n",
       "      <th>379009</th>\n",
       "      <td>CNc1cc([C@H]2CCCN(Cc3cccc(C)c3)C2)nc(-c2cccnc2)n1</td>\n",
       "      <td>373.226646</td>\n",
       "      <td>4.26832</td>\n",
       "      <td>WGJHTUZEMVLXOF-FQEVSTJZSA-N</td>\n",
       "      <td>WGJHTUZEMVLXOF</td>\n",
       "      <td>ZINC</td>\n",
       "      <td>&lt;rdkit.DataStructs.cDataStructs.ExplicitBitVec...</td>\n",
       "      <td>[80, 105, 257, 378, 437, 446, 736, 739, 744, 7...</td>\n",
       "    </tr>\n",
       "    <tr>\n",
       "      <th>379010</th>\n",
       "      <td>COc1ccc(C23CC4CC(CC(C4)C2)C3)cc1C(=O)NC(c1cccc...</td>\n",
       "      <td>451.251129</td>\n",
       "      <td>6.68240</td>\n",
       "      <td>GUGKIBFTNCSUKM-UHFFFAOYSA-N</td>\n",
       "      <td>GUGKIBFTNCSUKM</td>\n",
       "      <td>ZINC</td>\n",
       "      <td>&lt;rdkit.DataStructs.cDataStructs.ExplicitBitVec...</td>\n",
       "      <td>[1, 46, 94, 117, 235, 249, 389, 484, 486, 556,...</td>\n",
       "    </tr>\n",
       "    <tr>\n",
       "      <th>379011</th>\n",
       "      <td>O=C(O)[C@H]1CCS(=O)(=O)CN1</td>\n",
       "      <td>179.025229</td>\n",
       "      <td>-1.19480</td>\n",
       "      <td>HVHWJEAZLNXDAE-SCSAIBSYSA-N</td>\n",
       "      <td>HVHWJEAZLNXDAE</td>\n",
       "      <td>ZINC</td>\n",
       "      <td>&lt;rdkit.DataStructs.cDataStructs.ExplicitBitVec...</td>\n",
       "      <td>[74, 148, 207, 362, 389, 469, 552, 553, 650, 8...</td>\n",
       "    </tr>\n",
       "  </tbody>\n",
       "</table>\n",
       "<p>37901 rows × 8 columns</p>\n",
       "</div>"
      ],
      "text/plain": [
       "                                                   Smiles          MW  \\\n",
       "341111  Cc1ccccc1-c1cccc(CC2(C(=O)NC(C)C)CCN(C(=O)C3CC...  446.293328   \n",
       "341112               CCCOC(=O)c1ccc(Nc2cc(Cl)ccc2C)c(N)c1  318.113506   \n",
       "341113                   CCOCCOCCN1CNc2nc(N)[nH]c(=O)c2C1  283.164440   \n",
       "341114                                     COC(=O)C(CN)CN  132.089878   \n",
       "341115     CNC(=O)[C@H](Cc1cnc[nH]1)NC(=O)c1ncc(C#N)cc1Cl  332.078851   \n",
       "...                                                   ...         ...   \n",
       "379007  CCOC(=O)C1=C(C)N=c2s/c(=C\\c3ccc(OCC)c(OC)c3)c(...  478.156243   \n",
       "379008  CCCCOc1ccc(-c2nn(-c3ccccc3)cc2CNC(=O)c2ccc(OCC...  501.242770   \n",
       "379009  CNc1cc([C@H]2CCCN(Cc3cccc(C)c3)C2)nc(-c2cccnc2)n1  373.226646   \n",
       "379010  COc1ccc(C23CC4CC(CC(C4)C2)C3)cc1C(=O)NC(c1cccc...  451.251129   \n",
       "379011                         O=C(O)[C@H]1CCS(=O)(=O)CN1  179.025229   \n",
       "\n",
       "           logP                        Inchi         Inchi_s  Name  \\\n",
       "341111  5.52812  SUYHNOGEZNHGOI-UHFFFAOYSA-N  SUYHNOGEZNHGOI  ZINC   \n",
       "341112  4.54102  NQDHFRARHMZOPA-UHFFFAOYSA-N  NQDHFRARHMZOPA  ZINC   \n",
       "341113 -0.40980  IFWMXZKGZHNCLA-UHFFFAOYSA-N  IFWMXZKGZHNCLA  ZINC   \n",
       "341114 -1.30700  FECXFRRSZGZESE-UHFFFAOYSA-N  FECXFRRSZGZESE  ZINC   \n",
       "341115  0.41688  FRXHTCPSJYTRAP-NSHDSACASA-N  FRXHTCPSJYTRAP  ZINC   \n",
       "...         ...                          ...             ...   ...   \n",
       "379007  3.20560  NKVUPLXRBGDCKZ-FQWPPLDYSA-N  NKVUPLXRBGDCKZ  ZINC   \n",
       "379008  6.57610  GRVSBYRYFLOHAZ-UHFFFAOYSA-N  GRVSBYRYFLOHAZ  ZINC   \n",
       "379009  4.26832  WGJHTUZEMVLXOF-FQEVSTJZSA-N  WGJHTUZEMVLXOF  ZINC   \n",
       "379010  6.68240  GUGKIBFTNCSUKM-UHFFFAOYSA-N  GUGKIBFTNCSUKM  ZINC   \n",
       "379011 -1.19480  HVHWJEAZLNXDAE-SCSAIBSYSA-N  HVHWJEAZLNXDAE  ZINC   \n",
       "\n",
       "                                                     ECFP  \\\n",
       "341111  <rdkit.DataStructs.cDataStructs.ExplicitBitVec...   \n",
       "341112  <rdkit.DataStructs.cDataStructs.ExplicitBitVec...   \n",
       "341113  <rdkit.DataStructs.cDataStructs.ExplicitBitVec...   \n",
       "341114  <rdkit.DataStructs.cDataStructs.ExplicitBitVec...   \n",
       "341115  <rdkit.DataStructs.cDataStructs.ExplicitBitVec...   \n",
       "...                                                   ...   \n",
       "379007  <rdkit.DataStructs.cDataStructs.ExplicitBitVec...   \n",
       "379008  <rdkit.DataStructs.cDataStructs.ExplicitBitVec...   \n",
       "379009  <rdkit.DataStructs.cDataStructs.ExplicitBitVec...   \n",
       "379010  <rdkit.DataStructs.cDataStructs.ExplicitBitVec...   \n",
       "379011  <rdkit.DataStructs.cDataStructs.ExplicitBitVec...   \n",
       "\n",
       "                                                   Bitset  \n",
       "341111  [1, 53, 80, 117, 184, 188, 217, 246, 283, 310,...  \n",
       "341112  [13, 80, 99, 145, 147, 165, 167, 216, 294, 450...  \n",
       "341113  [13, 80, 156, 204, 294, 314, 326, 334, 361, 37...  \n",
       "341114  [1, 54, 80, 147, 265, 302, 650, 695, 807, 841,...  \n",
       "341115  [1, 11, 79, 80, 94, 102, 117, 188, 191, 305, 3...  \n",
       "...                                                   ...  \n",
       "379007  [25, 80, 94, 125, 145, 147, 162, 237, 249, 281...  \n",
       "379008  [13, 76, 80, 94, 102, 197, 255, 265, 294, 322,...  \n",
       "379009  [80, 105, 257, 378, 437, 446, 736, 739, 744, 7...  \n",
       "379010  [1, 46, 94, 117, 235, 249, 389, 484, 486, 556,...  \n",
       "379011  [74, 148, 207, 362, 389, 469, 552, 553, 650, 8...  \n",
       "\n",
       "[37901 rows x 8 columns]"
      ]
     },
     "execution_count": 15,
     "metadata": {},
     "output_type": "execute_result"
    }
   ],
   "source": [
    "df_split_zinc = np.array_split(zinc_samples, 10)\n",
    "df_split_zinc[9]"
   ]
  },
  {
   "cell_type": "code",
   "execution_count": 16,
   "id": "7d675f14",
   "metadata": {},
   "outputs": [],
   "source": [
    "joint_samples = pd.concat((df_split_coco[9], df_split_zinc[9]), ignore_index=True)"
   ]
  },
  {
   "cell_type": "code",
   "execution_count": 17,
   "id": "1378e876-1044-43b3-80e4-5fdaa4afb463",
   "metadata": {},
   "outputs": [
    {
     "name": "stderr",
     "output_type": "stream",
     "text": [
      "/var/tmp/pbs.43231.lich-compute.vscht.cz/ipykernel_12043/3101749155.py:7: SettingWithCopyWarning: \n",
      "A value is trying to be set on a copy of a slice from a DataFrame\n",
      "\n",
      "See the caveats in the documentation: https://pandas.pydata.org/pandas-docs/stable/user_guide/indexing.html#returning-a-view-versus-a-copy\n",
      "  joint_samples['Bitset'][x] = tup\n"
     ]
    }
   ],
   "source": [
    "for x in joint_samples.index:\n",
    "    a = joint_samples['Bitset'][x]\n",
    "    a = a.split(\", \")\n",
    "    a = re.sub('\\[', '', str(a))\n",
    "    a = re.sub('\\]', '', str(a))\n",
    "    tup = literal_eval(a)\n",
    "    joint_samples['Bitset'][x] = tup"
   ]
  },
  {
   "cell_type": "markdown",
   "id": "4139ba77",
   "metadata": {
    "pycharm": {
     "name": "#%% md\n"
    }
   },
   "source": [
    "## Relative feature tightness against a PMI interrelation profile"
   ]
  },
  {
   "cell_type": "code",
   "execution_count": 18,
   "id": "5b78b1e8",
   "metadata": {
    "collapsed": false,
    "jupyter": {
     "outputs_hidden": false
    },
    "pycharm": {
     "name": "#%%\n"
    }
   },
   "outputs": [],
   "source": [
    "joint_samples['RFT'] = joint_samples['Bitset'].apply(\n",
    "    lambda x: difference_pkld_profile.relative_feature_divergence(x))"
   ]
  },
  {
   "cell_type": "code",
   "execution_count": 19,
   "id": "30d14231",
   "metadata": {
    "collapsed": false,
    "jupyter": {
     "outputs_hidden": false
    },
    "pycharm": {
     "name": "#%%\n"
    }
   },
   "outputs": [
    {
     "data": {
      "image/png": "[encoded data removed]",
      "text/plain": [
       "<Figure size 842.4x595.44 with 1 Axes>"
      ]
     },
     "metadata": {},
     "output_type": "display_data"
    }
   ],
   "source": [
    "a4_dims = (11.7, 8.27)\n",
    "sns.set_style(\"darkgrid\")\n",
    "fig, ax = plt.subplots(figsize=a4_dims)\n",
    "sns.histplot(joint_samples, x='RFT', hue='Name')\n",
    "plt.title('Relative feature tightness against a PMI interrelation profile 9')\n",
    "plt.savefig(f\"../images//joint_samples_RFT9.svg\", format=\"svg\")"
   ]
  },
  {
   "cell_type": "markdown",
   "id": "ba97db5d",
   "metadata": {
    "pycharm": {
     "name": "#%% md\n"
    }
   },
   "source": [
    "According to the histogram, there is a visible split between Relative feature tightness distribution against the pointwise KL divergence profile between COCONUT and ZINC datasets, based on their radius 2 fragments. Larger fragments might diverge even further."
   ]
  },
  {
   "cell_type": "markdown",
   "id": "92f67c80-6005-4a2e-9c22-69b7cb335415",
   "metadata": {},
   "source": [
    "# ROC curve"
   ]
  },
  {
   "cell_type": "code",
   "execution_count": 20,
   "id": "d290e0ec-ed74-4083-ae6b-c15544a944f9",
   "metadata": {},
   "outputs": [],
   "source": [
    "from matplotlib.pyplot import figure\n",
    "from sklearn.metrics import roc_curve, auc\n",
    "from sklearn import metrics\n",
    "\n",
    "fpr, tpr, thresholds = metrics.roc_curve(joint_samples['Name'], joint_samples['RFT'], pos_label = 'COCONUT')\n",
    "roc_auc = metrics.auc(fpr, tpr)"
   ]
  },
  {
   "cell_type": "code",
   "execution_count": 21,
   "id": "9bcf1037-cd66-4e83-b631-681ec21fe51f",
   "metadata": {},
   "outputs": [
    {
     "data": {
      "text/plain": [
       "<Figure size 432x288 with 0 Axes>"
      ]
     },
     "metadata": {},
     "output_type": "display_data"
    },
    {
     "data": {
      "image/png": "[encoded data removed]",
      "text/plain": [
       "<Figure size 842.4x595.44 with 1 Axes>"
      ]
     },
     "metadata": {},
     "output_type": "display_data"
    }
   ],
   "source": [
    "plt.figure()\n",
    "figure(figsize=(11.7, 8.27))\n",
    "plt.plot(fpr,tpr,color=\"darkorange\",label=\"ROC curve (area = %0.2f)\" % roc_auc)\n",
    "plt.plot([0, 1], [0, 1], color=\"navy\", linestyle=\"--\")\n",
    "plt.xlim([-0.01, 1.01])\n",
    "plt.ylim([0.0, 1.01])\n",
    "plt.xlabel(\"False Positive Rate\")\n",
    "plt.ylabel(\"True Positive Rate\")\n",
    "plt.title('Receiver Operating Characteristic 9')\n",
    "plt.legend(loc=\"lower right\")\n",
    "plt.savefig(f\"../images//joint_samples_ROC9.svg\", format=\"svg\")\n",
    "plt.show()"
   ]
  },
  {
   "cell_type": "code",
   "execution_count": null,
   "id": "89908390-3ffc-44b5-a6b7-54c366c969db",
   "metadata": {},
   "outputs": [],
   "source": []
  }
 ],
 "metadata": {
  "kernelspec": {
   "display_name": "Python 3 (ipykernel)",
   "language": "python",
   "name": "python3"
  },
  "language_info": {
   "codemirror_mode": {
    "name": "ipython",
    "version": 3
   },
   "file_extension": ".py",
   "mimetype": "text/x-python",
   "name": "python",
   "nbconvert_exporter": "python",
   "pygments_lexer": "ipython3",
   "version": "3.9.7"
  }
 },
 "nbformat": 4,
 "nbformat_minor": 5
}
