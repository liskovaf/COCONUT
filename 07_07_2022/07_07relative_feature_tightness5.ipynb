{
 "cells": [
  {
   "cell_type": "markdown",
   "id": "09cb58ba",
   "metadata": {
    "pycharm": {
     "name": "#%% md\n"
    }
   },
   "source": [
    "# Relative feature tightness using part 5 for test data"
   ]
  },
  {
   "cell_type": "code",
   "execution_count": 1,
   "id": "b7559bf4",
   "metadata": {
    "pycharm": {
     "name": "#%%\n"
    }
   },
   "outputs": [],
   "source": [
    "import pandas as pd\n",
    "import seaborn as sns\n",
    "import matplotlib.pyplot as plt\n",
    "import csv\n",
    "import numpy as np\n",
    "\n",
    "from ast import literal_eval\n",
    "import re\n",
    "import sys\n",
    "sys.path.insert(0,\"./../fip3\")\n",
    "from fip import profiles"
   ]
  },
  {
   "cell_type": "markdown",
   "id": "fc50f8f1",
   "metadata": {
    "pycharm": {
     "name": "#%% md\n"
    }
   },
   "source": [
    "## Dataset prep"
   ]
  },
  {
   "cell_type": "markdown",
   "id": "005b3e57",
   "metadata": {
    "pycharm": {
     "name": "#%% md\n"
    }
   },
   "source": [
    "### Making feature pointwise mutual information profiles"
   ]
  },
  {
   "cell_type": "code",
   "execution_count": 2,
   "id": "d60972a1-b5a0-4b6f-9c0e-9cf37fdb53f4",
   "metadata": {},
   "outputs": [],
   "source": [
    "profile0 = profiles.CooccurrenceProfile.from_dataframe(pd.read_csv('../data/CP1/COCONUT/COCOp0_38630.csv', dtype={'feature1': 'str','feature2' : 'str' }), vector_count=38630)\n",
    "profile1 = profiles.CooccurrenceProfile.from_dataframe(pd.read_csv('../data/CP1/COCONUT/COCOp1_38630.csv', dtype={'feature1': 'str','feature2' : 'str' }), vector_count=38630)\n",
    "profile2 = profiles.CooccurrenceProfile.from_dataframe(pd.read_csv('../data/CP1/COCONUT/COCOp2_38630.csv', dtype={'feature1': 'str','feature2' : 'str' }), vector_count=38630)\n",
    "profile3 = profiles.CooccurrenceProfile.from_dataframe(pd.read_csv('../data/CP1/COCONUT/COCOp3_38630.csv', dtype={'feature1': 'str','feature2' : 'str' }), vector_count=38630)\n",
    "profile4 = profiles.CooccurrenceProfile.from_dataframe(pd.read_csv('../data/CP1/COCONUT/COCOp4_38630.csv', dtype={'feature1': 'str','feature2' : 'str' }), vector_count=38630)\n",
    "profile6 = profiles.CooccurrenceProfile.from_dataframe(pd.read_csv('../data/CP1/COCONUT/COCOp6_38630.csv', dtype={'feature1': 'str','feature2' : 'str' }), vector_count=38630)\n",
    "profile7 = profiles.CooccurrenceProfile.from_dataframe(pd.read_csv('../data/CP1/COCONUT/COCOp7_38629.csv', dtype={'feature1': 'str','feature2' : 'str' }), vector_count=38629)\n",
    "profile8 = profiles.CooccurrenceProfile.from_dataframe(pd.read_csv('../data/CP1/COCONUT/COCOp8_38629.csv', dtype={'feature1': 'str','feature2' : 'str' }), vector_count=38629)\n",
    "profile9 = profiles.CooccurrenceProfile.from_dataframe(pd.read_csv('../data/CP1/COCONUT/COCOp9_38629.csv', dtype={'feature1': 'str','feature2' : 'str' }), vector_count=38629)"
   ]
  },
  {
   "cell_type": "code",
   "execution_count": 3,
   "id": "d928eb58-08cf-4743-8c58-7196f59da70b",
   "metadata": {},
   "outputs": [
    {
     "data": {
      "text/plain": [
       "<fip.profiles.CooccurrenceProfile at 0x7f60c4bc4670>"
      ]
     },
     "execution_count": 3,
     "metadata": {},
     "output_type": "execute_result"
    }
   ],
   "source": [
    "profile0.add_another_cooccurrence_profile(profile1)\n",
    "profile0.add_another_cooccurrence_profile(profile2)\n",
    "profile0.add_another_cooccurrence_profile(profile3)\n",
    "profile0.add_another_cooccurrence_profile(profile4)\n",
    "profile0.add_another_cooccurrence_profile(profile6)\n",
    "profile0.add_another_cooccurrence_profile(profile7)\n",
    "profile0.add_another_cooccurrence_profile(profile8)\n",
    "profile0.add_another_cooccurrence_profile(profile9)"
   ]
  },
  {
   "cell_type": "code",
   "execution_count": 4,
   "id": "7147d116-0c36-4a62-8f6c-c1667667a7c9",
   "metadata": {},
   "outputs": [],
   "source": [
    "probability_profile = profiles.CooccurrenceProbabilityProfile.from_cooccurrence_profile(profile0)"
   ]
  },
  {
   "cell_type": "code",
   "execution_count": 5,
   "id": "f7dab206-f6a7-4d2b-9677-e7fab771e423",
   "metadata": {},
   "outputs": [],
   "source": [
    "pmi_profile = profiles.PointwiseMutualInformationProfile.from_cooccurrence_probability_profile(probability_profile)"
   ]
  },
  {
   "cell_type": "code",
   "execution_count": 6,
   "id": "d83c7314-5776-4b99-80cf-25536ba50afa",
   "metadata": {},
   "outputs": [],
   "source": [
    "reference_profile0 = profiles.CooccurrenceProfile.from_dataframe(pd.read_csv('../data/CP1/ZINC/ZINCp0_37902.csv', dtype={'feature1': 'str','feature2' : 'str' }), vector_count=37902)\n",
    "reference_profile1 = profiles.CooccurrenceProfile.from_dataframe(pd.read_csv('../data/CP1/ZINC/ZINCp1_37902.csv', dtype={'feature1': 'str','feature2' : 'str' }), vector_count=37902)\n",
    "reference_profile2 = profiles.CooccurrenceProfile.from_dataframe(pd.read_csv('../data/CP1/ZINC/ZINCp2_37901.csv', dtype={'feature1': 'str','feature2' : 'str' }), vector_count=37901)\n",
    "reference_profile3 = profiles.CooccurrenceProfile.from_dataframe(pd.read_csv('../data/CP1/ZINC/ZINCp3_37901.csv', dtype={'feature1': 'str','feature2' : 'str' }), vector_count=37901)\n",
    "reference_profile4 = profiles.CooccurrenceProfile.from_dataframe(pd.read_csv('../data/CP1/ZINC/ZINCp4_37901.csv', dtype={'feature1': 'str','feature2' : 'str' }), vector_count=37901)\n",
    "reference_profile6 = profiles.CooccurrenceProfile.from_dataframe(pd.read_csv('../data/CP1/ZINC/ZINCp6_37901.csv', dtype={'feature1': 'str','feature2' : 'str' }), vector_count=37901)\n",
    "reference_profile7 = profiles.CooccurrenceProfile.from_dataframe(pd.read_csv('../data/CP1/ZINC/ZINCp7_37901.csv', dtype={'feature1': 'str','feature2' : 'str' }), vector_count=37901)\n",
    "reference_profile8 = profiles.CooccurrenceProfile.from_dataframe(pd.read_csv('../data/CP1/ZINC/ZINCp8_37901.csv', dtype={'feature1': 'str','feature2' : 'str' }), vector_count=37901)\n",
    "reference_profile9 = profiles.CooccurrenceProfile.from_dataframe(pd.read_csv('../data/CP1/ZINC/ZINCp9_37901.csv', dtype={'feature1': 'str','feature2' : 'str' }), vector_count=37901)"
   ]
  },
  {
   "cell_type": "code",
   "execution_count": 7,
   "id": "3e7d1500-bc9f-424d-8be0-5a3c575b0dc8",
   "metadata": {},
   "outputs": [
    {
     "data": {
      "text/plain": [
       "<fip.profiles.CooccurrenceProfile at 0x7f5fa84e8760>"
      ]
     },
     "execution_count": 7,
     "metadata": {},
     "output_type": "execute_result"
    }
   ],
   "source": [
    "reference_profile0.add_another_cooccurrence_profile(reference_profile1)\n",
    "reference_profile0.add_another_cooccurrence_profile(reference_profile2)\n",
    "reference_profile0.add_another_cooccurrence_profile(reference_profile3)\n",
    "reference_profile0.add_another_cooccurrence_profile(reference_profile4)\n",
    "reference_profile0.add_another_cooccurrence_profile(reference_profile6)\n",
    "reference_profile0.add_another_cooccurrence_profile(reference_profile7)\n",
    "reference_profile0.add_another_cooccurrence_profile(reference_profile8)\n",
    "reference_profile0.add_another_cooccurrence_profile(reference_profile9)"
   ]
  },
  {
   "cell_type": "code",
   "execution_count": 8,
   "id": "bbffde8b-6839-461a-8a68-8e466d80b123",
   "metadata": {},
   "outputs": [],
   "source": [
    "reference_probability_profile = profiles.CooccurrenceProbabilityProfile.from_cooccurrence_profile(reference_profile0)"
   ]
  },
  {
   "cell_type": "code",
   "execution_count": 9,
   "id": "ae1fcc8e-72fa-4bd9-9fa8-a28a87077b9f",
   "metadata": {},
   "outputs": [],
   "source": [
    "reference_pmi_profile = profiles.PointwiseMutualInformationProfile.from_cooccurrence_probability_profile(reference_probability_profile)"
   ]
  },
  {
   "cell_type": "markdown",
   "id": "8141d215",
   "metadata": {
    "pycharm": {
     "name": "#%% md\n"
    }
   },
   "source": [
    "### Making feature pointwise KL divergence profile between COCONUT and ZINC"
   ]
  },
  {
   "cell_type": "code",
   "execution_count": 10,
   "id": "e2da7160",
   "metadata": {
    "pycharm": {
     "name": "#%%\n"
    }
   },
   "outputs": [
    {
     "data": {
      "text/html": [
       "<div>\n",
       "<style scoped>\n",
       "    .dataframe tbody tr th:only-of-type {\n",
       "        vertical-align: middle;\n",
       "    }\n",
       "\n",
       "    .dataframe tbody tr th {\n",
       "        vertical-align: top;\n",
       "    }\n",
       "\n",
       "    .dataframe thead th {\n",
       "        text-align: right;\n",
       "    }\n",
       "</style>\n",
       "<table border=\"1\" class=\"dataframe\">\n",
       "  <thead>\n",
       "    <tr style=\"text-align: right;\">\n",
       "      <th></th>\n",
       "      <th></th>\n",
       "      <th>value</th>\n",
       "    </tr>\n",
       "    <tr>\n",
       "      <th>feature1</th>\n",
       "      <th>feature2</th>\n",
       "      <th></th>\n",
       "    </tr>\n",
       "  </thead>\n",
       "  <tbody>\n",
       "    <tr>\n",
       "      <th rowspan=\"5\" valign=\"top\">0</th>\n",
       "      <th>0</th>\n",
       "      <td>2.054174</td>\n",
       "    </tr>\n",
       "    <tr>\n",
       "      <th>1</th>\n",
       "      <td>2.862512</td>\n",
       "    </tr>\n",
       "    <tr>\n",
       "      <th>10</th>\n",
       "      <td>5.101818</td>\n",
       "    </tr>\n",
       "    <tr>\n",
       "      <th>100</th>\n",
       "      <td>5.431971</td>\n",
       "    </tr>\n",
       "    <tr>\n",
       "      <th>1000</th>\n",
       "      <td>3.398800</td>\n",
       "    </tr>\n",
       "    <tr>\n",
       "      <th>...</th>\n",
       "      <th>...</th>\n",
       "      <td>...</td>\n",
       "    </tr>\n",
       "    <tr>\n",
       "      <th>928</th>\n",
       "      <th>972</th>\n",
       "      <td>-0.027469</td>\n",
       "    </tr>\n",
       "    <tr>\n",
       "      <th>939</th>\n",
       "      <th>986</th>\n",
       "      <td>-1.027469</td>\n",
       "    </tr>\n",
       "    <tr>\n",
       "      <th>959</th>\n",
       "      <th>995</th>\n",
       "      <td>-0.027469</td>\n",
       "    </tr>\n",
       "    <tr>\n",
       "      <th>968</th>\n",
       "      <th>990</th>\n",
       "      <td>-3.834824</td>\n",
       "    </tr>\n",
       "    <tr>\n",
       "      <th>969</th>\n",
       "      <th>995</th>\n",
       "      <td>-0.027469</td>\n",
       "    </tr>\n",
       "  </tbody>\n",
       "</table>\n",
       "<p>2097996 rows × 1 columns</p>\n",
       "</div>"
      ],
      "text/plain": [
       "                      value\n",
       "feature1 feature2          \n",
       "0        0         2.054174\n",
       "         1         2.862512\n",
       "         10        5.101818\n",
       "         100       5.431971\n",
       "         1000      3.398800\n",
       "...                     ...\n",
       "928      972      -0.027469\n",
       "939      986      -1.027469\n",
       "959      995      -0.027469\n",
       "968      990      -3.834824\n",
       "969      995      -0.027469\n",
       "\n",
       "[2097996 rows x 1 columns]"
      ]
     },
     "execution_count": 10,
     "metadata": {},
     "output_type": "execute_result"
    }
   ],
   "source": [
    "difference_pkld_profile = profiles.PointwiseKLDivergenceProfile.from_cooccurrence_probability_profiles(\n",
    "    probability_profile, reference_probability_profile)\n",
    "difference_pkld_profile.df"
   ]
  },
  {
   "cell_type": "markdown",
   "id": "280a3dd8",
   "metadata": {
    "pycharm": {
     "name": "#%% md\n"
    }
   },
   "source": [
    "### Sampling structures from COCONUT and ZINC datasets"
   ]
  },
  {
   "cell_type": "code",
   "execution_count": 11,
   "id": "212cd152",
   "metadata": {
    "pycharm": {
     "name": "#%%\n"
    }
   },
   "outputs": [],
   "source": [
    "coconut_samples = pd.read_csv('../data/CP1/COCONUT/COCOrandom.csv', delimiter = ' ')\n",
    "coconut_samples = coconut_samples.drop(['Coconut_id'], axis=1)\n",
    "coconut_samples['Name'] = 'COCONUT'"
   ]
  },
  {
   "cell_type": "code",
   "execution_count": 12,
   "id": "95627151-b248-427d-a494-4f84494aa1d6",
   "metadata": {},
   "outputs": [],
   "source": [
    "df_split_coco = np.array_split(coconut_samples, 10)"
   ]
  },
  {
   "cell_type": "code",
   "execution_count": 13,
   "id": "13b1766b-989b-4995-950c-e7f7bbe1f5fd",
   "metadata": {},
   "outputs": [
    {
     "data": {
      "text/html": [
       "<div>\n",
       "<style scoped>\n",
       "    .dataframe tbody tr th:only-of-type {\n",
       "        vertical-align: middle;\n",
       "    }\n",
       "\n",
       "    .dataframe tbody tr th {\n",
       "        vertical-align: top;\n",
       "    }\n",
       "\n",
       "    .dataframe thead th {\n",
       "        text-align: right;\n",
       "    }\n",
       "</style>\n",
       "<table border=\"1\" class=\"dataframe\">\n",
       "  <thead>\n",
       "    <tr style=\"text-align: right;\">\n",
       "      <th></th>\n",
       "      <th>Smiles</th>\n",
       "      <th>MW</th>\n",
       "      <th>logP</th>\n",
       "      <th>Inchi</th>\n",
       "      <th>Inchi_s</th>\n",
       "      <th>Name</th>\n",
       "      <th>ECFP</th>\n",
       "      <th>Bitset</th>\n",
       "    </tr>\n",
       "  </thead>\n",
       "  <tbody>\n",
       "    <tr>\n",
       "      <th>193150</th>\n",
       "      <td>CCCCCC=CCC=CCC=CCCCCCCC(=O)OCC(CO)OC(=O)CCCCCC...</td>\n",
       "      <td>672.569276</td>\n",
       "      <td>12.62110</td>\n",
       "      <td>RYBURRAWDXPPKP-UHFFFAOYSA-N</td>\n",
       "      <td>RYBURRAWDXPPKP</td>\n",
       "      <td>COCONUT</td>\n",
       "      <td>&lt;rdkit.DataStructs.cDataStructs.ExplicitBitVec...</td>\n",
       "      <td>[1, 69, 80, 118, 125, 147, 222, 294, 401, 482,...</td>\n",
       "    </tr>\n",
       "    <tr>\n",
       "      <th>193151</th>\n",
       "      <td>CN(C)CCc1c2c(c3nccc4c3c1Nc1ccccc1-4)NC(=O)CS2</td>\n",
       "      <td>376.135782</td>\n",
       "      <td>4.10710</td>\n",
       "      <td>GNFZXVRWYHFYNY-UHFFFAOYSA-N</td>\n",
       "      <td>GNFZXVRWYHFYNY</td>\n",
       "      <td>COCONUT</td>\n",
       "      <td>&lt;rdkit.DataStructs.cDataStructs.ExplicitBitVec...</td>\n",
       "      <td>[80, 94, 142, 157, 254, 297, 314, 326, 331, 34...</td>\n",
       "    </tr>\n",
       "    <tr>\n",
       "      <th>193152</th>\n",
       "      <td>Cc1cccc(C)c1N=Cc1c(O)c(O)c(C(C)C)c2cc(C)c(-c3c...</td>\n",
       "      <td>724.351237</td>\n",
       "      <td>11.49212</td>\n",
       "      <td>NPMJHDBMPKEOHP-UHFFFAOYSA-N</td>\n",
       "      <td>NPMJHDBMPKEOHP</td>\n",
       "      <td>COCONUT</td>\n",
       "      <td>&lt;rdkit.DataStructs.cDataStructs.ExplicitBitVec...</td>\n",
       "      <td>[1, 58, 202, 217, 224, 261, 283, 350, 456, 500...</td>\n",
       "    </tr>\n",
       "    <tr>\n",
       "      <th>193153</th>\n",
       "      <td>C[NH2+]C(C(=O)[O-])C(=O)OCC1OC(Oc2ccc3c(=O)c(-...</td>\n",
       "      <td>617.210840</td>\n",
       "      <td>-2.01590</td>\n",
       "      <td>JURVDXTYAZJHAK-UHFFFAOYSA-N</td>\n",
       "      <td>JURVDXTYAZJHAK</td>\n",
       "      <td>COCONUT</td>\n",
       "      <td>&lt;rdkit.DataStructs.cDataStructs.ExplicitBitVec...</td>\n",
       "      <td>[1, 49, 58, 80, 147, 222, 227, 283, 304, 314, ...</td>\n",
       "    </tr>\n",
       "    <tr>\n",
       "      <th>193154</th>\n",
       "      <td>CC1(C)CCC2(C(=O)O)CCC3(C)C(=CCC4C5(C)CCC(OC6OC...</td>\n",
       "      <td>604.397519</td>\n",
       "      <td>4.66930</td>\n",
       "      <td>OZOGRWOXFIBCFE-UHFFFAOYSA-N</td>\n",
       "      <td>OZOGRWOXFIBCFE</td>\n",
       "      <td>COCONUT</td>\n",
       "      <td>&lt;rdkit.DataStructs.cDataStructs.ExplicitBitVec...</td>\n",
       "      <td>[80, 184, 222, 249, 267, 389, 409, 418, 478, 4...</td>\n",
       "    </tr>\n",
       "    <tr>\n",
       "      <th>...</th>\n",
       "      <td>...</td>\n",
       "      <td>...</td>\n",
       "      <td>...</td>\n",
       "      <td>...</td>\n",
       "      <td>...</td>\n",
       "      <td>...</td>\n",
       "      <td>...</td>\n",
       "      <td>...</td>\n",
       "    </tr>\n",
       "    <tr>\n",
       "      <th>231775</th>\n",
       "      <td>CCCC(=O)OCC1OC(OC(C)(C)CC=CC(C)=CC=CC(C)=CC=CC...</td>\n",
       "      <td>782.512155</td>\n",
       "      <td>10.69390</td>\n",
       "      <td>WRRFRVMEHWIGOT-UHFFFAOYSA-N</td>\n",
       "      <td>WRRFRVMEHWIGOT</td>\n",
       "      <td>COCONUT</td>\n",
       "      <td>&lt;rdkit.DataStructs.cDataStructs.ExplicitBitVec...</td>\n",
       "      <td>[12, 31, 55, 58, 61, 73, 80, 81, 99, 114, 147,...</td>\n",
       "    </tr>\n",
       "    <tr>\n",
       "      <th>231776</th>\n",
       "      <td>NC(=O)Nc1ccccc1N</td>\n",
       "      <td>151.074562</td>\n",
       "      <td>0.75940</td>\n",
       "      <td>BTNSLPQCLXHERR-UHFFFAOYSA-N</td>\n",
       "      <td>BTNSLPQCLXHERR</td>\n",
       "      <td>COCONUT</td>\n",
       "      <td>&lt;rdkit.DataStructs.cDataStructs.ExplicitBitVec...</td>\n",
       "      <td>[140, 494, 650, 807, 910, 944, 1088, 1152, 117...</td>\n",
       "    </tr>\n",
       "    <tr>\n",
       "      <th>231777</th>\n",
       "      <td>COc1ccc(OC)c(NC(=O)CCc2c(C)c3ccc(O)cc3oc2=O)c1</td>\n",
       "      <td>383.136887</td>\n",
       "      <td>3.39552</td>\n",
       "      <td>OQAWRSLTVFVTOP-UHFFFAOYSA-N</td>\n",
       "      <td>OQAWRSLTVFVTOP</td>\n",
       "      <td>COCONUT</td>\n",
       "      <td>&lt;rdkit.DataStructs.cDataStructs.ExplicitBitVec...</td>\n",
       "      <td>[41, 80, 94, 188, 249, 252, 305, 314, 322, 381...</td>\n",
       "    </tr>\n",
       "    <tr>\n",
       "      <th>231778</th>\n",
       "      <td>CCCCCCCCCCCCCCCCCCCC(=O)CCCCCCCCC</td>\n",
       "      <td>422.448766</td>\n",
       "      <td>10.73790</td>\n",
       "      <td>ZPVRGRJHOPAZOE-UHFFFAOYSA-N</td>\n",
       "      <td>ZPVRGRJHOPAZOE</td>\n",
       "      <td>COCONUT</td>\n",
       "      <td>&lt;rdkit.DataStructs.cDataStructs.ExplicitBitVec...</td>\n",
       "      <td>[80, 229, 294, 591, 650, 794, 807, 1057, 1143,...</td>\n",
       "    </tr>\n",
       "    <tr>\n",
       "      <th>231779</th>\n",
       "      <td>C=C1C(=O)OC2CC(C)=CC(=O)CC(C)C(OC(=O)C3(C)OC3C...</td>\n",
       "      <td>378.167853</td>\n",
       "      <td>1.47960</td>\n",
       "      <td>LMCSPYCFRTWDOG-UHFFFAOYSA-N</td>\n",
       "      <td>LMCSPYCFRTWDOG</td>\n",
       "      <td>COCONUT</td>\n",
       "      <td>&lt;rdkit.DataStructs.cDataStructs.ExplicitBitVec...</td>\n",
       "      <td>[35, 63, 84, 91, 117, 149, 231, 242, 249, 314,...</td>\n",
       "    </tr>\n",
       "  </tbody>\n",
       "</table>\n",
       "<p>38630 rows × 8 columns</p>\n",
       "</div>"
      ],
      "text/plain": [
       "                                                   Smiles          MW  \\\n",
       "193150  CCCCCC=CCC=CCC=CCCCCCCC(=O)OCC(CO)OC(=O)CCCCCC...  672.569276   \n",
       "193151      CN(C)CCc1c2c(c3nccc4c3c1Nc1ccccc1-4)NC(=O)CS2  376.135782   \n",
       "193152  Cc1cccc(C)c1N=Cc1c(O)c(O)c(C(C)C)c2cc(C)c(-c3c...  724.351237   \n",
       "193153  C[NH2+]C(C(=O)[O-])C(=O)OCC1OC(Oc2ccc3c(=O)c(-...  617.210840   \n",
       "193154  CC1(C)CCC2(C(=O)O)CCC3(C)C(=CCC4C5(C)CCC(OC6OC...  604.397519   \n",
       "...                                                   ...         ...   \n",
       "231775  CCCC(=O)OCC1OC(OC(C)(C)CC=CC(C)=CC=CC(C)=CC=CC...  782.512155   \n",
       "231776                                   NC(=O)Nc1ccccc1N  151.074562   \n",
       "231777     COc1ccc(OC)c(NC(=O)CCc2c(C)c3ccc(O)cc3oc2=O)c1  383.136887   \n",
       "231778                  CCCCCCCCCCCCCCCCCCCC(=O)CCCCCCCCC  422.448766   \n",
       "231779  C=C1C(=O)OC2CC(C)=CC(=O)CC(C)C(OC(=O)C3(C)OC3C...  378.167853   \n",
       "\n",
       "            logP                        Inchi         Inchi_s     Name  \\\n",
       "193150  12.62110  RYBURRAWDXPPKP-UHFFFAOYSA-N  RYBURRAWDXPPKP  COCONUT   \n",
       "193151   4.10710  GNFZXVRWYHFYNY-UHFFFAOYSA-N  GNFZXVRWYHFYNY  COCONUT   \n",
       "193152  11.49212  NPMJHDBMPKEOHP-UHFFFAOYSA-N  NPMJHDBMPKEOHP  COCONUT   \n",
       "193153  -2.01590  JURVDXTYAZJHAK-UHFFFAOYSA-N  JURVDXTYAZJHAK  COCONUT   \n",
       "193154   4.66930  OZOGRWOXFIBCFE-UHFFFAOYSA-N  OZOGRWOXFIBCFE  COCONUT   \n",
       "...          ...                          ...             ...      ...   \n",
       "231775  10.69390  WRRFRVMEHWIGOT-UHFFFAOYSA-N  WRRFRVMEHWIGOT  COCONUT   \n",
       "231776   0.75940  BTNSLPQCLXHERR-UHFFFAOYSA-N  BTNSLPQCLXHERR  COCONUT   \n",
       "231777   3.39552  OQAWRSLTVFVTOP-UHFFFAOYSA-N  OQAWRSLTVFVTOP  COCONUT   \n",
       "231778  10.73790  ZPVRGRJHOPAZOE-UHFFFAOYSA-N  ZPVRGRJHOPAZOE  COCONUT   \n",
       "231779   1.47960  LMCSPYCFRTWDOG-UHFFFAOYSA-N  LMCSPYCFRTWDOG  COCONUT   \n",
       "\n",
       "                                                     ECFP  \\\n",
       "193150  <rdkit.DataStructs.cDataStructs.ExplicitBitVec...   \n",
       "193151  <rdkit.DataStructs.cDataStructs.ExplicitBitVec...   \n",
       "193152  <rdkit.DataStructs.cDataStructs.ExplicitBitVec...   \n",
       "193153  <rdkit.DataStructs.cDataStructs.ExplicitBitVec...   \n",
       "193154  <rdkit.DataStructs.cDataStructs.ExplicitBitVec...   \n",
       "...                                                   ...   \n",
       "231775  <rdkit.DataStructs.cDataStructs.ExplicitBitVec...   \n",
       "231776  <rdkit.DataStructs.cDataStructs.ExplicitBitVec...   \n",
       "231777  <rdkit.DataStructs.cDataStructs.ExplicitBitVec...   \n",
       "231778  <rdkit.DataStructs.cDataStructs.ExplicitBitVec...   \n",
       "231779  <rdkit.DataStructs.cDataStructs.ExplicitBitVec...   \n",
       "\n",
       "                                                   Bitset  \n",
       "193150  [1, 69, 80, 118, 125, 147, 222, 294, 401, 482,...  \n",
       "193151  [80, 94, 142, 157, 254, 297, 314, 326, 331, 34...  \n",
       "193152  [1, 58, 202, 217, 224, 261, 283, 350, 456, 500...  \n",
       "193153  [1, 49, 58, 80, 147, 222, 227, 283, 304, 314, ...  \n",
       "193154  [80, 184, 222, 249, 267, 389, 409, 418, 478, 4...  \n",
       "...                                                   ...  \n",
       "231775  [12, 31, 55, 58, 61, 73, 80, 81, 99, 114, 147,...  \n",
       "231776  [140, 494, 650, 807, 910, 944, 1088, 1152, 117...  \n",
       "231777  [41, 80, 94, 188, 249, 252, 305, 314, 322, 381...  \n",
       "231778  [80, 229, 294, 591, 650, 794, 807, 1057, 1143,...  \n",
       "231779  [35, 63, 84, 91, 117, 149, 231, 242, 249, 314,...  \n",
       "\n",
       "[38630 rows x 8 columns]"
      ]
     },
     "execution_count": 13,
     "metadata": {},
     "output_type": "execute_result"
    }
   ],
   "source": [
    "df_split_coco[5]"
   ]
  },
  {
   "cell_type": "code",
   "execution_count": 14,
   "id": "f7ed85f8",
   "metadata": {
    "pycharm": {
     "name": "#%%\n"
    }
   },
   "outputs": [],
   "source": [
    "zinc_samples = pd.read_csv('../data/CP1/ZINC/ZINCrandom.csv', delimiter = ' ')\n",
    "zinc_samples = zinc_samples.drop(['Zinc_id'], axis=1)"
   ]
  },
  {
   "cell_type": "code",
   "execution_count": 15,
   "id": "f90fed46-cb6b-47c0-9dd3-a66ef9ee60d8",
   "metadata": {},
   "outputs": [
    {
     "data": {
      "text/html": [
       "<div>\n",
       "<style scoped>\n",
       "    .dataframe tbody tr th:only-of-type {\n",
       "        vertical-align: middle;\n",
       "    }\n",
       "\n",
       "    .dataframe tbody tr th {\n",
       "        vertical-align: top;\n",
       "    }\n",
       "\n",
       "    .dataframe thead th {\n",
       "        text-align: right;\n",
       "    }\n",
       "</style>\n",
       "<table border=\"1\" class=\"dataframe\">\n",
       "  <thead>\n",
       "    <tr style=\"text-align: right;\">\n",
       "      <th></th>\n",
       "      <th>Smiles</th>\n",
       "      <th>MW</th>\n",
       "      <th>logP</th>\n",
       "      <th>Inchi</th>\n",
       "      <th>Inchi_s</th>\n",
       "      <th>Name</th>\n",
       "      <th>ECFP</th>\n",
       "      <th>Bitset</th>\n",
       "    </tr>\n",
       "  </thead>\n",
       "  <tbody>\n",
       "    <tr>\n",
       "      <th>189507</th>\n",
       "      <td>CCCOc1c(Br)cc(C(=O)Nc2ccc(OC)cc2)cc1OCC</td>\n",
       "      <td>407.073220</td>\n",
       "      <td>4.89750</td>\n",
       "      <td>DFZKIXXYWBCZSK-UHFFFAOYSA-N</td>\n",
       "      <td>DFZKIXXYWBCZSK</td>\n",
       "      <td>ZINC</td>\n",
       "      <td>&lt;rdkit.DataStructs.cDataStructs.ExplicitBitVec...</td>\n",
       "      <td>[13, 76, 80, 191, 237, 294, 322, 333, 425, 428...</td>\n",
       "    </tr>\n",
       "    <tr>\n",
       "      <th>189508</th>\n",
       "      <td>Cn1cc(C(=O)O)c(S(=O)(=O)N2CCc3ccccc3C2)n1</td>\n",
       "      <td>321.078327</td>\n",
       "      <td>0.86530</td>\n",
       "      <td>YWBOZGAVEXKSDM-UHFFFAOYSA-N</td>\n",
       "      <td>YWBOZGAVEXKSDM</td>\n",
       "      <td>ZINC</td>\n",
       "      <td>&lt;rdkit.DataStructs.cDataStructs.ExplicitBitVec...</td>\n",
       "      <td>[80, 196, 242, 350, 378, 389, 456, 464, 585, 6...</td>\n",
       "    </tr>\n",
       "    <tr>\n",
       "      <th>189509</th>\n",
       "      <td>CCN1CCN(S(=O)(=O)c2ccc(C(=O)Nc3sc4c(c3C(N)=O)C...</td>\n",
       "      <td>505.181746</td>\n",
       "      <td>1.80350</td>\n",
       "      <td>NCVWTJBDVVPXOS-UHFFFAOYSA-N</td>\n",
       "      <td>NCVWTJBDVVPXOS</td>\n",
       "      <td>ZINC</td>\n",
       "      <td>&lt;rdkit.DataStructs.cDataStructs.ExplicitBitVec...</td>\n",
       "      <td>[1, 34, 42, 50, 74, 80, 83, 140, 162, 216, 268...</td>\n",
       "    </tr>\n",
       "    <tr>\n",
       "      <th>189510</th>\n",
       "      <td>CN(C(=O)Cn1nccn1)[C@H]1CN(c2cnc(C#N)cn2)C[C@@H]1O</td>\n",
       "      <td>328.139622</td>\n",
       "      <td>-1.35212</td>\n",
       "      <td>OTNPKMJMEBWGPH-RYUDHWBXSA-N</td>\n",
       "      <td>OTNPKMJMEBWGPH</td>\n",
       "      <td>ZINC</td>\n",
       "      <td>&lt;rdkit.DataStructs.cDataStructs.ExplicitBitVec...</td>\n",
       "      <td>[43, 80, 123, 217, 330, 378, 407, 435, 459, 52...</td>\n",
       "    </tr>\n",
       "    <tr>\n",
       "      <th>189511</th>\n",
       "      <td>CC(C)(C)CCN1CCC(C)(CNC(=O)c2cc(C#N)c[nH]2)CC1</td>\n",
       "      <td>330.241962</td>\n",
       "      <td>3.15448</td>\n",
       "      <td>SODUDUFGPXJZHN-UHFFFAOYSA-N</td>\n",
       "      <td>SODUDUFGPXJZHN</td>\n",
       "      <td>ZINC</td>\n",
       "      <td>&lt;rdkit.DataStructs.cDataStructs.ExplicitBitVec...</td>\n",
       "      <td>[27, 41, 60, 80, 102, 114, 143, 197, 305, 355,...</td>\n",
       "    </tr>\n",
       "    <tr>\n",
       "      <th>...</th>\n",
       "      <td>...</td>\n",
       "      <td>...</td>\n",
       "      <td>...</td>\n",
       "      <td>...</td>\n",
       "      <td>...</td>\n",
       "      <td>...</td>\n",
       "      <td>...</td>\n",
       "      <td>...</td>\n",
       "    </tr>\n",
       "    <tr>\n",
       "      <th>227403</th>\n",
       "      <td>COc1cccc2c1OCCCn1cc(nn1)CCN(C(=O)CCCn1cccn1)CC...</td>\n",
       "      <td>628.312166</td>\n",
       "      <td>2.27470</td>\n",
       "      <td>OWIDENYCBUTPMT-NDEPHWFRSA-N</td>\n",
       "      <td>OWIDENYCBUTPMT</td>\n",
       "      <td>ZINC</td>\n",
       "      <td>&lt;rdkit.DataStructs.cDataStructs.ExplicitBitVec...</td>\n",
       "      <td>[25, 43, 75, 77, 80, 86, 110, 115, 210, 249, 2...</td>\n",
       "    </tr>\n",
       "    <tr>\n",
       "      <th>227404</th>\n",
       "      <td>COCC(=O)N[C@@H]1[C@@H](O)CO[C@@H]1Cn1cc(C(C)(C...</td>\n",
       "      <td>312.179755</td>\n",
       "      <td>-0.53350</td>\n",
       "      <td>UWDZQOOQTPFSND-OPQQBVKSSA-N</td>\n",
       "      <td>UWDZQOOQTPFSND</td>\n",
       "      <td>ZINC</td>\n",
       "      <td>&lt;rdkit.DataStructs.cDataStructs.ExplicitBitVec...</td>\n",
       "      <td>[41, 80, 114, 235, 299, 319, 378, 387, 392, 46...</td>\n",
       "    </tr>\n",
       "    <tr>\n",
       "      <th>227405</th>\n",
       "      <td>Cc1ccc(OCc2nnc(SCC(=O)Nc3ncc(Cc4ccc(F)cc4)s3)n...</td>\n",
       "      <td>545.135545</td>\n",
       "      <td>6.07192</td>\n",
       "      <td>YSKJAHOPVMJZBN-UHFFFAOYSA-N</td>\n",
       "      <td>YSKJAHOPVMJZBN</td>\n",
       "      <td>ZINC</td>\n",
       "      <td>&lt;rdkit.DataStructs.cDataStructs.ExplicitBitVec...</td>\n",
       "      <td>[41, 58, 80, 90, 102, 116, 162, 235, 310, 318,...</td>\n",
       "    </tr>\n",
       "    <tr>\n",
       "      <th>227406</th>\n",
       "      <td>NN[C@H](c1ccccc1)c1cccc(Cl)c1</td>\n",
       "      <td>232.076726</td>\n",
       "      <td>2.89270</td>\n",
       "      <td>NMSRYJPOVUGNSC-CYBMUJFWSA-N</td>\n",
       "      <td>NMSRYJPOVUGNSC</td>\n",
       "      <td>ZINC</td>\n",
       "      <td>&lt;rdkit.DataStructs.cDataStructs.ExplicitBitVec...</td>\n",
       "      <td>[1, 165, 216, 222, 389, 483, 484, 561, 592, 87...</td>\n",
       "    </tr>\n",
       "    <tr>\n",
       "      <th>227407</th>\n",
       "      <td>COc1cc([C@H]2SC(c3ccccc3)=Nc3c2c(C)nn3-c2ccc(F...</td>\n",
       "      <td>502.147490</td>\n",
       "      <td>5.10702</td>\n",
       "      <td>FFLPQVDWLBNSKG-RUZDIDTESA-N</td>\n",
       "      <td>FFLPQVDWLBNSKG</td>\n",
       "      <td>ZINC</td>\n",
       "      <td>&lt;rdkit.DataStructs.cDataStructs.ExplicitBitVec...</td>\n",
       "      <td>[80, 90, 92, 94, 95, 131, 140, 227, 233, 249, ...</td>\n",
       "    </tr>\n",
       "  </tbody>\n",
       "</table>\n",
       "<p>37901 rows × 8 columns</p>\n",
       "</div>"
      ],
      "text/plain": [
       "                                                   Smiles          MW  \\\n",
       "189507            CCCOc1c(Br)cc(C(=O)Nc2ccc(OC)cc2)cc1OCC  407.073220   \n",
       "189508          Cn1cc(C(=O)O)c(S(=O)(=O)N2CCc3ccccc3C2)n1  321.078327   \n",
       "189509  CCN1CCN(S(=O)(=O)c2ccc(C(=O)Nc3sc4c(c3C(N)=O)C...  505.181746   \n",
       "189510  CN(C(=O)Cn1nccn1)[C@H]1CN(c2cnc(C#N)cn2)C[C@@H]1O  328.139622   \n",
       "189511      CC(C)(C)CCN1CCC(C)(CNC(=O)c2cc(C#N)c[nH]2)CC1  330.241962   \n",
       "...                                                   ...         ...   \n",
       "227403  COc1cccc2c1OCCCn1cc(nn1)CCN(C(=O)CCCn1cccn1)CC...  628.312166   \n",
       "227404  COCC(=O)N[C@@H]1[C@@H](O)CO[C@@H]1Cn1cc(C(C)(C...  312.179755   \n",
       "227405  Cc1ccc(OCc2nnc(SCC(=O)Nc3ncc(Cc4ccc(F)cc4)s3)n...  545.135545   \n",
       "227406                      NN[C@H](c1ccccc1)c1cccc(Cl)c1  232.076726   \n",
       "227407  COc1cc([C@H]2SC(c3ccccc3)=Nc3c2c(C)nn3-c2ccc(F...  502.147490   \n",
       "\n",
       "           logP                        Inchi         Inchi_s  Name  \\\n",
       "189507  4.89750  DFZKIXXYWBCZSK-UHFFFAOYSA-N  DFZKIXXYWBCZSK  ZINC   \n",
       "189508  0.86530  YWBOZGAVEXKSDM-UHFFFAOYSA-N  YWBOZGAVEXKSDM  ZINC   \n",
       "189509  1.80350  NCVWTJBDVVPXOS-UHFFFAOYSA-N  NCVWTJBDVVPXOS  ZINC   \n",
       "189510 -1.35212  OTNPKMJMEBWGPH-RYUDHWBXSA-N  OTNPKMJMEBWGPH  ZINC   \n",
       "189511  3.15448  SODUDUFGPXJZHN-UHFFFAOYSA-N  SODUDUFGPXJZHN  ZINC   \n",
       "...         ...                          ...             ...   ...   \n",
       "227403  2.27470  OWIDENYCBUTPMT-NDEPHWFRSA-N  OWIDENYCBUTPMT  ZINC   \n",
       "227404 -0.53350  UWDZQOOQTPFSND-OPQQBVKSSA-N  UWDZQOOQTPFSND  ZINC   \n",
       "227405  6.07192  YSKJAHOPVMJZBN-UHFFFAOYSA-N  YSKJAHOPVMJZBN  ZINC   \n",
       "227406  2.89270  NMSRYJPOVUGNSC-CYBMUJFWSA-N  NMSRYJPOVUGNSC  ZINC   \n",
       "227407  5.10702  FFLPQVDWLBNSKG-RUZDIDTESA-N  FFLPQVDWLBNSKG  ZINC   \n",
       "\n",
       "                                                     ECFP  \\\n",
       "189507  <rdkit.DataStructs.cDataStructs.ExplicitBitVec...   \n",
       "189508  <rdkit.DataStructs.cDataStructs.ExplicitBitVec...   \n",
       "189509  <rdkit.DataStructs.cDataStructs.ExplicitBitVec...   \n",
       "189510  <rdkit.DataStructs.cDataStructs.ExplicitBitVec...   \n",
       "189511  <rdkit.DataStructs.cDataStructs.ExplicitBitVec...   \n",
       "...                                                   ...   \n",
       "227403  <rdkit.DataStructs.cDataStructs.ExplicitBitVec...   \n",
       "227404  <rdkit.DataStructs.cDataStructs.ExplicitBitVec...   \n",
       "227405  <rdkit.DataStructs.cDataStructs.ExplicitBitVec...   \n",
       "227406  <rdkit.DataStructs.cDataStructs.ExplicitBitVec...   \n",
       "227407  <rdkit.DataStructs.cDataStructs.ExplicitBitVec...   \n",
       "\n",
       "                                                   Bitset  \n",
       "189507  [13, 76, 80, 191, 237, 294, 322, 333, 425, 428...  \n",
       "189508  [80, 196, 242, 350, 378, 389, 456, 464, 585, 6...  \n",
       "189509  [1, 34, 42, 50, 74, 80, 83, 140, 162, 216, 268...  \n",
       "189510  [43, 80, 123, 217, 330, 378, 407, 435, 459, 52...  \n",
       "189511  [27, 41, 60, 80, 102, 114, 143, 197, 305, 355,...  \n",
       "...                                                   ...  \n",
       "227403  [25, 43, 75, 77, 80, 86, 110, 115, 210, 249, 2...  \n",
       "227404  [41, 80, 114, 235, 299, 319, 378, 387, 392, 46...  \n",
       "227405  [41, 58, 80, 90, 102, 116, 162, 235, 310, 318,...  \n",
       "227406  [1, 165, 216, 222, 389, 483, 484, 561, 592, 87...  \n",
       "227407  [80, 90, 92, 94, 95, 131, 140, 227, 233, 249, ...  \n",
       "\n",
       "[37901 rows x 8 columns]"
      ]
     },
     "execution_count": 15,
     "metadata": {},
     "output_type": "execute_result"
    }
   ],
   "source": [
    "df_split_zinc = np.array_split(zinc_samples, 10)\n",
    "df_split_zinc[5]"
   ]
  },
  {
   "cell_type": "code",
   "execution_count": 16,
   "id": "7d675f14",
   "metadata": {},
   "outputs": [],
   "source": [
    "joint_samples = pd.concat((df_split_coco[5], df_split_zinc[5]), ignore_index=True)"
   ]
  },
  {
   "cell_type": "code",
   "execution_count": 17,
   "id": "1378e876-1044-43b3-80e4-5fdaa4afb463",
   "metadata": {},
   "outputs": [
    {
     "name": "stderr",
     "output_type": "stream",
     "text": [
      "/var/tmp/pbs.43231.lich-compute.vscht.cz/ipykernel_11952/3101749155.py:7: SettingWithCopyWarning: \n",
      "A value is trying to be set on a copy of a slice from a DataFrame\n",
      "\n",
      "See the caveats in the documentation: https://pandas.pydata.org/pandas-docs/stable/user_guide/indexing.html#returning-a-view-versus-a-copy\n",
      "  joint_samples['Bitset'][x] = tup\n"
     ]
    }
   ],
   "source": [
    "for x in joint_samples.index:\n",
    "    a = joint_samples['Bitset'][x]\n",
    "    a = a.split(\", \")\n",
    "    a = re.sub('\\[', '', str(a))\n",
    "    a = re.sub('\\]', '', str(a))\n",
    "    tup = literal_eval(a)\n",
    "    joint_samples['Bitset'][x] = tup"
   ]
  },
  {
   "cell_type": "markdown",
   "id": "4139ba77",
   "metadata": {
    "pycharm": {
     "name": "#%% md\n"
    }
   },
   "source": [
    "## Relative feature tightness against a PMI interrelation profile"
   ]
  },
  {
   "cell_type": "code",
   "execution_count": 18,
   "id": "5b78b1e8",
   "metadata": {
    "collapsed": false,
    "jupyter": {
     "outputs_hidden": false
    },
    "pycharm": {
     "name": "#%%\n"
    }
   },
   "outputs": [],
   "source": [
    "joint_samples['RFT'] = joint_samples['Bitset'].apply(\n",
    "    lambda x: difference_pkld_profile.relative_feature_divergence(x))"
   ]
  },
  {
   "cell_type": "code",
   "execution_count": 19,
   "id": "30d14231",
   "metadata": {
    "collapsed": false,
    "jupyter": {
     "outputs_hidden": false
    },
    "pycharm": {
     "name": "#%%\n"
    }
   },
   "outputs": [
    {
     "data": {
      "image/png": "[encoded data removed]",
      "text/plain": [
       "<Figure size 842.4x595.44 with 1 Axes>"
      ]
     },
     "metadata": {},
     "output_type": "display_data"
    }
   ],
   "source": [
    "a4_dims = (11.7, 8.27)\n",
    "sns.set_style(\"darkgrid\")\n",
    "fig, ax = plt.subplots(figsize=a4_dims)\n",
    "sns.histplot(joint_samples, x='RFT', hue='Name')\n",
    "plt.title('Relative feature tightness against a PMI interrelation profile 5')\n",
    "plt.savefig(f\"../images//joint_samples_RFT5.svg\", format=\"svg\")"
   ]
  },
  {
   "cell_type": "markdown",
   "id": "ba97db5d",
   "metadata": {
    "pycharm": {
     "name": "#%% md\n"
    }
   },
   "source": [
    "According to the histogram, there is a visible split between Relative feature tightness distribution against the pointwise KL divergence profile between COCONUT and ZINC datasets, based on their radius 2 fragments. Larger fragments might diverge even further."
   ]
  },
  {
   "cell_type": "markdown",
   "id": "0cf36914-e644-4a29-8543-21c9f029c73b",
   "metadata": {},
   "source": [
    "# ROC curve"
   ]
  },
  {
   "cell_type": "code",
   "execution_count": 20,
   "id": "32916b69-947f-485f-ab0d-be64ccf196d5",
   "metadata": {},
   "outputs": [],
   "source": [
    "from matplotlib.pyplot import figure\n",
    "from sklearn.metrics import roc_curve, auc\n",
    "from sklearn import metrics\n",
    "\n",
    "fpr, tpr, thresholds = metrics.roc_curve(joint_samples['Name'], joint_samples['RFT'], pos_label = 'COCONUT')\n",
    "roc_auc = metrics.auc(fpr, tpr)"
   ]
  },
  {
   "cell_type": "code",
   "execution_count": 21,
   "id": "30be1bd2-d674-4d5f-aafd-8eabd3d1375a",
   "metadata": {},
   "outputs": [
    {
     "data": {
      "text/plain": [
       "<Figure size 432x288 with 0 Axes>"
      ]
     },
     "metadata": {},
     "output_type": "display_data"
    },
    {
     "data": {
      "image/png": "[encoded data removed]",
      "text/plain": [
       "<Figure size 842.4x595.44 with 1 Axes>"
      ]
     },
     "metadata": {},
     "output_type": "display_data"
    }
   ],
   "source": [
    "plt.figure()\n",
    "figure(figsize=(11.7, 8.27))\n",
    "plt.plot(fpr,tpr,color=\"darkorange\",label=\"ROC curve (area = %0.2f)\" % roc_auc)\n",
    "plt.plot([0, 1], [0, 1], color=\"navy\", linestyle=\"--\")\n",
    "plt.xlim([-0.01, 1.01])\n",
    "plt.ylim([0.0, 1.01])\n",
    "plt.xlabel(\"False Positive Rate\")\n",
    "plt.ylabel(\"True Positive Rate\")\n",
    "plt.title('Receiver Operating Characteristic 5')\n",
    "plt.legend(loc=\"lower right\")\n",
    "plt.savefig(f\"../images//joint_samples_ROC5.svg\", format=\"svg\")\n",
    "plt.show()"
   ]
  },
  {
   "cell_type": "code",
   "execution_count": null,
   "id": "0d4d7467-de7b-42c6-98c9-3da7b5f05282",
   "metadata": {},
   "outputs": [],
   "source": []
  }
 ],
 "metadata": {
  "kernelspec": {
   "display_name": "Python 3 (ipykernel)",
   "language": "python",
   "name": "python3"
  },
  "language_info": {
   "codemirror_mode": {
    "name": "ipython",
    "version": 3
   },
   "file_extension": ".py",
   "mimetype": "text/x-python",
   "name": "python",
   "nbconvert_exporter": "python",
   "pygments_lexer": "ipython3",
   "version": "3.9.7"
  }
 },
 "nbformat": 4,
 "nbformat_minor": 5
}
