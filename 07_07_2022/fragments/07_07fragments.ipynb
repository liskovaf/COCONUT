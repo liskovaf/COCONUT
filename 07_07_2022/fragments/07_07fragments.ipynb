{
 "cells": [
  {
   "cell_type": "markdown",
   "id": "af2a9664-26cc-4db3-b77c-ad7d45b852e5",
   "metadata": {},
   "source": [
    "### Preparing Fragments "
   ]
  },
  {
   "cell_type": "code",
   "execution_count": 1,
   "id": "38022873-2be7-414b-b69f-36a5fc8a3ca2",
   "metadata": {},
   "outputs": [],
   "source": [
    "from rdkit.Chem import AllChem as Chem\n",
    "from rdkit.Chem import Descriptors\n",
    "from rdkit.Chem.Draw import IPythonConsole\n",
    "import pandas as pd\n",
    "from rdkit.Chem import rdMolDescriptors as rdescriptors\n",
    "import matplotlib.pyplot as plt\n",
    "import seaborn as sns\n",
    "import numpy as np\n",
    "import sys    \n",
    "import pubchempy as pcp\n",
    "import warnings\n",
    "warnings.filterwarnings('ignore')\n",
    "from rdkit import RDLogger \n",
    "RDLogger.DisableLog('rdApp.*')\n",
    "from sklearn.utils import shuffle\n",
    "import sys\n",
    "sys.path.insert(0,\"./../../fip3\")\n",
    "from fip.profiles import CooccurrenceProfile\n",
    "import fip.chem\n",
    "from fip import profiles\n",
    "from itertools import chain\n",
    "from ast import literal_eval\n",
    "import re"
   ]
  },
  {
   "cell_type": "code",
   "execution_count": 2,
   "id": "13325e9a-5379-491e-bd19-995112d02c76",
   "metadata": {},
   "outputs": [],
   "source": [
    "#Loading database from csv \n",
    "suppl_coco = pd.read_csv('../../data/CP1/COCONUT/COCOrandom.csv', delimiter = ' ')"
   ]
  },
  {
   "cell_type": "code",
   "execution_count": 3,
   "id": "88bd4823-5157-4458-b0f9-a8b87de2972e",
   "metadata": {},
   "outputs": [
    {
     "data": {
      "text/html": [
       "<div>\n",
       "<style scoped>\n",
       "    .dataframe tbody tr th:only-of-type {\n",
       "        vertical-align: middle;\n",
       "    }\n",
       "\n",
       "    .dataframe tbody tr th {\n",
       "        vertical-align: top;\n",
       "    }\n",
       "\n",
       "    .dataframe thead th {\n",
       "        text-align: right;\n",
       "    }\n",
       "</style>\n",
       "<table border=\"1\" class=\"dataframe\">\n",
       "  <thead>\n",
       "    <tr style=\"text-align: right;\">\n",
       "      <th></th>\n",
       "      <th>Coconut_id</th>\n",
       "      <th>Smiles</th>\n",
       "      <th>MW</th>\n",
       "      <th>logP</th>\n",
       "      <th>Inchi</th>\n",
       "      <th>Inchi_s</th>\n",
       "      <th>Name</th>\n",
       "      <th>ECFP</th>\n",
       "      <th>Bitset</th>\n",
       "    </tr>\n",
       "  </thead>\n",
       "  <tbody>\n",
       "    <tr>\n",
       "      <th>0</th>\n",
       "      <td>CNP0239046</td>\n",
       "      <td>CCCCCC1C(=O)CCC1CC(=O)OC</td>\n",
       "      <td>226.156895</td>\n",
       "      <td>2.72510</td>\n",
       "      <td>KVWWIYGFBYDJQC-UHFFFAOYSA-N</td>\n",
       "      <td>KVWWIYGFBYDJQC</td>\n",
       "      <td>COCO</td>\n",
       "      <td>&lt;rdkit.DataStructs.cDataStructs.ExplicitBitVec...</td>\n",
       "      <td>[80, 142, 195, 226, 294, 314, 334, 339, 370, 5...</td>\n",
       "    </tr>\n",
       "    <tr>\n",
       "      <th>1</th>\n",
       "      <td>CNP0205086</td>\n",
       "      <td>Cc1c2c(cc3c1oc(=O)c1ccccc13)CN(c1cccc(Cl)c1)CO2</td>\n",
       "      <td>377.081871</td>\n",
       "      <td>5.26452</td>\n",
       "      <td>DWNKYEMDZRSBHK-UHFFFAOYSA-N</td>\n",
       "      <td>DWNKYEMDZRSBHK</td>\n",
       "      <td>COCO</td>\n",
       "      <td>&lt;rdkit.DataStructs.cDataStructs.ExplicitBitVec...</td>\n",
       "      <td>[133, 137, 165, 216, 252, 314, 350, 382, 398, ...</td>\n",
       "    </tr>\n",
       "    <tr>\n",
       "      <th>2</th>\n",
       "      <td>CNP0361840</td>\n",
       "      <td>COc1cc(C2CC(=O)Oc3ccc4c(=O)c(-c5ccccc5)coc4c32...</td>\n",
       "      <td>458.136553</td>\n",
       "      <td>4.92680</td>\n",
       "      <td>ZRAWZNDFONIPGO-UHFFFAOYSA-N</td>\n",
       "      <td>ZRAWZNDFONIPGO</td>\n",
       "      <td>COCO</td>\n",
       "      <td>&lt;rdkit.DataStructs.cDataStructs.ExplicitBitVec...</td>\n",
       "      <td>[45, 60, 133, 145, 222, 227, 231, 249, 282, 28...</td>\n",
       "    </tr>\n",
       "    <tr>\n",
       "      <th>3</th>\n",
       "      <td>CNP0264800</td>\n",
       "      <td>C=C1C(=O)OC2C=C(CO)CCC(OCC)C3=CC(OC3=O)C12</td>\n",
       "      <td>320.125988</td>\n",
       "      <td>1.05360</td>\n",
       "      <td>PTJPAEBQCZMNAV-UHFFFAOYSA-N</td>\n",
       "      <td>PTJPAEBQCZMNAV</td>\n",
       "      <td>COCO</td>\n",
       "      <td>&lt;rdkit.DataStructs.cDataStructs.ExplicitBitVec...</td>\n",
       "      <td>[35, 80, 176, 222, 294, 314, 408, 514, 650, 65...</td>\n",
       "    </tr>\n",
       "    <tr>\n",
       "      <th>4</th>\n",
       "      <td>CNP0396333</td>\n",
       "      <td>CC(=O)C(CC=C(C)C)C(C)=CCOc1ccc(CCNC(=O)c2ccccc...</td>\n",
       "      <td>419.246044</td>\n",
       "      <td>5.54570</td>\n",
       "      <td>FGXBFPFGWRVMGG-UHFFFAOYSA-N</td>\n",
       "      <td>FGXBFPFGWRVMGG</td>\n",
       "      <td>COCO</td>\n",
       "      <td>&lt;rdkit.DataStructs.cDataStructs.ExplicitBitVec...</td>\n",
       "      <td>[1, 8, 80, 102, 197, 265, 310, 322, 367, 389, ...</td>\n",
       "    </tr>\n",
       "    <tr>\n",
       "      <th>...</th>\n",
       "      <td>...</td>\n",
       "      <td>...</td>\n",
       "      <td>...</td>\n",
       "      <td>...</td>\n",
       "      <td>...</td>\n",
       "      <td>...</td>\n",
       "      <td>...</td>\n",
       "      <td>...</td>\n",
       "      <td>...</td>\n",
       "    </tr>\n",
       "    <tr>\n",
       "      <th>386292</th>\n",
       "      <td>CNP0315857</td>\n",
       "      <td>COC(=O)C1=COC(OC2OC(COC(=O)c3ccc(O)c(OC)c3)C(O...</td>\n",
       "      <td>554.163556</td>\n",
       "      <td>-0.63720</td>\n",
       "      <td>LIVSNGMPJUCRLO-UHFFFAOYSA-N</td>\n",
       "      <td>LIVSNGMPJUCRLO</td>\n",
       "      <td>COCO</td>\n",
       "      <td>&lt;rdkit.DataStructs.cDataStructs.ExplicitBitVec...</td>\n",
       "      <td>[58, 80, 145, 147, 167, 231, 233, 249, 314, 42...</td>\n",
       "    </tr>\n",
       "    <tr>\n",
       "      <th>386293</th>\n",
       "      <td>CNP0032553</td>\n",
       "      <td>Cc1c(CCC(=O)NCC(=O)NCC(=O)[O-])c(=O)oc2cc(O)c(...</td>\n",
       "      <td>395.065152</td>\n",
       "      <td>-0.62468</td>\n",
       "      <td>SSZVGMXOKPZNCV-UHFFFAOYSA-M</td>\n",
       "      <td>SSZVGMXOKPZNCV</td>\n",
       "      <td>COCO</td>\n",
       "      <td>&lt;rdkit.DataStructs.cDataStructs.ExplicitBitVec...</td>\n",
       "      <td>[41, 80, 197, 252, 254, 305, 314, 366, 406, 42...</td>\n",
       "    </tr>\n",
       "    <tr>\n",
       "      <th>386294</th>\n",
       "      <td>CNP0223192</td>\n",
       "      <td>CC(=O)Oc1c(C)cc2c(c1O)C(=O)C(C1=CC(=O)c3cc(C)c...</td>\n",
       "      <td>490.089997</td>\n",
       "      <td>2.87624</td>\n",
       "      <td>JODPOMYHTFZNTK-UHFFFAOYSA-N</td>\n",
       "      <td>JODPOMYHTFZNTK</td>\n",
       "      <td>COCO</td>\n",
       "      <td>&lt;rdkit.DataStructs.cDataStructs.ExplicitBitVec...</td>\n",
       "      <td>[16, 39, 84, 202, 224, 314, 333, 352, 516, 641...</td>\n",
       "    </tr>\n",
       "    <tr>\n",
       "      <th>386295</th>\n",
       "      <td>CNP0356727</td>\n",
       "      <td>C[N+]([O-])=NCOC1OC(CO)C(O)C(OC2OC(COC3OC(CO)C...</td>\n",
       "      <td>576.201398</td>\n",
       "      <td>-6.99890</td>\n",
       "      <td>STHHNNUYQQUJGY-UHFFFAOYSA-N</td>\n",
       "      <td>STHHNNUYQQUJGY</td>\n",
       "      <td>COCO</td>\n",
       "      <td>&lt;rdkit.DataStructs.cDataStructs.ExplicitBitVec...</td>\n",
       "      <td>[77, 80, 170, 222, 349, 443, 489, 588, 610, 65...</td>\n",
       "    </tr>\n",
       "    <tr>\n",
       "      <th>386296</th>\n",
       "      <td>CNP0256196</td>\n",
       "      <td>CCCC1OC(CC(=O)O)CC2(O)C(=O)c3cccc(O)c3C(=O)C12O</td>\n",
       "      <td>364.115818</td>\n",
       "      <td>0.66570</td>\n",
       "      <td>XDYYASNFOIEXFT-UHFFFAOYSA-N</td>\n",
       "      <td>XDYYASNFOIEXFT</td>\n",
       "      <td>COCO</td>\n",
       "      <td>&lt;rdkit.DataStructs.cDataStructs.ExplicitBitVec...</td>\n",
       "      <td>[80, 194, 294, 298, 314, 352, 389, 490, 492, 5...</td>\n",
       "    </tr>\n",
       "  </tbody>\n",
       "</table>\n",
       "<p>386297 rows × 9 columns</p>\n",
       "</div>"
      ],
      "text/plain": [
       "        Coconut_id                                             Smiles  \\\n",
       "0       CNP0239046                           CCCCCC1C(=O)CCC1CC(=O)OC   \n",
       "1       CNP0205086    Cc1c2c(cc3c1oc(=O)c1ccccc13)CN(c1cccc(Cl)c1)CO2   \n",
       "2       CNP0361840  COc1cc(C2CC(=O)Oc3ccc4c(=O)c(-c5ccccc5)coc4c32...   \n",
       "3       CNP0264800         C=C1C(=O)OC2C=C(CO)CCC(OCC)C3=CC(OC3=O)C12   \n",
       "4       CNP0396333  CC(=O)C(CC=C(C)C)C(C)=CCOc1ccc(CCNC(=O)c2ccccc...   \n",
       "...            ...                                                ...   \n",
       "386292  CNP0315857  COC(=O)C1=COC(OC2OC(COC(=O)c3ccc(O)c(OC)c3)C(O...   \n",
       "386293  CNP0032553  Cc1c(CCC(=O)NCC(=O)NCC(=O)[O-])c(=O)oc2cc(O)c(...   \n",
       "386294  CNP0223192  CC(=O)Oc1c(C)cc2c(c1O)C(=O)C(C1=CC(=O)c3cc(C)c...   \n",
       "386295  CNP0356727  C[N+]([O-])=NCOC1OC(CO)C(O)C(OC2OC(COC3OC(CO)C...   \n",
       "386296  CNP0256196    CCCC1OC(CC(=O)O)CC2(O)C(=O)c3cccc(O)c3C(=O)C12O   \n",
       "\n",
       "                MW     logP                        Inchi         Inchi_s  \\\n",
       "0       226.156895  2.72510  KVWWIYGFBYDJQC-UHFFFAOYSA-N  KVWWIYGFBYDJQC   \n",
       "1       377.081871  5.26452  DWNKYEMDZRSBHK-UHFFFAOYSA-N  DWNKYEMDZRSBHK   \n",
       "2       458.136553  4.92680  ZRAWZNDFONIPGO-UHFFFAOYSA-N  ZRAWZNDFONIPGO   \n",
       "3       320.125988  1.05360  PTJPAEBQCZMNAV-UHFFFAOYSA-N  PTJPAEBQCZMNAV   \n",
       "4       419.246044  5.54570  FGXBFPFGWRVMGG-UHFFFAOYSA-N  FGXBFPFGWRVMGG   \n",
       "...            ...      ...                          ...             ...   \n",
       "386292  554.163556 -0.63720  LIVSNGMPJUCRLO-UHFFFAOYSA-N  LIVSNGMPJUCRLO   \n",
       "386293  395.065152 -0.62468  SSZVGMXOKPZNCV-UHFFFAOYSA-M  SSZVGMXOKPZNCV   \n",
       "386294  490.089997  2.87624  JODPOMYHTFZNTK-UHFFFAOYSA-N  JODPOMYHTFZNTK   \n",
       "386295  576.201398 -6.99890  STHHNNUYQQUJGY-UHFFFAOYSA-N  STHHNNUYQQUJGY   \n",
       "386296  364.115818  0.66570  XDYYASNFOIEXFT-UHFFFAOYSA-N  XDYYASNFOIEXFT   \n",
       "\n",
       "        Name                                               ECFP  \\\n",
       "0       COCO  <rdkit.DataStructs.cDataStructs.ExplicitBitVec...   \n",
       "1       COCO  <rdkit.DataStructs.cDataStructs.ExplicitBitVec...   \n",
       "2       COCO  <rdkit.DataStructs.cDataStructs.ExplicitBitVec...   \n",
       "3       COCO  <rdkit.DataStructs.cDataStructs.ExplicitBitVec...   \n",
       "4       COCO  <rdkit.DataStructs.cDataStructs.ExplicitBitVec...   \n",
       "...      ...                                                ...   \n",
       "386292  COCO  <rdkit.DataStructs.cDataStructs.ExplicitBitVec...   \n",
       "386293  COCO  <rdkit.DataStructs.cDataStructs.ExplicitBitVec...   \n",
       "386294  COCO  <rdkit.DataStructs.cDataStructs.ExplicitBitVec...   \n",
       "386295  COCO  <rdkit.DataStructs.cDataStructs.ExplicitBitVec...   \n",
       "386296  COCO  <rdkit.DataStructs.cDataStructs.ExplicitBitVec...   \n",
       "\n",
       "                                                   Bitset  \n",
       "0       [80, 142, 195, 226, 294, 314, 334, 339, 370, 5...  \n",
       "1       [133, 137, 165, 216, 252, 314, 350, 382, 398, ...  \n",
       "2       [45, 60, 133, 145, 222, 227, 231, 249, 282, 28...  \n",
       "3       [35, 80, 176, 222, 294, 314, 408, 514, 650, 65...  \n",
       "4       [1, 8, 80, 102, 197, 265, 310, 322, 367, 389, ...  \n",
       "...                                                   ...  \n",
       "386292  [58, 80, 145, 147, 167, 231, 233, 249, 314, 42...  \n",
       "386293  [41, 80, 197, 252, 254, 305, 314, 366, 406, 42...  \n",
       "386294  [16, 39, 84, 202, 224, 314, 333, 352, 516, 641...  \n",
       "386295  [77, 80, 170, 222, 349, 443, 489, 588, 610, 65...  \n",
       "386296  [80, 194, 294, 298, 314, 352, 389, 490, 492, 5...  \n",
       "\n",
       "[386297 rows x 9 columns]"
      ]
     },
     "execution_count": 3,
     "metadata": {},
     "output_type": "execute_result"
    }
   ],
   "source": [
    "suppl_coco"
   ]
  },
  {
   "cell_type": "code",
   "execution_count": 4,
   "id": "41ff9a40-4b88-444d-9916-cbce2eecce7c",
   "metadata": {},
   "outputs": [
    {
     "name": "stdout",
     "output_type": "stream",
     "text": [
      "CPU times: user 1h 24min 48s, sys: 4.6 s, total: 1h 24min 53s\n",
      "Wall time: 1h 24min 55s\n"
     ]
    }
   ],
   "source": [
    "%%time\n",
    "instance = []\n",
    "for x in suppl_coco.Smiles:\n",
    "    m = Chem.MolFromSmiles(x)\n",
    "    z =fip.chem.rdmol2morgan_feature_smiles(m, radius=2, min_radius=2, all_bonds_explicit=False, canonical_smiles=True, isomeric_smiles=False, all_H_explicit=True)\n",
    "    z = str(z)\n",
    "    z = z.replace(\"{\",\"\")\n",
    "    z = z.replace(\"}\",\"\")\n",
    "    instance.append(z)"
   ]
  },
  {
   "cell_type": "code",
   "execution_count": 5,
   "id": "73476eb4-3cda-45ea-9cf1-6ef7ed7c2199",
   "metadata": {},
   "outputs": [],
   "source": [
    "suppl_coco['Fragments'] = instance"
   ]
  },
  {
   "cell_type": "code",
   "execution_count": 6,
   "id": "1a99990b-8e1c-4404-9bce-f86757d6d635",
   "metadata": {},
   "outputs": [],
   "source": [
    "suppl_coco.to_csv('../../data/CPF/COCONUT/COCOrandomF.csv', sep=' ', index = False)"
   ]
  },
  {
   "cell_type": "code",
   "execution_count": 8,
   "id": "8ace24b3-0302-465e-a9ab-8ba9d2d37b3f",
   "metadata": {},
   "outputs": [],
   "source": [
    "suppl_coco = pd.read_csv('../../data/CPF/COCONUT/COCOrandomF.csv', delimiter = ' ')"
   ]
  },
  {
   "cell_type": "code",
   "execution_count": 28,
   "id": "f0faf9aa-59cd-4926-b2b5-a1f90322d05e",
   "metadata": {},
   "outputs": [
    {
     "data": {
      "text/plain": [
       "\"'[c][c]([CH2])[cH][c]([c])[c]', '[cH][cH][cH][cH][c]', '[c][c]([O])[c]([CH3])[c]([c])[o]', '[c][cH][c]([Cl])[cH][cH]', '[cH][cH][cH][c]([cH])[Cl]', '[cH][cH][c]([c]([cH])[c])[c]([c])[cH]', '[c][o][c]([c]([c])[CH3])[c]([cH])[c]', '[cH][c]([N])[cH][c]([cH])[Cl]', '[c][cH][cH][cH][c]', '[c][cH][c]([c]([c])[cH])[c]([c])[o]', '[cH][cH][c]([c](=[O])[o])[c]([c])[cH]', '[c][o][c](=[O])[c]([cH])[c]', '[c][c](=[O])[o][c]([c])[c]', '[c][N]([CH2])[CH2][c]([c])[cH]', '[cH][cH][c]([cH][c])[N]([CH2])[CH2]', '[c][O][CH2][N]([c])[CH2]', '[c][cH][c]([CH2][N])[c]([c])[O]', '[c][c]([c])[O][CH2][N]', '[c][CH2][N]([CH2][O])[c]([cH])[cH]', '[cH][cH][cH][c]([cH])[N]', '[c][cH][cH][cH][cH]', '[cH][c]([CH2])[c]([O][CH2])[c]([c])[CH3]', '[cH][cH][cH][c]([c])[c]'\""
      ]
     },
     "execution_count": 28,
     "metadata": {},
     "output_type": "execute_result"
    }
   ],
   "source": [
    "suppl_coco['Fragments'][1]"
   ]
  },
  {
   "cell_type": "code",
   "execution_count": 27,
   "id": "59eeed41-a00e-4a4a-bbb7-a674c3f4ad12",
   "metadata": {},
   "outputs": [
    {
     "data": {
      "text/plain": [
       "\"'[c][c]([CH2])[cH][c]([c])[c]', '[cH][cH][cH][cH][c]', '[c][c]([O])[c]([CH3])[c]([c])[o]', '[c][cH][c]([Cl])[cH][cH]', '[cH][cH][cH][c]([cH])[Cl]', '[cH][cH][c]([c]([cH])[c])[c]([c])[cH]', '[c][o][c]([c]([c])[CH3])[c]([cH])[c]', '[cH][c]([N])[cH][c]([cH])[Cl]', '[c][cH][cH][cH][c]', '[c][cH][c]([c]([c])[cH])[c]([c])[o]', '[cH][cH][c]([c](=[O])[o])[c]([c])[cH]', '[c][o][c](=[O])[c]([cH])[c]', '[c][c](=[O])[o][c]([c])[c]', '[c][N]([CH2])[CH2][c]([c])[cH]', '[cH][cH][c]([cH][c])[N]([CH2])[CH2]', '[c][O][CH2][N]([c])[CH2]', '[c][cH][c]([CH2][N])[c]([c])[O]', '[c][c]([c])[O][CH2][N]', '[c][CH2][N]([CH2][O])[c]([cH])[cH]', '[cH][cH][cH][c]([cH])[N]', '[c][cH][cH][cH][cH]', '[cH][c]([CH2])[c]([O][CH2])[c]([c])[CH3]', '[cH][cH][cH][c]([c])[c]'\""
      ]
     },
     "execution_count": 27,
     "metadata": {},
     "output_type": "execute_result"
    }
   ],
   "source": [
    "instance[1]"
   ]
  }
 ],
 "metadata": {
  "kernelspec": {
   "display_name": "Python 3 (ipykernel)",
   "language": "python",
   "name": "python3"
  },
  "language_info": {
   "codemirror_mode": {
    "name": "ipython",
    "version": 3
   },
   "file_extension": ".py",
   "mimetype": "text/x-python",
   "name": "python",
   "nbconvert_exporter": "python",
   "pygments_lexer": "ipython3",
   "version": "3.9.7"
  }
 },
 "nbformat": 4,
 "nbformat_minor": 5
}
