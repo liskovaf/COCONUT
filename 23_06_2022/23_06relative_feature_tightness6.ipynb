{
 "cells": [
  {
   "cell_type": "markdown",
   "id": "09cb58ba",
   "metadata": {
    "pycharm": {
     "name": "#%% md\n"
    }
   },
   "source": [
    "# Relative feature tightness using part 6 for test data"
   ]
  },
  {
   "cell_type": "code",
   "execution_count": 1,
   "id": "b7559bf4",
   "metadata": {
    "pycharm": {
     "name": "#%%\n"
    }
   },
   "outputs": [],
   "source": [
    "import pandas as pd\n",
    "import seaborn as sns\n",
    "import matplotlib.pyplot as plt\n",
    "import csv\n",
    "import numpy as np\n",
    "\n",
    "from ast import literal_eval\n",
    "import re\n",
    "import sys\n",
    "sys.path.insert(0,\"./../fip3\")\n",
    "from fip import profiles"
   ]
  },
  {
   "cell_type": "markdown",
   "id": "fc50f8f1",
   "metadata": {
    "pycharm": {
     "name": "#%% md\n"
    }
   },
   "source": [
    "## Dataset prep"
   ]
  },
  {
   "cell_type": "markdown",
   "id": "005b3e57",
   "metadata": {
    "pycharm": {
     "name": "#%% md\n"
    }
   },
   "source": [
    "### Making feature pointwise mutual information profiles"
   ]
  },
  {
   "cell_type": "code",
   "execution_count": 2,
   "id": "d60972a1-b5a0-4b6f-9c0e-9cf37fdb53f4",
   "metadata": {},
   "outputs": [],
   "source": [
    "profile0 = profiles.CooccurrenceProfile.from_dataframe(pd.read_csv('../data/CP1/COCONUT/COCOp0_38630.csv', dtype={'feature1': 'str','feature2' : 'str' }), vector_count=38630)\n",
    "profile1 = profiles.CooccurrenceProfile.from_dataframe(pd.read_csv('../data/CP1/COCONUT/COCOp1_38630.csv', dtype={'feature1': 'str','feature2' : 'str' }), vector_count=38630)\n",
    "profile2 = profiles.CooccurrenceProfile.from_dataframe(pd.read_csv('../data/CP1/COCONUT/COCOp2_38630.csv', dtype={'feature1': 'str','feature2' : 'str' }), vector_count=38630)\n",
    "profile3 = profiles.CooccurrenceProfile.from_dataframe(pd.read_csv('../data/CP1/COCONUT/COCOp3_38630.csv', dtype={'feature1': 'str','feature2' : 'str' }), vector_count=38630)\n",
    "profile4 = profiles.CooccurrenceProfile.from_dataframe(pd.read_csv('../data/CP1/COCONUT/COCOp4_38630.csv', dtype={'feature1': 'str','feature2' : 'str' }), vector_count=38630)\n",
    "profile5 = profiles.CooccurrenceProfile.from_dataframe(pd.read_csv('../data/CP1/COCONUT/COCOp5_38630.csv', dtype={'feature1': 'str','feature2' : 'str' }), vector_count=38630)\n",
    "profile7 = profiles.CooccurrenceProfile.from_dataframe(pd.read_csv('../data/CP1/COCONUT/COCOp7_38629.csv', dtype={'feature1': 'str','feature2' : 'str' }), vector_count=38629)\n",
    "profile8 = profiles.CooccurrenceProfile.from_dataframe(pd.read_csv('../data/CP1/COCONUT/COCOp8_38629.csv', dtype={'feature1': 'str','feature2' : 'str' }), vector_count=38629)\n",
    "profile9 = profiles.CooccurrenceProfile.from_dataframe(pd.read_csv('../data/CP1/COCONUT/COCOp9_38629.csv', dtype={'feature1': 'str','feature2' : 'str' }), vector_count=38629)"
   ]
  },
  {
   "cell_type": "code",
   "execution_count": 3,
   "id": "d928eb58-08cf-4743-8c58-7196f59da70b",
   "metadata": {},
   "outputs": [
    {
     "data": {
      "text/plain": [
       "<fip.profiles.CooccurrenceProfile at 0x7f2e7c0f5670>"
      ]
     },
     "execution_count": 3,
     "metadata": {},
     "output_type": "execute_result"
    }
   ],
   "source": [
    "profile0.add_another_cooccurrence_profile(profile1)\n",
    "profile0.add_another_cooccurrence_profile(profile2)\n",
    "profile0.add_another_cooccurrence_profile(profile3)\n",
    "profile0.add_another_cooccurrence_profile(profile4)\n",
    "profile0.add_another_cooccurrence_profile(profile5)\n",
    "profile0.add_another_cooccurrence_profile(profile7)\n",
    "profile0.add_another_cooccurrence_profile(profile8)\n",
    "profile0.add_another_cooccurrence_profile(profile9)"
   ]
  },
  {
   "cell_type": "code",
   "execution_count": 4,
   "id": "7147d116-0c36-4a62-8f6c-c1667667a7c9",
   "metadata": {},
   "outputs": [],
   "source": [
    "probability_profile = profiles.CooccurrenceProbabilityProfile.from_cooccurrence_profile(profile0)"
   ]
  },
  {
   "cell_type": "code",
   "execution_count": 5,
   "id": "f7dab206-f6a7-4d2b-9677-e7fab771e423",
   "metadata": {},
   "outputs": [],
   "source": [
    "pmi_profile = profiles.PointwiseMutualInformationProfile.from_cooccurrence_probability_profile(probability_profile)"
   ]
  },
  {
   "cell_type": "code",
   "execution_count": 6,
   "id": "d83c7314-5776-4b99-80cf-25536ba50afa",
   "metadata": {},
   "outputs": [],
   "source": [
    "reference_profile0 = profiles.CooccurrenceProfile.from_dataframe(pd.read_csv('../data/CP1/ZINC/ZINCp0_37902.csv', dtype={'feature1': 'str','feature2' : 'str' }), vector_count=37902)\n",
    "reference_profile1 = profiles.CooccurrenceProfile.from_dataframe(pd.read_csv('../data/CP1/ZINC/ZINCp1_37902.csv', dtype={'feature1': 'str','feature2' : 'str' }), vector_count=37902)\n",
    "reference_profile2 = profiles.CooccurrenceProfile.from_dataframe(pd.read_csv('../data/CP1/ZINC/ZINCp2_37901.csv', dtype={'feature1': 'str','feature2' : 'str' }), vector_count=37901)\n",
    "reference_profile3 = profiles.CooccurrenceProfile.from_dataframe(pd.read_csv('../data/CP1/ZINC/ZINCp3_37901.csv', dtype={'feature1': 'str','feature2' : 'str' }), vector_count=37901)\n",
    "reference_profile4 = profiles.CooccurrenceProfile.from_dataframe(pd.read_csv('../data/CP1/ZINC/ZINCp4_37901.csv', dtype={'feature1': 'str','feature2' : 'str' }), vector_count=37901)\n",
    "reference_profile5 = profiles.CooccurrenceProfile.from_dataframe(pd.read_csv('../data/CP1/ZINC/ZINCp5_37901.csv', dtype={'feature1': 'str','feature2' : 'str' }), vector_count=37901)\n",
    "reference_profile7 = profiles.CooccurrenceProfile.from_dataframe(pd.read_csv('../data/CP1/ZINC/ZINCp7_37901.csv', dtype={'feature1': 'str','feature2' : 'str' }), vector_count=37901)\n",
    "reference_profile8 = profiles.CooccurrenceProfile.from_dataframe(pd.read_csv('../data/CP1/ZINC/ZINCp8_37901.csv', dtype={'feature1': 'str','feature2' : 'str' }), vector_count=37901)\n",
    "reference_profile9 = profiles.CooccurrenceProfile.from_dataframe(pd.read_csv('../data/CP1/ZINC/ZINCp9_37901.csv', dtype={'feature1': 'str','feature2' : 'str' }), vector_count=37901)"
   ]
  },
  {
   "cell_type": "code",
   "execution_count": 7,
   "id": "3e7d1500-bc9f-424d-8be0-5a3c575b0dc8",
   "metadata": {},
   "outputs": [
    {
     "data": {
      "text/plain": [
       "<fip.profiles.CooccurrenceProfile at 0x7f2e7c0fc820>"
      ]
     },
     "execution_count": 7,
     "metadata": {},
     "output_type": "execute_result"
    }
   ],
   "source": [
    "reference_profile0.add_another_cooccurrence_profile(reference_profile1)\n",
    "reference_profile0.add_another_cooccurrence_profile(reference_profile2)\n",
    "reference_profile0.add_another_cooccurrence_profile(reference_profile3)\n",
    "reference_profile0.add_another_cooccurrence_profile(reference_profile4)\n",
    "reference_profile0.add_another_cooccurrence_profile(reference_profile5)\n",
    "reference_profile0.add_another_cooccurrence_profile(reference_profile7)\n",
    "reference_profile0.add_another_cooccurrence_profile(reference_profile8)\n",
    "reference_profile0.add_another_cooccurrence_profile(reference_profile9)"
   ]
  },
  {
   "cell_type": "code",
   "execution_count": 8,
   "id": "bbffde8b-6839-461a-8a68-8e466d80b123",
   "metadata": {},
   "outputs": [],
   "source": [
    "reference_probability_profile = profiles.CooccurrenceProbabilityProfile.from_cooccurrence_profile(reference_profile0)"
   ]
  },
  {
   "cell_type": "code",
   "execution_count": 9,
   "id": "ae1fcc8e-72fa-4bd9-9fa8-a28a87077b9f",
   "metadata": {},
   "outputs": [],
   "source": [
    "reference_pmi_profile = profiles.PointwiseMutualInformationProfile.from_cooccurrence_probability_profile(reference_probability_profile)"
   ]
  },
  {
   "cell_type": "markdown",
   "id": "8141d215",
   "metadata": {
    "pycharm": {
     "name": "#%% md\n"
    }
   },
   "source": [
    "### Making feature pointwise KL divergence profile between COCONUT and ZINC"
   ]
  },
  {
   "cell_type": "code",
   "execution_count": 10,
   "id": "e2da7160",
   "metadata": {
    "pycharm": {
     "name": "#%%\n"
    }
   },
   "outputs": [
    {
     "data": {
      "text/html": [
       "<div>\n",
       "<style scoped>\n",
       "    .dataframe tbody tr th:only-of-type {\n",
       "        vertical-align: middle;\n",
       "    }\n",
       "\n",
       "    .dataframe tbody tr th {\n",
       "        vertical-align: top;\n",
       "    }\n",
       "\n",
       "    .dataframe thead th {\n",
       "        text-align: right;\n",
       "    }\n",
       "</style>\n",
       "<table border=\"1\" class=\"dataframe\">\n",
       "  <thead>\n",
       "    <tr style=\"text-align: right;\">\n",
       "      <th></th>\n",
       "      <th></th>\n",
       "      <th>value</th>\n",
       "    </tr>\n",
       "    <tr>\n",
       "      <th>feature1</th>\n",
       "      <th>feature2</th>\n",
       "      <th></th>\n",
       "    </tr>\n",
       "  </thead>\n",
       "  <tbody>\n",
       "    <tr>\n",
       "      <th rowspan=\"5\" valign=\"top\">0</th>\n",
       "      <th>0</th>\n",
       "      <td>2.034078</td>\n",
       "    </tr>\n",
       "    <tr>\n",
       "      <th>1</th>\n",
       "      <td>2.827425</td>\n",
       "    </tr>\n",
       "    <tr>\n",
       "      <th>10</th>\n",
       "      <td>4.464388</td>\n",
       "    </tr>\n",
       "    <tr>\n",
       "      <th>100</th>\n",
       "      <td>5.496101</td>\n",
       "    </tr>\n",
       "    <tr>\n",
       "      <th>1000</th>\n",
       "      <td>3.364853</td>\n",
       "    </tr>\n",
       "    <tr>\n",
       "      <th>...</th>\n",
       "      <th>...</th>\n",
       "      <td>...</td>\n",
       "    </tr>\n",
       "    <tr>\n",
       "      <th>928</th>\n",
       "      <th>972</th>\n",
       "      <td>-0.027469</td>\n",
       "    </tr>\n",
       "    <tr>\n",
       "      <th>939</th>\n",
       "      <th>986</th>\n",
       "      <td>-0.027469</td>\n",
       "    </tr>\n",
       "    <tr>\n",
       "      <th>952</th>\n",
       "      <th>982</th>\n",
       "      <td>-3.349397</td>\n",
       "    </tr>\n",
       "    <tr>\n",
       "      <th>959</th>\n",
       "      <th>995</th>\n",
       "      <td>-0.027469</td>\n",
       "    </tr>\n",
       "    <tr>\n",
       "      <th>968</th>\n",
       "      <th>990</th>\n",
       "      <td>-3.612432</td>\n",
       "    </tr>\n",
       "  </tbody>\n",
       "</table>\n",
       "<p>2098010 rows × 1 columns</p>\n",
       "</div>"
      ],
      "text/plain": [
       "                      value\n",
       "feature1 feature2          \n",
       "0        0         2.034078\n",
       "         1         2.827425\n",
       "         10        4.464388\n",
       "         100       5.496101\n",
       "         1000      3.364853\n",
       "...                     ...\n",
       "928      972      -0.027469\n",
       "939      986      -0.027469\n",
       "952      982      -3.349397\n",
       "959      995      -0.027469\n",
       "968      990      -3.612432\n",
       "\n",
       "[2098010 rows x 1 columns]"
      ]
     },
     "execution_count": 10,
     "metadata": {},
     "output_type": "execute_result"
    }
   ],
   "source": [
    "difference_pkld_profile = profiles.PointwiseKLDivergenceProfile.from_cooccurrence_probability_profiles(\n",
    "    probability_profile, reference_probability_profile)\n",
    "difference_pkld_profile.df"
   ]
  },
  {
   "cell_type": "markdown",
   "id": "280a3dd8",
   "metadata": {
    "pycharm": {
     "name": "#%% md\n"
    }
   },
   "source": [
    "### Sampling structures from COCONUT and ZINC datasets"
   ]
  },
  {
   "cell_type": "code",
   "execution_count": 11,
   "id": "212cd152",
   "metadata": {
    "pycharm": {
     "name": "#%%\n"
    }
   },
   "outputs": [],
   "source": [
    "coconut_samples = pd.read_csv('../data/CP1/COCONUT/COCOrandom.csv', delimiter = ' ')\n",
    "coconut_samples = coconut_samples.drop(['Coconut_id'], axis=1)\n",
    "coconut_samples['Name'] = 'COCONUT'"
   ]
  },
  {
   "cell_type": "code",
   "execution_count": 12,
   "id": "95627151-b248-427d-a494-4f84494aa1d6",
   "metadata": {},
   "outputs": [],
   "source": [
    "df_split_coco = np.array_split(coconut_samples, 10)"
   ]
  },
  {
   "cell_type": "code",
   "execution_count": 13,
   "id": "13b1766b-989b-4995-950c-e7f7bbe1f5fd",
   "metadata": {},
   "outputs": [
    {
     "data": {
      "text/html": [
       "<div>\n",
       "<style scoped>\n",
       "    .dataframe tbody tr th:only-of-type {\n",
       "        vertical-align: middle;\n",
       "    }\n",
       "\n",
       "    .dataframe tbody tr th {\n",
       "        vertical-align: top;\n",
       "    }\n",
       "\n",
       "    .dataframe thead th {\n",
       "        text-align: right;\n",
       "    }\n",
       "</style>\n",
       "<table border=\"1\" class=\"dataframe\">\n",
       "  <thead>\n",
       "    <tr style=\"text-align: right;\">\n",
       "      <th></th>\n",
       "      <th>Smiles</th>\n",
       "      <th>MW</th>\n",
       "      <th>logP</th>\n",
       "      <th>Inchi</th>\n",
       "      <th>Inchi_s</th>\n",
       "      <th>Name</th>\n",
       "      <th>ECFP</th>\n",
       "      <th>Bitset</th>\n",
       "    </tr>\n",
       "  </thead>\n",
       "  <tbody>\n",
       "    <tr>\n",
       "      <th>231780</th>\n",
       "      <td>COc1ccc(CCNC(=O)NC2CCCc3c2[nH]c2ccccc32)cc1OC</td>\n",
       "      <td>393.205242</td>\n",
       "      <td>4.1044</td>\n",
       "      <td>CIADASUGTCFGAR-UHFFFAOYSA-N</td>\n",
       "      <td>CIADASUGTCFGAR</td>\n",
       "      <td>COCONUT</td>\n",
       "      <td>&lt;rdkit.DataStructs.cDataStructs.ExplicitBitVec...</td>\n",
       "      <td>[80, 94, 98, 104, 119, 140, 197, 249, 285, 310...</td>\n",
       "    </tr>\n",
       "    <tr>\n",
       "      <th>231781</th>\n",
       "      <td>CC(=CC(=O)O)C1C(C)=CC2CC(C)CCC2C1(C)C(O)=C1C(=...</td>\n",
       "      <td>477.251523</td>\n",
       "      <td>4.7744</td>\n",
       "      <td>LFSBABSKEGZWJN-UHFFFAOYSA-N</td>\n",
       "      <td>LFSBABSKEGZWJN</td>\n",
       "      <td>COCONUT</td>\n",
       "      <td>&lt;rdkit.DataStructs.cDataStructs.ExplicitBitVec...</td>\n",
       "      <td>[80, 115, 171, 241, 276, 284, 301, 314, 385, 3...</td>\n",
       "    </tr>\n",
       "    <tr>\n",
       "      <th>231782</th>\n",
       "      <td>C=C1C(O)CC2C(C)(COC(C)=O)CC(O)CC2(C)C1CCC(C)=C...</td>\n",
       "      <td>464.313789</td>\n",
       "      <td>4.5858</td>\n",
       "      <td>PQCWDDLBWXLLJD-UHFFFAOYSA-N</td>\n",
       "      <td>PQCWDDLBWXLLJD</td>\n",
       "      <td>COCONUT</td>\n",
       "      <td>&lt;rdkit.DataStructs.cDataStructs.ExplicitBitVec...</td>\n",
       "      <td>[1, 35, 43, 56, 68, 80, 147, 184, 283, 285, 29...</td>\n",
       "    </tr>\n",
       "    <tr>\n",
       "      <th>231783</th>\n",
       "      <td>O=C(C=Cc1cc(O)c(O)cc1C=Cc1cc(O)c(O)cc1CCCO)OC(...</td>\n",
       "      <td>551.155885</td>\n",
       "      <td>1.9331</td>\n",
       "      <td>KRPZIDMIHPFYRP-UHFFFAOYSA-M</td>\n",
       "      <td>KRPZIDMIHPFYRP</td>\n",
       "      <td>COCONUT</td>\n",
       "      <td>&lt;rdkit.DataStructs.cDataStructs.ExplicitBitVec...</td>\n",
       "      <td>[1, 31, 69, 79, 80, 144, 176, 180, 193, 205, 2...</td>\n",
       "    </tr>\n",
       "    <tr>\n",
       "      <th>231784</th>\n",
       "      <td>CC1(C)OC2CC(CO)OC2O1</td>\n",
       "      <td>174.089209</td>\n",
       "      <td>0.2452</td>\n",
       "      <td>CGUKUJDDXZARJQ-UHFFFAOYSA-N</td>\n",
       "      <td>CGUKUJDDXZARJQ</td>\n",
       "      <td>COCONUT</td>\n",
       "      <td>&lt;rdkit.DataStructs.cDataStructs.ExplicitBitVec...</td>\n",
       "      <td>[72, 80, 222, 656, 707, 807, 924, 926, 1019, 1...</td>\n",
       "    </tr>\n",
       "    <tr>\n",
       "      <th>...</th>\n",
       "      <td>...</td>\n",
       "      <td>...</td>\n",
       "      <td>...</td>\n",
       "      <td>...</td>\n",
       "      <td>...</td>\n",
       "      <td>...</td>\n",
       "      <td>...</td>\n",
       "      <td>...</td>\n",
       "    </tr>\n",
       "    <tr>\n",
       "      <th>270405</th>\n",
       "      <td>COc1cc(O)c(CCC(=O)c2ccc(O)c(OC)c2)c(OC)c1</td>\n",
       "      <td>332.125988</td>\n",
       "      <td>2.9391</td>\n",
       "      <td>GPKHOPXMGBTRQX-UHFFFAOYSA-N</td>\n",
       "      <td>GPKHOPXMGBTRQX</td>\n",
       "      <td>COCONUT</td>\n",
       "      <td>&lt;rdkit.DataStructs.cDataStructs.ExplicitBitVec...</td>\n",
       "      <td>[2, 80, 104, 249, 322, 428, 614, 635, 650, 679...</td>\n",
       "    </tr>\n",
       "    <tr>\n",
       "      <th>270406</th>\n",
       "      <td>O=C1CCc2cc(c(O)c(OC3CCCC3)c2)Cc2cccc(c2)C2CCC(...</td>\n",
       "      <td>829.410184</td>\n",
       "      <td>9.4899</td>\n",
       "      <td>JXGZPMZIVFFKHB-UHFFFAOYSA-N</td>\n",
       "      <td>JXGZPMZIVFFKHB</td>\n",
       "      <td>COCONUT</td>\n",
       "      <td>&lt;rdkit.DataStructs.cDataStructs.ExplicitBitVec...</td>\n",
       "      <td>[3, 8, 39, 80, 84, 106, 119, 142, 148, 200, 20...</td>\n",
       "    </tr>\n",
       "    <tr>\n",
       "      <th>270407</th>\n",
       "      <td>C=CC1(C)C=C2C(=O)CC3C(C)(C)CCCC3(C)C2C(=O)C1</td>\n",
       "      <td>300.208930</td>\n",
       "      <td>4.4995</td>\n",
       "      <td>TVYGAJGRAAEXLR-UHFFFAOYSA-N</td>\n",
       "      <td>TVYGAJGRAAEXLR</td>\n",
       "      <td>COCONUT</td>\n",
       "      <td>&lt;rdkit.DataStructs.cDataStructs.ExplicitBitVec...</td>\n",
       "      <td>[47, 86, 178, 231, 314, 333, 370, 478, 513, 56...</td>\n",
       "    </tr>\n",
       "    <tr>\n",
       "      <th>270408</th>\n",
       "      <td>COc1cccc(CN2CCC(C)(O)C(NC(=O)C3CCCC3)C2c2ccccc...</td>\n",
       "      <td>422.256943</td>\n",
       "      <td>4.0682</td>\n",
       "      <td>OPBNGPDDNDPFDF-UHFFFAOYSA-N</td>\n",
       "      <td>OPBNGPDDNDPFDF</td>\n",
       "      <td>COCONUT</td>\n",
       "      <td>&lt;rdkit.DataStructs.cDataStructs.ExplicitBitVec...</td>\n",
       "      <td>[80, 322, 387, 389, 511, 541, 559, 562, 570, 6...</td>\n",
       "    </tr>\n",
       "    <tr>\n",
       "      <th>270409</th>\n",
       "      <td>C=C1CCC2C(C)(C(=O)O)CCCC2(C)C1CCC1=CC(=O)OC1</td>\n",
       "      <td>332.198759</td>\n",
       "      <td>4.1133</td>\n",
       "      <td>QFOOQUGGHZNYTN-UHFFFAOYSA-N</td>\n",
       "      <td>QFOOQUGGHZNYTN</td>\n",
       "      <td>COCONUT</td>\n",
       "      <td>&lt;rdkit.DataStructs.cDataStructs.ExplicitBitVec...</td>\n",
       "      <td>[35, 55, 80, 84, 95, 104, 109, 184, 186, 223, ...</td>\n",
       "    </tr>\n",
       "  </tbody>\n",
       "</table>\n",
       "<p>38630 rows × 8 columns</p>\n",
       "</div>"
      ],
      "text/plain": [
       "                                                   Smiles          MW    logP  \\\n",
       "231780      COc1ccc(CCNC(=O)NC2CCCc3c2[nH]c2ccccc32)cc1OC  393.205242  4.1044   \n",
       "231781  CC(=CC(=O)O)C1C(C)=CC2CC(C)CCC2C1(C)C(O)=C1C(=...  477.251523  4.7744   \n",
       "231782  C=C1C(O)CC2C(C)(COC(C)=O)CC(O)CC2(C)C1CCC(C)=C...  464.313789  4.5858   \n",
       "231783  O=C(C=Cc1cc(O)c(O)cc1C=Cc1cc(O)c(O)cc1CCCO)OC(...  551.155885  1.9331   \n",
       "231784                               CC1(C)OC2CC(CO)OC2O1  174.089209  0.2452   \n",
       "...                                                   ...         ...     ...   \n",
       "270405          COc1cc(O)c(CCC(=O)c2ccc(O)c(OC)c2)c(OC)c1  332.125988  2.9391   \n",
       "270406  O=C1CCc2cc(c(O)c(OC3CCCC3)c2)Cc2cccc(c2)C2CCC(...  829.410184  9.4899   \n",
       "270407       C=CC1(C)C=C2C(=O)CC3C(C)(C)CCCC3(C)C2C(=O)C1  300.208930  4.4995   \n",
       "270408  COc1cccc(CN2CCC(C)(O)C(NC(=O)C3CCCC3)C2c2ccccc...  422.256943  4.0682   \n",
       "270409       C=C1CCC2C(C)(C(=O)O)CCCC2(C)C1CCC1=CC(=O)OC1  332.198759  4.1133   \n",
       "\n",
       "                              Inchi         Inchi_s     Name  \\\n",
       "231780  CIADASUGTCFGAR-UHFFFAOYSA-N  CIADASUGTCFGAR  COCONUT   \n",
       "231781  LFSBABSKEGZWJN-UHFFFAOYSA-N  LFSBABSKEGZWJN  COCONUT   \n",
       "231782  PQCWDDLBWXLLJD-UHFFFAOYSA-N  PQCWDDLBWXLLJD  COCONUT   \n",
       "231783  KRPZIDMIHPFYRP-UHFFFAOYSA-M  KRPZIDMIHPFYRP  COCONUT   \n",
       "231784  CGUKUJDDXZARJQ-UHFFFAOYSA-N  CGUKUJDDXZARJQ  COCONUT   \n",
       "...                             ...             ...      ...   \n",
       "270405  GPKHOPXMGBTRQX-UHFFFAOYSA-N  GPKHOPXMGBTRQX  COCONUT   \n",
       "270406  JXGZPMZIVFFKHB-UHFFFAOYSA-N  JXGZPMZIVFFKHB  COCONUT   \n",
       "270407  TVYGAJGRAAEXLR-UHFFFAOYSA-N  TVYGAJGRAAEXLR  COCONUT   \n",
       "270408  OPBNGPDDNDPFDF-UHFFFAOYSA-N  OPBNGPDDNDPFDF  COCONUT   \n",
       "270409  QFOOQUGGHZNYTN-UHFFFAOYSA-N  QFOOQUGGHZNYTN  COCONUT   \n",
       "\n",
       "                                                     ECFP  \\\n",
       "231780  <rdkit.DataStructs.cDataStructs.ExplicitBitVec...   \n",
       "231781  <rdkit.DataStructs.cDataStructs.ExplicitBitVec...   \n",
       "231782  <rdkit.DataStructs.cDataStructs.ExplicitBitVec...   \n",
       "231783  <rdkit.DataStructs.cDataStructs.ExplicitBitVec...   \n",
       "231784  <rdkit.DataStructs.cDataStructs.ExplicitBitVec...   \n",
       "...                                                   ...   \n",
       "270405  <rdkit.DataStructs.cDataStructs.ExplicitBitVec...   \n",
       "270406  <rdkit.DataStructs.cDataStructs.ExplicitBitVec...   \n",
       "270407  <rdkit.DataStructs.cDataStructs.ExplicitBitVec...   \n",
       "270408  <rdkit.DataStructs.cDataStructs.ExplicitBitVec...   \n",
       "270409  <rdkit.DataStructs.cDataStructs.ExplicitBitVec...   \n",
       "\n",
       "                                                   Bitset  \n",
       "231780  [80, 94, 98, 104, 119, 140, 197, 249, 285, 310...  \n",
       "231781  [80, 115, 171, 241, 276, 284, 301, 314, 385, 3...  \n",
       "231782  [1, 35, 43, 56, 68, 80, 147, 184, 283, 285, 29...  \n",
       "231783  [1, 31, 69, 79, 80, 144, 176, 180, 193, 205, 2...  \n",
       "231784  [72, 80, 222, 656, 707, 807, 924, 926, 1019, 1...  \n",
       "...                                                   ...  \n",
       "270405  [2, 80, 104, 249, 322, 428, 614, 635, 650, 679...  \n",
       "270406  [3, 8, 39, 80, 84, 106, 119, 142, 148, 200, 20...  \n",
       "270407  [47, 86, 178, 231, 314, 333, 370, 478, 513, 56...  \n",
       "270408  [80, 322, 387, 389, 511, 541, 559, 562, 570, 6...  \n",
       "270409  [35, 55, 80, 84, 95, 104, 109, 184, 186, 223, ...  \n",
       "\n",
       "[38630 rows x 8 columns]"
      ]
     },
     "execution_count": 13,
     "metadata": {},
     "output_type": "execute_result"
    }
   ],
   "source": [
    "df_split_coco[6]"
   ]
  },
  {
   "cell_type": "code",
   "execution_count": 14,
   "id": "f7ed85f8",
   "metadata": {
    "pycharm": {
     "name": "#%%\n"
    }
   },
   "outputs": [],
   "source": [
    "zinc_samples = pd.read_csv('../data/CP1/ZINC/ZINCrandom.csv', delimiter = ' ')\n",
    "zinc_samples = zinc_samples.drop(['Zinc_id'], axis=1)"
   ]
  },
  {
   "cell_type": "code",
   "execution_count": 15,
   "id": "f90fed46-cb6b-47c0-9dd3-a66ef9ee60d8",
   "metadata": {},
   "outputs": [
    {
     "data": {
      "text/html": [
       "<div>\n",
       "<style scoped>\n",
       "    .dataframe tbody tr th:only-of-type {\n",
       "        vertical-align: middle;\n",
       "    }\n",
       "\n",
       "    .dataframe tbody tr th {\n",
       "        vertical-align: top;\n",
       "    }\n",
       "\n",
       "    .dataframe thead th {\n",
       "        text-align: right;\n",
       "    }\n",
       "</style>\n",
       "<table border=\"1\" class=\"dataframe\">\n",
       "  <thead>\n",
       "    <tr style=\"text-align: right;\">\n",
       "      <th></th>\n",
       "      <th>Smiles</th>\n",
       "      <th>MW</th>\n",
       "      <th>logP</th>\n",
       "      <th>Inchi</th>\n",
       "      <th>Inchi_s</th>\n",
       "      <th>Name</th>\n",
       "      <th>ECFP</th>\n",
       "      <th>Bitset</th>\n",
       "    </tr>\n",
       "  </thead>\n",
       "  <tbody>\n",
       "    <tr>\n",
       "      <th>227408</th>\n",
       "      <td>CCOC(=O)c1cccc(NC(=O)[C@H](C)Oc2ccccc2OC)c1C</td>\n",
       "      <td>357.157623</td>\n",
       "      <td>3.58632</td>\n",
       "      <td>BRURSKIHKPKWSB-AWEZNQCLSA-N</td>\n",
       "      <td>BRURSKIHKPKWSB</td>\n",
       "      <td>ZINC</td>\n",
       "      <td>&lt;rdkit.DataStructs.cDataStructs.ExplicitBitVec...</td>\n",
       "      <td>[1, 80, 140, 145, 147, 249, 252, 283, 294, 410...</td>\n",
       "    </tr>\n",
       "    <tr>\n",
       "      <th>227409</th>\n",
       "      <td>C[C@@H](OC(=O)CCc1ncc(-c2c(F)cccc2F)o1)C(=O)Nc...</td>\n",
       "      <td>468.110848</td>\n",
       "      <td>5.14160</td>\n",
       "      <td>GDMUWRYMXSPWHN-GFCCVEGCSA-N</td>\n",
       "      <td>GDMUWRYMXSPWHN</td>\n",
       "      <td>ZINC</td>\n",
       "      <td>&lt;rdkit.DataStructs.cDataStructs.ExplicitBitVec...</td>\n",
       "      <td>[1, 45, 69, 80, 114, 121, 126, 191, 283, 378, ...</td>\n",
       "    </tr>\n",
       "    <tr>\n",
       "      <th>227410</th>\n",
       "      <td>Cc1cccc(N(CC(=O)NCCOc2ccc(S(=O)(=O)N3CCCCC3)cc...</td>\n",
       "      <td>523.181078</td>\n",
       "      <td>2.43924</td>\n",
       "      <td>ZYEIVLJWTYAKDB-UHFFFAOYSA-N</td>\n",
       "      <td>ZYEIVLJWTYAKDB</td>\n",
       "      <td>ZINC</td>\n",
       "      <td>&lt;rdkit.DataStructs.cDataStructs.ExplicitBitVec...</td>\n",
       "      <td>[2, 13, 41, 80, 81, 102, 197, 252, 319, 322, 3...</td>\n",
       "    </tr>\n",
       "    <tr>\n",
       "      <th>227411</th>\n",
       "      <td>C[C@H]1C[C@H](C)CN(c2nnc(-c3cn(CCCC#N)nn3)n2C)C1</td>\n",
       "      <td>328.212393</td>\n",
       "      <td>1.85968</td>\n",
       "      <td>QNSJXCMZINRKQF-STQMWFEESA-N</td>\n",
       "      <td>QNSJXCMZINRKQF</td>\n",
       "      <td>ZINC</td>\n",
       "      <td>&lt;rdkit.DataStructs.cDataStructs.ExplicitBitVec...</td>\n",
       "      <td>[1, 80, 192, 244, 281, 378, 407, 413, 421, 437...</td>\n",
       "    </tr>\n",
       "    <tr>\n",
       "      <th>227412</th>\n",
       "      <td>CC(=O)c1cccc(NC(=O)Cn2c(=O)n(CCC(=O)N3CCCCC3)c...</td>\n",
       "      <td>482.162391</td>\n",
       "      <td>2.46860</td>\n",
       "      <td>ZEMJFQNSWYWWPM-UHFFFAOYSA-N</td>\n",
       "      <td>ZEMJFQNSWYWWPM</td>\n",
       "      <td>ZINC</td>\n",
       "      <td>&lt;rdkit.DataStructs.cDataStructs.ExplicitBitVec...</td>\n",
       "      <td>[2, 14, 41, 45, 80, 131, 184, 191, 314, 360, 3...</td>\n",
       "    </tr>\n",
       "    <tr>\n",
       "      <th>...</th>\n",
       "      <td>...</td>\n",
       "      <td>...</td>\n",
       "      <td>...</td>\n",
       "      <td>...</td>\n",
       "      <td>...</td>\n",
       "      <td>...</td>\n",
       "      <td>...</td>\n",
       "      <td>...</td>\n",
       "    </tr>\n",
       "    <tr>\n",
       "      <th>265304</th>\n",
       "      <td>CC[C@H](C(=O)NC(C)C)N(Cc1ccc(OC)cc1)C(=O)CN(c1...</td>\n",
       "      <td>565.261042</td>\n",
       "      <td>4.83934</td>\n",
       "      <td>ANRHNCDPFQOYRE-GDLZYMKVSA-N</td>\n",
       "      <td>ANRHNCDPFQOYRE</td>\n",
       "      <td>ZINC</td>\n",
       "      <td>&lt;rdkit.DataStructs.cDataStructs.ExplicitBitVec...</td>\n",
       "      <td>[1, 80, 117, 235, 271, 283, 288, 294, 310, 319...</td>\n",
       "    </tr>\n",
       "    <tr>\n",
       "      <th>265305</th>\n",
       "      <td>Cc1cccc(CNC(=O)Cc2ccc(-c3ccccc3)cc2)c1</td>\n",
       "      <td>315.162314</td>\n",
       "      <td>4.52092</td>\n",
       "      <td>PETCLXICKQDPIK-UHFFFAOYSA-N</td>\n",
       "      <td>PETCLXICKQDPIK</td>\n",
       "      <td>ZINC</td>\n",
       "      <td>&lt;rdkit.DataStructs.cDataStructs.ExplicitBitVec...</td>\n",
       "      <td>[41, 80, 197, 255, 310, 325, 333, 389, 650, 73...</td>\n",
       "    </tr>\n",
       "    <tr>\n",
       "      <th>265306</th>\n",
       "      <td>CC(C)NC(=O)CSc1ncc(-c2ccc(Cl)c(Cl)c2)n1-c1ccc(...</td>\n",
       "      <td>503.044888</td>\n",
       "      <td>6.36140</td>\n",
       "      <td>OMJQFCFHDPZUOF-UHFFFAOYSA-N</td>\n",
       "      <td>OMJQFCFHDPZUOF</td>\n",
       "      <td>ZINC</td>\n",
       "      <td>&lt;rdkit.DataStructs.cDataStructs.ExplicitBitVec...</td>\n",
       "      <td>[1, 41, 58, 80, 114, 116, 117, 145, 233, 283, ...</td>\n",
       "    </tr>\n",
       "    <tr>\n",
       "      <th>265307</th>\n",
       "      <td>CC(=O)N1CC[C@@H](O)[C@@H]2[C@@H](C1)N(Cc1ccncc...</td>\n",
       "      <td>365.210327</td>\n",
       "      <td>2.27890</td>\n",
       "      <td>UGZNCYDSZIWMCF-CBPXPLCBSA-N</td>\n",
       "      <td>UGZNCYDSZIWMCF</td>\n",
       "      <td>ZINC</td>\n",
       "      <td>&lt;rdkit.DataStructs.cDataStructs.ExplicitBitVec...</td>\n",
       "      <td>[80, 378, 383, 389, 455, 493, 570, 573, 650, 6...</td>\n",
       "    </tr>\n",
       "    <tr>\n",
       "      <th>265308</th>\n",
       "      <td>Cn1nc(C2CN(C[C@]3(O)CN(S(=O)(=O)c4ccccc4)C[C@H...</td>\n",
       "      <td>444.157974</td>\n",
       "      <td>-0.44100</td>\n",
       "      <td>SICYCRIERWSOTP-UZLBHIALSA-N</td>\n",
       "      <td>SICYCRIERWSOTP</td>\n",
       "      <td>ZINC</td>\n",
       "      <td>&lt;rdkit.DataStructs.cDataStructs.ExplicitBitVec...</td>\n",
       "      <td>[29, 37, 69, 80, 98, 319, 333, 350, 374, 378, ...</td>\n",
       "    </tr>\n",
       "  </tbody>\n",
       "</table>\n",
       "<p>37901 rows × 8 columns</p>\n",
       "</div>"
      ],
      "text/plain": [
       "                                                   Smiles          MW  \\\n",
       "227408       CCOC(=O)c1cccc(NC(=O)[C@H](C)Oc2ccccc2OC)c1C  357.157623   \n",
       "227409  C[C@@H](OC(=O)CCc1ncc(-c2c(F)cccc2F)o1)C(=O)Nc...  468.110848   \n",
       "227410  Cc1cccc(N(CC(=O)NCCOc2ccc(S(=O)(=O)N3CCCCC3)cc...  523.181078   \n",
       "227411   C[C@H]1C[C@H](C)CN(c2nnc(-c3cn(CCCC#N)nn3)n2C)C1  328.212393   \n",
       "227412  CC(=O)c1cccc(NC(=O)Cn2c(=O)n(CCC(=O)N3CCCCC3)c...  482.162391   \n",
       "...                                                   ...         ...   \n",
       "265304  CC[C@H](C(=O)NC(C)C)N(Cc1ccc(OC)cc1)C(=O)CN(c1...  565.261042   \n",
       "265305             Cc1cccc(CNC(=O)Cc2ccc(-c3ccccc3)cc2)c1  315.162314   \n",
       "265306  CC(C)NC(=O)CSc1ncc(-c2ccc(Cl)c(Cl)c2)n1-c1ccc(...  503.044888   \n",
       "265307  CC(=O)N1CC[C@@H](O)[C@@H]2[C@@H](C1)N(Cc1ccncc...  365.210327   \n",
       "265308  Cn1nc(C2CN(C[C@]3(O)CN(S(=O)(=O)c4ccccc4)C[C@H...  444.157974   \n",
       "\n",
       "           logP                        Inchi         Inchi_s  Name  \\\n",
       "227408  3.58632  BRURSKIHKPKWSB-AWEZNQCLSA-N  BRURSKIHKPKWSB  ZINC   \n",
       "227409  5.14160  GDMUWRYMXSPWHN-GFCCVEGCSA-N  GDMUWRYMXSPWHN  ZINC   \n",
       "227410  2.43924  ZYEIVLJWTYAKDB-UHFFFAOYSA-N  ZYEIVLJWTYAKDB  ZINC   \n",
       "227411  1.85968  QNSJXCMZINRKQF-STQMWFEESA-N  QNSJXCMZINRKQF  ZINC   \n",
       "227412  2.46860  ZEMJFQNSWYWWPM-UHFFFAOYSA-N  ZEMJFQNSWYWWPM  ZINC   \n",
       "...         ...                          ...             ...   ...   \n",
       "265304  4.83934  ANRHNCDPFQOYRE-GDLZYMKVSA-N  ANRHNCDPFQOYRE  ZINC   \n",
       "265305  4.52092  PETCLXICKQDPIK-UHFFFAOYSA-N  PETCLXICKQDPIK  ZINC   \n",
       "265306  6.36140  OMJQFCFHDPZUOF-UHFFFAOYSA-N  OMJQFCFHDPZUOF  ZINC   \n",
       "265307  2.27890  UGZNCYDSZIWMCF-CBPXPLCBSA-N  UGZNCYDSZIWMCF  ZINC   \n",
       "265308 -0.44100  SICYCRIERWSOTP-UZLBHIALSA-N  SICYCRIERWSOTP  ZINC   \n",
       "\n",
       "                                                     ECFP  \\\n",
       "227408  <rdkit.DataStructs.cDataStructs.ExplicitBitVec...   \n",
       "227409  <rdkit.DataStructs.cDataStructs.ExplicitBitVec...   \n",
       "227410  <rdkit.DataStructs.cDataStructs.ExplicitBitVec...   \n",
       "227411  <rdkit.DataStructs.cDataStructs.ExplicitBitVec...   \n",
       "227412  <rdkit.DataStructs.cDataStructs.ExplicitBitVec...   \n",
       "...                                                   ...   \n",
       "265304  <rdkit.DataStructs.cDataStructs.ExplicitBitVec...   \n",
       "265305  <rdkit.DataStructs.cDataStructs.ExplicitBitVec...   \n",
       "265306  <rdkit.DataStructs.cDataStructs.ExplicitBitVec...   \n",
       "265307  <rdkit.DataStructs.cDataStructs.ExplicitBitVec...   \n",
       "265308  <rdkit.DataStructs.cDataStructs.ExplicitBitVec...   \n",
       "\n",
       "                                                   Bitset  \n",
       "227408  [1, 80, 140, 145, 147, 249, 252, 283, 294, 410...  \n",
       "227409  [1, 45, 69, 80, 114, 121, 126, 191, 283, 378, ...  \n",
       "227410  [2, 13, 41, 80, 81, 102, 197, 252, 319, 322, 3...  \n",
       "227411  [1, 80, 192, 244, 281, 378, 407, 413, 421, 437...  \n",
       "227412  [2, 14, 41, 45, 80, 131, 184, 191, 314, 360, 3...  \n",
       "...                                                   ...  \n",
       "265304  [1, 80, 117, 235, 271, 283, 288, 294, 310, 319...  \n",
       "265305  [41, 80, 197, 255, 310, 325, 333, 389, 650, 73...  \n",
       "265306  [1, 41, 58, 80, 114, 116, 117, 145, 233, 283, ...  \n",
       "265307  [80, 378, 383, 389, 455, 493, 570, 573, 650, 6...  \n",
       "265308  [29, 37, 69, 80, 98, 319, 333, 350, 374, 378, ...  \n",
       "\n",
       "[37901 rows x 8 columns]"
      ]
     },
     "execution_count": 15,
     "metadata": {},
     "output_type": "execute_result"
    }
   ],
   "source": [
    "df_split_zinc = np.array_split(zinc_samples, 10)\n",
    "df_split_zinc[6]"
   ]
  },
  {
   "cell_type": "code",
   "execution_count": 16,
   "id": "7d675f14",
   "metadata": {},
   "outputs": [],
   "source": [
    "joint_samples = pd.concat((df_split_coco[6], df_split_zinc[6]), ignore_index=True)"
   ]
  },
  {
   "cell_type": "code",
   "execution_count": 17,
   "id": "1378e876-1044-43b3-80e4-5fdaa4afb463",
   "metadata": {},
   "outputs": [
    {
     "name": "stderr",
     "output_type": "stream",
     "text": [
      "/var/tmp/pbs.43231.lich-compute.vscht.cz/ipykernel_34778/3101749155.py:7: SettingWithCopyWarning: \n",
      "A value is trying to be set on a copy of a slice from a DataFrame\n",
      "\n",
      "See the caveats in the documentation: https://pandas.pydata.org/pandas-docs/stable/user_guide/indexing.html#returning-a-view-versus-a-copy\n",
      "  joint_samples['Bitset'][x] = tup\n"
     ]
    }
   ],
   "source": [
    "for x in joint_samples.index:\n",
    "    a = joint_samples['Bitset'][x]\n",
    "    a = a.split(\", \")\n",
    "    a = re.sub('\\[', '', str(a))\n",
    "    a = re.sub('\\]', '', str(a))\n",
    "    tup = literal_eval(a)\n",
    "    joint_samples['Bitset'][x] = tup"
   ]
  },
  {
   "cell_type": "markdown",
   "id": "4139ba77",
   "metadata": {
    "pycharm": {
     "name": "#%% md\n"
    }
   },
   "source": [
    "## Relative feature tightness against a PMI interrelation profile"
   ]
  },
  {
   "cell_type": "code",
   "execution_count": 18,
   "id": "5b78b1e8",
   "metadata": {
    "collapsed": false,
    "jupyter": {
     "outputs_hidden": false
    },
    "pycharm": {
     "name": "#%%\n"
    }
   },
   "outputs": [],
   "source": [
    "joint_samples['RFT'] = joint_samples['Bitset'].apply(\n",
    "    lambda x: difference_pkld_profile.relative_feature_divergence(x))"
   ]
  },
  {
   "cell_type": "code",
   "execution_count": 19,
   "id": "30d14231",
   "metadata": {
    "collapsed": false,
    "jupyter": {
     "outputs_hidden": false
    },
    "pycharm": {
     "name": "#%%\n"
    }
   },
   "outputs": [
    {
     "data": {
      "image/png": "[encoded data removed]",
      "text/plain": [
       "<Figure size 842.4x595.44 with 1 Axes>"
      ]
     },
     "metadata": {},
     "output_type": "display_data"
    }
   ],
   "source": [
    "a4_dims = (11.7, 8.27)\n",
    "sns.set_style(\"darkgrid\")\n",
    "fig, ax = plt.subplots(figsize=a4_dims)\n",
    "sns.histplot(joint_samples, x='RFT', hue='Name')\n",
    "plt.savefig(f\"../images//joint_samples_RFT6.svg\", format=\"svg\")"
   ]
  },
  {
   "cell_type": "markdown",
   "id": "ba97db5d",
   "metadata": {
    "pycharm": {
     "name": "#%% md\n"
    }
   },
   "source": [
    "According to the histogram, there is a visible split between Relative feature tightness distribution against the pointwise KL divergence profile between COCONUT and ZINC datasets, based on their radius 2 fragments. Larger fragments might diverge even further."
   ]
  }
 ],
 "metadata": {
  "kernelspec": {
   "display_name": "Python 3 (ipykernel)",
   "language": "python",
   "name": "python3"
  },
  "language_info": {
   "codemirror_mode": {
    "name": "ipython",
    "version": 3
   },
   "file_extension": ".py",
   "mimetype": "text/x-python",
   "name": "python",
   "nbconvert_exporter": "python",
   "pygments_lexer": "ipython3",
   "version": "3.9.7"
  }
 },
 "nbformat": 4,
 "nbformat_minor": 5
}
