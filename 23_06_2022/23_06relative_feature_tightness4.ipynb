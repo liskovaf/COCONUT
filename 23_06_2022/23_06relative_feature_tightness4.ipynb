{
 "cells": [
  {
   "cell_type": "markdown",
   "id": "09cb58ba",
   "metadata": {
    "pycharm": {
     "name": "#%% md\n"
    }
   },
   "source": [
    "# Relative feature tightness using part 4 for test data"
   ]
  },
  {
   "cell_type": "code",
   "execution_count": 2,
   "id": "b7559bf4",
   "metadata": {
    "pycharm": {
     "name": "#%%\n"
    }
   },
   "outputs": [],
   "source": [
    "import pandas as pd\n",
    "import seaborn as sns\n",
    "import matplotlib.pyplot as plt\n",
    "import csv\n",
    "import numpy as np\n",
    "\n",
    "from ast import literal_eval\n",
    "import re\n",
    "import sys\n",
    "sys.path.insert(0,\"./../fip3\")\n",
    "from fip import profiles"
   ]
  },
  {
   "cell_type": "markdown",
   "id": "fc50f8f1",
   "metadata": {
    "pycharm": {
     "name": "#%% md\n"
    }
   },
   "source": [
    "## Dataset prep"
   ]
  },
  {
   "cell_type": "markdown",
   "id": "005b3e57",
   "metadata": {
    "pycharm": {
     "name": "#%% md\n"
    }
   },
   "source": [
    "### Making feature pointwise mutual information profiles"
   ]
  },
  {
   "cell_type": "code",
   "execution_count": 3,
   "id": "d60972a1-b5a0-4b6f-9c0e-9cf37fdb53f4",
   "metadata": {},
   "outputs": [],
   "source": [
    "profile0 = profiles.CooccurrenceProfile.from_dataframe(pd.read_csv('../data/CP1/COCONUT/COCOp0_38630.csv', dtype={'feature1': 'str','feature2' : 'str' }), vector_count=38630)\n",
    "profile1 = profiles.CooccurrenceProfile.from_dataframe(pd.read_csv('../data/CP1/COCONUT/COCOp1_38630.csv', dtype={'feature1': 'str','feature2' : 'str' }), vector_count=38630)\n",
    "profile2 = profiles.CooccurrenceProfile.from_dataframe(pd.read_csv('../data/CP1/COCONUT/COCOp2_38630.csv', dtype={'feature1': 'str','feature2' : 'str' }), vector_count=38630)\n",
    "profile3 = profiles.CooccurrenceProfile.from_dataframe(pd.read_csv('../data/CP1/COCONUT/COCOp3_38630.csv', dtype={'feature1': 'str','feature2' : 'str' }), vector_count=38630)\n",
    "profile5 = profiles.CooccurrenceProfile.from_dataframe(pd.read_csv('../data/CP1/COCONUT/COCOp5_38630.csv', dtype={'feature1': 'str','feature2' : 'str' }), vector_count=38630)\n",
    "profile6 = profiles.CooccurrenceProfile.from_dataframe(pd.read_csv('../data/CP1/COCONUT/COCOp6_38630.csv', dtype={'feature1': 'str','feature2' : 'str' }), vector_count=38630)\n",
    "profile7 = profiles.CooccurrenceProfile.from_dataframe(pd.read_csv('../data/CP1/COCONUT/COCOp7_38629.csv', dtype={'feature1': 'str','feature2' : 'str' }), vector_count=38629)\n",
    "profile8 = profiles.CooccurrenceProfile.from_dataframe(pd.read_csv('../data/CP1/COCONUT/COCOp8_38629.csv', dtype={'feature1': 'str','feature2' : 'str' }), vector_count=38629)\n",
    "profile9 = profiles.CooccurrenceProfile.from_dataframe(pd.read_csv('../data/CP1/COCONUT/COCOp9_38629.csv', dtype={'feature1': 'str','feature2' : 'str' }), vector_count=38629)"
   ]
  },
  {
   "cell_type": "code",
   "execution_count": 4,
   "id": "d928eb58-08cf-4743-8c58-7196f59da70b",
   "metadata": {},
   "outputs": [
    {
     "data": {
      "text/plain": [
       "<fip.profiles.CooccurrenceProfile at 0x7ff294dbfe20>"
      ]
     },
     "execution_count": 4,
     "metadata": {},
     "output_type": "execute_result"
    }
   ],
   "source": [
    "profile0.add_another_cooccurrence_profile(profile1)\n",
    "profile0.add_another_cooccurrence_profile(profile2)\n",
    "profile0.add_another_cooccurrence_profile(profile3)\n",
    "profile0.add_another_cooccurrence_profile(profile5)\n",
    "profile0.add_another_cooccurrence_profile(profile6)\n",
    "profile0.add_another_cooccurrence_profile(profile7)\n",
    "profile0.add_another_cooccurrence_profile(profile8)\n",
    "profile0.add_another_cooccurrence_profile(profile9)"
   ]
  },
  {
   "cell_type": "code",
   "execution_count": 5,
   "id": "7147d116-0c36-4a62-8f6c-c1667667a7c9",
   "metadata": {},
   "outputs": [],
   "source": [
    "probability_profile = profiles.CooccurrenceProbabilityProfile.from_cooccurrence_profile(profile0)"
   ]
  },
  {
   "cell_type": "code",
   "execution_count": 6,
   "id": "f7dab206-f6a7-4d2b-9677-e7fab771e423",
   "metadata": {},
   "outputs": [],
   "source": [
    "pmi_profile = profiles.PointwiseMutualInformationProfile.from_cooccurrence_probability_profile(probability_profile)"
   ]
  },
  {
   "cell_type": "code",
   "execution_count": 7,
   "id": "d83c7314-5776-4b99-80cf-25536ba50afa",
   "metadata": {},
   "outputs": [],
   "source": [
    "reference_profile0 = profiles.CooccurrenceProfile.from_dataframe(pd.read_csv('../data/CP1/ZINC/ZINCp0_37902.csv', dtype={'feature1': 'str','feature2' : 'str' }), vector_count=37902)\n",
    "reference_profile1 = profiles.CooccurrenceProfile.from_dataframe(pd.read_csv('../data/CP1/ZINC/ZINCp1_37902.csv', dtype={'feature1': 'str','feature2' : 'str' }), vector_count=37902)\n",
    "reference_profile2 = profiles.CooccurrenceProfile.from_dataframe(pd.read_csv('../data/CP1/ZINC/ZINCp2_37901.csv', dtype={'feature1': 'str','feature2' : 'str' }), vector_count=37901)\n",
    "reference_profile3 = profiles.CooccurrenceProfile.from_dataframe(pd.read_csv('../data/CP1/ZINC/ZINCp3_37901.csv', dtype={'feature1': 'str','feature2' : 'str' }), vector_count=37901)\n",
    "reference_profile5 = profiles.CooccurrenceProfile.from_dataframe(pd.read_csv('../data/CP1/ZINC/ZINCp5_37901.csv', dtype={'feature1': 'str','feature2' : 'str' }), vector_count=37901)\n",
    "reference_profile6 = profiles.CooccurrenceProfile.from_dataframe(pd.read_csv('../data/CP1/ZINC/ZINCp6_37901.csv', dtype={'feature1': 'str','feature2' : 'str' }), vector_count=37901)\n",
    "reference_profile7 = profiles.CooccurrenceProfile.from_dataframe(pd.read_csv('../data/CP1/ZINC/ZINCp7_37901.csv', dtype={'feature1': 'str','feature2' : 'str' }), vector_count=37901)\n",
    "reference_profile8 = profiles.CooccurrenceProfile.from_dataframe(pd.read_csv('../data/CP1/ZINC/ZINCp8_37901.csv', dtype={'feature1': 'str','feature2' : 'str' }), vector_count=37901)\n",
    "reference_profile9 = profiles.CooccurrenceProfile.from_dataframe(pd.read_csv('../data/CP1/ZINC/ZINCp9_37901.csv', dtype={'feature1': 'str','feature2' : 'str' }), vector_count=37901)"
   ]
  },
  {
   "cell_type": "code",
   "execution_count": 8,
   "id": "3e7d1500-bc9f-424d-8be0-5a3c575b0dc8",
   "metadata": {},
   "outputs": [
    {
     "data": {
      "text/plain": [
       "<fip.profiles.CooccurrenceProfile at 0x7ff294dbf550>"
      ]
     },
     "execution_count": 8,
     "metadata": {},
     "output_type": "execute_result"
    }
   ],
   "source": [
    "reference_profile0.add_another_cooccurrence_profile(reference_profile1)\n",
    "reference_profile0.add_another_cooccurrence_profile(reference_profile2)\n",
    "reference_profile0.add_another_cooccurrence_profile(reference_profile3)\n",
    "reference_profile0.add_another_cooccurrence_profile(reference_profile5)\n",
    "reference_profile0.add_another_cooccurrence_profile(reference_profile6)\n",
    "reference_profile0.add_another_cooccurrence_profile(reference_profile7)\n",
    "reference_profile0.add_another_cooccurrence_profile(reference_profile8)\n",
    "reference_profile0.add_another_cooccurrence_profile(reference_profile9)"
   ]
  },
  {
   "cell_type": "code",
   "execution_count": 9,
   "id": "bbffde8b-6839-461a-8a68-8e466d80b123",
   "metadata": {},
   "outputs": [],
   "source": [
    "reference_probability_profile = profiles.CooccurrenceProbabilityProfile.from_cooccurrence_profile(reference_profile0)"
   ]
  },
  {
   "cell_type": "code",
   "execution_count": 10,
   "id": "ae1fcc8e-72fa-4bd9-9fa8-a28a87077b9f",
   "metadata": {},
   "outputs": [],
   "source": [
    "reference_pmi_profile = profiles.PointwiseMutualInformationProfile.from_cooccurrence_probability_profile(reference_probability_profile)"
   ]
  },
  {
   "cell_type": "markdown",
   "id": "8141d215",
   "metadata": {
    "pycharm": {
     "name": "#%% md\n"
    }
   },
   "source": [
    "### Making feature pointwise KL divergence profile between COCONUT and ZINC"
   ]
  },
  {
   "cell_type": "code",
   "execution_count": 11,
   "id": "e2da7160",
   "metadata": {
    "pycharm": {
     "name": "#%%\n"
    }
   },
   "outputs": [
    {
     "data": {
      "text/html": [
       "<div>\n",
       "<style scoped>\n",
       "    .dataframe tbody tr th:only-of-type {\n",
       "        vertical-align: middle;\n",
       "    }\n",
       "\n",
       "    .dataframe tbody tr th {\n",
       "        vertical-align: top;\n",
       "    }\n",
       "\n",
       "    .dataframe thead th {\n",
       "        text-align: right;\n",
       "    }\n",
       "</style>\n",
       "<table border=\"1\" class=\"dataframe\">\n",
       "  <thead>\n",
       "    <tr style=\"text-align: right;\">\n",
       "      <th></th>\n",
       "      <th></th>\n",
       "      <th>value</th>\n",
       "    </tr>\n",
       "    <tr>\n",
       "      <th>feature1</th>\n",
       "      <th>feature2</th>\n",
       "      <th></th>\n",
       "    </tr>\n",
       "  </thead>\n",
       "  <tbody>\n",
       "    <tr>\n",
       "      <th rowspan=\"5\" valign=\"top\">0</th>\n",
       "      <th>0</th>\n",
       "      <td>2.049439</td>\n",
       "    </tr>\n",
       "    <tr>\n",
       "      <th>1</th>\n",
       "      <td>2.841951</td>\n",
       "    </tr>\n",
       "    <tr>\n",
       "      <th>10</th>\n",
       "      <td>4.496097</td>\n",
       "    </tr>\n",
       "    <tr>\n",
       "      <th>100</th>\n",
       "      <td>5.527128</td>\n",
       "    </tr>\n",
       "    <tr>\n",
       "      <th>1000</th>\n",
       "      <td>3.257937</td>\n",
       "    </tr>\n",
       "    <tr>\n",
       "      <th>...</th>\n",
       "      <th>...</th>\n",
       "      <td>...</td>\n",
       "    </tr>\n",
       "    <tr>\n",
       "      <th>942</th>\n",
       "      <th>982</th>\n",
       "      <td>-5.312871</td>\n",
       "    </tr>\n",
       "    <tr>\n",
       "      <th>952</th>\n",
       "      <th>988</th>\n",
       "      <td>-3.934360</td>\n",
       "    </tr>\n",
       "    <tr>\n",
       "      <th>959</th>\n",
       "      <th>995</th>\n",
       "      <td>-0.027469</td>\n",
       "    </tr>\n",
       "    <tr>\n",
       "      <th>968</th>\n",
       "      <th>990</th>\n",
       "      <td>-3.727909</td>\n",
       "    </tr>\n",
       "    <tr>\n",
       "      <th>969</th>\n",
       "      <th>995</th>\n",
       "      <td>-0.027469</td>\n",
       "    </tr>\n",
       "  </tbody>\n",
       "</table>\n",
       "<p>2097986 rows × 1 columns</p>\n",
       "</div>"
      ],
      "text/plain": [
       "                      value\n",
       "feature1 feature2          \n",
       "0        0         2.049439\n",
       "         1         2.841951\n",
       "         10        4.496097\n",
       "         100       5.527128\n",
       "         1000      3.257937\n",
       "...                     ...\n",
       "942      982      -5.312871\n",
       "952      988      -3.934360\n",
       "959      995      -0.027469\n",
       "968      990      -3.727909\n",
       "969      995      -0.027469\n",
       "\n",
       "[2097986 rows x 1 columns]"
      ]
     },
     "execution_count": 11,
     "metadata": {},
     "output_type": "execute_result"
    }
   ],
   "source": [
    "difference_pkld_profile = profiles.PointwiseKLDivergenceProfile.from_cooccurrence_probability_profiles(\n",
    "    probability_profile, reference_probability_profile)\n",
    "difference_pkld_profile.df"
   ]
  },
  {
   "cell_type": "markdown",
   "id": "280a3dd8",
   "metadata": {
    "pycharm": {
     "name": "#%% md\n"
    }
   },
   "source": [
    "### Sampling structures from COCONUT and ZINC datasets"
   ]
  },
  {
   "cell_type": "code",
   "execution_count": 12,
   "id": "212cd152",
   "metadata": {
    "pycharm": {
     "name": "#%%\n"
    }
   },
   "outputs": [],
   "source": [
    "coconut_samples = pd.read_csv('../data/CP1/COCONUT/COCOrandom.csv', delimiter = ' ')\n",
    "coconut_samples = coconut_samples.drop(['Coconut_id'], axis=1)\n",
    "coconut_samples['Name'] = 'COCONUT'"
   ]
  },
  {
   "cell_type": "code",
   "execution_count": 13,
   "id": "95627151-b248-427d-a494-4f84494aa1d6",
   "metadata": {},
   "outputs": [],
   "source": [
    "df_split_coco = np.array_split(coconut_samples, 10)"
   ]
  },
  {
   "cell_type": "code",
   "execution_count": 14,
   "id": "13b1766b-989b-4995-950c-e7f7bbe1f5fd",
   "metadata": {},
   "outputs": [
    {
     "data": {
      "text/html": [
       "<div>\n",
       "<style scoped>\n",
       "    .dataframe tbody tr th:only-of-type {\n",
       "        vertical-align: middle;\n",
       "    }\n",
       "\n",
       "    .dataframe tbody tr th {\n",
       "        vertical-align: top;\n",
       "    }\n",
       "\n",
       "    .dataframe thead th {\n",
       "        text-align: right;\n",
       "    }\n",
       "</style>\n",
       "<table border=\"1\" class=\"dataframe\">\n",
       "  <thead>\n",
       "    <tr style=\"text-align: right;\">\n",
       "      <th></th>\n",
       "      <th>Smiles</th>\n",
       "      <th>MW</th>\n",
       "      <th>logP</th>\n",
       "      <th>Inchi</th>\n",
       "      <th>Inchi_s</th>\n",
       "      <th>Name</th>\n",
       "      <th>ECFP</th>\n",
       "      <th>Bitset</th>\n",
       "    </tr>\n",
       "  </thead>\n",
       "  <tbody>\n",
       "    <tr>\n",
       "      <th>154520</th>\n",
       "      <td>COc1cc(C2OC(c3ccc(O)c(OC)c3)C(C)C2C)ccc1O</td>\n",
       "      <td>344.162374</td>\n",
       "      <td>4.19980</td>\n",
       "      <td>GMXMKSFJQLFOSO-UHFFFAOYSA-N</td>\n",
       "      <td>GMXMKSFJQLFOSO</td>\n",
       "      <td>COCONUT</td>\n",
       "      <td>&lt;rdkit.DataStructs.cDataStructs.ExplicitBitVec...</td>\n",
       "      <td>[227, 249, 358, 555, 614, 656, 695, 807, 841, ...</td>\n",
       "    </tr>\n",
       "    <tr>\n",
       "      <th>154521</th>\n",
       "      <td>CC(C)CCCC(COS(=O)(=O)[O-])C1CCC2C3CC=C4C(O)C(O...</td>\n",
       "      <td>497.294234</td>\n",
       "      <td>4.81640</td>\n",
       "      <td>LZQFXICFXNPJQL-UHFFFAOYSA-M</td>\n",
       "      <td>LZQFXICFXNPJQL</td>\n",
       "      <td>COCONUT</td>\n",
       "      <td>&lt;rdkit.DataStructs.cDataStructs.ExplicitBitVec...</td>\n",
       "      <td>[1, 7, 8, 80, 91, 105, 118, 146, 164, 243, 283...</td>\n",
       "    </tr>\n",
       "    <tr>\n",
       "      <th>154522</th>\n",
       "      <td>COc1cccc2c1NC13CCC4(CCCN5CCC21C54)CC3</td>\n",
       "      <td>310.204513</td>\n",
       "      <td>3.53940</td>\n",
       "      <td>AVBLSJWLHBCFSM-UHFFFAOYSA-N</td>\n",
       "      <td>AVBLSJWLHBCFSM</td>\n",
       "      <td>COCONUT</td>\n",
       "      <td>&lt;rdkit.DataStructs.cDataStructs.ExplicitBitVec...</td>\n",
       "      <td>[16, 241, 249, 297, 316, 389, 521, 547, 631, 6...</td>\n",
       "    </tr>\n",
       "    <tr>\n",
       "      <th>154523</th>\n",
       "      <td>COc1cc(O)c(CC=C(C)CO)c(O)c1C(=O)C=Cc1ccc(O)cc1</td>\n",
       "      <td>370.141638</td>\n",
       "      <td>3.18920</td>\n",
       "      <td>PAISPFQETXMRRU-UHFFFAOYSA-N</td>\n",
       "      <td>PAISPFQETXMRRU</td>\n",
       "      <td>COCONUT</td>\n",
       "      <td>&lt;rdkit.DataStructs.cDataStructs.ExplicitBitVec...</td>\n",
       "      <td>[25, 31, 80, 104, 202, 209, 222, 249, 270, 425...</td>\n",
       "    </tr>\n",
       "    <tr>\n",
       "      <th>154524</th>\n",
       "      <td>CC1C(=O)C=CC(C)(C)C12CC(Br)C(C)(Cl)CC2O</td>\n",
       "      <td>348.049170</td>\n",
       "      <td>3.68970</td>\n",
       "      <td>TYDKQXGEEOVOAX-UHFFFAOYSA-N</td>\n",
       "      <td>TYDKQXGEEOVOAX</td>\n",
       "      <td>COCONUT</td>\n",
       "      <td>&lt;rdkit.DataStructs.cDataStructs.ExplicitBitVec...</td>\n",
       "      <td>[13, 113, 193, 314, 361, 464, 547, 650, 679, 6...</td>\n",
       "    </tr>\n",
       "    <tr>\n",
       "      <th>...</th>\n",
       "      <td>...</td>\n",
       "      <td>...</td>\n",
       "      <td>...</td>\n",
       "      <td>...</td>\n",
       "      <td>...</td>\n",
       "      <td>...</td>\n",
       "      <td>...</td>\n",
       "      <td>...</td>\n",
       "    </tr>\n",
       "    <tr>\n",
       "      <th>193145</th>\n",
       "      <td>CC(C)C(C)(O)C1OC1C(C)(O)C1CC2(CCCC2)C2(O)C3=CC...</td>\n",
       "      <td>530.360739</td>\n",
       "      <td>4.31590</td>\n",
       "      <td>PYFMKHLLWHFQJC-UHFFFAOYSA-N</td>\n",
       "      <td>PYFMKHLLWHFQJC</td>\n",
       "      <td>COCONUT</td>\n",
       "      <td>&lt;rdkit.DataStructs.cDataStructs.ExplicitBitVec...</td>\n",
       "      <td>[1, 43, 84, 93, 114, 159, 199, 231, 283, 314, ...</td>\n",
       "    </tr>\n",
       "    <tr>\n",
       "      <th>193146</th>\n",
       "      <td>COc1cc(C(=O)OCC(C#N)=CCOC2OC(CO)C(O)C(O)C2O)ccc1O</td>\n",
       "      <td>425.132196</td>\n",
       "      <td>-1.17592</td>\n",
       "      <td>UWNLOPFIHDWHDR-UHFFFAOYSA-N</td>\n",
       "      <td>UWNLOPFIHDWHDR</td>\n",
       "      <td>COCONUT</td>\n",
       "      <td>&lt;rdkit.DataStructs.cDataStructs.ExplicitBitVec...</td>\n",
       "      <td>[80, 145, 147, 170, 204, 222, 249, 284, 319, 4...</td>\n",
       "    </tr>\n",
       "    <tr>\n",
       "      <th>193147</th>\n",
       "      <td>O=S(=O)(O)c1cccc(O)c1</td>\n",
       "      <td>173.998680</td>\n",
       "      <td>0.63890</td>\n",
       "      <td>ZCLXQTGLKVQKFD-UHFFFAOYSA-N</td>\n",
       "      <td>ZCLXQTGLKVQKFD</td>\n",
       "      <td>COCONUT</td>\n",
       "      <td>&lt;rdkit.DataStructs.cDataStructs.ExplicitBitVec...</td>\n",
       "      <td>[65, 319, 350, 381, 575, 592, 626, 650, 745, 8...</td>\n",
       "    </tr>\n",
       "    <tr>\n",
       "      <th>193148</th>\n",
       "      <td>COc1cc2ccc3c(c2cc1OC)N(C)C(CCO)c1c-3ccc(OC)c1OC</td>\n",
       "      <td>409.188923</td>\n",
       "      <td>4.41450</td>\n",
       "      <td>VCIQDGITMVHJRZ-UHFFFAOYSA-N</td>\n",
       "      <td>VCIQDGITMVHJRZ</td>\n",
       "      <td>COCONUT</td>\n",
       "      <td>&lt;rdkit.DataStructs.cDataStructs.ExplicitBitVec...</td>\n",
       "      <td>[39, 80, 94, 146, 203, 213, 222, 249, 333, 352...</td>\n",
       "    </tr>\n",
       "    <tr>\n",
       "      <th>193149</th>\n",
       "      <td>COC(=O)C1(C)CCCC2(O)C1CCC13CC(CCC12C)C(O)(CO)C3=O</td>\n",
       "      <td>380.219889</td>\n",
       "      <td>1.58960</td>\n",
       "      <td>ACKZAEGRHFFRER-UHFFFAOYSA-N</td>\n",
       "      <td>ACKZAEGRHFFRER</td>\n",
       "      <td>COCONUT</td>\n",
       "      <td>&lt;rdkit.DataStructs.cDataStructs.ExplicitBitVec...</td>\n",
       "      <td>[55, 73, 80, 222, 223, 267, 269, 314, 471, 478...</td>\n",
       "    </tr>\n",
       "  </tbody>\n",
       "</table>\n",
       "<p>38630 rows × 8 columns</p>\n",
       "</div>"
      ],
      "text/plain": [
       "                                                   Smiles          MW  \\\n",
       "154520          COc1cc(C2OC(c3ccc(O)c(OC)c3)C(C)C2C)ccc1O  344.162374   \n",
       "154521  CC(C)CCCC(COS(=O)(=O)[O-])C1CCC2C3CC=C4C(O)C(O...  497.294234   \n",
       "154522              COc1cccc2c1NC13CCC4(CCCN5CCC21C54)CC3  310.204513   \n",
       "154523     COc1cc(O)c(CC=C(C)CO)c(O)c1C(=O)C=Cc1ccc(O)cc1  370.141638   \n",
       "154524            CC1C(=O)C=CC(C)(C)C12CC(Br)C(C)(Cl)CC2O  348.049170   \n",
       "...                                                   ...         ...   \n",
       "193145  CC(C)C(C)(O)C1OC1C(C)(O)C1CC2(CCCC2)C2(O)C3=CC...  530.360739   \n",
       "193146  COc1cc(C(=O)OCC(C#N)=CCOC2OC(CO)C(O)C(O)C2O)ccc1O  425.132196   \n",
       "193147                              O=S(=O)(O)c1cccc(O)c1  173.998680   \n",
       "193148    COc1cc2ccc3c(c2cc1OC)N(C)C(CCO)c1c-3ccc(OC)c1OC  409.188923   \n",
       "193149  COC(=O)C1(C)CCCC2(O)C1CCC13CC(CCC12C)C(O)(CO)C3=O  380.219889   \n",
       "\n",
       "           logP                        Inchi         Inchi_s     Name  \\\n",
       "154520  4.19980  GMXMKSFJQLFOSO-UHFFFAOYSA-N  GMXMKSFJQLFOSO  COCONUT   \n",
       "154521  4.81640  LZQFXICFXNPJQL-UHFFFAOYSA-M  LZQFXICFXNPJQL  COCONUT   \n",
       "154522  3.53940  AVBLSJWLHBCFSM-UHFFFAOYSA-N  AVBLSJWLHBCFSM  COCONUT   \n",
       "154523  3.18920  PAISPFQETXMRRU-UHFFFAOYSA-N  PAISPFQETXMRRU  COCONUT   \n",
       "154524  3.68970  TYDKQXGEEOVOAX-UHFFFAOYSA-N  TYDKQXGEEOVOAX  COCONUT   \n",
       "...         ...                          ...             ...      ...   \n",
       "193145  4.31590  PYFMKHLLWHFQJC-UHFFFAOYSA-N  PYFMKHLLWHFQJC  COCONUT   \n",
       "193146 -1.17592  UWNLOPFIHDWHDR-UHFFFAOYSA-N  UWNLOPFIHDWHDR  COCONUT   \n",
       "193147  0.63890  ZCLXQTGLKVQKFD-UHFFFAOYSA-N  ZCLXQTGLKVQKFD  COCONUT   \n",
       "193148  4.41450  VCIQDGITMVHJRZ-UHFFFAOYSA-N  VCIQDGITMVHJRZ  COCONUT   \n",
       "193149  1.58960  ACKZAEGRHFFRER-UHFFFAOYSA-N  ACKZAEGRHFFRER  COCONUT   \n",
       "\n",
       "                                                     ECFP  \\\n",
       "154520  <rdkit.DataStructs.cDataStructs.ExplicitBitVec...   \n",
       "154521  <rdkit.DataStructs.cDataStructs.ExplicitBitVec...   \n",
       "154522  <rdkit.DataStructs.cDataStructs.ExplicitBitVec...   \n",
       "154523  <rdkit.DataStructs.cDataStructs.ExplicitBitVec...   \n",
       "154524  <rdkit.DataStructs.cDataStructs.ExplicitBitVec...   \n",
       "...                                                   ...   \n",
       "193145  <rdkit.DataStructs.cDataStructs.ExplicitBitVec...   \n",
       "193146  <rdkit.DataStructs.cDataStructs.ExplicitBitVec...   \n",
       "193147  <rdkit.DataStructs.cDataStructs.ExplicitBitVec...   \n",
       "193148  <rdkit.DataStructs.cDataStructs.ExplicitBitVec...   \n",
       "193149  <rdkit.DataStructs.cDataStructs.ExplicitBitVec...   \n",
       "\n",
       "                                                   Bitset  \n",
       "154520  [227, 249, 358, 555, 614, 656, 695, 807, 841, ...  \n",
       "154521  [1, 7, 8, 80, 91, 105, 118, 146, 164, 243, 283...  \n",
       "154522  [16, 241, 249, 297, 316, 389, 521, 547, 631, 6...  \n",
       "154523  [25, 31, 80, 104, 202, 209, 222, 249, 270, 425...  \n",
       "154524  [13, 113, 193, 314, 361, 464, 547, 650, 679, 6...  \n",
       "...                                                   ...  \n",
       "193145  [1, 43, 84, 93, 114, 159, 199, 231, 283, 314, ...  \n",
       "193146  [80, 145, 147, 170, 204, 222, 249, 284, 319, 4...  \n",
       "193147  [65, 319, 350, 381, 575, 592, 626, 650, 745, 8...  \n",
       "193148  [39, 80, 94, 146, 203, 213, 222, 249, 333, 352...  \n",
       "193149  [55, 73, 80, 222, 223, 267, 269, 314, 471, 478...  \n",
       "\n",
       "[38630 rows x 8 columns]"
      ]
     },
     "execution_count": 14,
     "metadata": {},
     "output_type": "execute_result"
    }
   ],
   "source": [
    "df_split_coco[4]"
   ]
  },
  {
   "cell_type": "code",
   "execution_count": 15,
   "id": "f7ed85f8",
   "metadata": {
    "pycharm": {
     "name": "#%%\n"
    }
   },
   "outputs": [],
   "source": [
    "zinc_samples = pd.read_csv('../data/CP1/ZINC/ZINCrandom.csv', delimiter = ' ')\n",
    "zinc_samples = zinc_samples.drop(['Zinc_id'], axis=1)"
   ]
  },
  {
   "cell_type": "code",
   "execution_count": 16,
   "id": "f90fed46-cb6b-47c0-9dd3-a66ef9ee60d8",
   "metadata": {},
   "outputs": [
    {
     "data": {
      "text/html": [
       "<div>\n",
       "<style scoped>\n",
       "    .dataframe tbody tr th:only-of-type {\n",
       "        vertical-align: middle;\n",
       "    }\n",
       "\n",
       "    .dataframe tbody tr th {\n",
       "        vertical-align: top;\n",
       "    }\n",
       "\n",
       "    .dataframe thead th {\n",
       "        text-align: right;\n",
       "    }\n",
       "</style>\n",
       "<table border=\"1\" class=\"dataframe\">\n",
       "  <thead>\n",
       "    <tr style=\"text-align: right;\">\n",
       "      <th></th>\n",
       "      <th>Smiles</th>\n",
       "      <th>MW</th>\n",
       "      <th>logP</th>\n",
       "      <th>Inchi</th>\n",
       "      <th>Inchi_s</th>\n",
       "      <th>Name</th>\n",
       "      <th>ECFP</th>\n",
       "      <th>Bitset</th>\n",
       "    </tr>\n",
       "  </thead>\n",
       "  <tbody>\n",
       "    <tr>\n",
       "      <th>151606</th>\n",
       "      <td>COc1ccc(S(=O)(=O)N2CCCCCC2)cc1NC(=O)CCC(=O)c1c...</td>\n",
       "      <td>478.159614</td>\n",
       "      <td>4.53984</td>\n",
       "      <td>ITTRLRDPTPTSGV-UHFFFAOYSA-N</td>\n",
       "      <td>ITTRLRDPTPTSGV</td>\n",
       "      <td>ZINC</td>\n",
       "      <td>&lt;rdkit.DataStructs.cDataStructs.ExplicitBitVec...</td>\n",
       "      <td>[2, 41, 80, 94, 103, 162, 249, 313, 319, 350, ...</td>\n",
       "    </tr>\n",
       "    <tr>\n",
       "      <th>151607</th>\n",
       "      <td>CCCCn1c2nc3ccccc3[nH]c-2c(S(=O)(=O)c2ccc(C)cc2...</td>\n",
       "      <td>532.133589</td>\n",
       "      <td>5.80502</td>\n",
       "      <td>GOAABJIVFULFKA-UHFFFAOYSA-N</td>\n",
       "      <td>GOAABJIVFULFKA</td>\n",
       "      <td>ZINC</td>\n",
       "      <td>&lt;rdkit.DataStructs.cDataStructs.ExplicitBitVec...</td>\n",
       "      <td>[30, 80, 119, 127, 155, 216, 235, 289, 294, 31...</td>\n",
       "    </tr>\n",
       "    <tr>\n",
       "      <th>151608</th>\n",
       "      <td>C[C@H](c1cccc(C#N)c1)N1CCC[C@]2(CC(=O)c3ccccc3...</td>\n",
       "      <td>346.168128</td>\n",
       "      <td>4.11928</td>\n",
       "      <td>AJQHUCBCONYTLU-ZHRRBRCNSA-N</td>\n",
       "      <td>AJQHUCBCONYTLU</td>\n",
       "      <td>ZINC</td>\n",
       "      <td>&lt;rdkit.DataStructs.cDataStructs.ExplicitBitVec...</td>\n",
       "      <td>[1, 102, 113, 283, 305, 314, 334, 352, 410, 45...</td>\n",
       "    </tr>\n",
       "    <tr>\n",
       "      <th>151609</th>\n",
       "      <td>C=C(C)CN1CC[C@H]([C@H]2CCCN(C(=O)c3cc(Cl)cn3C)...</td>\n",
       "      <td>349.192090</td>\n",
       "      <td>3.42870</td>\n",
       "      <td>HORCZOVCVMXSTO-HOTGVXAUSA-N</td>\n",
       "      <td>HORCZOVCVMXSTO</td>\n",
       "      <td>ZINC</td>\n",
       "      <td>&lt;rdkit.DataStructs.cDataStructs.ExplicitBitVec...</td>\n",
       "      <td>[80, 118, 191, 216, 276, 369, 446, 451, 464, 4...</td>\n",
       "    </tr>\n",
       "    <tr>\n",
       "      <th>151610</th>\n",
       "      <td>Cc1ccc(-n2c(Cc3ccccc3)nnc2SCc2cccc(F)c2)cc1</td>\n",
       "      <td>389.136197</td>\n",
       "      <td>5.59792</td>\n",
       "      <td>BQZDEZKIKNKEIZ-UHFFFAOYSA-N</td>\n",
       "      <td>BQZDEZKIKNKEIZ</td>\n",
       "      <td>ZINC</td>\n",
       "      <td>&lt;rdkit.DataStructs.cDataStructs.ExplicitBitVec...</td>\n",
       "      <td>[58, 80, 116, 230, 233, 235, 318, 341, 378, 38...</td>\n",
       "    </tr>\n",
       "    <tr>\n",
       "      <th>...</th>\n",
       "      <td>...</td>\n",
       "      <td>...</td>\n",
       "      <td>...</td>\n",
       "      <td>...</td>\n",
       "      <td>...</td>\n",
       "      <td>...</td>\n",
       "      <td>...</td>\n",
       "      <td>...</td>\n",
       "    </tr>\n",
       "    <tr>\n",
       "      <th>189502</th>\n",
       "      <td>O=C(Cc1cccnc1)N[C@@H]1CCn2nccc2C1</td>\n",
       "      <td>256.132411</td>\n",
       "      <td>0.95180</td>\n",
       "      <td>QLUOTTSYDWDNRZ-GFCCVEGCSA-N</td>\n",
       "      <td>QLUOTTSYDWDNRZ</td>\n",
       "      <td>ZINC</td>\n",
       "      <td>&lt;rdkit.DataStructs.cDataStructs.ExplicitBitVec...</td>\n",
       "      <td>[41, 43, 80, 231, 325, 378, 387, 409, 437, 608...</td>\n",
       "    </tr>\n",
       "    <tr>\n",
       "      <th>189503</th>\n",
       "      <td>FC(F)Oc1ccc(/C=C2/CCCC3=C2N=C2SC=C(c4ccccc4)N2...</td>\n",
       "      <td>564.149462</td>\n",
       "      <td>8.86910</td>\n",
       "      <td>SMMDLKRXPIRZEF-ICOYDVSFSA-N</td>\n",
       "      <td>SMMDLKRXPIRZEF</td>\n",
       "      <td>ZINC</td>\n",
       "      <td>&lt;rdkit.DataStructs.cDataStructs.ExplicitBitVec...</td>\n",
       "      <td>[1, 5, 21, 25, 71, 224, 281, 322, 378, 389, 39...</td>\n",
       "    </tr>\n",
       "    <tr>\n",
       "      <th>189504</th>\n",
       "      <td>Clc1ccc(/N=c2\\scc(-c3ccc(Cl)cc3)n2CCc2ccccc2)cc1</td>\n",
       "      <td>424.056775</td>\n",
       "      <td>6.99850</td>\n",
       "      <td>WIPJNCRLSYIDSM-RWEWTDSWSA-N</td>\n",
       "      <td>WIPJNCRLSYIDSM</td>\n",
       "      <td>ZINC</td>\n",
       "      <td>&lt;rdkit.DataStructs.cDataStructs.ExplicitBitVec...</td>\n",
       "      <td>[10, 80, 95, 170, 202, 216, 389, 552, 561, 675...</td>\n",
       "    </tr>\n",
       "    <tr>\n",
       "      <th>189505</th>\n",
       "      <td>N#Cc1ccc(S(=O)(=O)N2CCC(C(=O)N3CCN(CC(=O)Nc4cc...</td>\n",
       "      <td>579.176325</td>\n",
       "      <td>2.64048</td>\n",
       "      <td>CYRYVAGZPRJFDG-UHFFFAOYSA-N</td>\n",
       "      <td>CYRYVAGZPRJFDG</td>\n",
       "      <td>ZINC</td>\n",
       "      <td>&lt;rdkit.DataStructs.cDataStructs.ExplicitBitVec...</td>\n",
       "      <td>[34, 41, 53, 74, 80, 102, 114, 145, 191, 246, ...</td>\n",
       "    </tr>\n",
       "    <tr>\n",
       "      <th>189506</th>\n",
       "      <td>CN(C)S(=O)(=O)N1CCN(C(=O)Cn2cnc3ccccc3c2=O)CC1</td>\n",
       "      <td>379.131425</td>\n",
       "      <td>-0.65290</td>\n",
       "      <td>TWFDYVMLHHJHCI-UHFFFAOYSA-N</td>\n",
       "      <td>TWFDYVMLHHJHCI</td>\n",
       "      <td>ZINC</td>\n",
       "      <td>&lt;rdkit.DataStructs.cDataStructs.ExplicitBitVec...</td>\n",
       "      <td>[80, 107, 140, 224, 268, 289, 314, 338, 350, 3...</td>\n",
       "    </tr>\n",
       "  </tbody>\n",
       "</table>\n",
       "<p>37901 rows × 8 columns</p>\n",
       "</div>"
      ],
      "text/plain": [
       "                                                   Smiles          MW  \\\n",
       "151606  COc1ccc(S(=O)(=O)N2CCCCCC2)cc1NC(=O)CCC(=O)c1c...  478.159614   \n",
       "151607  CCCCn1c2nc3ccccc3[nH]c-2c(S(=O)(=O)c2ccc(C)cc2...  532.133589   \n",
       "151608  C[C@H](c1cccc(C#N)c1)N1CCC[C@]2(CC(=O)c3ccccc3...  346.168128   \n",
       "151609  C=C(C)CN1CC[C@H]([C@H]2CCCN(C(=O)c3cc(Cl)cn3C)...  349.192090   \n",
       "151610        Cc1ccc(-n2c(Cc3ccccc3)nnc2SCc2cccc(F)c2)cc1  389.136197   \n",
       "...                                                   ...         ...   \n",
       "189502                  O=C(Cc1cccnc1)N[C@@H]1CCn2nccc2C1  256.132411   \n",
       "189503  FC(F)Oc1ccc(/C=C2/CCCC3=C2N=C2SC=C(c4ccccc4)N2...  564.149462   \n",
       "189504   Clc1ccc(/N=c2\\scc(-c3ccc(Cl)cc3)n2CCc2ccccc2)cc1  424.056775   \n",
       "189505  N#Cc1ccc(S(=O)(=O)N2CCC(C(=O)N3CCN(CC(=O)Nc4cc...  579.176325   \n",
       "189506     CN(C)S(=O)(=O)N1CCN(C(=O)Cn2cnc3ccccc3c2=O)CC1  379.131425   \n",
       "\n",
       "           logP                        Inchi         Inchi_s  Name  \\\n",
       "151606  4.53984  ITTRLRDPTPTSGV-UHFFFAOYSA-N  ITTRLRDPTPTSGV  ZINC   \n",
       "151607  5.80502  GOAABJIVFULFKA-UHFFFAOYSA-N  GOAABJIVFULFKA  ZINC   \n",
       "151608  4.11928  AJQHUCBCONYTLU-ZHRRBRCNSA-N  AJQHUCBCONYTLU  ZINC   \n",
       "151609  3.42870  HORCZOVCVMXSTO-HOTGVXAUSA-N  HORCZOVCVMXSTO  ZINC   \n",
       "151610  5.59792  BQZDEZKIKNKEIZ-UHFFFAOYSA-N  BQZDEZKIKNKEIZ  ZINC   \n",
       "...         ...                          ...             ...   ...   \n",
       "189502  0.95180  QLUOTTSYDWDNRZ-GFCCVEGCSA-N  QLUOTTSYDWDNRZ  ZINC   \n",
       "189503  8.86910  SMMDLKRXPIRZEF-ICOYDVSFSA-N  SMMDLKRXPIRZEF  ZINC   \n",
       "189504  6.99850  WIPJNCRLSYIDSM-RWEWTDSWSA-N  WIPJNCRLSYIDSM  ZINC   \n",
       "189505  2.64048  CYRYVAGZPRJFDG-UHFFFAOYSA-N  CYRYVAGZPRJFDG  ZINC   \n",
       "189506 -0.65290  TWFDYVMLHHJHCI-UHFFFAOYSA-N  TWFDYVMLHHJHCI  ZINC   \n",
       "\n",
       "                                                     ECFP  \\\n",
       "151606  <rdkit.DataStructs.cDataStructs.ExplicitBitVec...   \n",
       "151607  <rdkit.DataStructs.cDataStructs.ExplicitBitVec...   \n",
       "151608  <rdkit.DataStructs.cDataStructs.ExplicitBitVec...   \n",
       "151609  <rdkit.DataStructs.cDataStructs.ExplicitBitVec...   \n",
       "151610  <rdkit.DataStructs.cDataStructs.ExplicitBitVec...   \n",
       "...                                                   ...   \n",
       "189502  <rdkit.DataStructs.cDataStructs.ExplicitBitVec...   \n",
       "189503  <rdkit.DataStructs.cDataStructs.ExplicitBitVec...   \n",
       "189504  <rdkit.DataStructs.cDataStructs.ExplicitBitVec...   \n",
       "189505  <rdkit.DataStructs.cDataStructs.ExplicitBitVec...   \n",
       "189506  <rdkit.DataStructs.cDataStructs.ExplicitBitVec...   \n",
       "\n",
       "                                                   Bitset  \n",
       "151606  [2, 41, 80, 94, 103, 162, 249, 313, 319, 350, ...  \n",
       "151607  [30, 80, 119, 127, 155, 216, 235, 289, 294, 31...  \n",
       "151608  [1, 102, 113, 283, 305, 314, 334, 352, 410, 45...  \n",
       "151609  [80, 118, 191, 216, 276, 369, 446, 451, 464, 4...  \n",
       "151610  [58, 80, 116, 230, 233, 235, 318, 341, 378, 38...  \n",
       "...                                                   ...  \n",
       "189502  [41, 43, 80, 231, 325, 378, 387, 409, 437, 608...  \n",
       "189503  [1, 5, 21, 25, 71, 224, 281, 322, 378, 389, 39...  \n",
       "189504  [10, 80, 95, 170, 202, 216, 389, 552, 561, 675...  \n",
       "189505  [34, 41, 53, 74, 80, 102, 114, 145, 191, 246, ...  \n",
       "189506  [80, 107, 140, 224, 268, 289, 314, 338, 350, 3...  \n",
       "\n",
       "[37901 rows x 8 columns]"
      ]
     },
     "execution_count": 16,
     "metadata": {},
     "output_type": "execute_result"
    }
   ],
   "source": [
    "df_split_zinc = np.array_split(zinc_samples, 10)\n",
    "df_split_zinc[4]"
   ]
  },
  {
   "cell_type": "code",
   "execution_count": 17,
   "id": "7d675f14",
   "metadata": {},
   "outputs": [],
   "source": [
    "joint_samples = pd.concat((df_split_coco[4], df_split_zinc[4]), ignore_index=True)"
   ]
  },
  {
   "cell_type": "code",
   "execution_count": 18,
   "id": "1378e876-1044-43b3-80e4-5fdaa4afb463",
   "metadata": {},
   "outputs": [
    {
     "name": "stderr",
     "output_type": "stream",
     "text": [
      "/var/tmp/pbs.43231.lich-compute.vscht.cz/ipykernel_35236/3101749155.py:7: SettingWithCopyWarning: \n",
      "A value is trying to be set on a copy of a slice from a DataFrame\n",
      "\n",
      "See the caveats in the documentation: https://pandas.pydata.org/pandas-docs/stable/user_guide/indexing.html#returning-a-view-versus-a-copy\n",
      "  joint_samples['Bitset'][x] = tup\n"
     ]
    }
   ],
   "source": [
    "for x in joint_samples.index:\n",
    "    a = joint_samples['Bitset'][x]\n",
    "    a = a.split(\", \")\n",
    "    a = re.sub('\\[', '', str(a))\n",
    "    a = re.sub('\\]', '', str(a))\n",
    "    tup = literal_eval(a)\n",
    "    joint_samples['Bitset'][x] = tup"
   ]
  },
  {
   "cell_type": "markdown",
   "id": "4139ba77",
   "metadata": {
    "pycharm": {
     "name": "#%% md\n"
    }
   },
   "source": [
    "## Relative feature tightness against a PMI interrelation profile"
   ]
  },
  {
   "cell_type": "code",
   "execution_count": 19,
   "id": "5b78b1e8",
   "metadata": {
    "collapsed": false,
    "jupyter": {
     "outputs_hidden": false
    },
    "pycharm": {
     "name": "#%%\n"
    }
   },
   "outputs": [],
   "source": [
    "joint_samples['RFT'] = joint_samples['Bitset'].apply(\n",
    "    lambda x: difference_pkld_profile.relative_feature_divergence(x))"
   ]
  },
  {
   "cell_type": "code",
   "execution_count": 20,
   "id": "30d14231",
   "metadata": {
    "collapsed": false,
    "jupyter": {
     "outputs_hidden": false
    },
    "pycharm": {
     "name": "#%%\n"
    }
   },
   "outputs": [
    {
     "data": {
      "image/png": "[encoded data removed]",
      "text/plain": [
       "<Figure size 842.4x595.44 with 1 Axes>"
      ]
     },
     "metadata": {},
     "output_type": "display_data"
    }
   ],
   "source": [
    "a4_dims = (11.7, 8.27)\n",
    "sns.set_style(\"darkgrid\")\n",
    "fig, ax = plt.subplots(figsize=a4_dims)\n",
    "sns.histplot(joint_samples, x='RFT', hue='Name')\n",
    "plt.savefig(f\"../images//joint_samples_RFT4.svg\", format=\"svg\")"
   ]
  },
  {
   "cell_type": "markdown",
   "id": "ba97db5d",
   "metadata": {
    "pycharm": {
     "name": "#%% md\n"
    }
   },
   "source": [
    "According to the histogram, there is a visible split between Relative feature tightness distribution against the pointwise KL divergence profile between COCONUT and ZINC datasets, based on their radius 2 fragments. Larger fragments might diverge even further."
   ]
  }
 ],
 "metadata": {
  "kernelspec": {
   "display_name": "Python 3 (ipykernel)",
   "language": "python",
   "name": "python3"
  },
  "language_info": {
   "codemirror_mode": {
    "name": "ipython",
    "version": 3
   },
   "file_extension": ".py",
   "mimetype": "text/x-python",
   "name": "python",
   "nbconvert_exporter": "python",
   "pygments_lexer": "ipython3",
   "version": "3.9.7"
  }
 },
 "nbformat": 4,
 "nbformat_minor": 5
}
