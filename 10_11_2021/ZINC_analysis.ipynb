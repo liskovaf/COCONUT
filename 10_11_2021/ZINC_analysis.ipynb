{
 "cells": [
  {
   "cell_type": "markdown",
   "id": "a10859b1-b35b-4736-a110-411a8443fdeb",
   "metadata": {},
   "source": [
    "# ZINC reference database analysis"
   ]
  },
  {
   "cell_type": "code",
   "execution_count": 1,
   "id": "3b615214-3f80-413d-a204-7391216a724c",
   "metadata": {},
   "outputs": [],
   "source": [
    "#Libraries\n",
    "from rdkit.Chem import AllChem as Chem\n",
    "from rdkit.Chem import Descriptors\n",
    "from rdkit.Chem.Draw import IPythonConsole\n",
    "import pandas as pd\n",
    "from rdkit.Chem import rdMolDescriptors as rdescriptors\n",
    "import matplotlib.pyplot as plt\n",
    "import seaborn as sns\n",
    "import numpy as np\n",
    "import re\n",
    "from rdkit import RDLogger \n",
    "RDLogger.DisableLog('rdApp.*') "
   ]
  },
  {
   "cell_type": "code",
   "execution_count": 2,
   "id": "e6315f56-9418-4cc4-be9f-ee7a12ef467f",
   "metadata": {},
   "outputs": [],
   "source": [
    "#Loading coconut database from sdf format\n",
    "coco = Chem.SDMolSupplier('COCONUT_DB.sdf')\n",
    "coco_d = [m for m in coco if m]"
   ]
  },
  {
   "cell_type": "code",
   "execution_count": 12,
   "id": "f1f6de9e-396e-4aa1-8745-32a441c97d31",
   "metadata": {},
   "outputs": [
    {
     "data": {
      "text/html": [
       "<div>\n",
       "<style scoped>\n",
       "    .dataframe tbody tr th:only-of-type {\n",
       "        vertical-align: middle;\n",
       "    }\n",
       "\n",
       "    .dataframe tbody tr th {\n",
       "        vertical-align: top;\n",
       "    }\n",
       "\n",
       "    .dataframe thead th {\n",
       "        text-align: right;\n",
       "    }\n",
       "</style>\n",
       "<table border=\"1\" class=\"dataframe\">\n",
       "  <thead>\n",
       "    <tr style=\"text-align: right;\">\n",
       "      <th></th>\n",
       "      <th>Smiles</th>\n",
       "      <th>zinc_id</th>\n",
       "    </tr>\n",
       "  </thead>\n",
       "  <tbody>\n",
       "    <tr>\n",
       "      <th>0</th>\n",
       "      <td>O=C1N[C@@H](O)[C@@H](O)N1</td>\n",
       "      <td>18258078</td>\n",
       "    </tr>\n",
       "    <tr>\n",
       "      <th>1</th>\n",
       "      <td>C[C@@](N)(CN)C(=O)O</td>\n",
       "      <td>34732614</td>\n",
       "    </tr>\n",
       "    <tr>\n",
       "      <th>2</th>\n",
       "      <td>N=C(N)NCCC[C@@H](N)C(=O)O</td>\n",
       "      <td>1532749</td>\n",
       "    </tr>\n",
       "    <tr>\n",
       "      <th>3</th>\n",
       "      <td>NNc1nc(NN)nc(NN)n1</td>\n",
       "      <td>4530618</td>\n",
       "    </tr>\n",
       "    <tr>\n",
       "      <th>4</th>\n",
       "      <td>CS(=O)(=O)N1CC2(CNC2)C1</td>\n",
       "      <td>96509193</td>\n",
       "    </tr>\n",
       "    <tr>\n",
       "      <th>...</th>\n",
       "      <td>...</td>\n",
       "      <td>...</td>\n",
       "    </tr>\n",
       "    <tr>\n",
       "      <th>438759</th>\n",
       "      <td>COc1ccc(-n2c(SCC(=O)Nc3cccc(C(C)=O)c3)nc3c(-c4...</td>\n",
       "      <td>245015144</td>\n",
       "    </tr>\n",
       "    <tr>\n",
       "      <th>438760</th>\n",
       "      <td>COc1ccc(/C=c2/sc3n(c2=O)[C@@H](c2cccs2)C(C(=O)...</td>\n",
       "      <td>8455166</td>\n",
       "    </tr>\n",
       "    <tr>\n",
       "      <th>438761</th>\n",
       "      <td>CCOC(=O)c1c(NC(=O)c2cc(-c3ccc4c(c3)OCO4)nc3ccc...</td>\n",
       "      <td>2086523</td>\n",
       "    </tr>\n",
       "    <tr>\n",
       "      <th>438762</th>\n",
       "      <td>COc1ccc(NC2=Nc3ccccc3N3C2=Nc2c(c(C)nn2-c2ccccc...</td>\n",
       "      <td>102450185</td>\n",
       "    </tr>\n",
       "    <tr>\n",
       "      <th>438763</th>\n",
       "      <td>CCCOc1ccc(-c2nn(-c3ccccc3)cc2CNC(=O)c2cc(-c3cc...</td>\n",
       "      <td>822982592</td>\n",
       "    </tr>\n",
       "  </tbody>\n",
       "</table>\n",
       "<p>438752 rows × 2 columns</p>\n",
       "</div>"
      ],
      "text/plain": [
       "                                                   Smiles    zinc_id\n",
       "0                               O=C1N[C@@H](O)[C@@H](O)N1   18258078\n",
       "1                                     C[C@@](N)(CN)C(=O)O   34732614\n",
       "2                               N=C(N)NCCC[C@@H](N)C(=O)O    1532749\n",
       "3                                      NNc1nc(NN)nc(NN)n1    4530618\n",
       "4                                 CS(=O)(=O)N1CC2(CNC2)C1   96509193\n",
       "...                                                   ...        ...\n",
       "438759  COc1ccc(-n2c(SCC(=O)Nc3cccc(C(C)=O)c3)nc3c(-c4...  245015144\n",
       "438760  COc1ccc(/C=c2/sc3n(c2=O)[C@@H](c2cccs2)C(C(=O)...    8455166\n",
       "438761  CCOC(=O)c1c(NC(=O)c2cc(-c3ccc4c(c3)OCO4)nc3ccc...    2086523\n",
       "438762  COc1ccc(NC2=Nc3ccccc3N3C2=Nc2c(c(C)nn2-c2ccccc...  102450185\n",
       "438763  CCCOc1ccc(-c2nn(-c3ccccc3)cc2CNC(=O)c2cc(-c3cc...  822982592\n",
       "\n",
       "[438752 rows x 2 columns]"
      ]
     },
     "execution_count": 12,
     "metadata": {},
     "output_type": "execute_result"
    }
   ],
   "source": [
    "#Loading zinc database from csv \n",
    "suppl_csv = pd.read_csv('ZINC_csv/ZINC3.csv', delimiter = ' ')\n",
    "suppl_csv1 = suppl_csv[suppl_csv.zinc_id != 'zinc_id']\n",
    "suppl_csv1\n",
    "#suppl_csv1.drop(suppl_csv.tail(1).index,inplace=True)"
   ]
  },
  {
   "cell_type": "code",
   "execution_count": 13,
   "id": "5de95c06-d7c3-42c8-8c33-c5b09641073f",
   "metadata": {},
   "outputs": [
    {
     "data": {
      "text/plain": [
       "438752"
      ]
     },
     "execution_count": 13,
     "metadata": {},
     "output_type": "execute_result"
    }
   ],
   "source": [
    "#Number of zinc products\n",
    "len(suppl_csv1)"
   ]
  },
  {
   "cell_type": "code",
   "execution_count": 14,
   "id": "32ae86a3-08e0-4a51-8cc4-de245f45cd8c",
   "metadata": {},
   "outputs": [
    {
     "data": {
      "text/html": [
       "<div>\n",
       "<style scoped>\n",
       "    .dataframe tbody tr th:only-of-type {\n",
       "        vertical-align: middle;\n",
       "    }\n",
       "\n",
       "    .dataframe tbody tr th {\n",
       "        vertical-align: top;\n",
       "    }\n",
       "\n",
       "    .dataframe thead th {\n",
       "        text-align: right;\n",
       "    }\n",
       "</style>\n",
       "<table border=\"1\" class=\"dataframe\">\n",
       "  <thead>\n",
       "    <tr style=\"text-align: right;\">\n",
       "      <th></th>\n",
       "      <th>Smiles</th>\n",
       "      <th>zinc_id</th>\n",
       "    </tr>\n",
       "  </thead>\n",
       "  <tbody>\n",
       "    <tr>\n",
       "      <th>0</th>\n",
       "      <td>O=C1N[C@@H](O)[C@@H](O)N1</td>\n",
       "      <td>18258078</td>\n",
       "    </tr>\n",
       "    <tr>\n",
       "      <th>1</th>\n",
       "      <td>C[C@@](N)(CN)C(=O)O</td>\n",
       "      <td>34732614</td>\n",
       "    </tr>\n",
       "    <tr>\n",
       "      <th>2</th>\n",
       "      <td>N=C(N)NCCC[C@@H](N)C(=O)O</td>\n",
       "      <td>1532749</td>\n",
       "    </tr>\n",
       "    <tr>\n",
       "      <th>3</th>\n",
       "      <td>NNc1nc(NN)nc(NN)n1</td>\n",
       "      <td>4530618</td>\n",
       "    </tr>\n",
       "    <tr>\n",
       "      <th>4</th>\n",
       "      <td>CS(=O)(=O)N1CC2(CNC2)C1</td>\n",
       "      <td>96509193</td>\n",
       "    </tr>\n",
       "    <tr>\n",
       "      <th>...</th>\n",
       "      <td>...</td>\n",
       "      <td>...</td>\n",
       "    </tr>\n",
       "    <tr>\n",
       "      <th>438759</th>\n",
       "      <td>COc1ccc(-n2c(SCC(=O)Nc3cccc(C(C)=O)c3)nc3c(-c4...</td>\n",
       "      <td>245015144</td>\n",
       "    </tr>\n",
       "    <tr>\n",
       "      <th>438760</th>\n",
       "      <td>COc1ccc(/C=c2/sc3n(c2=O)[C@@H](c2cccs2)C(C(=O)...</td>\n",
       "      <td>8455166</td>\n",
       "    </tr>\n",
       "    <tr>\n",
       "      <th>438761</th>\n",
       "      <td>CCOC(=O)c1c(NC(=O)c2cc(-c3ccc4c(c3)OCO4)nc3ccc...</td>\n",
       "      <td>2086523</td>\n",
       "    </tr>\n",
       "    <tr>\n",
       "      <th>438762</th>\n",
       "      <td>COc1ccc(NC2=Nc3ccccc3N3C2=Nc2c(c(C)nn2-c2ccccc...</td>\n",
       "      <td>102450185</td>\n",
       "    </tr>\n",
       "    <tr>\n",
       "      <th>438763</th>\n",
       "      <td>CCCOc1ccc(-c2nn(-c3ccccc3)cc2CNC(=O)c2cc(-c3cc...</td>\n",
       "      <td>822982592</td>\n",
       "    </tr>\n",
       "  </tbody>\n",
       "</table>\n",
       "<p>398285 rows × 2 columns</p>\n",
       "</div>"
      ],
      "text/plain": [
       "                                                   Smiles    zinc_id\n",
       "0                               O=C1N[C@@H](O)[C@@H](O)N1   18258078\n",
       "1                                     C[C@@](N)(CN)C(=O)O   34732614\n",
       "2                               N=C(N)NCCC[C@@H](N)C(=O)O    1532749\n",
       "3                                      NNc1nc(NN)nc(NN)n1    4530618\n",
       "4                                 CS(=O)(=O)N1CC2(CNC2)C1   96509193\n",
       "...                                                   ...        ...\n",
       "438759  COc1ccc(-n2c(SCC(=O)Nc3cccc(C(C)=O)c3)nc3c(-c4...  245015144\n",
       "438760  COc1ccc(/C=c2/sc3n(c2=O)[C@@H](c2cccs2)C(C(=O)...    8455166\n",
       "438761  CCOC(=O)c1c(NC(=O)c2cc(-c3ccc4c(c3)OCO4)nc3ccc...    2086523\n",
       "438762  COc1ccc(NC2=Nc3ccccc3N3C2=Nc2c(c(C)nn2-c2ccccc...  102450185\n",
       "438763  CCCOc1ccc(-c2nn(-c3ccccc3)cc2CNC(=O)c2cc(-c3cc...  822982592\n",
       "\n",
       "[398285 rows x 2 columns]"
      ]
     },
     "execution_count": 14,
     "metadata": {},
     "output_type": "execute_result"
    }
   ],
   "source": [
    "#Check duplicates in ZINC dataframe\n",
    "ids = suppl_csv1['zinc_id']\n",
    "suppl_csv1[ids.isin(ids[ids.duplicated()])].sort_values('zinc_id')\n",
    "#Drop duplicates\n",
    "suppl_csv1 = suppl_csv1.drop_duplicates(subset=['zinc_id'])\n",
    "suppl_csv1"
   ]
  },
  {
   "cell_type": "code",
   "execution_count": 15,
   "id": "e52bb82c-8a26-4c24-adb6-7768906972b8",
   "metadata": {},
   "outputs": [
    {
     "name": "stdout",
     "output_type": "stream",
     "text": [
      "398285\n",
      "398285\n",
      "398285\n"
     ]
    }
   ],
   "source": [
    "# List of molecular weights of zinc products\n",
    "ligandm_database = []\n",
    "for ligand in suppl_csv1[\"Smiles\"]:\n",
    "\t\tligandm_database.append(Chem.MolFromSmiles(ligand))\n",
    "#List of MW from csv\n",
    "db_MW_z = []\n",
    "for substance in ligandm_database:\n",
    "\t\tdb_MW_z.append(rdescriptors.CalcExactMolWt(substance))\n",
    "print(len(db_MW_z))\n",
    "#List of logP from csv\n",
    "db_logP_z = []\n",
    "for substance in ligandm_database:\n",
    "\t\tdb_logP_z.append(Descriptors.MolLogP(substance))\n",
    "print(len(db_logP_z))\n",
    "#List of INCHI from csv\n",
    "db_Inchi_z = []\n",
    "for substance in ligandm_database:\n",
    "\t\tdb_Inchi_z.append(Chem.MolToInchi((substance)))\n",
    "print(len(db_Inchi_z))\n"
   ]
  },
  {
   "cell_type": "code",
   "execution_count": 31,
   "id": "49ed3775-5139-4945-9acf-8ee7f035061f",
   "metadata": {},
   "outputs": [
    {
     "data": {
      "text/html": [
       "<div>\n",
       "<style scoped>\n",
       "    .dataframe tbody tr th:only-of-type {\n",
       "        vertical-align: middle;\n",
       "    }\n",
       "\n",
       "    .dataframe tbody tr th {\n",
       "        vertical-align: top;\n",
       "    }\n",
       "\n",
       "    .dataframe thead th {\n",
       "        text-align: right;\n",
       "    }\n",
       "</style>\n",
       "<table border=\"1\" class=\"dataframe\">\n",
       "  <thead>\n",
       "    <tr style=\"text-align: right;\">\n",
       "      <th></th>\n",
       "      <th>MW</th>\n",
       "      <th>logP</th>\n",
       "      <th>Smiles</th>\n",
       "      <th>Inchi</th>\n",
       "      <th>name</th>\n",
       "    </tr>\n",
       "  </thead>\n",
       "  <tbody>\n",
       "    <tr>\n",
       "      <th>0</th>\n",
       "      <td>118.037842</td>\n",
       "      <td>-2.06400</td>\n",
       "      <td>O=C1N[C@@H](O)[C@@H](O)N1</td>\n",
       "      <td>InChI=1S/C3H6N2O3/c6-1-2(7)5-3(8)4-1/h1-2,6-7H...</td>\n",
       "      <td>ZINC</td>\n",
       "    </tr>\n",
       "    <tr>\n",
       "      <th>1</th>\n",
       "      <td>118.074228</td>\n",
       "      <td>-1.25290</td>\n",
       "      <td>C[C@@](N)(CN)C(=O)O</td>\n",
       "      <td>InChI=1S/C4H10N2O2/c1-4(6,2-5)3(7)8/h2,5-6H2,1...</td>\n",
       "      <td>ZINC</td>\n",
       "    </tr>\n",
       "    <tr>\n",
       "      <th>2</th>\n",
       "      <td>174.111676</td>\n",
       "      <td>-1.33843</td>\n",
       "      <td>N=C(N)NCCC[C@@H](N)C(=O)O</td>\n",
       "      <td>InChI=1S/C6H14N4O2/c7-4(5(11)12)2-1-3-10-6(8)9...</td>\n",
       "      <td>ZINC</td>\n",
       "    </tr>\n",
       "    <tr>\n",
       "      <th>3</th>\n",
       "      <td>171.098091</td>\n",
       "      <td>-2.27160</td>\n",
       "      <td>NNc1nc(NN)nc(NN)n1</td>\n",
       "      <td>InChI=1S/C3H9N9/c4-10-1-7-2(11-5)9-3(8-1)12-6/...</td>\n",
       "      <td>ZINC</td>\n",
       "    </tr>\n",
       "    <tr>\n",
       "      <th>4</th>\n",
       "      <td>176.061949</td>\n",
       "      <td>-1.14880</td>\n",
       "      <td>CS(=O)(=O)N1CC2(CNC2)C1</td>\n",
       "      <td>InChI=1S/C6H12N2O2S/c1-11(9,10)8-4-6(5-8)2-7-3...</td>\n",
       "      <td>ZINC</td>\n",
       "    </tr>\n",
       "    <tr>\n",
       "      <th>...</th>\n",
       "      <td>...</td>\n",
       "      <td>...</td>\n",
       "      <td>...</td>\n",
       "      <td>...</td>\n",
       "      <td>...</td>\n",
       "    </tr>\n",
       "    <tr>\n",
       "      <th>438759</th>\n",
       "      <td>524.151826</td>\n",
       "      <td>5.32280</td>\n",
       "      <td>COc1ccc(-n2c(SCC(=O)Nc3cccc(C(C)=O)c3)nc3c(-c4...</td>\n",
       "      <td>InChI=1S/C29H24N4O4S/c1-18(34)20-9-6-10-21(15-...</td>\n",
       "      <td>ZINC</td>\n",
       "    </tr>\n",
       "    <tr>\n",
       "      <th>438760</th>\n",
       "      <td>679.122261</td>\n",
       "      <td>6.38782</td>\n",
       "      <td>COc1ccc(/C=c2/sc3n(c2=O)[C@@H](c2cccs2)C(C(=O)...</td>\n",
       "      <td>InChI=1S/C34H25F4N3O4S2/c1-17-7-4-5-8-23(17)40...</td>\n",
       "      <td>ZINC</td>\n",
       "    </tr>\n",
       "    <tr>\n",
       "      <th>438761</th>\n",
       "      <td>556.203193</td>\n",
       "      <td>7.27200</td>\n",
       "      <td>CCOC(=O)c1c(NC(=O)c2cc(-c3ccc4c(c3)OCO4)nc3ccc...</td>\n",
       "      <td>InChI=1S/C32H32N2O5S/c1-5-37-31(36)28-21-12-11...</td>\n",
       "      <td>ZINC</td>\n",
       "    </tr>\n",
       "    <tr>\n",
       "      <th>438762</th>\n",
       "      <td>550.134258</td>\n",
       "      <td>7.69952</td>\n",
       "      <td>COc1ccc(NC2=Nc3ccccc3N3C2=Nc2c(c(C)nn2-c2ccccc...</td>\n",
       "      <td>InChI=1S/C30H23ClN6OS/c1-18-26-27(25-13-8-16-3...</td>\n",
       "      <td>ZINC</td>\n",
       "    </tr>\n",
       "    <tr>\n",
       "      <th>438763</th>\n",
       "      <td>538.236876</td>\n",
       "      <td>7.47330</td>\n",
       "      <td>CCCOc1ccc(-c2nn(-c3ccccc3)cc2CNC(=O)c2cc(-c3cc...</td>\n",
       "      <td>InChI=1S/C35H30N4O2/c1-2-21-41-29-19-17-26(18-...</td>\n",
       "      <td>ZINC</td>\n",
       "    </tr>\n",
       "  </tbody>\n",
       "</table>\n",
       "<p>398285 rows × 5 columns</p>\n",
       "</div>"
      ],
      "text/plain": [
       "                MW     logP  \\\n",
       "0       118.037842 -2.06400   \n",
       "1       118.074228 -1.25290   \n",
       "2       174.111676 -1.33843   \n",
       "3       171.098091 -2.27160   \n",
       "4       176.061949 -1.14880   \n",
       "...            ...      ...   \n",
       "438759  524.151826  5.32280   \n",
       "438760  679.122261  6.38782   \n",
       "438761  556.203193  7.27200   \n",
       "438762  550.134258  7.69952   \n",
       "438763  538.236876  7.47330   \n",
       "\n",
       "                                                   Smiles  \\\n",
       "0                               O=C1N[C@@H](O)[C@@H](O)N1   \n",
       "1                                     C[C@@](N)(CN)C(=O)O   \n",
       "2                               N=C(N)NCCC[C@@H](N)C(=O)O   \n",
       "3                                      NNc1nc(NN)nc(NN)n1   \n",
       "4                                 CS(=O)(=O)N1CC2(CNC2)C1   \n",
       "...                                                   ...   \n",
       "438759  COc1ccc(-n2c(SCC(=O)Nc3cccc(C(C)=O)c3)nc3c(-c4...   \n",
       "438760  COc1ccc(/C=c2/sc3n(c2=O)[C@@H](c2cccs2)C(C(=O)...   \n",
       "438761  CCOC(=O)c1c(NC(=O)c2cc(-c3ccc4c(c3)OCO4)nc3ccc...   \n",
       "438762  COc1ccc(NC2=Nc3ccccc3N3C2=Nc2c(c(C)nn2-c2ccccc...   \n",
       "438763  CCCOc1ccc(-c2nn(-c3ccccc3)cc2CNC(=O)c2cc(-c3cc...   \n",
       "\n",
       "                                                    Inchi  name  \n",
       "0       InChI=1S/C3H6N2O3/c6-1-2(7)5-3(8)4-1/h1-2,6-7H...  ZINC  \n",
       "1       InChI=1S/C4H10N2O2/c1-4(6,2-5)3(7)8/h2,5-6H2,1...  ZINC  \n",
       "2       InChI=1S/C6H14N4O2/c7-4(5(11)12)2-1-3-10-6(8)9...  ZINC  \n",
       "3       InChI=1S/C3H9N9/c4-10-1-7-2(11-5)9-3(8-1)12-6/...  ZINC  \n",
       "4       InChI=1S/C6H12N2O2S/c1-11(9,10)8-4-6(5-8)2-7-3...  ZINC  \n",
       "...                                                   ...   ...  \n",
       "438759  InChI=1S/C29H24N4O4S/c1-18(34)20-9-6-10-21(15-...  ZINC  \n",
       "438760  InChI=1S/C34H25F4N3O4S2/c1-17-7-4-5-8-23(17)40...  ZINC  \n",
       "438761  InChI=1S/C32H32N2O5S/c1-5-37-31(36)28-21-12-11...  ZINC  \n",
       "438762  InChI=1S/C30H23ClN6OS/c1-18-26-27(25-13-8-16-3...  ZINC  \n",
       "438763  InChI=1S/C35H30N4O2/c1-2-21-41-29-19-17-26(18-...  ZINC  \n",
       "\n",
       "[398285 rows x 5 columns]"
      ]
     },
     "execution_count": 31,
     "metadata": {},
     "output_type": "execute_result"
    }
   ],
   "source": [
    "#Creating dataframe of logP and MW value of ZINC products\n",
    "df_ZINC = pd.DataFrame(data={'MW': db_MW_z,'logP': db_logP_z, 'Smiles': suppl_csv1['Smiles'], 'Inchi': db_Inchi_z})\n",
    "                    \n",
    "df_ZINC['name'] = \"ZINC\"\n",
    "df_ZINC"
   ]
  },
  {
   "cell_type": "code",
   "execution_count": 33,
   "id": "31c0b50e-2b70-48a2-886a-20ef4eaf9982",
   "metadata": {},
   "outputs": [
    {
     "data": {
      "text/plain": [
       "count    398285.000000\n",
       "mean          3.143991\n",
       "std           2.327206\n",
       "min         -17.490700\n",
       "25%           1.714500\n",
       "50%           3.167900\n",
       "75%           4.757400\n",
       "max          21.151800\n",
       "Name: logP, dtype: float64"
      ]
     },
     "execution_count": 33,
     "metadata": {},
     "output_type": "execute_result"
    }
   ],
   "source": [
    "#Statistic of ZINC'S logP values\n",
    "df_ZINC[\"logP\"].describe()"
   ]
  },
  {
   "cell_type": "code",
   "execution_count": 34,
   "id": "ca867b1c-8d76-4c1c-af8e-6525bf64f645",
   "metadata": {},
   "outputs": [
    {
     "data": {
      "text/plain": [
       "2.327205797072416"
      ]
     },
     "execution_count": 34,
     "metadata": {},
     "output_type": "execute_result"
    }
   ],
   "source": [
    "#Standard deviation of logP\n",
    "df_ZINC[\"logP\"].std()"
   ]
  },
  {
   "cell_type": "code",
   "execution_count": 35,
   "id": "afd0b9bb-f675-4f0a-ac5d-49018ca21bc2",
   "metadata": {},
   "outputs": [
    {
     "data": {
      "text/plain": [
       "count    398285.000000\n",
       "mean        413.713272\n",
       "std         131.675036\n",
       "min          52.006148\n",
       "25%         318.230728\n",
       "50%         408.216141\n",
       "75%         507.128215\n",
       "max        1045.534515\n",
       "Name: MW, dtype: float64"
      ]
     },
     "execution_count": 35,
     "metadata": {},
     "output_type": "execute_result"
    }
   ],
   "source": [
    "#Statistic of ZINC'S MW values\n",
    "df_ZINC[\"MW\"].describe()"
   ]
  },
  {
   "cell_type": "code",
   "execution_count": 36,
   "id": "14702676-61db-4546-9029-a311451ee51c",
   "metadata": {},
   "outputs": [
    {
     "data": {
      "image/png": "[encoded data removed]",
      "text/plain": [
       "<Figure size 360x360 with 1 Axes>"
      ]
     },
     "metadata": {},
     "output_type": "display_data"
    }
   ],
   "source": [
    "#Histogram of logP value of products\n",
    "sns.displot(df_ZINC, x=\"logP\" )\n",
    "plt.xlim(-20, 20);"
   ]
  },
  {
   "cell_type": "code",
   "execution_count": 37,
   "id": "cbde69f4-6ccc-4328-a3f9-dce038af6f2b",
   "metadata": {},
   "outputs": [
    {
     "data": {
      "image/png": "[encoded data removed]",
      "text/plain": [
       "<Figure size 360x360 with 1 Axes>"
      ]
     },
     "metadata": {},
     "output_type": "display_data"
    }
   ],
   "source": [
    "#Histogram of MW value of products\n",
    "sns.displot(df_ZINC, x=\"MW\" )\n",
    "plt.xlim(0, 1500);"
   ]
  },
  {
   "cell_type": "code",
   "execution_count": 38,
   "id": "4cc70847-7669-43aa-a99e-afdf01fc1d40",
   "metadata": {},
   "outputs": [
    {
     "data": {
      "text/plain": [
       "<AxesSubplot:>"
      ]
     },
     "execution_count": 38,
     "metadata": {},
     "output_type": "execute_result"
    },
    {
     "data": {
      "image/png": "[encoded data removed]",
      "text/plain": [
       "<Figure size 432x432 with 1 Axes>"
      ]
     },
     "metadata": {},
     "output_type": "display_data"
    }
   ],
   "source": [
    "#Boxplot of ZINC'S MW values\n",
    "sns.set(rc={'figure.figsize':(6, 6)})\n",
    "sns.boxplot(data=df_ZINC[['MW']], \n",
    "            palette = \"pastel\", \n",
    "            \n",
    "            showfliers = False)"
   ]
  },
  {
   "cell_type": "code",
   "execution_count": 39,
   "id": "ac5a4370-6cf7-4593-bded-d14ef2e7224f",
   "metadata": {},
   "outputs": [
    {
     "data": {
      "text/plain": [
       "<AxesSubplot:>"
      ]
     },
     "execution_count": 39,
     "metadata": {},
     "output_type": "execute_result"
    },
    {
     "data": {
      "image/png": "[encoded data removed]",
      "text/plain": [
       "<Figure size 432x432 with 1 Axes>"
      ]
     },
     "metadata": {},
     "output_type": "display_data"
    }
   ],
   "source": [
    "#Boxplot of ZINC'S logP values\n",
    "sns.set(rc={'figure.figsize':(6, 6)})\n",
    "sns.boxplot(data=df_ZINC[['logP']], \n",
    "            palette = \"pastel\", \n",
    "            showfliers = False)"
   ]
  },
  {
   "cell_type": "code",
   "execution_count": 40,
   "id": "2f5972e8-27e5-4734-924b-7cd48b3936f4",
   "metadata": {},
   "outputs": [
    {
     "name": "stdout",
     "output_type": "stream",
     "text": [
      "398285\n"
     ]
    }
   ],
   "source": [
    "print(len(df_ZINC))"
   ]
  },
  {
   "cell_type": "code",
   "execution_count": 41,
   "id": "a43141ab-7c51-4575-bfe8-5ab4cced703b",
   "metadata": {},
   "outputs": [
    {
     "name": "stdout",
     "output_type": "stream",
     "text": [
      "19775\n"
     ]
    }
   ],
   "source": [
    "print(len(df_ZINC.loc[(df_ZINC['MW'] > 200) & (df_ZINC['MW']<=250)]))"
   ]
  },
  {
   "cell_type": "code",
   "execution_count": 42,
   "id": "dc547943-6496-45a2-9f19-c5cffd8b1d83",
   "metadata": {},
   "outputs": [
    {
     "data": {
      "text/plain": [
       "[20722, 19775, 38544, 28668, 26963, 26906, 27768, 27638, 26093, 44389, 110819]"
      ]
     },
     "execution_count": 42,
     "metadata": {},
     "output_type": "execute_result"
    }
   ],
   "source": [
    "\n",
    "intervals = (0,200),(200,250),(250,300),(300,325),(325,350),(350,375),(375,400),(400,425),(425,450),(450,500),(500, 3500)\n",
    "numbers = []\n",
    "for count, value in enumerate(intervals):\n",
    "    numbers.append(len(df_ZINC.loc[(df_ZINC['MW'] > intervals[count][0]) & (df_ZINC['MW']<= intervals[count][1])]))\n",
    "numbers"
   ]
  },
  {
   "cell_type": "code",
   "execution_count": 43,
   "id": "885af04e-6e90-48cc-8fa5-14a4801bb4ea",
   "metadata": {},
   "outputs": [],
   "source": [
    "intervals_MW = (0,200),(200,250),(250,300),(300,325),(325,350),(350,375),(375,400),(400,425),(425,450),(450,500),(500, 3500)\n",
    "intervals_logP = (-34,-1),(-1,0),(0,1),(1,2),(2,2.5),(2.5,3),(3,3.5),(3.5,4),(4,4.5),(4.5,5),(5, 50)\n",
    "names = ['MW_0-200','MW_200-250','MW_250-300','MW_300-325','MW_325-350','MW_350-375','MW_375-400','MW_400-425','MW_425-450','MW_450-500','MW_500-3500']\n",
    "\n",
    "\n",
    "def MW(intervals):\n",
    "    return df_ZINC.loc[(df_ZINC['MW'] > intervals[0]) & (df_ZINC['MW'] <= intervals[1])]  \n",
    "\n",
    "df_MW_0_200 = MW([0,200])\n",
    "df_MW_200_250 = MW([200,250])\n",
    "df_MW_250_300 = MW([250,300])\n",
    "df_MW_300_325 = MW([300,325])\n",
    "df_MW_325_350 = MW([325,350])\n",
    "df_MW_350_375 = MW([350,375])\n",
    "df_MW_375_400 = MW([375,400])\n",
    "df_MW_400_425 = MW([400,425])\n",
    "df_MW_425_450 = MW([425,450])\n",
    "df_MW_450_500 = MW([450,500])\n",
    "df_MW_500_3500 = MW([500,3500])\n"
   ]
  },
  {
   "cell_type": "code",
   "execution_count": 44,
   "id": "7f20f272-2921-4c84-9164-8fd5621f660c",
   "metadata": {},
   "outputs": [
    {
     "data": {
      "text/plain": [
       "[20722, 19775, 38544, 28668, 26963, 26906, 27768, 27638, 26093, 44389, 110819]"
      ]
     },
     "execution_count": 44,
     "metadata": {},
     "output_type": "execute_result"
    }
   ],
   "source": [
    "intervals_MW = (0,200),(200,250),(250,300),(300,325),(325,350),(350,375),(375,400),(400,425),(425,450),(450,500),(500, 3500)\n",
    "intervals_logP = (-34,-1),(-1,0),(0,1),(1,2),(2,2.5),(2.5,3),(3,3.5),(3.5,4),(4,4.5),(4.5,5),(5, 50)\n",
    "\n",
    "def logP(df):\n",
    "    num = []\n",
    "    for count, value in enumerate(intervals_logP):\n",
    "        num.append(len(df.loc[(df['logP'] > intervals_logP[count][0]) & (df['logP']<= intervals_logP[count][1])]))\n",
    "    return num\n",
    "    \n",
    "df_logP_1 = logP(df_MW_0_200)\n",
    "df_logP_2 = logP(df_MW_200_250)\n",
    "df_logP_3 = logP(df_MW_250_300)\n",
    "df_logP_4 = logP(df_MW_300_325) \n",
    "df_logP_5 = logP(df_MW_325_350)\n",
    "df_logP_6 = logP(df_MW_350_375) \n",
    "df_logP_7 = logP(df_MW_375_400)\n",
    "df_logP_8 = logP(df_MW_400_425) \n",
    "df_logP_9 = logP(df_MW_425_450)\n",
    "df_logP_10 = logP(df_MW_450_500) \n",
    "df_logP_11 = logP(df_MW_500_3500)\n",
    "numbers"
   ]
  },
  {
   "cell_type": "code",
   "execution_count": 45,
   "id": "18a5944e-edc1-4e7b-8e59-2dabbdc63f28",
   "metadata": {},
   "outputs": [],
   "source": [
    "my_array =np.stack([df_logP_1, df_logP_2, df_logP_3,df_logP_4,df_logP_5,df_logP_6,df_logP_7,df_logP_8,df_logP_9,df_logP_10, df_logP_11], axis=1)"
   ]
  },
  {
   "cell_type": "code",
   "execution_count": 46,
   "id": "44226cc7-9bfd-4393-9654-2589fddb11d1",
   "metadata": {},
   "outputs": [
    {
     "data": {
      "text/html": [
       "<div>\n",
       "<style scoped>\n",
       "    .dataframe tbody tr th:only-of-type {\n",
       "        vertical-align: middle;\n",
       "    }\n",
       "\n",
       "    .dataframe tbody tr th {\n",
       "        vertical-align: top;\n",
       "    }\n",
       "\n",
       "    .dataframe thead th {\n",
       "        text-align: right;\n",
       "    }\n",
       "</style>\n",
       "<table border=\"1\" class=\"dataframe\">\n",
       "  <thead>\n",
       "    <tr style=\"text-align: right;\">\n",
       "      <th></th>\n",
       "      <th>200</th>\n",
       "      <th>250</th>\n",
       "      <th>300</th>\n",
       "      <th>325</th>\n",
       "      <th>350</th>\n",
       "      <th>375</th>\n",
       "      <th>400</th>\n",
       "      <th>425</th>\n",
       "      <th>450</th>\n",
       "      <th>500</th>\n",
       "      <th>&gt;500</th>\n",
       "    </tr>\n",
       "  </thead>\n",
       "  <tbody>\n",
       "    <tr>\n",
       "      <th>-1</th>\n",
       "      <td>1588</td>\n",
       "      <td>333</td>\n",
       "      <td>1401</td>\n",
       "      <td>999</td>\n",
       "      <td>1100</td>\n",
       "      <td>1100</td>\n",
       "      <td>819</td>\n",
       "      <td>895</td>\n",
       "      <td>831</td>\n",
       "      <td>1487</td>\n",
       "      <td>6179</td>\n",
       "    </tr>\n",
       "    <tr>\n",
       "      <th>0</th>\n",
       "      <td>2226</td>\n",
       "      <td>1201</td>\n",
       "      <td>1400</td>\n",
       "      <td>1199</td>\n",
       "      <td>1000</td>\n",
       "      <td>1000</td>\n",
       "      <td>949</td>\n",
       "      <td>921</td>\n",
       "      <td>927</td>\n",
       "      <td>1588</td>\n",
       "      <td>4334</td>\n",
       "    </tr>\n",
       "    <tr>\n",
       "      <th>1</th>\n",
       "      <td>5032</td>\n",
       "      <td>2503</td>\n",
       "      <td>3999</td>\n",
       "      <td>2498</td>\n",
       "      <td>2001</td>\n",
       "      <td>1999</td>\n",
       "      <td>1749</td>\n",
       "      <td>1603</td>\n",
       "      <td>1524</td>\n",
       "      <td>2408</td>\n",
       "      <td>7430</td>\n",
       "    </tr>\n",
       "    <tr>\n",
       "      <th>2</th>\n",
       "      <td>5852</td>\n",
       "      <td>4800</td>\n",
       "      <td>7994</td>\n",
       "      <td>4800</td>\n",
       "      <td>4006</td>\n",
       "      <td>4000</td>\n",
       "      <td>3533</td>\n",
       "      <td>2995</td>\n",
       "      <td>2191</td>\n",
       "      <td>3232</td>\n",
       "      <td>8827</td>\n",
       "    </tr>\n",
       "    <tr>\n",
       "      <th>2.5</th>\n",
       "      <td>2443</td>\n",
       "      <td>75</td>\n",
       "      <td>5002</td>\n",
       "      <td>3095</td>\n",
       "      <td>3000</td>\n",
       "      <td>3004</td>\n",
       "      <td>2605</td>\n",
       "      <td>2307</td>\n",
       "      <td>1696</td>\n",
       "      <td>2215</td>\n",
       "      <td>4938</td>\n",
       "    </tr>\n",
       "    <tr>\n",
       "      <th>3</th>\n",
       "      <td>1850</td>\n",
       "      <td>3402</td>\n",
       "      <td>5001</td>\n",
       "      <td>3394</td>\n",
       "      <td>3802</td>\n",
       "      <td>3801</td>\n",
       "      <td>3145</td>\n",
       "      <td>2742</td>\n",
       "      <td>2069</td>\n",
       "      <td>3007</td>\n",
       "      <td>5629</td>\n",
       "    </tr>\n",
       "    <tr>\n",
       "      <th>3.5</th>\n",
       "      <td>1039</td>\n",
       "      <td>2604</td>\n",
       "      <td>5003</td>\n",
       "      <td>3003</td>\n",
       "      <td>3213</td>\n",
       "      <td>3214</td>\n",
       "      <td>3255</td>\n",
       "      <td>2983</td>\n",
       "      <td>2488</td>\n",
       "      <td>3532</td>\n",
       "      <td>6054</td>\n",
       "    </tr>\n",
       "    <tr>\n",
       "      <th>4</th>\n",
       "      <td>429</td>\n",
       "      <td>2202</td>\n",
       "      <td>3004</td>\n",
       "      <td>3202</td>\n",
       "      <td>2712</td>\n",
       "      <td>2691</td>\n",
       "      <td>2968</td>\n",
       "      <td>2945</td>\n",
       "      <td>2617</td>\n",
       "      <td>3765</td>\n",
       "      <td>6166</td>\n",
       "    </tr>\n",
       "    <tr>\n",
       "      <th>4.5</th>\n",
       "      <td>183</td>\n",
       "      <td>1404</td>\n",
       "      <td>2022</td>\n",
       "      <td>2687</td>\n",
       "      <td>2003</td>\n",
       "      <td>1997</td>\n",
       "      <td>2646</td>\n",
       "      <td>2703</td>\n",
       "      <td>2605</td>\n",
       "      <td>4078</td>\n",
       "      <td>6513</td>\n",
       "    </tr>\n",
       "    <tr>\n",
       "      <th>5</th>\n",
       "      <td>62</td>\n",
       "      <td>851</td>\n",
       "      <td>1408</td>\n",
       "      <td>1797</td>\n",
       "      <td>1808</td>\n",
       "      <td>1800</td>\n",
       "      <td>1970</td>\n",
       "      <td>2520</td>\n",
       "      <td>2316</td>\n",
       "      <td>3999</td>\n",
       "      <td>6395</td>\n",
       "    </tr>\n",
       "    <tr>\n",
       "      <th>&gt;5</th>\n",
       "      <td>18</td>\n",
       "      <td>400</td>\n",
       "      <td>2310</td>\n",
       "      <td>1994</td>\n",
       "      <td>2318</td>\n",
       "      <td>2300</td>\n",
       "      <td>4129</td>\n",
       "      <td>5024</td>\n",
       "      <td>6829</td>\n",
       "      <td>15078</td>\n",
       "      <td>48354</td>\n",
       "    </tr>\n",
       "  </tbody>\n",
       "</table>\n",
       "</div>"
      ],
      "text/plain": [
       "      200   250   300   325   350   375   400   425   450    500   >500\n",
       "-1   1588   333  1401   999  1100  1100   819   895   831   1487   6179\n",
       "0    2226  1201  1400  1199  1000  1000   949   921   927   1588   4334\n",
       "1    5032  2503  3999  2498  2001  1999  1749  1603  1524   2408   7430\n",
       "2    5852  4800  7994  4800  4006  4000  3533  2995  2191   3232   8827\n",
       "2.5  2443    75  5002  3095  3000  3004  2605  2307  1696   2215   4938\n",
       "3    1850  3402  5001  3394  3802  3801  3145  2742  2069   3007   5629\n",
       "3.5  1039  2604  5003  3003  3213  3214  3255  2983  2488   3532   6054\n",
       "4     429  2202  3004  3202  2712  2691  2968  2945  2617   3765   6166\n",
       "4.5   183  1404  2022  2687  2003  1997  2646  2703  2605   4078   6513\n",
       "5      62   851  1408  1797  1808  1800  1970  2520  2316   3999   6395\n",
       ">5     18   400  2310  1994  2318  2300  4129  5024  6829  15078  48354"
      ]
     },
     "execution_count": 46,
     "metadata": {},
     "output_type": "execute_result"
    }
   ],
   "source": [
    "df_array = pd.DataFrame(my_array, columns = ['200','250','300','325','350','375','400','425', '450','500','>500'],\n",
    "                        index=['-1', '0','1','2','2.5','3','3.5','4','4.5','5','>5'])\n",
    "df_array"
   ]
  },
  {
   "cell_type": "code",
   "execution_count": 47,
   "id": "fbd90dcf-1d21-41bd-b71d-55b23c2296c1",
   "metadata": {},
   "outputs": [],
   "source": [
    "# List of molecular weights of natural products\n",
    "db_mw = []\n",
    "for substance in coco_d:\n",
    "\t\tdb_mw.append(rdescriptors.CalcExactMolWt(substance))"
   ]
  },
  {
   "cell_type": "code",
   "execution_count": 4,
   "id": "13bb68ee-add7-4147-bc92-5fa249b743e3",
   "metadata": {},
   "outputs": [],
   "source": [
    "# List of molecular octanol-water partition coefficient\n",
    "db_logP = []\n",
    "for substance in coco_d:\n",
    "\t\tdb_logP.append(Descriptors.MolLogP(substance))"
   ]
  },
  {
   "cell_type": "code",
   "execution_count": 5,
   "id": "3e97737f-947f-4874-bd28-ac1e5a9b6dfa",
   "metadata": {},
   "outputs": [],
   "source": [
    "#List of smiles\n",
    "db_smiles = []\n",
    "for substance in coco_d:\n",
    "\t\tdb_smiles.append(Chem.MolToSmiles(substance))"
   ]
  },
  {
   "cell_type": "code",
   "execution_count": 6,
   "id": "064d27fd-5f1e-44dc-afea-745d71bb1d8f",
   "metadata": {},
   "outputs": [],
   "source": [
    "#List of Inchi\n",
    "db_Inchi = []\n",
    "for substance in coco_d:\n",
    "\t\tdb_Inchi.append(substance.GetProp('inchi'))"
   ]
  },
  {
   "cell_type": "code",
   "execution_count": 7,
   "id": "cf651d2b-d1ed-4373-b484-ce85b19b82a7",
   "metadata": {},
   "outputs": [
    {
     "data": {
      "text/html": [
       "<div>\n",
       "<style scoped>\n",
       "    .dataframe tbody tr th:only-of-type {\n",
       "        vertical-align: middle;\n",
       "    }\n",
       "\n",
       "    .dataframe tbody tr th {\n",
       "        vertical-align: top;\n",
       "    }\n",
       "\n",
       "    .dataframe thead th {\n",
       "        text-align: right;\n",
       "    }\n",
       "</style>\n",
       "<table border=\"1\" class=\"dataframe\">\n",
       "  <thead>\n",
       "    <tr style=\"text-align: right;\">\n",
       "      <th></th>\n",
       "      <th>MW</th>\n",
       "      <th>logP</th>\n",
       "      <th>Smiles</th>\n",
       "      <th>Inchi</th>\n",
       "      <th>name</th>\n",
       "    </tr>\n",
       "  </thead>\n",
       "  <tbody>\n",
       "    <tr>\n",
       "      <th>0</th>\n",
       "      <td>660.183639</td>\n",
       "      <td>-2.08210</td>\n",
       "      <td>CC=C(N=CS)C(=O)OC1C(COC(C)=O)OC(C2(O)CC(=O)C(N...</td>\n",
       "      <td>InChI=1S/C27H36N2O15S/c1-5-12(29-9-45)26(37)44...</td>\n",
       "      <td>COCO</td>\n",
       "    </tr>\n",
       "    <tr>\n",
       "      <th>1</th>\n",
       "      <td>598.183897</td>\n",
       "      <td>3.63422</td>\n",
       "      <td>COc1cc(C)cc2c1C(=O)OC1C(O)C=CC3c4c(cc(OC)c5c4C...</td>\n",
       "      <td>InChI=1S/C34H30O10/c1-14-10-16-24(21(11-14)42-...</td>\n",
       "      <td>COCO</td>\n",
       "    </tr>\n",
       "    <tr>\n",
       "      <th>2</th>\n",
       "      <td>554.157682</td>\n",
       "      <td>3.32262</td>\n",
       "      <td>COc1cc(C)cc2c1C(=O)OC1C(O)C=CC3c4c(cc(OC)c5c4C...</td>\n",
       "      <td>InChI=1S/C32H26O9/c1-13-9-16-24(20(10-13)39-2)...</td>\n",
       "      <td>COCO</td>\n",
       "    </tr>\n",
       "    <tr>\n",
       "      <th>3</th>\n",
       "      <td>534.298139</td>\n",
       "      <td>6.87940</td>\n",
       "      <td>CC1(C)CC2C(OC(=O)c3ccccc3)C(OC(=O)c3ccccc3)CC(...</td>\n",
       "      <td>InChI=1S/C33H42O6/c1-31(2,3)30(36)37-18-17-33(...</td>\n",
       "      <td>COCO</td>\n",
       "    </tr>\n",
       "    <tr>\n",
       "      <th>4</th>\n",
       "      <td>540.142032</td>\n",
       "      <td>3.01962</td>\n",
       "      <td>COc1cc(C)cc2c1C(=O)OC1C(O)C=CC3c4c(cc(O)c5c4C(...</td>\n",
       "      <td>InChI=1S/C31H24O9/c1-12-8-15-23(20(9-12)39-2)3...</td>\n",
       "      <td>COCO</td>\n",
       "    </tr>\n",
       "    <tr>\n",
       "      <th>...</th>\n",
       "      <td>...</td>\n",
       "      <td>...</td>\n",
       "      <td>...</td>\n",
       "      <td>...</td>\n",
       "      <td>...</td>\n",
       "    </tr>\n",
       "    <tr>\n",
       "      <th>405955</th>\n",
       "      <td>216.078644</td>\n",
       "      <td>2.75660</td>\n",
       "      <td>COc1cccc2ccc(C(C)=O)c(O)c12</td>\n",
       "      <td>InChI=1S/C13H12O3/c1-8(14)10-7-6-9-4-3-5-11(16...</td>\n",
       "      <td>COCO</td>\n",
       "    </tr>\n",
       "    <tr>\n",
       "      <th>405956</th>\n",
       "      <td>570.188983</td>\n",
       "      <td>4.77902</td>\n",
       "      <td>COc1cc(OC)c2c(c1)C(OC)(c1ccc3c(c1O)C(=O)c1c(O)...</td>\n",
       "      <td>InChI=1S/C33H30O9/c1-14-9-19-26(23(34)10-14)32...</td>\n",
       "      <td>COCO</td>\n",
       "    </tr>\n",
       "    <tr>\n",
       "      <th>405957</th>\n",
       "      <td>420.157288</td>\n",
       "      <td>4.82510</td>\n",
       "      <td>CC1(C)C=Cc2cc(C3COc4c5c(cc(O)c4C3=O)OC(C)(C)C=...</td>\n",
       "      <td>InChI=1S/C25H24O6/c1-24(2)7-5-13-9-15(17(26)10...</td>\n",
       "      <td>COCO</td>\n",
       "    </tr>\n",
       "    <tr>\n",
       "      <th>405958</th>\n",
       "      <td>1183.685261</td>\n",
       "      <td>-1.20930</td>\n",
       "      <td>CCCCCCCC1CC(=O)NC(CO)C(=O)NC(CO)C(=O)N2CCCC2C(...</td>\n",
       "      <td>InChI=1S/C58H93N11O15/c1-8-11-12-13-14-17-37-2...</td>\n",
       "      <td>COCO</td>\n",
       "    </tr>\n",
       "    <tr>\n",
       "      <th>405959</th>\n",
       "      <td>1456.817732</td>\n",
       "      <td>-3.86630</td>\n",
       "      <td>CCCCCCCC1CC(=O)NC(C(C)C)C(=O)NC(C(O)C(C)C)C(=O...</td>\n",
       "      <td>InChI=1S/C69H112N14O20/c1-13-15-16-17-21-24-41...</td>\n",
       "      <td>COCO</td>\n",
       "    </tr>\n",
       "  </tbody>\n",
       "</table>\n",
       "<p>405960 rows × 5 columns</p>\n",
       "</div>"
      ],
      "text/plain": [
       "                 MW     logP  \\\n",
       "0        660.183639 -2.08210   \n",
       "1        598.183897  3.63422   \n",
       "2        554.157682  3.32262   \n",
       "3        534.298139  6.87940   \n",
       "4        540.142032  3.01962   \n",
       "...             ...      ...   \n",
       "405955   216.078644  2.75660   \n",
       "405956   570.188983  4.77902   \n",
       "405957   420.157288  4.82510   \n",
       "405958  1183.685261 -1.20930   \n",
       "405959  1456.817732 -3.86630   \n",
       "\n",
       "                                                   Smiles  \\\n",
       "0       CC=C(N=CS)C(=O)OC1C(COC(C)=O)OC(C2(O)CC(=O)C(N...   \n",
       "1       COc1cc(C)cc2c1C(=O)OC1C(O)C=CC3c4c(cc(OC)c5c4C...   \n",
       "2       COc1cc(C)cc2c1C(=O)OC1C(O)C=CC3c4c(cc(OC)c5c4C...   \n",
       "3       CC1(C)CC2C(OC(=O)c3ccccc3)C(OC(=O)c3ccccc3)CC(...   \n",
       "4       COc1cc(C)cc2c1C(=O)OC1C(O)C=CC3c4c(cc(O)c5c4C(...   \n",
       "...                                                   ...   \n",
       "405955                        COc1cccc2ccc(C(C)=O)c(O)c12   \n",
       "405956  COc1cc(OC)c2c(c1)C(OC)(c1ccc3c(c1O)C(=O)c1c(O)...   \n",
       "405957  CC1(C)C=Cc2cc(C3COc4c5c(cc(O)c4C3=O)OC(C)(C)C=...   \n",
       "405958  CCCCCCCC1CC(=O)NC(CO)C(=O)NC(CO)C(=O)N2CCCC2C(...   \n",
       "405959  CCCCCCCC1CC(=O)NC(C(C)C)C(=O)NC(C(O)C(C)C)C(=O...   \n",
       "\n",
       "                                                    Inchi  name  \n",
       "0       InChI=1S/C27H36N2O15S/c1-5-12(29-9-45)26(37)44...  COCO  \n",
       "1       InChI=1S/C34H30O10/c1-14-10-16-24(21(11-14)42-...  COCO  \n",
       "2       InChI=1S/C32H26O9/c1-13-9-16-24(20(10-13)39-2)...  COCO  \n",
       "3       InChI=1S/C33H42O6/c1-31(2,3)30(36)37-18-17-33(...  COCO  \n",
       "4       InChI=1S/C31H24O9/c1-12-8-15-23(20(9-12)39-2)3...  COCO  \n",
       "...                                                   ...   ...  \n",
       "405955  InChI=1S/C13H12O3/c1-8(14)10-7-6-9-4-3-5-11(16...  COCO  \n",
       "405956  InChI=1S/C33H30O9/c1-14-9-19-26(23(34)10-14)32...  COCO  \n",
       "405957  InChI=1S/C25H24O6/c1-24(2)7-5-13-9-15(17(26)10...  COCO  \n",
       "405958  InChI=1S/C58H93N11O15/c1-8-11-12-13-14-17-37-2...  COCO  \n",
       "405959  InChI=1S/C69H112N14O20/c1-13-15-16-17-21-24-41...  COCO  \n",
       "\n",
       "[405960 rows x 5 columns]"
      ]
     },
     "execution_count": 7,
     "metadata": {},
     "output_type": "execute_result"
    }
   ],
   "source": [
    "#Creating dataframe of logP and MW value of COCONUT products\n",
    "df_COCO = pd.DataFrame(data={'MW': db_mw,'logP': db_logP , 'Smiles': db_smiles, 'Inchi': db_Inchi})\n",
    "df_COCO['name'] = \"COCO\"\n",
    "df_COCO"
   ]
  },
  {
   "cell_type": "code",
   "execution_count": 8,
   "id": "6916d96a-dd95-417d-9ed9-d0c731e04610",
   "metadata": {},
   "outputs": [
    {
     "data": {
      "image/png": "[encoded data removed]",
      "text/plain": [
       "<Figure size 360x360 with 1 Axes>"
      ]
     },
     "metadata": {
      "needs_background": "light"
     },
     "output_type": "display_data"
    }
   ],
   "source": [
    "#Histogram of logP value of products\n",
    "sns.displot(df_COCO, x=\"logP\" )\n",
    "plt.xlim(-20, 20);"
   ]
  },
  {
   "cell_type": "code",
   "execution_count": 9,
   "id": "e45df938-ffa3-4d4f-9a6b-3cdd45704889",
   "metadata": {},
   "outputs": [
    {
     "data": {
      "image/png": "[encoded data removed]",
      "text/plain": [
       "<Figure size 360x360 with 1 Axes>"
      ]
     },
     "metadata": {
      "needs_background": "light"
     },
     "output_type": "display_data"
    }
   ],
   "source": [
    "#Histogram of MW value of products\n",
    "sns.displot(df_COCO, x=\"MW\" )\n",
    "plt.xlim(0, 2000);"
   ]
  },
  {
   "cell_type": "code",
   "execution_count": 48,
   "id": "72447f0e-0fe2-48a4-8ba6-1138de99a5c6",
   "metadata": {},
   "outputs": [
    {
     "data": {
      "text/html": [
       "<div>\n",
       "<style scoped>\n",
       "    .dataframe tbody tr th:only-of-type {\n",
       "        vertical-align: middle;\n",
       "    }\n",
       "\n",
       "    .dataframe tbody tr th {\n",
       "        vertical-align: top;\n",
       "    }\n",
       "\n",
       "    .dataframe thead th {\n",
       "        text-align: right;\n",
       "    }\n",
       "</style>\n",
       "<table border=\"1\" class=\"dataframe\">\n",
       "  <thead>\n",
       "    <tr style=\"text-align: right;\">\n",
       "      <th></th>\n",
       "      <th>MW</th>\n",
       "      <th>logP</th>\n",
       "      <th>Smiles</th>\n",
       "      <th>Inchi</th>\n",
       "      <th>name</th>\n",
       "    </tr>\n",
       "  </thead>\n",
       "  <tbody>\n",
       "    <tr>\n",
       "      <th>0</th>\n",
       "      <td>660.183639</td>\n",
       "      <td>-2.08210</td>\n",
       "      <td>CC=C(N=CS)C(=O)OC1C(COC(C)=O)OC(C2(O)CC(=O)C(N...</td>\n",
       "      <td>InChI=1S/C27H36N2O15S/c1-5-12(29-9-45)26(37)44...</td>\n",
       "      <td>COCO</td>\n",
       "    </tr>\n",
       "    <tr>\n",
       "      <th>1</th>\n",
       "      <td>598.183897</td>\n",
       "      <td>3.63422</td>\n",
       "      <td>COc1cc(C)cc2c1C(=O)OC1C(O)C=CC3c4c(cc(OC)c5c4C...</td>\n",
       "      <td>InChI=1S/C34H30O10/c1-14-10-16-24(21(11-14)42-...</td>\n",
       "      <td>COCO</td>\n",
       "    </tr>\n",
       "    <tr>\n",
       "      <th>2</th>\n",
       "      <td>554.157682</td>\n",
       "      <td>3.32262</td>\n",
       "      <td>COc1cc(C)cc2c1C(=O)OC1C(O)C=CC3c4c(cc(OC)c5c4C...</td>\n",
       "      <td>InChI=1S/C32H26O9/c1-13-9-16-24(20(10-13)39-2)...</td>\n",
       "      <td>COCO</td>\n",
       "    </tr>\n",
       "    <tr>\n",
       "      <th>3</th>\n",
       "      <td>534.298139</td>\n",
       "      <td>6.87940</td>\n",
       "      <td>CC1(C)CC2C(OC(=O)c3ccccc3)C(OC(=O)c3ccccc3)CC(...</td>\n",
       "      <td>InChI=1S/C33H42O6/c1-31(2,3)30(36)37-18-17-33(...</td>\n",
       "      <td>COCO</td>\n",
       "    </tr>\n",
       "    <tr>\n",
       "      <th>4</th>\n",
       "      <td>540.142032</td>\n",
       "      <td>3.01962</td>\n",
       "      <td>COc1cc(C)cc2c1C(=O)OC1C(O)C=CC3c4c(cc(O)c5c4C(...</td>\n",
       "      <td>InChI=1S/C31H24O9/c1-12-8-15-23(20(9-12)39-2)3...</td>\n",
       "      <td>COCO</td>\n",
       "    </tr>\n",
       "    <tr>\n",
       "      <th>...</th>\n",
       "      <td>...</td>\n",
       "      <td>...</td>\n",
       "      <td>...</td>\n",
       "      <td>...</td>\n",
       "      <td>...</td>\n",
       "    </tr>\n",
       "    <tr>\n",
       "      <th>438759</th>\n",
       "      <td>524.151826</td>\n",
       "      <td>5.32280</td>\n",
       "      <td>COc1ccc(-n2c(SCC(=O)Nc3cccc(C(C)=O)c3)nc3c(-c4...</td>\n",
       "      <td>InChI=1S/C29H24N4O4S/c1-18(34)20-9-6-10-21(15-...</td>\n",
       "      <td>ZINC</td>\n",
       "    </tr>\n",
       "    <tr>\n",
       "      <th>438760</th>\n",
       "      <td>679.122261</td>\n",
       "      <td>6.38782</td>\n",
       "      <td>COc1ccc(/C=c2/sc3n(c2=O)[C@@H](c2cccs2)C(C(=O)...</td>\n",
       "      <td>InChI=1S/C34H25F4N3O4S2/c1-17-7-4-5-8-23(17)40...</td>\n",
       "      <td>ZINC</td>\n",
       "    </tr>\n",
       "    <tr>\n",
       "      <th>438761</th>\n",
       "      <td>556.203193</td>\n",
       "      <td>7.27200</td>\n",
       "      <td>CCOC(=O)c1c(NC(=O)c2cc(-c3ccc4c(c3)OCO4)nc3ccc...</td>\n",
       "      <td>InChI=1S/C32H32N2O5S/c1-5-37-31(36)28-21-12-11...</td>\n",
       "      <td>ZINC</td>\n",
       "    </tr>\n",
       "    <tr>\n",
       "      <th>438762</th>\n",
       "      <td>550.134258</td>\n",
       "      <td>7.69952</td>\n",
       "      <td>COc1ccc(NC2=Nc3ccccc3N3C2=Nc2c(c(C)nn2-c2ccccc...</td>\n",
       "      <td>InChI=1S/C30H23ClN6OS/c1-18-26-27(25-13-8-16-3...</td>\n",
       "      <td>ZINC</td>\n",
       "    </tr>\n",
       "    <tr>\n",
       "      <th>438763</th>\n",
       "      <td>538.236876</td>\n",
       "      <td>7.47330</td>\n",
       "      <td>CCCOc1ccc(-c2nn(-c3ccccc3)cc2CNC(=O)c2cc(-c3cc...</td>\n",
       "      <td>InChI=1S/C35H30N4O2/c1-2-21-41-29-19-17-26(18-...</td>\n",
       "      <td>ZINC</td>\n",
       "    </tr>\n",
       "  </tbody>\n",
       "</table>\n",
       "<p>804245 rows × 5 columns</p>\n",
       "</div>"
      ],
      "text/plain": [
       "                MW     logP  \\\n",
       "0       660.183639 -2.08210   \n",
       "1       598.183897  3.63422   \n",
       "2       554.157682  3.32262   \n",
       "3       534.298139  6.87940   \n",
       "4       540.142032  3.01962   \n",
       "...            ...      ...   \n",
       "438759  524.151826  5.32280   \n",
       "438760  679.122261  6.38782   \n",
       "438761  556.203193  7.27200   \n",
       "438762  550.134258  7.69952   \n",
       "438763  538.236876  7.47330   \n",
       "\n",
       "                                                   Smiles  \\\n",
       "0       CC=C(N=CS)C(=O)OC1C(COC(C)=O)OC(C2(O)CC(=O)C(N...   \n",
       "1       COc1cc(C)cc2c1C(=O)OC1C(O)C=CC3c4c(cc(OC)c5c4C...   \n",
       "2       COc1cc(C)cc2c1C(=O)OC1C(O)C=CC3c4c(cc(OC)c5c4C...   \n",
       "3       CC1(C)CC2C(OC(=O)c3ccccc3)C(OC(=O)c3ccccc3)CC(...   \n",
       "4       COc1cc(C)cc2c1C(=O)OC1C(O)C=CC3c4c(cc(O)c5c4C(...   \n",
       "...                                                   ...   \n",
       "438759  COc1ccc(-n2c(SCC(=O)Nc3cccc(C(C)=O)c3)nc3c(-c4...   \n",
       "438760  COc1ccc(/C=c2/sc3n(c2=O)[C@@H](c2cccs2)C(C(=O)...   \n",
       "438761  CCOC(=O)c1c(NC(=O)c2cc(-c3ccc4c(c3)OCO4)nc3ccc...   \n",
       "438762  COc1ccc(NC2=Nc3ccccc3N3C2=Nc2c(c(C)nn2-c2ccccc...   \n",
       "438763  CCCOc1ccc(-c2nn(-c3ccccc3)cc2CNC(=O)c2cc(-c3cc...   \n",
       "\n",
       "                                                    Inchi  name  \n",
       "0       InChI=1S/C27H36N2O15S/c1-5-12(29-9-45)26(37)44...  COCO  \n",
       "1       InChI=1S/C34H30O10/c1-14-10-16-24(21(11-14)42-...  COCO  \n",
       "2       InChI=1S/C32H26O9/c1-13-9-16-24(20(10-13)39-2)...  COCO  \n",
       "3       InChI=1S/C33H42O6/c1-31(2,3)30(36)37-18-17-33(...  COCO  \n",
       "4       InChI=1S/C31H24O9/c1-12-8-15-23(20(9-12)39-2)3...  COCO  \n",
       "...                                                   ...   ...  \n",
       "438759  InChI=1S/C29H24N4O4S/c1-18(34)20-9-6-10-21(15-...  ZINC  \n",
       "438760  InChI=1S/C34H25F4N3O4S2/c1-17-7-4-5-8-23(17)40...  ZINC  \n",
       "438761  InChI=1S/C32H32N2O5S/c1-5-37-31(36)28-21-12-11...  ZINC  \n",
       "438762  InChI=1S/C30H23ClN6OS/c1-18-26-27(25-13-8-16-3...  ZINC  \n",
       "438763  InChI=1S/C35H30N4O2/c1-2-21-41-29-19-17-26(18-...  ZINC  \n",
       "\n",
       "[804245 rows x 5 columns]"
      ]
     },
     "execution_count": 48,
     "metadata": {},
     "output_type": "execute_result"
    }
   ],
   "source": [
    "#Join ZINC and COCONUT data\n",
    "df_merge = pd.concat([df_COCO,df_ZINC], axis=0)\n",
    "df_merge"
   ]
  },
  {
   "cell_type": "code",
   "execution_count": 53,
   "id": "542700f7-a361-41a8-9f4c-53ec896a4bf3",
   "metadata": {},
   "outputs": [
    {
     "data": {
      "text/html": [
       "<div>\n",
       "<style scoped>\n",
       "    .dataframe tbody tr th:only-of-type {\n",
       "        vertical-align: middle;\n",
       "    }\n",
       "\n",
       "    .dataframe tbody tr th {\n",
       "        vertical-align: top;\n",
       "    }\n",
       "\n",
       "    .dataframe thead th {\n",
       "        text-align: right;\n",
       "    }\n",
       "</style>\n",
       "<table border=\"1\" class=\"dataframe\">\n",
       "  <thead>\n",
       "    <tr style=\"text-align: right;\">\n",
       "      <th></th>\n",
       "      <th>MW</th>\n",
       "      <th>logP</th>\n",
       "      <th>Smiles</th>\n",
       "      <th>Inchi</th>\n",
       "      <th>name</th>\n",
       "    </tr>\n",
       "  </thead>\n",
       "  <tbody>\n",
       "  </tbody>\n",
       "</table>\n",
       "</div>"
      ],
      "text/plain": [
       "Empty DataFrame\n",
       "Columns: [MW, logP, Smiles, Inchi, name]\n",
       "Index: []"
      ]
     },
     "execution_count": 53,
     "metadata": {},
     "output_type": "execute_result"
    }
   ],
   "source": [
    "#Check dplicate in both dataframes by Inchi\n",
    "ids = df_merge['Inchi']\n",
    "df_merge = df_merge[ids.isin(ids[ids.duplicated()])].sort_values('Inchi')\n",
    "df_merge"
   ]
  },
  {
   "cell_type": "code",
   "execution_count": 65,
   "id": "3a94ff97-394b-4f44-b127-1de52813d77f",
   "metadata": {},
   "outputs": [
    {
     "data": {
      "text/plain": [
       "[20733, 23172, 34127, 24327, 27387, 28633, 27732, 28910, 26016, 40637, 124286]"
      ]
     },
     "execution_count": 65,
     "metadata": {},
     "output_type": "execute_result"
    }
   ],
   "source": [
    "#Let's split the dataframe into intervals\n",
    "intervals = (0,200),(200,250),(250,300),(300,325),(325,350),(350,375),(375,400),(400,425),(425,450),(450,500),(500, 3500)\n",
    "numbers_coco = []\n",
    "for count, value in enumerate(intervals):\n",
    "    numbers_coco.append(len(df_COCO.loc[(df_COCO['MW'] > intervals[count][0]) & (df_COCO['MW']<= intervals[count][1])]))\n",
    "numbers_coco\n"
   ]
  },
  {
   "cell_type": "code",
   "execution_count": 64,
   "id": "8cc8a04e-a296-403c-9a2e-94915e900cd9",
   "metadata": {},
   "outputs": [
    {
     "data": {
      "text/plain": [
       "[20722, 19775, 38544, 28668, 26963, 26906, 27768, 27638, 26093, 44389, 110819]"
      ]
     },
     "execution_count": 64,
     "metadata": {},
     "output_type": "execute_result"
    }
   ],
   "source": [
    "numbers"
   ]
  },
  {
   "cell_type": "code",
   "execution_count": 61,
   "id": "5ed7ce45-0681-41a9-9fc7-769fe0c9d6b6",
   "metadata": {},
   "outputs": [
    {
     "data": {
      "text/plain": [
       "[11, 3397, -4417, -4341, 424, 1727, -36, 1272, -77, -3752, 13467]"
      ]
     },
     "execution_count": 61,
     "metadata": {},
     "output_type": "execute_result"
    }
   ],
   "source": [
    "diff= []\n",
    "for count,x in enumerate(numbers_coco):\n",
    "    diff.append(x - numbers[count])\n",
    "    \n",
    "diff"
   ]
  },
  {
   "cell_type": "code",
   "execution_count": null,
   "id": "1b60149e-1cdd-4ac2-8728-f76229d5f834",
   "metadata": {},
   "outputs": [],
   "source": []
  }
 ],
 "metadata": {
  "kernelspec": {
   "display_name": "Python 3 (ipykernel)",
   "language": "python",
   "name": "python3"
  },
  "language_info": {
   "codemirror_mode": {
    "name": "ipython",
    "version": 3
   },
   "file_extension": ".py",
   "mimetype": "text/x-python",
   "name": "python",
   "nbconvert_exporter": "python",
   "pygments_lexer": "ipython3",
   "version": "3.9.7"
  }
 },
 "nbformat": 4,
 "nbformat_minor": 5
}
