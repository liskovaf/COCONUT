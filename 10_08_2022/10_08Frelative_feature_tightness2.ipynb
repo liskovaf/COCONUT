{
 "cells": [
  {
   "cell_type": "markdown",
   "id": "09cb58ba",
   "metadata": {
    "pycharm": {
     "name": "#%% md\n"
    }
   },
   "source": [
    "# Relative feature tightness of fragments using part 2 for test data"
   ]
  },
  {
   "cell_type": "code",
   "execution_count": 25,
   "id": "b7559bf4",
   "metadata": {
    "pycharm": {
     "name": "#%%\n"
    }
   },
   "outputs": [],
   "source": [
    "import pandas as pd\n",
    "import seaborn as sns\n",
    "import matplotlib.pyplot as plt\n",
    "import csv\n",
    "import numpy as np\n",
    "\n",
    "from ast import literal_eval\n",
    "import re\n",
    "import sys\n",
    "sys.path.insert(0,\"./../fip3\")\n",
    "from fip import profiles"
   ]
  },
  {
   "cell_type": "markdown",
   "id": "fc50f8f1",
   "metadata": {
    "pycharm": {
     "name": "#%% md\n"
    }
   },
   "source": [
    "## Dataset prep"
   ]
  },
  {
   "cell_type": "markdown",
   "id": "005b3e57",
   "metadata": {
    "pycharm": {
     "name": "#%% md\n"
    }
   },
   "source": [
    "### Making feature pointwise mutual information profiles"
   ]
  },
  {
   "cell_type": "code",
   "execution_count": 26,
   "id": "d60972a1-b5a0-4b6f-9c0e-9cf37fdb53f4",
   "metadata": {},
   "outputs": [],
   "source": [
    "profile0 = profiles.CooccurrenceProfile.from_dataframe(pd.read_csv('../data/CPF/COCONUT/COCOp0_38630.csv', dtype={'feature1': 'str','feature2' : 'str' }), vector_count=38630)\n",
    "profile1 = profiles.CooccurrenceProfile.from_dataframe(pd.read_csv('../data/CPF/COCONUT/COCOp1_38630.csv', dtype={'feature1': 'str','feature2' : 'str' }), vector_count=38630)\n",
    "profile3 = profiles.CooccurrenceProfile.from_dataframe(pd.read_csv('../data/CPF/COCONUT/COCOp3_38630.csv', dtype={'feature1': 'str','feature2' : 'str' }), vector_count=38630)\n",
    "profile4 = profiles.CooccurrenceProfile.from_dataframe(pd.read_csv('../data/CPF/COCONUT/COCOp4_38630.csv', dtype={'feature1': 'str','feature2' : 'str' }), vector_count=38630)\n",
    "profile5 = profiles.CooccurrenceProfile.from_dataframe(pd.read_csv('../data/CPF/COCONUT/COCOp5_38630.csv', dtype={'feature1': 'str','feature2' : 'str' }), vector_count=38630)\n",
    "profile6 = profiles.CooccurrenceProfile.from_dataframe(pd.read_csv('../data/CPF/COCONUT/COCOp6_38630.csv', dtype={'feature1': 'str','feature2' : 'str' }), vector_count=38630)\n",
    "profile7 = profiles.CooccurrenceProfile.from_dataframe(pd.read_csv('../data/CPF/COCONUT/COCOp7_38629.csv', dtype={'feature1': 'str','feature2' : 'str' }), vector_count=38629)\n",
    "profile8 = profiles.CooccurrenceProfile.from_dataframe(pd.read_csv('../data/CPF/COCONUT/COCOp8_38629.csv', dtype={'feature1': 'str','feature2' : 'str' }), vector_count=38629)\n",
    "profile9 = profiles.CooccurrenceProfile.from_dataframe(pd.read_csv('../data/CPF/COCONUT/COCOp9_38629.csv', dtype={'feature1': 'str','feature2' : 'str' }), vector_count=38629)"
   ]
  },
  {
   "cell_type": "code",
   "execution_count": 27,
   "id": "d928eb58-08cf-4743-8c58-7196f59da70b",
   "metadata": {},
   "outputs": [
    {
     "data": {
      "text/plain": [
       "<fip.profiles.CooccurrenceProfile at 0x7fb2844d3340>"
      ]
     },
     "execution_count": 27,
     "metadata": {},
     "output_type": "execute_result"
    }
   ],
   "source": [
    "profile0.add_another_cooccurrence_profile(profile1)\n",
    "profile0.add_another_cooccurrence_profile(profile3)\n",
    "profile0.add_another_cooccurrence_profile(profile4)\n",
    "profile0.add_another_cooccurrence_profile(profile5)\n",
    "profile0.add_another_cooccurrence_profile(profile6)\n",
    "profile0.add_another_cooccurrence_profile(profile7)\n",
    "profile0.add_another_cooccurrence_profile(profile8)\n",
    "profile0.add_another_cooccurrence_profile(profile9)"
   ]
  },
  {
   "cell_type": "code",
   "execution_count": 28,
   "id": "7147d116-0c36-4a62-8f6c-c1667667a7c9",
   "metadata": {},
   "outputs": [],
   "source": [
    "probability_profile = profiles.CooccurrenceProbabilityProfile.from_cooccurrence_profile(profile0)"
   ]
  },
  {
   "cell_type": "code",
   "execution_count": 29,
   "id": "d83c7314-5776-4b99-80cf-25536ba50afa",
   "metadata": {},
   "outputs": [],
   "source": [
    "reference_profile0 = profiles.CooccurrenceProfile.from_dataframe(pd.read_csv('../data/CPF/ZINC/ZINCp0_37902.csv', dtype={'feature1': 'str','feature2' : 'str' }), vector_count=37902)\n",
    "reference_profile1 = profiles.CooccurrenceProfile.from_dataframe(pd.read_csv('../data/CPF/ZINC/ZINCp1_37902.csv', dtype={'feature1': 'str','feature2' : 'str' }), vector_count=37902)\n",
    "reference_profile3 = profiles.CooccurrenceProfile.from_dataframe(pd.read_csv('../data/CPF/ZINC/ZINCp3_37901.csv', dtype={'feature1': 'str','feature2' : 'str' }), vector_count=37901)\n",
    "reference_profile4 = profiles.CooccurrenceProfile.from_dataframe(pd.read_csv('../data/CPF/ZINC/ZINCp4_37901.csv', dtype={'feature1': 'str','feature2' : 'str' }), vector_count=37901)\n",
    "reference_profile5 = profiles.CooccurrenceProfile.from_dataframe(pd.read_csv('../data/CPF/ZINC/ZINCp5_37901.csv', dtype={'feature1': 'str','feature2' : 'str' }), vector_count=37901)\n",
    "reference_profile6 = profiles.CooccurrenceProfile.from_dataframe(pd.read_csv('../data/CPF/ZINC/ZINCp6_37901.csv', dtype={'feature1': 'str','feature2' : 'str' }), vector_count=37901)\n",
    "reference_profile7 = profiles.CooccurrenceProfile.from_dataframe(pd.read_csv('../data/CPF/ZINC/ZINCp7_37901.csv', dtype={'feature1': 'str','feature2' : 'str' }), vector_count=37901)\n",
    "reference_profile8 = profiles.CooccurrenceProfile.from_dataframe(pd.read_csv('../data/CPF/ZINC/ZINCp8_37901.csv', dtype={'feature1': 'str','feature2' : 'str' }), vector_count=37901)\n",
    "reference_profile9 = profiles.CooccurrenceProfile.from_dataframe(pd.read_csv('../data/CPF/ZINC/ZINCp9_37901.csv', dtype={'feature1': 'str','feature2' : 'str' }), vector_count=37901)"
   ]
  },
  {
   "cell_type": "code",
   "execution_count": 30,
   "id": "3e7d1500-bc9f-424d-8be0-5a3c575b0dc8",
   "metadata": {},
   "outputs": [
    {
     "data": {
      "text/plain": [
       "<fip.profiles.CooccurrenceProfile at 0x7fb09fc3f340>"
      ]
     },
     "execution_count": 30,
     "metadata": {},
     "output_type": "execute_result"
    }
   ],
   "source": [
    "reference_profile0.add_another_cooccurrence_profile(reference_profile1)\n",
    "reference_profile0.add_another_cooccurrence_profile(reference_profile3)\n",
    "reference_profile0.add_another_cooccurrence_profile(reference_profile4)\n",
    "reference_profile0.add_another_cooccurrence_profile(reference_profile5)\n",
    "reference_profile0.add_another_cooccurrence_profile(reference_profile6)\n",
    "reference_profile0.add_another_cooccurrence_profile(reference_profile7)\n",
    "reference_profile0.add_another_cooccurrence_profile(reference_profile8)\n",
    "reference_profile0.add_another_cooccurrence_profile(reference_profile9)"
   ]
  },
  {
   "cell_type": "code",
   "execution_count": 31,
   "id": "bbffde8b-6839-461a-8a68-8e466d80b123",
   "metadata": {},
   "outputs": [],
   "source": [
    "reference_probability_profile = profiles.CooccurrenceProbabilityProfile.from_cooccurrence_profile(reference_profile0)"
   ]
  },
  {
   "cell_type": "markdown",
   "id": "8141d215",
   "metadata": {
    "pycharm": {
     "name": "#%% md\n"
    }
   },
   "source": [
    "### Making feature pointwise KL divergence profile between COCONUT and ZINC"
   ]
  },
  {
   "cell_type": "code",
   "execution_count": 32,
   "id": "e2da7160",
   "metadata": {
    "pycharm": {
     "name": "#%%\n"
    }
   },
   "outputs": [
    {
     "data": {
      "text/html": [
       "<div>\n",
       "<style scoped>\n",
       "    .dataframe tbody tr th:only-of-type {\n",
       "        vertical-align: middle;\n",
       "    }\n",
       "\n",
       "    .dataframe tbody tr th {\n",
       "        vertical-align: top;\n",
       "    }\n",
       "\n",
       "    .dataframe thead th {\n",
       "        text-align: right;\n",
       "    }\n",
       "</style>\n",
       "<table border=\"1\" class=\"dataframe\">\n",
       "  <thead>\n",
       "    <tr style=\"text-align: right;\">\n",
       "      <th></th>\n",
       "      <th></th>\n",
       "      <th>value</th>\n",
       "    </tr>\n",
       "    <tr>\n",
       "      <th>feature1</th>\n",
       "      <th>feature2</th>\n",
       "      <th></th>\n",
       "    </tr>\n",
       "  </thead>\n",
       "  <tbody>\n",
       "    <tr>\n",
       "      <th rowspan=\"5\" valign=\"top\">[CH2][CH2][CH2][CH2][CH]</th>\n",
       "      <th>[CH2][CH2][CH2][CH2][CH]</th>\n",
       "      <td>1.845395</td>\n",
       "    </tr>\n",
       "    <tr>\n",
       "      <th>[CH2][CH2][CH]([C]([CH2])=[O])[CH]([CH2])[CH2]</th>\n",
       "      <td>3.142464</td>\n",
       "    </tr>\n",
       "    <tr>\n",
       "      <th>[CH2][CH2][C](=[O])[CH]([CH2])[CH]</th>\n",
       "      <td>4.903272</td>\n",
       "    </tr>\n",
       "    <tr>\n",
       "      <th>[CH3][CH2][CH2][CH2]</th>\n",
       "      <td>4.195003</td>\n",
       "    </tr>\n",
       "    <tr>\n",
       "      <th>[CH3][CH2][CH2][CH2][CH2]</th>\n",
       "      <td>4.429407</td>\n",
       "    </tr>\n",
       "    <tr>\n",
       "      <th>...</th>\n",
       "      <th>...</th>\n",
       "      <td>...</td>\n",
       "    </tr>\n",
       "    <tr>\n",
       "      <th rowspan=\"2\" valign=\"top\">[CH][CH2][CH2][S]([CH2])(=[O])=[O]</th>\n",
       "      <th>[CH][NH][CH2][S]([CH2])(=[O])=[O]</th>\n",
       "      <td>-0.027469</td>\n",
       "    </tr>\n",
       "    <tr>\n",
       "      <th>[C][CH]([CH2])[NH][CH2][S]</th>\n",
       "      <td>-0.027469</td>\n",
       "    </tr>\n",
       "    <tr>\n",
       "      <th rowspan=\"2\" valign=\"top\">[CH][NH][CH2][S]([CH2])(=[O])=[O]</th>\n",
       "      <th>[C][CH]([CH2])[NH][CH2][S]</th>\n",
       "      <td>-0.027469</td>\n",
       "    </tr>\n",
       "    <tr>\n",
       "      <th>[C][CH]([NH])[CH2][CH2][S]</th>\n",
       "      <td>-0.027469</td>\n",
       "    </tr>\n",
       "    <tr>\n",
       "      <th>[C][CH]([CH2])[NH][CH2][S]</th>\n",
       "      <th>[C][CH]([NH])[CH2][CH2][S]</th>\n",
       "      <td>-0.027469</td>\n",
       "    </tr>\n",
       "  </tbody>\n",
       "</table>\n",
       "<p>28978384 rows × 1 columns</p>\n",
       "</div>"
      ],
      "text/plain": [
       "                                                                                      value\n",
       "feature1                           feature2                                                \n",
       "[CH2][CH2][CH2][CH2][CH]           [CH2][CH2][CH2][CH2][CH]                        1.845395\n",
       "                                   [CH2][CH2][CH]([C]([CH2])=[O])[CH]([CH2])[CH2]  3.142464\n",
       "                                   [CH2][CH2][C](=[O])[CH]([CH2])[CH]              4.903272\n",
       "                                   [CH3][CH2][CH2][CH2]                            4.195003\n",
       "                                   [CH3][CH2][CH2][CH2][CH2]                       4.429407\n",
       "...                                                                                     ...\n",
       "[CH][CH2][CH2][S]([CH2])(=[O])=[O] [CH][NH][CH2][S]([CH2])(=[O])=[O]              -0.027469\n",
       "                                   [C][CH]([CH2])[NH][CH2][S]                     -0.027469\n",
       "[CH][NH][CH2][S]([CH2])(=[O])=[O]  [C][CH]([CH2])[NH][CH2][S]                     -0.027469\n",
       "                                   [C][CH]([NH])[CH2][CH2][S]                     -0.027469\n",
       "[C][CH]([CH2])[NH][CH2][S]         [C][CH]([NH])[CH2][CH2][S]                     -0.027469\n",
       "\n",
       "[28978384 rows x 1 columns]"
      ]
     },
     "execution_count": 32,
     "metadata": {},
     "output_type": "execute_result"
    }
   ],
   "source": [
    "difference_pkld_profile = profiles.PointwiseKLDivergenceProfile.from_cooccurrence_probability_profiles(\n",
    "    probability_profile, reference_probability_profile)\n",
    "difference_pkld_profile.df"
   ]
  },
  {
   "cell_type": "markdown",
   "id": "280a3dd8",
   "metadata": {
    "pycharm": {
     "name": "#%% md\n"
    }
   },
   "source": [
    "### Sampling structures from COCONUT and ZINC datasets"
   ]
  },
  {
   "cell_type": "code",
   "execution_count": 33,
   "id": "212cd152",
   "metadata": {
    "pycharm": {
     "name": "#%%\n"
    }
   },
   "outputs": [],
   "source": [
    "coconut_samples = pd.read_csv('../data/CPF/COCONUT/COCOrandomF.csv', delimiter = ' ')\n",
    "coconut_samples = coconut_samples.drop(['Coconut_id'], axis=1)\n",
    "coconut_samples['Name'] = 'COCONUT'"
   ]
  },
  {
   "cell_type": "code",
   "execution_count": 34,
   "id": "95627151-b248-427d-a494-4f84494aa1d6",
   "metadata": {},
   "outputs": [],
   "source": [
    "df_split_coco = np.array_split(coconut_samples, 10)"
   ]
  },
  {
   "cell_type": "code",
   "execution_count": 35,
   "id": "13b1766b-989b-4995-950c-e7f7bbe1f5fd",
   "metadata": {},
   "outputs": [
    {
     "data": {
      "text/html": [
       "<div>\n",
       "<style scoped>\n",
       "    .dataframe tbody tr th:only-of-type {\n",
       "        vertical-align: middle;\n",
       "    }\n",
       "\n",
       "    .dataframe tbody tr th {\n",
       "        vertical-align: top;\n",
       "    }\n",
       "\n",
       "    .dataframe thead th {\n",
       "        text-align: right;\n",
       "    }\n",
       "</style>\n",
       "<table border=\"1\" class=\"dataframe\">\n",
       "  <thead>\n",
       "    <tr style=\"text-align: right;\">\n",
       "      <th></th>\n",
       "      <th>Smiles</th>\n",
       "      <th>MW</th>\n",
       "      <th>logP</th>\n",
       "      <th>Inchi</th>\n",
       "      <th>Inchi_s</th>\n",
       "      <th>Name</th>\n",
       "      <th>ECFP</th>\n",
       "      <th>Bitset</th>\n",
       "      <th>Fragments</th>\n",
       "    </tr>\n",
       "  </thead>\n",
       "  <tbody>\n",
       "    <tr>\n",
       "      <th>77260</th>\n",
       "      <td>COc1cc2c(c(O)c1C)C(=O)C(O)C(c1ccc(O)cc1)O2</td>\n",
       "      <td>316.094688</td>\n",
       "      <td>2.09212</td>\n",
       "      <td>MGHMBAZWBKOORJ-UHFFFAOYSA-N</td>\n",
       "      <td>MGHMBAZWBKOORJ</td>\n",
       "      <td>COCONUT</td>\n",
       "      <td>&lt;rdkit.DataStructs.cDataStructs.ExplicitBitVec...</td>\n",
       "      <td>[15, 31, 164, 202, 249, 252, 276, 277, 314, 31...</td>\n",
       "      <td>'[cH][cH][c]([OH])[cH][cH]', '[C][c]([c])[c]([...</td>\n",
       "    </tr>\n",
       "    <tr>\n",
       "      <th>77261</th>\n",
       "      <td>COc1cc2c(cc1C(C)C)CCC1C3=C(CCC21C)C(=O)OC(C)(C...</td>\n",
       "      <td>384.230060</td>\n",
       "      <td>4.42540</td>\n",
       "      <td>LVERCARRTBWEFF-UHFFFAOYSA-N</td>\n",
       "      <td>LVERCARRTBWEFF</td>\n",
       "      <td>COCONUT</td>\n",
       "      <td>&lt;rdkit.DataStructs.cDataStructs.ExplicitBitVec...</td>\n",
       "      <td>[1, 8, 53, 88, 121, 237, 249, 283, 296, 314, 5...</td>\n",
       "      <td>'[c][C]([CH2])([CH3])[CH]([CH2][CH2])[C](=[C])...</td>\n",
       "    </tr>\n",
       "    <tr>\n",
       "      <th>77262</th>\n",
       "      <td>CCOC(=O)c1c(CNc2cccc(Cl)c2)n(-c2ccccc2)c2cc(Br...</td>\n",
       "      <td>512.050232</td>\n",
       "      <td>6.84380</td>\n",
       "      <td>NAYDBWIOBZOTTI-UHFFFAOYSA-N</td>\n",
       "      <td>NAYDBWIOBZOTTI</td>\n",
       "      <td>COCONUT</td>\n",
       "      <td>&lt;rdkit.DataStructs.cDataStructs.ExplicitBitVec...</td>\n",
       "      <td>[45, 54, 58, 80, 85, 87, 145, 147, 165, 191, 2...</td>\n",
       "      <td>'[cH][cH][cH][cH][cH]', '[c][cH][c]([O][CH3])[...</td>\n",
       "    </tr>\n",
       "    <tr>\n",
       "      <th>77263</th>\n",
       "      <td>OC1CC(O)C23c4cc5c(cc4CN(CC2O)C3C1)OCO5</td>\n",
       "      <td>305.126323</td>\n",
       "      <td>-0.27260</td>\n",
       "      <td>ZZJABKMPTOPUEL-UHFFFAOYSA-N</td>\n",
       "      <td>ZZJABKMPTOPUEL</td>\n",
       "      <td>COCONUT</td>\n",
       "      <td>&lt;rdkit.DataStructs.cDataStructs.ExplicitBitVec...</td>\n",
       "      <td>[164, 441, 474, 590, 608, 656, 738, 739, 760, ...</td>\n",
       "      <td>'[c][CH2][N]([CH2][CH])[CH]([C])[CH2]', '[c][c...</td>\n",
       "    </tr>\n",
       "    <tr>\n",
       "      <th>77264</th>\n",
       "      <td>CC(=O)C=C1OC(C)(C)c2ccc(O)cc21</td>\n",
       "      <td>218.094294</td>\n",
       "      <td>2.58740</td>\n",
       "      <td>HPHLMVQWIOPSME-UHFFFAOYSA-N</td>\n",
       "      <td>HPHLMVQWIOPSME</td>\n",
       "      <td>COCONUT</td>\n",
       "      <td>&lt;rdkit.DataStructs.cDataStructs.ExplicitBitVec...</td>\n",
       "      <td>[36, 38, 84, 164, 190, 302, 324, 352, 381, 486...</td>\n",
       "      <td>'[C][c]([c])[cH][c]([cH])[OH]', '[c][cH][cH][c...</td>\n",
       "    </tr>\n",
       "    <tr>\n",
       "      <th>...</th>\n",
       "      <td>...</td>\n",
       "      <td>...</td>\n",
       "      <td>...</td>\n",
       "      <td>...</td>\n",
       "      <td>...</td>\n",
       "      <td>...</td>\n",
       "      <td>...</td>\n",
       "      <td>...</td>\n",
       "      <td>...</td>\n",
       "    </tr>\n",
       "    <tr>\n",
       "      <th>115885</th>\n",
       "      <td>CNc1nc2ccc3nc(NC)[nH]c3c(C)c-2n1</td>\n",
       "      <td>242.127994</td>\n",
       "      <td>1.84952</td>\n",
       "      <td>GSKRBNQVXCGQRO-UHFFFAOYSA-N</td>\n",
       "      <td>GSKRBNQVXCGQRO</td>\n",
       "      <td>COCONUT</td>\n",
       "      <td>&lt;rdkit.DataStructs.cDataStructs.ExplicitBitVec...</td>\n",
       "      <td>[83, 170, 252, 303, 323, 378, 961, 980, 1025, ...</td>\n",
       "      <td>'[c][cH][cH][c]([c])[n]', '[cH][cH][c]([n][c])...</td>\n",
       "    </tr>\n",
       "    <tr>\n",
       "      <th>115886</th>\n",
       "      <td>COc1cc(C(CC(=O)NCCCC(=O)Nc2cccnc2)c2c(O)cc3c(c...</td>\n",
       "      <td>717.326145</td>\n",
       "      <td>6.05750</td>\n",
       "      <td>NZZVAMHPGZVXEQ-UHFFFAOYSA-N</td>\n",
       "      <td>NZZVAMHPGZVXEQ</td>\n",
       "      <td>COCONUT</td>\n",
       "      <td>&lt;rdkit.DataStructs.cDataStructs.ExplicitBitVec...</td>\n",
       "      <td>[1, 39, 41, 80, 125, 191, 197, 202, 206, 214, ...</td>\n",
       "      <td>'[C][CH2][CH2][CH2][CH]', '[c][c]([c])[O][CH3]...</td>\n",
       "    </tr>\n",
       "    <tr>\n",
       "      <th>115887</th>\n",
       "      <td>COc1cc2c(cc1O)CC1c3c(cc(OC)c(OC)c3-2)CC[NH+]1C</td>\n",
       "      <td>342.169985</td>\n",
       "      <td>1.75300</td>\n",
       "      <td>ZFLRVRLYWHNAEC-UHFFFAOYSA-O</td>\n",
       "      <td>ZFLRVRLYWHNAEC</td>\n",
       "      <td>COCONUT</td>\n",
       "      <td>&lt;rdkit.DataStructs.cDataStructs.ExplicitBitVec...</td>\n",
       "      <td>[40, 204, 231, 249, 333, 352, 354, 428, 449, 5...</td>\n",
       "      <td>'[c][c]([c])[O][CH3]', '[c][c]([CH2])[cH][c]([...</td>\n",
       "    </tr>\n",
       "    <tr>\n",
       "      <th>115888</th>\n",
       "      <td>COc1cc2oc(=O)cc(C)c2cc1CCC(=O)Nc1cc(OC)c(OC)c(...</td>\n",
       "      <td>427.163102</td>\n",
       "      <td>3.70712</td>\n",
       "      <td>GJLFROHJPXCMID-UHFFFAOYSA-N</td>\n",
       "      <td>GJLFROHJPXCMID</td>\n",
       "      <td>COCONUT</td>\n",
       "      <td>&lt;rdkit.DataStructs.cDataStructs.ExplicitBitVec...</td>\n",
       "      <td>[14, 41, 52, 80, 84, 171, 191, 249, 282, 314, ...</td>\n",
       "      <td>'[cH][c](=[O])[o][c]([cH])[c]', '[c][c]([c])[O...</td>\n",
       "    </tr>\n",
       "    <tr>\n",
       "      <th>115889</th>\n",
       "      <td>CC1(C)CCC2(C(=O)OC3OC(COC4OC(CO)C(O)C(O)C4O)C(...</td>\n",
       "      <td>1236.613898</td>\n",
       "      <td>-3.57200</td>\n",
       "      <td>UMSNGCBEKSFECU-UHFFFAOYSA-N</td>\n",
       "      <td>UMSNGCBEKSFECU</td>\n",
       "      <td>COCONUT</td>\n",
       "      <td>&lt;rdkit.DataStructs.cDataStructs.ExplicitBitVec...</td>\n",
       "      <td>[10, 22, 80, 170, 190, 222, 249, 267, 409, 418...</td>\n",
       "      <td>'[CH]=[C]([CH])[C]([CH3])([CH2][CH2])[C]([CH])...</td>\n",
       "    </tr>\n",
       "  </tbody>\n",
       "</table>\n",
       "<p>38630 rows × 9 columns</p>\n",
       "</div>"
      ],
      "text/plain": [
       "                                                   Smiles           MW  \\\n",
       "77260          COc1cc2c(c(O)c1C)C(=O)C(O)C(c1ccc(O)cc1)O2   316.094688   \n",
       "77261   COc1cc2c(cc1C(C)C)CCC1C3=C(CCC21C)C(=O)OC(C)(C...   384.230060   \n",
       "77262   CCOC(=O)c1c(CNc2cccc(Cl)c2)n(-c2ccccc2)c2cc(Br...   512.050232   \n",
       "77263              OC1CC(O)C23c4cc5c(cc4CN(CC2O)C3C1)OCO5   305.126323   \n",
       "77264                      CC(=O)C=C1OC(C)(C)c2ccc(O)cc21   218.094294   \n",
       "...                                                   ...          ...   \n",
       "115885                   CNc1nc2ccc3nc(NC)[nH]c3c(C)c-2n1   242.127994   \n",
       "115886  COc1cc(C(CC(=O)NCCCC(=O)Nc2cccnc2)c2c(O)cc3c(c...   717.326145   \n",
       "115887     COc1cc2c(cc1O)CC1c3c(cc(OC)c(OC)c3-2)CC[NH+]1C   342.169985   \n",
       "115888  COc1cc2oc(=O)cc(C)c2cc1CCC(=O)Nc1cc(OC)c(OC)c(...   427.163102   \n",
       "115889  CC1(C)CCC2(C(=O)OC3OC(COC4OC(CO)C(O)C(O)C4O)C(...  1236.613898   \n",
       "\n",
       "           logP                        Inchi         Inchi_s     Name  \\\n",
       "77260   2.09212  MGHMBAZWBKOORJ-UHFFFAOYSA-N  MGHMBAZWBKOORJ  COCONUT   \n",
       "77261   4.42540  LVERCARRTBWEFF-UHFFFAOYSA-N  LVERCARRTBWEFF  COCONUT   \n",
       "77262   6.84380  NAYDBWIOBZOTTI-UHFFFAOYSA-N  NAYDBWIOBZOTTI  COCONUT   \n",
       "77263  -0.27260  ZZJABKMPTOPUEL-UHFFFAOYSA-N  ZZJABKMPTOPUEL  COCONUT   \n",
       "77264   2.58740  HPHLMVQWIOPSME-UHFFFAOYSA-N  HPHLMVQWIOPSME  COCONUT   \n",
       "...         ...                          ...             ...      ...   \n",
       "115885  1.84952  GSKRBNQVXCGQRO-UHFFFAOYSA-N  GSKRBNQVXCGQRO  COCONUT   \n",
       "115886  6.05750  NZZVAMHPGZVXEQ-UHFFFAOYSA-N  NZZVAMHPGZVXEQ  COCONUT   \n",
       "115887  1.75300  ZFLRVRLYWHNAEC-UHFFFAOYSA-O  ZFLRVRLYWHNAEC  COCONUT   \n",
       "115888  3.70712  GJLFROHJPXCMID-UHFFFAOYSA-N  GJLFROHJPXCMID  COCONUT   \n",
       "115889 -3.57200  UMSNGCBEKSFECU-UHFFFAOYSA-N  UMSNGCBEKSFECU  COCONUT   \n",
       "\n",
       "                                                     ECFP  \\\n",
       "77260   <rdkit.DataStructs.cDataStructs.ExplicitBitVec...   \n",
       "77261   <rdkit.DataStructs.cDataStructs.ExplicitBitVec...   \n",
       "77262   <rdkit.DataStructs.cDataStructs.ExplicitBitVec...   \n",
       "77263   <rdkit.DataStructs.cDataStructs.ExplicitBitVec...   \n",
       "77264   <rdkit.DataStructs.cDataStructs.ExplicitBitVec...   \n",
       "...                                                   ...   \n",
       "115885  <rdkit.DataStructs.cDataStructs.ExplicitBitVec...   \n",
       "115886  <rdkit.DataStructs.cDataStructs.ExplicitBitVec...   \n",
       "115887  <rdkit.DataStructs.cDataStructs.ExplicitBitVec...   \n",
       "115888  <rdkit.DataStructs.cDataStructs.ExplicitBitVec...   \n",
       "115889  <rdkit.DataStructs.cDataStructs.ExplicitBitVec...   \n",
       "\n",
       "                                                   Bitset  \\\n",
       "77260   [15, 31, 164, 202, 249, 252, 276, 277, 314, 31...   \n",
       "77261   [1, 8, 53, 88, 121, 237, 249, 283, 296, 314, 5...   \n",
       "77262   [45, 54, 58, 80, 85, 87, 145, 147, 165, 191, 2...   \n",
       "77263   [164, 441, 474, 590, 608, 656, 738, 739, 760, ...   \n",
       "77264   [36, 38, 84, 164, 190, 302, 324, 352, 381, 486...   \n",
       "...                                                   ...   \n",
       "115885  [83, 170, 252, 303, 323, 378, 961, 980, 1025, ...   \n",
       "115886  [1, 39, 41, 80, 125, 191, 197, 202, 206, 214, ...   \n",
       "115887  [40, 204, 231, 249, 333, 352, 354, 428, 449, 5...   \n",
       "115888  [14, 41, 52, 80, 84, 171, 191, 249, 282, 314, ...   \n",
       "115889  [10, 22, 80, 170, 190, 222, 249, 267, 409, 418...   \n",
       "\n",
       "                                                Fragments  \n",
       "77260   '[cH][cH][c]([OH])[cH][cH]', '[C][c]([c])[c]([...  \n",
       "77261   '[c][C]([CH2])([CH3])[CH]([CH2][CH2])[C](=[C])...  \n",
       "77262   '[cH][cH][cH][cH][cH]', '[c][cH][c]([O][CH3])[...  \n",
       "77263   '[c][CH2][N]([CH2][CH])[CH]([C])[CH2]', '[c][c...  \n",
       "77264   '[C][c]([c])[cH][c]([cH])[OH]', '[c][cH][cH][c...  \n",
       "...                                                   ...  \n",
       "115885  '[c][cH][cH][c]([c])[n]', '[cH][cH][c]([n][c])...  \n",
       "115886  '[C][CH2][CH2][CH2][CH]', '[c][c]([c])[O][CH3]...  \n",
       "115887  '[c][c]([c])[O][CH3]', '[c][c]([CH2])[cH][c]([...  \n",
       "115888  '[cH][c](=[O])[o][c]([cH])[c]', '[c][c]([c])[O...  \n",
       "115889  '[CH]=[C]([CH])[C]([CH3])([CH2][CH2])[C]([CH])...  \n",
       "\n",
       "[38630 rows x 9 columns]"
      ]
     },
     "execution_count": 35,
     "metadata": {},
     "output_type": "execute_result"
    }
   ],
   "source": [
    "df_split_coco[2]"
   ]
  },
  {
   "cell_type": "code",
   "execution_count": 36,
   "id": "f7ed85f8",
   "metadata": {
    "pycharm": {
     "name": "#%%\n"
    }
   },
   "outputs": [],
   "source": [
    "zinc_samples = pd.read_csv('../data/CPF/ZINC/ZINCrandomF.csv', delimiter = ' ')\n",
    "zinc_samples = zinc_samples.drop(['Zinc_id'], axis=1)"
   ]
  },
  {
   "cell_type": "code",
   "execution_count": 37,
   "id": "f90fed46-cb6b-47c0-9dd3-a66ef9ee60d8",
   "metadata": {},
   "outputs": [
    {
     "data": {
      "text/html": [
       "<div>\n",
       "<style scoped>\n",
       "    .dataframe tbody tr th:only-of-type {\n",
       "        vertical-align: middle;\n",
       "    }\n",
       "\n",
       "    .dataframe tbody tr th {\n",
       "        vertical-align: top;\n",
       "    }\n",
       "\n",
       "    .dataframe thead th {\n",
       "        text-align: right;\n",
       "    }\n",
       "</style>\n",
       "<table border=\"1\" class=\"dataframe\">\n",
       "  <thead>\n",
       "    <tr style=\"text-align: right;\">\n",
       "      <th></th>\n",
       "      <th>Smiles</th>\n",
       "      <th>MW</th>\n",
       "      <th>logP</th>\n",
       "      <th>Inchi</th>\n",
       "      <th>Inchi_s</th>\n",
       "      <th>Name</th>\n",
       "      <th>ECFP</th>\n",
       "      <th>Bitset</th>\n",
       "      <th>Fragments</th>\n",
       "    </tr>\n",
       "  </thead>\n",
       "  <tbody>\n",
       "    <tr>\n",
       "      <th>75804</th>\n",
       "      <td>N#Cc1ccc(-c2ccc(OC[C@H](O)c3ccc(C#N)cc3)cc2)cc1</td>\n",
       "      <td>340.121178</td>\n",
       "      <td>4.20936</td>\n",
       "      <td>OXPDZGMTTDFKHM-QFIPXVFZSA-N</td>\n",
       "      <td>OXPDZGMTTDFKHM</td>\n",
       "      <td>ZINC</td>\n",
       "      <td>&lt;rdkit.DataStructs.cDataStructs.ExplicitBitVec...</td>\n",
       "      <td>[1, 34, 80, 102, 118, 227, 263, 305, 322, 355,...</td>\n",
       "      <td>'[c]-[c]([cH])[cH][cH][c]', '[cH][c]([cH])[O][...</td>\n",
       "    </tr>\n",
       "    <tr>\n",
       "      <th>75805</th>\n",
       "      <td>C[C@@]12C=C[C@](C)(O1)[C@@H]1C(=O)N(c3ccc(Cl)c...</td>\n",
       "      <td>303.066221</td>\n",
       "      <td>2.56300</td>\n",
       "      <td>YGXYDYAYCQSPGI-VZAMPYOESA-N</td>\n",
       "      <td>YGXYDYAYCQSPGI</td>\n",
       "      <td>ZINC</td>\n",
       "      <td>&lt;rdkit.DataStructs.cDataStructs.ExplicitBitVec...</td>\n",
       "      <td>[5, 133, 216, 233, 314, 561, 650, 656, 787, 81...</td>\n",
       "      <td>'[C][CH]([CH])[C]([CH3])([CH]=[CH])[O][C]', '[...</td>\n",
       "    </tr>\n",
       "    <tr>\n",
       "      <th>75806</th>\n",
       "      <td>CCOC(=O)C1=C(CN2CCN(C(C)=O)CC2)NC(=O)N[C@H]1c1...</td>\n",
       "      <td>422.176562</td>\n",
       "      <td>1.30000</td>\n",
       "      <td>SWFPPMYEBKSYSG-SFHVURJKSA-N</td>\n",
       "      <td>SWFPPMYEBKSYSG</td>\n",
       "      <td>ZINC</td>\n",
       "      <td>&lt;rdkit.DataStructs.cDataStructs.ExplicitBitVec...</td>\n",
       "      <td>[74, 80, 101, 145, 147, 216, 294, 301, 314, 32...</td>\n",
       "      <td>'[CH2][CH2][N]([CH2][CH2])[C]([CH3])=[O]', '[C...</td>\n",
       "    </tr>\n",
       "    <tr>\n",
       "      <th>75807</th>\n",
       "      <td>O=S(=O)(Nc1ccc(Cl)cc1Cl)c1ccc(Oc2ccccc2)cc1</td>\n",
       "      <td>392.999320</td>\n",
       "      <td>5.58650</td>\n",
       "      <td>PCYSXDUAGNHPKZ-UHFFFAOYSA-N</td>\n",
       "      <td>PCYSXDUAGNHPKZ</td>\n",
       "      <td>ZINC</td>\n",
       "      <td>&lt;rdkit.DataStructs.cDataStructs.ExplicitBitVec...</td>\n",
       "      <td>[4, 165, 193, 216, 319, 322, 350, 366, 389, 50...</td>\n",
       "      <td>'[c][S](=[O])(=[O])[NH][c]([cH])[c]', '[cH][c]...</td>\n",
       "    </tr>\n",
       "    <tr>\n",
       "      <th>75808</th>\n",
       "      <td>Cc1ccccc1-c1nc([C@@H](N)C(C)C)n[nH]1</td>\n",
       "      <td>230.153147</td>\n",
       "      <td>2.43592</td>\n",
       "      <td>DJTCDCZTZNLVCQ-NSHDSACASA-N</td>\n",
       "      <td>DJTCDCZTZNLVCQ</td>\n",
       "      <td>ZINC</td>\n",
       "      <td>&lt;rdkit.DataStructs.cDataStructs.ExplicitBitVec...</td>\n",
       "      <td>[1, 26, 74, 283, 352, 378, 615, 715, 739, 786,...</td>\n",
       "      <td>'[cH][cH][cH][c]([c])[CH3]', '[c][n][c]([n][nH...</td>\n",
       "    </tr>\n",
       "    <tr>\n",
       "      <th>...</th>\n",
       "      <td>...</td>\n",
       "      <td>...</td>\n",
       "      <td>...</td>\n",
       "      <td>...</td>\n",
       "      <td>...</td>\n",
       "      <td>...</td>\n",
       "      <td>...</td>\n",
       "      <td>...</td>\n",
       "      <td>...</td>\n",
       "    </tr>\n",
       "    <tr>\n",
       "      <th>113700</th>\n",
       "      <td>O=C(CN1CCN(C(=O)CN2N=C(c3nc(-c4ccc5c(c4)OCO5)n...</td>\n",
       "      <td>537.233582</td>\n",
       "      <td>0.94850</td>\n",
       "      <td>UVZBXTXIQDRWEB-UHFFFAOYSA-N</td>\n",
       "      <td>UVZBXTXIQDRWEB</td>\n",
       "      <td>ZINC</td>\n",
       "      <td>&lt;rdkit.DataStructs.cDataStructs.ExplicitBitVec...</td>\n",
       "      <td>[2, 74, 80, 160, 226, 248, 273, 277, 314, 369,...</td>\n",
       "      <td>'[CH2][CH2][CH2][CH2][N]', '[c]-[c]([cH])[cH][...</td>\n",
       "    </tr>\n",
       "    <tr>\n",
       "      <th>113701</th>\n",
       "      <td>NS(=O)(=O)c1ccc(C(=O)N2CC[C@@H](O)[C@@]3(CCCNC...</td>\n",
       "      <td>367.120192</td>\n",
       "      <td>-0.56280</td>\n",
       "      <td>VTEKDWHHRVLLIP-CZUORRHYSA-N</td>\n",
       "      <td>VTEKDWHHRVLLIP</td>\n",
       "      <td>ZINC</td>\n",
       "      <td>&lt;rdkit.DataStructs.cDataStructs.ExplicitBitVec...</td>\n",
       "      <td>[4, 113, 180, 305, 314, 319, 350, 497, 562, 60...</td>\n",
       "      <td>'[CH2][CH2][NH][C]([C])=[O]', '[C][C]([CH])([C...</td>\n",
       "    </tr>\n",
       "    <tr>\n",
       "      <th>113702</th>\n",
       "      <td>CCN1CCN(c2ccc(S(=O)(=O)N3CCOCC3)cc2NC(=O)[C@@H...</td>\n",
       "      <td>520.215569</td>\n",
       "      <td>2.39450</td>\n",
       "      <td>RNTHSDBHBBCADW-LJQANCHMSA-N</td>\n",
       "      <td>RNTHSDBHBBCADW</td>\n",
       "      <td>ZINC</td>\n",
       "      <td>&lt;rdkit.DataStructs.cDataStructs.ExplicitBitVec...</td>\n",
       "      <td>[1, 34, 35, 74, 80, 90, 199, 231, 283, 294, 31...</td>\n",
       "      <td>'[c][S](=[O])(=[O])[N]([CH2][CH2])[CH2][CH2]',...</td>\n",
       "    </tr>\n",
       "    <tr>\n",
       "      <th>113703</th>\n",
       "      <td>CCOC(=O)C1=C(C)N=c2s/c(=C\\c3ccc(OCc4c(F)cccc4C...</td>\n",
       "      <td>606.139149</td>\n",
       "      <td>5.56850</td>\n",
       "      <td>HOJNCUBZFZBIMF-PKYOQBLNSA-N</td>\n",
       "      <td>HOJNCUBZFZBIMF</td>\n",
       "      <td>ZINC</td>\n",
       "      <td>&lt;rdkit.DataStructs.cDataStructs.ExplicitBitVec...</td>\n",
       "      <td>[25, 80, 94, 125, 145, 147, 162, 237, 246, 281...</td>\n",
       "      <td>'[CH][c]([cH])[cH][c]([c])[O]', '[c][CH]([n])[...</td>\n",
       "    </tr>\n",
       "    <tr>\n",
       "      <th>113704</th>\n",
       "      <td>C[C@@H]1CCC[C@@H](C)N1CCNC(=O)[C@@H]1C[C@H]2CC...</td>\n",
       "      <td>424.283826</td>\n",
       "      <td>3.35350</td>\n",
       "      <td>KJJQGAVGEXSPLV-FRRQQKHFSA-N</td>\n",
       "      <td>KJJQGAVGEXSPLV</td>\n",
       "      <td>ZINC</td>\n",
       "      <td>&lt;rdkit.DataStructs.cDataStructs.ExplicitBitVec...</td>\n",
       "      <td>[80, 81, 113, 197, 209, 215, 221, 314, 352, 43...</td>\n",
       "      <td>'[C][CH]([CH])[CH2][CH]([CH2])[C]', '[C][c]([c...</td>\n",
       "    </tr>\n",
       "  </tbody>\n",
       "</table>\n",
       "<p>37901 rows × 9 columns</p>\n",
       "</div>"
      ],
      "text/plain": [
       "                                                   Smiles          MW  \\\n",
       "75804     N#Cc1ccc(-c2ccc(OC[C@H](O)c3ccc(C#N)cc3)cc2)cc1  340.121178   \n",
       "75805   C[C@@]12C=C[C@](C)(O1)[C@@H]1C(=O)N(c3ccc(Cl)c...  303.066221   \n",
       "75806   CCOC(=O)C1=C(CN2CCN(C(C)=O)CC2)NC(=O)N[C@H]1c1...  422.176562   \n",
       "75807         O=S(=O)(Nc1ccc(Cl)cc1Cl)c1ccc(Oc2ccccc2)cc1  392.999320   \n",
       "75808                Cc1ccccc1-c1nc([C@@H](N)C(C)C)n[nH]1  230.153147   \n",
       "...                                                   ...         ...   \n",
       "113700  O=C(CN1CCN(C(=O)CN2N=C(c3nc(-c4ccc5c(c4)OCO5)n...  537.233582   \n",
       "113701  NS(=O)(=O)c1ccc(C(=O)N2CC[C@@H](O)[C@@]3(CCCNC...  367.120192   \n",
       "113702  CCN1CCN(c2ccc(S(=O)(=O)N3CCOCC3)cc2NC(=O)[C@@H...  520.215569   \n",
       "113703  CCOC(=O)C1=C(C)N=c2s/c(=C\\c3ccc(OCc4c(F)cccc4C...  606.139149   \n",
       "113704  C[C@@H]1CCC[C@@H](C)N1CCNC(=O)[C@@H]1C[C@H]2CC...  424.283826   \n",
       "\n",
       "           logP                        Inchi         Inchi_s  Name  \\\n",
       "75804   4.20936  OXPDZGMTTDFKHM-QFIPXVFZSA-N  OXPDZGMTTDFKHM  ZINC   \n",
       "75805   2.56300  YGXYDYAYCQSPGI-VZAMPYOESA-N  YGXYDYAYCQSPGI  ZINC   \n",
       "75806   1.30000  SWFPPMYEBKSYSG-SFHVURJKSA-N  SWFPPMYEBKSYSG  ZINC   \n",
       "75807   5.58650  PCYSXDUAGNHPKZ-UHFFFAOYSA-N  PCYSXDUAGNHPKZ  ZINC   \n",
       "75808   2.43592  DJTCDCZTZNLVCQ-NSHDSACASA-N  DJTCDCZTZNLVCQ  ZINC   \n",
       "...         ...                          ...             ...   ...   \n",
       "113700  0.94850  UVZBXTXIQDRWEB-UHFFFAOYSA-N  UVZBXTXIQDRWEB  ZINC   \n",
       "113701 -0.56280  VTEKDWHHRVLLIP-CZUORRHYSA-N  VTEKDWHHRVLLIP  ZINC   \n",
       "113702  2.39450  RNTHSDBHBBCADW-LJQANCHMSA-N  RNTHSDBHBBCADW  ZINC   \n",
       "113703  5.56850  HOJNCUBZFZBIMF-PKYOQBLNSA-N  HOJNCUBZFZBIMF  ZINC   \n",
       "113704  3.35350  KJJQGAVGEXSPLV-FRRQQKHFSA-N  KJJQGAVGEXSPLV  ZINC   \n",
       "\n",
       "                                                     ECFP  \\\n",
       "75804   <rdkit.DataStructs.cDataStructs.ExplicitBitVec...   \n",
       "75805   <rdkit.DataStructs.cDataStructs.ExplicitBitVec...   \n",
       "75806   <rdkit.DataStructs.cDataStructs.ExplicitBitVec...   \n",
       "75807   <rdkit.DataStructs.cDataStructs.ExplicitBitVec...   \n",
       "75808   <rdkit.DataStructs.cDataStructs.ExplicitBitVec...   \n",
       "...                                                   ...   \n",
       "113700  <rdkit.DataStructs.cDataStructs.ExplicitBitVec...   \n",
       "113701  <rdkit.DataStructs.cDataStructs.ExplicitBitVec...   \n",
       "113702  <rdkit.DataStructs.cDataStructs.ExplicitBitVec...   \n",
       "113703  <rdkit.DataStructs.cDataStructs.ExplicitBitVec...   \n",
       "113704  <rdkit.DataStructs.cDataStructs.ExplicitBitVec...   \n",
       "\n",
       "                                                   Bitset  \\\n",
       "75804   [1, 34, 80, 102, 118, 227, 263, 305, 322, 355,...   \n",
       "75805   [5, 133, 216, 233, 314, 561, 650, 656, 787, 81...   \n",
       "75806   [74, 80, 101, 145, 147, 216, 294, 301, 314, 32...   \n",
       "75807   [4, 165, 193, 216, 319, 322, 350, 366, 389, 50...   \n",
       "75808   [1, 26, 74, 283, 352, 378, 615, 715, 739, 786,...   \n",
       "...                                                   ...   \n",
       "113700  [2, 74, 80, 160, 226, 248, 273, 277, 314, 369,...   \n",
       "113701  [4, 113, 180, 305, 314, 319, 350, 497, 562, 60...   \n",
       "113702  [1, 34, 35, 74, 80, 90, 199, 231, 283, 294, 31...   \n",
       "113703  [25, 80, 94, 125, 145, 147, 162, 237, 246, 281...   \n",
       "113704  [80, 81, 113, 197, 209, 215, 221, 314, 352, 43...   \n",
       "\n",
       "                                                Fragments  \n",
       "75804   '[c]-[c]([cH])[cH][cH][c]', '[cH][c]([cH])[O][...  \n",
       "75805   '[C][CH]([CH])[C]([CH3])([CH]=[CH])[O][C]', '[...  \n",
       "75806   '[CH2][CH2][N]([CH2][CH2])[C]([CH3])=[O]', '[C...  \n",
       "75807   '[c][S](=[O])(=[O])[NH][c]([cH])[c]', '[cH][c]...  \n",
       "75808   '[cH][cH][cH][c]([c])[CH3]', '[c][n][c]([n][nH...  \n",
       "...                                                   ...  \n",
       "113700  '[CH2][CH2][CH2][CH2][N]', '[c]-[c]([cH])[cH][...  \n",
       "113701  '[CH2][CH2][NH][C]([C])=[O]', '[C][C]([CH])([C...  \n",
       "113702  '[c][S](=[O])(=[O])[N]([CH2][CH2])[CH2][CH2]',...  \n",
       "113703  '[CH][c]([cH])[cH][c]([c])[O]', '[c][CH]([n])[...  \n",
       "113704  '[C][CH]([CH])[CH2][CH]([CH2])[C]', '[C][c]([c...  \n",
       "\n",
       "[37901 rows x 9 columns]"
      ]
     },
     "execution_count": 37,
     "metadata": {},
     "output_type": "execute_result"
    }
   ],
   "source": [
    "df_split_zinc = np.array_split(zinc_samples, 10)\n",
    "df_split_zinc[2]"
   ]
  },
  {
   "cell_type": "code",
   "execution_count": 38,
   "id": "7d675f14",
   "metadata": {},
   "outputs": [],
   "source": [
    "joint_samples = pd.concat((df_split_coco[2], df_split_zinc[2]), ignore_index=True)"
   ]
  },
  {
   "cell_type": "code",
   "execution_count": 39,
   "id": "1378e876-1044-43b3-80e4-5fdaa4afb463",
   "metadata": {},
   "outputs": [
    {
     "name": "stderr",
     "output_type": "stream",
     "text": [
      "/var/tmp/pbs.43587.lich-compute.vscht.cz/ipykernel_16555/2190264476.py:4: SettingWithCopyWarning: \n",
      "A value is trying to be set on a copy of a slice from a DataFrame\n",
      "\n",
      "See the caveats in the documentation: https://pandas.pydata.org/pandas-docs/stable/user_guide/indexing.html#returning-a-view-versus-a-copy\n",
      "  joint_samples['Fragments'][x] = tup\n"
     ]
    }
   ],
   "source": [
    "for x in joint_samples.index:\n",
    "    a = joint_samples['Fragments'][x]\n",
    "    tup = literal_eval(a)\n",
    "    joint_samples['Fragments'][x] = tup"
   ]
  },
  {
   "cell_type": "markdown",
   "id": "4139ba77",
   "metadata": {
    "pycharm": {
     "name": "#%% md\n"
    }
   },
   "source": [
    "## Relative feature tightness against a PMI interrelation profile"
   ]
  },
  {
   "cell_type": "code",
   "execution_count": 40,
   "id": "5b78b1e8",
   "metadata": {
    "collapsed": false,
    "jupyter": {
     "outputs_hidden": false
    },
    "pycharm": {
     "name": "#%%\n"
    }
   },
   "outputs": [
    {
     "name": "stderr",
     "output_type": "stream",
     "text": [
      "/home/liskovaf/.conda/envs/coco/lib/python3.9/site-packages/numpy/core/fromnumeric.py:3419: RuntimeWarning: Mean of empty slice.\n",
      "  return _methods._mean(a, axis=axis, dtype=dtype,\n"
     ]
    },
    {
     "data": {
      "text/html": [
       "<div>\n",
       "<style scoped>\n",
       "    .dataframe tbody tr th:only-of-type {\n",
       "        vertical-align: middle;\n",
       "    }\n",
       "\n",
       "    .dataframe tbody tr th {\n",
       "        vertical-align: top;\n",
       "    }\n",
       "\n",
       "    .dataframe thead th {\n",
       "        text-align: right;\n",
       "    }\n",
       "</style>\n",
       "<table border=\"1\" class=\"dataframe\">\n",
       "  <thead>\n",
       "    <tr style=\"text-align: right;\">\n",
       "      <th></th>\n",
       "      <th>Smiles</th>\n",
       "      <th>MW</th>\n",
       "      <th>logP</th>\n",
       "      <th>Inchi</th>\n",
       "      <th>Inchi_s</th>\n",
       "      <th>Name</th>\n",
       "      <th>ECFP</th>\n",
       "      <th>Bitset</th>\n",
       "      <th>Fragments</th>\n",
       "      <th>RFT</th>\n",
       "    </tr>\n",
       "  </thead>\n",
       "  <tbody>\n",
       "    <tr>\n",
       "      <th>0</th>\n",
       "      <td>COc1cc2c(c(O)c1C)C(=O)C(O)C(c1ccc(O)cc1)O2</td>\n",
       "      <td>316.094688</td>\n",
       "      <td>2.09212</td>\n",
       "      <td>MGHMBAZWBKOORJ-UHFFFAOYSA-N</td>\n",
       "      <td>MGHMBAZWBKOORJ</td>\n",
       "      <td>COCONUT</td>\n",
       "      <td>&lt;rdkit.DataStructs.cDataStructs.ExplicitBitVec...</td>\n",
       "      <td>[15, 31, 164, 202, 249, 252, 276, 277, 314, 31...</td>\n",
       "      <td>([cH][cH][c]([OH])[cH][cH], [C][c]([c])[c]([OH...</td>\n",
       "      <td>5.270960</td>\n",
       "    </tr>\n",
       "    <tr>\n",
       "      <th>1</th>\n",
       "      <td>COc1cc2c(cc1C(C)C)CCC1C3=C(CCC21C)C(=O)OC(C)(C...</td>\n",
       "      <td>384.230060</td>\n",
       "      <td>4.42540</td>\n",
       "      <td>LVERCARRTBWEFF-UHFFFAOYSA-N</td>\n",
       "      <td>LVERCARRTBWEFF</td>\n",
       "      <td>COCONUT</td>\n",
       "      <td>&lt;rdkit.DataStructs.cDataStructs.ExplicitBitVec...</td>\n",
       "      <td>[1, 8, 53, 88, 121, 237, 249, 283, 296, 314, 5...</td>\n",
       "      <td>([c][C]([CH2])([CH3])[CH]([CH2][CH2])[C](=[C])...</td>\n",
       "      <td>0.985878</td>\n",
       "    </tr>\n",
       "    <tr>\n",
       "      <th>2</th>\n",
       "      <td>CCOC(=O)c1c(CNc2cccc(Cl)c2)n(-c2ccccc2)c2cc(Br...</td>\n",
       "      <td>512.050232</td>\n",
       "      <td>6.84380</td>\n",
       "      <td>NAYDBWIOBZOTTI-UHFFFAOYSA-N</td>\n",
       "      <td>NAYDBWIOBZOTTI</td>\n",
       "      <td>COCONUT</td>\n",
       "      <td>&lt;rdkit.DataStructs.cDataStructs.ExplicitBitVec...</td>\n",
       "      <td>[45, 54, 58, 80, 85, 87, 145, 147, 165, 191, 2...</td>\n",
       "      <td>([cH][cH][cH][cH][cH], [c][cH][c]([O][CH3])[c]...</td>\n",
       "      <td>-2.066930</td>\n",
       "    </tr>\n",
       "    <tr>\n",
       "      <th>3</th>\n",
       "      <td>OC1CC(O)C23c4cc5c(cc4CN(CC2O)C3C1)OCO5</td>\n",
       "      <td>305.126323</td>\n",
       "      <td>-0.27260</td>\n",
       "      <td>ZZJABKMPTOPUEL-UHFFFAOYSA-N</td>\n",
       "      <td>ZZJABKMPTOPUEL</td>\n",
       "      <td>COCONUT</td>\n",
       "      <td>&lt;rdkit.DataStructs.cDataStructs.ExplicitBitVec...</td>\n",
       "      <td>[164, 441, 474, 590, 608, 656, 738, 739, 760, ...</td>\n",
       "      <td>([c][CH2][N]([CH2][CH])[CH]([C])[CH2], [c][c](...</td>\n",
       "      <td>1.160691</td>\n",
       "    </tr>\n",
       "    <tr>\n",
       "      <th>4</th>\n",
       "      <td>CC(=O)C=C1OC(C)(C)c2ccc(O)cc21</td>\n",
       "      <td>218.094294</td>\n",
       "      <td>2.58740</td>\n",
       "      <td>HPHLMVQWIOPSME-UHFFFAOYSA-N</td>\n",
       "      <td>HPHLMVQWIOPSME</td>\n",
       "      <td>COCONUT</td>\n",
       "      <td>&lt;rdkit.DataStructs.cDataStructs.ExplicitBitVec...</td>\n",
       "      <td>[36, 38, 84, 164, 190, 302, 324, 352, 381, 486...</td>\n",
       "      <td>([C][c]([c])[cH][c]([cH])[OH], [c][cH][cH][c](...</td>\n",
       "      <td>0.401197</td>\n",
       "    </tr>\n",
       "    <tr>\n",
       "      <th>...</th>\n",
       "      <td>...</td>\n",
       "      <td>...</td>\n",
       "      <td>...</td>\n",
       "      <td>...</td>\n",
       "      <td>...</td>\n",
       "      <td>...</td>\n",
       "      <td>...</td>\n",
       "      <td>...</td>\n",
       "      <td>...</td>\n",
       "      <td>...</td>\n",
       "    </tr>\n",
       "    <tr>\n",
       "      <th>76526</th>\n",
       "      <td>O=C(CN1CCN(C(=O)CN2N=C(c3nc(-c4ccc5c(c4)OCO5)n...</td>\n",
       "      <td>537.233582</td>\n",
       "      <td>0.94850</td>\n",
       "      <td>UVZBXTXIQDRWEB-UHFFFAOYSA-N</td>\n",
       "      <td>UVZBXTXIQDRWEB</td>\n",
       "      <td>ZINC</td>\n",
       "      <td>&lt;rdkit.DataStructs.cDataStructs.ExplicitBitVec...</td>\n",
       "      <td>[2, 74, 80, 160, 226, 248, 273, 277, 314, 369,...</td>\n",
       "      <td>([CH2][CH2][CH2][CH2][N], [c]-[c]([cH])[cH][cH...</td>\n",
       "      <td>-3.032299</td>\n",
       "    </tr>\n",
       "    <tr>\n",
       "      <th>76527</th>\n",
       "      <td>NS(=O)(=O)c1ccc(C(=O)N2CC[C@@H](O)[C@@]3(CCCNC...</td>\n",
       "      <td>367.120192</td>\n",
       "      <td>-0.56280</td>\n",
       "      <td>VTEKDWHHRVLLIP-CZUORRHYSA-N</td>\n",
       "      <td>VTEKDWHHRVLLIP</td>\n",
       "      <td>ZINC</td>\n",
       "      <td>&lt;rdkit.DataStructs.cDataStructs.ExplicitBitVec...</td>\n",
       "      <td>[4, 113, 180, 305, 314, 319, 350, 497, 562, 60...</td>\n",
       "      <td>([CH2][CH2][NH][C]([C])=[O], [C][C]([CH])([CH2...</td>\n",
       "      <td>-2.427386</td>\n",
       "    </tr>\n",
       "    <tr>\n",
       "      <th>76528</th>\n",
       "      <td>CCN1CCN(c2ccc(S(=O)(=O)N3CCOCC3)cc2NC(=O)[C@@H...</td>\n",
       "      <td>520.215569</td>\n",
       "      <td>2.39450</td>\n",
       "      <td>RNTHSDBHBBCADW-LJQANCHMSA-N</td>\n",
       "      <td>RNTHSDBHBBCADW</td>\n",
       "      <td>ZINC</td>\n",
       "      <td>&lt;rdkit.DataStructs.cDataStructs.ExplicitBitVec...</td>\n",
       "      <td>[1, 34, 35, 74, 80, 90, 199, 231, 283, 294, 31...</td>\n",
       "      <td>([c][S](=[O])(=[O])[N]([CH2][CH2])[CH2][CH2], ...</td>\n",
       "      <td>-5.304783</td>\n",
       "    </tr>\n",
       "    <tr>\n",
       "      <th>76529</th>\n",
       "      <td>CCOC(=O)C1=C(C)N=c2s/c(=C\\c3ccc(OCc4c(F)cccc4C...</td>\n",
       "      <td>606.139149</td>\n",
       "      <td>5.56850</td>\n",
       "      <td>HOJNCUBZFZBIMF-PKYOQBLNSA-N</td>\n",
       "      <td>HOJNCUBZFZBIMF</td>\n",
       "      <td>ZINC</td>\n",
       "      <td>&lt;rdkit.DataStructs.cDataStructs.ExplicitBitVec...</td>\n",
       "      <td>[25, 80, 94, 125, 145, 147, 162, 237, 246, 281...</td>\n",
       "      <td>([CH][c]([cH])[cH][c]([c])[O], [c][CH]([n])[C]...</td>\n",
       "      <td>-5.920150</td>\n",
       "    </tr>\n",
       "    <tr>\n",
       "      <th>76530</th>\n",
       "      <td>C[C@@H]1CCC[C@@H](C)N1CCNC(=O)[C@@H]1C[C@H]2CC...</td>\n",
       "      <td>424.283826</td>\n",
       "      <td>3.35350</td>\n",
       "      <td>KJJQGAVGEXSPLV-FRRQQKHFSA-N</td>\n",
       "      <td>KJJQGAVGEXSPLV</td>\n",
       "      <td>ZINC</td>\n",
       "      <td>&lt;rdkit.DataStructs.cDataStructs.ExplicitBitVec...</td>\n",
       "      <td>[80, 81, 113, 197, 209, 215, 221, 314, 352, 43...</td>\n",
       "      <td>([C][CH]([CH])[CH2][CH]([CH2])[C], [C][c]([cH]...</td>\n",
       "      <td>-1.924938</td>\n",
       "    </tr>\n",
       "  </tbody>\n",
       "</table>\n",
       "<p>76531 rows × 10 columns</p>\n",
       "</div>"
      ],
      "text/plain": [
       "                                                  Smiles          MW     logP  \\\n",
       "0             COc1cc2c(c(O)c1C)C(=O)C(O)C(c1ccc(O)cc1)O2  316.094688  2.09212   \n",
       "1      COc1cc2c(cc1C(C)C)CCC1C3=C(CCC21C)C(=O)OC(C)(C...  384.230060  4.42540   \n",
       "2      CCOC(=O)c1c(CNc2cccc(Cl)c2)n(-c2ccccc2)c2cc(Br...  512.050232  6.84380   \n",
       "3                 OC1CC(O)C23c4cc5c(cc4CN(CC2O)C3C1)OCO5  305.126323 -0.27260   \n",
       "4                         CC(=O)C=C1OC(C)(C)c2ccc(O)cc21  218.094294  2.58740   \n",
       "...                                                  ...         ...      ...   \n",
       "76526  O=C(CN1CCN(C(=O)CN2N=C(c3nc(-c4ccc5c(c4)OCO5)n...  537.233582  0.94850   \n",
       "76527  NS(=O)(=O)c1ccc(C(=O)N2CC[C@@H](O)[C@@]3(CCCNC...  367.120192 -0.56280   \n",
       "76528  CCN1CCN(c2ccc(S(=O)(=O)N3CCOCC3)cc2NC(=O)[C@@H...  520.215569  2.39450   \n",
       "76529  CCOC(=O)C1=C(C)N=c2s/c(=C\\c3ccc(OCc4c(F)cccc4C...  606.139149  5.56850   \n",
       "76530  C[C@@H]1CCC[C@@H](C)N1CCNC(=O)[C@@H]1C[C@H]2CC...  424.283826  3.35350   \n",
       "\n",
       "                             Inchi         Inchi_s     Name  \\\n",
       "0      MGHMBAZWBKOORJ-UHFFFAOYSA-N  MGHMBAZWBKOORJ  COCONUT   \n",
       "1      LVERCARRTBWEFF-UHFFFAOYSA-N  LVERCARRTBWEFF  COCONUT   \n",
       "2      NAYDBWIOBZOTTI-UHFFFAOYSA-N  NAYDBWIOBZOTTI  COCONUT   \n",
       "3      ZZJABKMPTOPUEL-UHFFFAOYSA-N  ZZJABKMPTOPUEL  COCONUT   \n",
       "4      HPHLMVQWIOPSME-UHFFFAOYSA-N  HPHLMVQWIOPSME  COCONUT   \n",
       "...                            ...             ...      ...   \n",
       "76526  UVZBXTXIQDRWEB-UHFFFAOYSA-N  UVZBXTXIQDRWEB     ZINC   \n",
       "76527  VTEKDWHHRVLLIP-CZUORRHYSA-N  VTEKDWHHRVLLIP     ZINC   \n",
       "76528  RNTHSDBHBBCADW-LJQANCHMSA-N  RNTHSDBHBBCADW     ZINC   \n",
       "76529  HOJNCUBZFZBIMF-PKYOQBLNSA-N  HOJNCUBZFZBIMF     ZINC   \n",
       "76530  KJJQGAVGEXSPLV-FRRQQKHFSA-N  KJJQGAVGEXSPLV     ZINC   \n",
       "\n",
       "                                                    ECFP  \\\n",
       "0      <rdkit.DataStructs.cDataStructs.ExplicitBitVec...   \n",
       "1      <rdkit.DataStructs.cDataStructs.ExplicitBitVec...   \n",
       "2      <rdkit.DataStructs.cDataStructs.ExplicitBitVec...   \n",
       "3      <rdkit.DataStructs.cDataStructs.ExplicitBitVec...   \n",
       "4      <rdkit.DataStructs.cDataStructs.ExplicitBitVec...   \n",
       "...                                                  ...   \n",
       "76526  <rdkit.DataStructs.cDataStructs.ExplicitBitVec...   \n",
       "76527  <rdkit.DataStructs.cDataStructs.ExplicitBitVec...   \n",
       "76528  <rdkit.DataStructs.cDataStructs.ExplicitBitVec...   \n",
       "76529  <rdkit.DataStructs.cDataStructs.ExplicitBitVec...   \n",
       "76530  <rdkit.DataStructs.cDataStructs.ExplicitBitVec...   \n",
       "\n",
       "                                                  Bitset  \\\n",
       "0      [15, 31, 164, 202, 249, 252, 276, 277, 314, 31...   \n",
       "1      [1, 8, 53, 88, 121, 237, 249, 283, 296, 314, 5...   \n",
       "2      [45, 54, 58, 80, 85, 87, 145, 147, 165, 191, 2...   \n",
       "3      [164, 441, 474, 590, 608, 656, 738, 739, 760, ...   \n",
       "4      [36, 38, 84, 164, 190, 302, 324, 352, 381, 486...   \n",
       "...                                                  ...   \n",
       "76526  [2, 74, 80, 160, 226, 248, 273, 277, 314, 369,...   \n",
       "76527  [4, 113, 180, 305, 314, 319, 350, 497, 562, 60...   \n",
       "76528  [1, 34, 35, 74, 80, 90, 199, 231, 283, 294, 31...   \n",
       "76529  [25, 80, 94, 125, 145, 147, 162, 237, 246, 281...   \n",
       "76530  [80, 81, 113, 197, 209, 215, 221, 314, 352, 43...   \n",
       "\n",
       "                                               Fragments       RFT  \n",
       "0      ([cH][cH][c]([OH])[cH][cH], [C][c]([c])[c]([OH...  5.270960  \n",
       "1      ([c][C]([CH2])([CH3])[CH]([CH2][CH2])[C](=[C])...  0.985878  \n",
       "2      ([cH][cH][cH][cH][cH], [c][cH][c]([O][CH3])[c]... -2.066930  \n",
       "3      ([c][CH2][N]([CH2][CH])[CH]([C])[CH2], [c][c](...  1.160691  \n",
       "4      ([C][c]([c])[cH][c]([cH])[OH], [c][cH][cH][c](...  0.401197  \n",
       "...                                                  ...       ...  \n",
       "76526  ([CH2][CH2][CH2][CH2][N], [c]-[c]([cH])[cH][cH... -3.032299  \n",
       "76527  ([CH2][CH2][NH][C]([C])=[O], [C][C]([CH])([CH2... -2.427386  \n",
       "76528  ([c][S](=[O])(=[O])[N]([CH2][CH2])[CH2][CH2], ... -5.304783  \n",
       "76529  ([CH][c]([cH])[cH][c]([c])[O], [c][CH]([n])[C]... -5.920150  \n",
       "76530  ([C][CH]([CH])[CH2][CH]([CH2])[C], [C][c]([cH]... -1.924938  \n",
       "\n",
       "[76531 rows x 10 columns]"
      ]
     },
     "execution_count": 40,
     "metadata": {},
     "output_type": "execute_result"
    }
   ],
   "source": [
    "joint_samples['RFT'] = joint_samples['Fragments'].apply(\n",
    "    lambda x: difference_pkld_profile.relative_feature_divergence(x))\n",
    "joint_samples"
   ]
  },
  {
   "cell_type": "code",
   "execution_count": 41,
   "id": "30d14231",
   "metadata": {
    "collapsed": false,
    "jupyter": {
     "outputs_hidden": false
    },
    "pycharm": {
     "name": "#%%\n"
    }
   },
   "outputs": [
    {
     "data": {
      "image/png": "[encoded data removed]",
      "text/plain": [
       "<Figure size 842.4x595.44 with 1 Axes>"
      ]
     },
     "metadata": {},
     "output_type": "display_data"
    }
   ],
   "source": [
    "plt.rcParams['font.size'] = '14'\n",
    "a4_dims = (11.7, 8.27)\n",
    "sns.set_style(\"darkgrid\")\n",
    "fig, ax = plt.subplots(figsize=a4_dims)\n",
    "sns.histplot(joint_samples, x='RFT', hue='Name')\n",
    "plt.title('Relative feature tightness against a PMI interrelation profile 2')\n",
    "plt.savefig(f\"../images//joint_samples_RFT2F.svg\", format=\"svg\")"
   ]
  },
  {
   "cell_type": "markdown",
   "id": "ba97db5d",
   "metadata": {
    "pycharm": {
     "name": "#%% md\n"
    }
   },
   "source": [
    "According to the histogram, there is a visible split between Relative feature tightness distribution against the pointwise KL divergence profile between COCONUT and ZINC datasets, based on their radius 2 fragments. Larger fragments might diverge even further."
   ]
  },
  {
   "cell_type": "markdown",
   "id": "0a0099de-96d6-45d2-9be9-8176ad726fac",
   "metadata": {},
   "source": [
    "# ROC curve"
   ]
  },
  {
   "cell_type": "code",
   "execution_count": 42,
   "id": "c7607632-bfa8-4079-8bf8-7c29305a88a4",
   "metadata": {},
   "outputs": [
    {
     "data": {
      "text/html": [
       "<div>\n",
       "<style scoped>\n",
       "    .dataframe tbody tr th:only-of-type {\n",
       "        vertical-align: middle;\n",
       "    }\n",
       "\n",
       "    .dataframe tbody tr th {\n",
       "        vertical-align: top;\n",
       "    }\n",
       "\n",
       "    .dataframe thead th {\n",
       "        text-align: right;\n",
       "    }\n",
       "</style>\n",
       "<table border=\"1\" class=\"dataframe\">\n",
       "  <thead>\n",
       "    <tr style=\"text-align: right;\">\n",
       "      <th></th>\n",
       "      <th>Smiles</th>\n",
       "      <th>MW</th>\n",
       "      <th>logP</th>\n",
       "      <th>Inchi</th>\n",
       "      <th>Inchi_s</th>\n",
       "      <th>Name</th>\n",
       "      <th>ECFP</th>\n",
       "      <th>Bitset</th>\n",
       "      <th>Fragments</th>\n",
       "      <th>RFT</th>\n",
       "    </tr>\n",
       "  </thead>\n",
       "  <tbody>\n",
       "    <tr>\n",
       "      <th>49326</th>\n",
       "      <td>O[I+3](O)(O)O</td>\n",
       "      <td>194.913786</td>\n",
       "      <td>-5.224</td>\n",
       "      <td>ZKOVUZXETKNFRX-UHFFFAOYSA-N</td>\n",
       "      <td>ZKOVUZXETKNFRX</td>\n",
       "      <td>ZINC</td>\n",
       "      <td>&lt;rdkit.DataStructs.cDataStructs.ExplicitBitVec...</td>\n",
       "      <td>[317, 365, 807, 1967]</td>\n",
       "      <td>{}</td>\n",
       "      <td>NaN</td>\n",
       "    </tr>\n",
       "    <tr>\n",
       "      <th>52717</th>\n",
       "      <td>C=C(F)Br</td>\n",
       "      <td>123.932390</td>\n",
       "      <td>1.822</td>\n",
       "      <td>LNKSRHHQKNUTLI-UHFFFAOYSA-N</td>\n",
       "      <td>LNKSRHHQKNUTLI</td>\n",
       "      <td>ZINC</td>\n",
       "      <td>&lt;rdkit.DataStructs.cDataStructs.ExplicitBitVec...</td>\n",
       "      <td>[256, 728, 807, 1022, 1162, 1366, 1928, 2044]</td>\n",
       "      <td>{}</td>\n",
       "      <td>NaN</td>\n",
       "    </tr>\n",
       "  </tbody>\n",
       "</table>\n",
       "</div>"
      ],
      "text/plain": [
       "              Smiles          MW   logP                        Inchi  \\\n",
       "49326  O[I+3](O)(O)O  194.913786 -5.224  ZKOVUZXETKNFRX-UHFFFAOYSA-N   \n",
       "52717       C=C(F)Br  123.932390  1.822  LNKSRHHQKNUTLI-UHFFFAOYSA-N   \n",
       "\n",
       "              Inchi_s  Name  \\\n",
       "49326  ZKOVUZXETKNFRX  ZINC   \n",
       "52717  LNKSRHHQKNUTLI  ZINC   \n",
       "\n",
       "                                                    ECFP  \\\n",
       "49326  <rdkit.DataStructs.cDataStructs.ExplicitBitVec...   \n",
       "52717  <rdkit.DataStructs.cDataStructs.ExplicitBitVec...   \n",
       "\n",
       "                                              Bitset Fragments  RFT  \n",
       "49326                          [317, 365, 807, 1967]        {}  NaN  \n",
       "52717  [256, 728, 807, 1022, 1162, 1366, 1928, 2044]        {}  NaN  "
      ]
     },
     "execution_count": 42,
     "metadata": {},
     "output_type": "execute_result"
    }
   ],
   "source": [
    "joint_samples[joint_samples['RFT'].isna()]"
   ]
  },
  {
   "cell_type": "code",
   "execution_count": 43,
   "id": "4ef0a7ab-1c3d-4c9f-9588-6cf9a5c5805f",
   "metadata": {},
   "outputs": [],
   "source": [
    "joint_samples = joint_samples[joint_samples['RFT'].notna()]"
   ]
  },
  {
   "cell_type": "code",
   "execution_count": 44,
   "id": "e5085043-92b1-431f-ad02-87d3558bf843",
   "metadata": {},
   "outputs": [
    {
     "data": {
      "text/html": [
       "<div>\n",
       "<style scoped>\n",
       "    .dataframe tbody tr th:only-of-type {\n",
       "        vertical-align: middle;\n",
       "    }\n",
       "\n",
       "    .dataframe tbody tr th {\n",
       "        vertical-align: top;\n",
       "    }\n",
       "\n",
       "    .dataframe thead th {\n",
       "        text-align: right;\n",
       "    }\n",
       "</style>\n",
       "<table border=\"1\" class=\"dataframe\">\n",
       "  <thead>\n",
       "    <tr style=\"text-align: right;\">\n",
       "      <th></th>\n",
       "      <th>Smiles</th>\n",
       "      <th>MW</th>\n",
       "      <th>logP</th>\n",
       "      <th>Inchi</th>\n",
       "      <th>Inchi_s</th>\n",
       "      <th>Name</th>\n",
       "      <th>ECFP</th>\n",
       "      <th>Bitset</th>\n",
       "      <th>Fragments</th>\n",
       "      <th>RFT</th>\n",
       "    </tr>\n",
       "  </thead>\n",
       "  <tbody>\n",
       "  </tbody>\n",
       "</table>\n",
       "</div>"
      ],
      "text/plain": [
       "Empty DataFrame\n",
       "Columns: [Smiles, MW, logP, Inchi, Inchi_s, Name, ECFP, Bitset, Fragments, RFT]\n",
       "Index: []"
      ]
     },
     "execution_count": 44,
     "metadata": {},
     "output_type": "execute_result"
    }
   ],
   "source": [
    "joint_samples[joint_samples['RFT'].isna()]"
   ]
  },
  {
   "cell_type": "code",
   "execution_count": 45,
   "id": "f9b937aa-3339-4efa-a6f2-01269a178ff4",
   "metadata": {},
   "outputs": [],
   "source": [
    "from matplotlib.pyplot import figure\n",
    "from sklearn.metrics import roc_curve, auc\n",
    "from sklearn import metrics\n",
    "\n",
    "fpr, tpr, thresholds = metrics.roc_curve(joint_samples['Name'], joint_samples['RFT'], pos_label = 'COCONUT')\n",
    "roc_auc = metrics.auc(fpr, tpr)"
   ]
  },
  {
   "cell_type": "code",
   "execution_count": 46,
   "id": "64b4e87f-5014-42a2-a050-ab9f532b7b58",
   "metadata": {},
   "outputs": [
    {
     "data": {
      "text/plain": [
       "0.9863458978196042"
      ]
     },
     "execution_count": 46,
     "metadata": {},
     "output_type": "execute_result"
    }
   ],
   "source": [
    "roc_auc"
   ]
  },
  {
   "cell_type": "code",
   "execution_count": 47,
   "id": "b314351d-c87f-4fb3-a15c-604db9d4188a",
   "metadata": {},
   "outputs": [
    {
     "data": {
      "text/plain": [
       "<Figure size 432x288 with 0 Axes>"
      ]
     },
     "metadata": {},
     "output_type": "display_data"
    },
    {
     "data": {
      "image/png": "[encoded data removed]",
      "text/plain": [
       "<Figure size 842.4x595.44 with 1 Axes>"
      ]
     },
     "metadata": {},
     "output_type": "display_data"
    }
   ],
   "source": [
    "plt.rcParams['font.size'] = '16'\n",
    "plt.figure()\n",
    "figure(figsize=(11.7, 8.27))\n",
    "plt.plot(fpr,tpr,color=\"darkorange\",label=\"ROC curve (area = %0.4f)\" % roc_auc)\n",
    "plt.plot([0, 1], [0, 1], color=\"navy\", linestyle=\"--\")\n",
    "plt.xlim([-0.01, 1.01])\n",
    "plt.ylim([0.0, 1.01])\n",
    "plt.xlabel(\"False Positive Rate\")\n",
    "plt.ylabel(\"True Positive Rate\")\n",
    "plt.title('Receiver Operating Characteristic 2')\n",
    "plt.legend(loc=\"lower right\")\n",
    "plt.savefig(f\"../images//joint_samples_ROC2F.svg\", format=\"svg\")\n",
    "plt.show()"
   ]
  },
  {
   "cell_type": "code",
   "execution_count": null,
   "id": "b796d73b-07a2-4a5c-9552-37c5ef8ee0b4",
   "metadata": {},
   "outputs": [],
   "source": []
  }
 ],
 "metadata": {
  "kernelspec": {
   "display_name": "Python 3 (ipykernel)",
   "language": "python",
   "name": "python3"
  },
  "language_info": {
   "codemirror_mode": {
    "name": "ipython",
    "version": 3
   },
   "file_extension": ".py",
   "mimetype": "text/x-python",
   "name": "python",
   "nbconvert_exporter": "python",
   "pygments_lexer": "ipython3",
   "version": "3.9.7"
  }
 },
 "nbformat": 4,
 "nbformat_minor": 5
}
