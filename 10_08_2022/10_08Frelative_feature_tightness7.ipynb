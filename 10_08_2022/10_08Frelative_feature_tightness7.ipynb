{
 "cells": [
  {
   "cell_type": "markdown",
   "id": "09cb58ba",
   "metadata": {
    "pycharm": {
     "name": "#%% md\n"
    }
   },
   "source": [
    "# Relative feature tightness of fragments using part 7 for test data"
   ]
  },
  {
   "cell_type": "code",
   "execution_count": 2,
   "id": "b7559bf4",
   "metadata": {
    "pycharm": {
     "name": "#%%\n"
    }
   },
   "outputs": [],
   "source": [
    "import pandas as pd\n",
    "import seaborn as sns\n",
    "import matplotlib.pyplot as plt\n",
    "import csv\n",
    "import numpy as np\n",
    "\n",
    "from ast import literal_eval\n",
    "import re\n",
    "import sys\n",
    "sys.path.insert(0,\"./../fip3\")\n",
    "from fip import profiles"
   ]
  },
  {
   "cell_type": "markdown",
   "id": "fc50f8f1",
   "metadata": {
    "pycharm": {
     "name": "#%% md\n"
    }
   },
   "source": [
    "## Dataset prep"
   ]
  },
  {
   "cell_type": "markdown",
   "id": "005b3e57",
   "metadata": {
    "pycharm": {
     "name": "#%% md\n"
    }
   },
   "source": [
    "### Making feature pointwise mutual information profiles"
   ]
  },
  {
   "cell_type": "code",
   "execution_count": 3,
   "id": "d60972a1-b5a0-4b6f-9c0e-9cf37fdb53f4",
   "metadata": {},
   "outputs": [],
   "source": [
    "profile0 = profiles.CooccurrenceProfile.from_dataframe(pd.read_csv('../data/CPF/COCONUT/COCOp0_38630.csv', dtype={'feature1': 'str','feature2' : 'str' }), vector_count=38630)\n",
    "profile1 = profiles.CooccurrenceProfile.from_dataframe(pd.read_csv('../data/CPF/COCONUT/COCOp1_38630.csv', dtype={'feature1': 'str','feature2' : 'str' }), vector_count=38630)\n",
    "profile2 = profiles.CooccurrenceProfile.from_dataframe(pd.read_csv('../data/CPF/COCONUT/COCOp2_38630.csv', dtype={'feature1': 'str','feature2' : 'str' }), vector_count=38630)\n",
    "profile3 = profiles.CooccurrenceProfile.from_dataframe(pd.read_csv('../data/CPF/COCONUT/COCOp3_38630.csv', dtype={'feature1': 'str','feature2' : 'str' }), vector_count=38630)\n",
    "profile4 = profiles.CooccurrenceProfile.from_dataframe(pd.read_csv('../data/CPF/COCONUT/COCOp4_38630.csv', dtype={'feature1': 'str','feature2' : 'str' }), vector_count=38630)\n",
    "profile5 = profiles.CooccurrenceProfile.from_dataframe(pd.read_csv('../data/CPF/COCONUT/COCOp5_38630.csv', dtype={'feature1': 'str','feature2' : 'str' }), vector_count=38630)\n",
    "profile6 = profiles.CooccurrenceProfile.from_dataframe(pd.read_csv('../data/CPF/COCONUT/COCOp6_38630.csv', dtype={'feature1': 'str','feature2' : 'str' }), vector_count=38630)\n",
    "profile8 = profiles.CooccurrenceProfile.from_dataframe(pd.read_csv('../data/CPF/COCONUT/COCOp8_38629.csv', dtype={'feature1': 'str','feature2' : 'str' }), vector_count=38629)\n",
    "profile9 = profiles.CooccurrenceProfile.from_dataframe(pd.read_csv('../data/CPF/COCONUT/COCOp9_38629.csv', dtype={'feature1': 'str','feature2' : 'str' }), vector_count=38629)"
   ]
  },
  {
   "cell_type": "code",
   "execution_count": 4,
   "id": "d928eb58-08cf-4743-8c58-7196f59da70b",
   "metadata": {},
   "outputs": [
    {
     "data": {
      "text/plain": [
       "<fip.profiles.CooccurrenceProfile at 0x7fe644888af0>"
      ]
     },
     "execution_count": 4,
     "metadata": {},
     "output_type": "execute_result"
    }
   ],
   "source": [
    "profile0.add_another_cooccurrence_profile(profile1)\n",
    "profile0.add_another_cooccurrence_profile(profile2)\n",
    "profile0.add_another_cooccurrence_profile(profile3)\n",
    "profile0.add_another_cooccurrence_profile(profile4)\n",
    "profile0.add_another_cooccurrence_profile(profile5)\n",
    "profile0.add_another_cooccurrence_profile(profile6)\n",
    "profile0.add_another_cooccurrence_profile(profile8)\n",
    "profile0.add_another_cooccurrence_profile(profile9)"
   ]
  },
  {
   "cell_type": "code",
   "execution_count": 5,
   "id": "7147d116-0c36-4a62-8f6c-c1667667a7c9",
   "metadata": {},
   "outputs": [],
   "source": [
    "probability_profile = profiles.CooccurrenceProbabilityProfile.from_cooccurrence_profile(profile0)"
   ]
  },
  {
   "cell_type": "code",
   "execution_count": 6,
   "id": "d83c7314-5776-4b99-80cf-25536ba50afa",
   "metadata": {},
   "outputs": [],
   "source": [
    "reference_profile0 = profiles.CooccurrenceProfile.from_dataframe(pd.read_csv('../data/CPF/ZINC/ZINCp0_37902.csv', dtype={'feature1': 'str','feature2' : 'str' }), vector_count=37902)\n",
    "reference_profile1 = profiles.CooccurrenceProfile.from_dataframe(pd.read_csv('../data/CPF/ZINC/ZINCp1_37902.csv', dtype={'feature1': 'str','feature2' : 'str' }), vector_count=37902)\n",
    "reference_profile2 = profiles.CooccurrenceProfile.from_dataframe(pd.read_csv('../data/CPF/ZINC/ZINCp2_37901.csv', dtype={'feature1': 'str','feature2' : 'str' }), vector_count=37901)\n",
    "reference_profile3 = profiles.CooccurrenceProfile.from_dataframe(pd.read_csv('../data/CPF/ZINC/ZINCp3_37901.csv', dtype={'feature1': 'str','feature2' : 'str' }), vector_count=37901)\n",
    "reference_profile4 = profiles.CooccurrenceProfile.from_dataframe(pd.read_csv('../data/CPF/ZINC/ZINCp4_37901.csv', dtype={'feature1': 'str','feature2' : 'str' }), vector_count=37901)\n",
    "reference_profile5 = profiles.CooccurrenceProfile.from_dataframe(pd.read_csv('../data/CPF/ZINC/ZINCp5_37901.csv', dtype={'feature1': 'str','feature2' : 'str' }), vector_count=37901)\n",
    "reference_profile6 = profiles.CooccurrenceProfile.from_dataframe(pd.read_csv('../data/CPF/ZINC/ZINCp6_37901.csv', dtype={'feature1': 'str','feature2' : 'str' }), vector_count=37901)\n",
    "reference_profile8 = profiles.CooccurrenceProfile.from_dataframe(pd.read_csv('../data/CPF/ZINC/ZINCp8_37901.csv', dtype={'feature1': 'str','feature2' : 'str' }), vector_count=37901)\n",
    "reference_profile9 = profiles.CooccurrenceProfile.from_dataframe(pd.read_csv('../data/CPF/ZINC/ZINCp9_37901.csv', dtype={'feature1': 'str','feature2' : 'str' }), vector_count=37901)"
   ]
  },
  {
   "cell_type": "code",
   "execution_count": 7,
   "id": "3e7d1500-bc9f-424d-8be0-5a3c575b0dc8",
   "metadata": {},
   "outputs": [
    {
     "data": {
      "text/plain": [
       "<fip.profiles.CooccurrenceProfile at 0x7fe50f48f7f0>"
      ]
     },
     "execution_count": 7,
     "metadata": {},
     "output_type": "execute_result"
    }
   ],
   "source": [
    "reference_profile0.add_another_cooccurrence_profile(reference_profile1)\n",
    "reference_profile0.add_another_cooccurrence_profile(reference_profile2)\n",
    "reference_profile0.add_another_cooccurrence_profile(reference_profile3)\n",
    "reference_profile0.add_another_cooccurrence_profile(reference_profile4)\n",
    "reference_profile0.add_another_cooccurrence_profile(reference_profile5)\n",
    "reference_profile0.add_another_cooccurrence_profile(reference_profile6)\n",
    "reference_profile0.add_another_cooccurrence_profile(reference_profile8)\n",
    "reference_profile0.add_another_cooccurrence_profile(reference_profile9)"
   ]
  },
  {
   "cell_type": "code",
   "execution_count": 8,
   "id": "bbffde8b-6839-461a-8a68-8e466d80b123",
   "metadata": {},
   "outputs": [],
   "source": [
    "reference_probability_profile = profiles.CooccurrenceProbabilityProfile.from_cooccurrence_profile(reference_profile0)"
   ]
  },
  {
   "cell_type": "markdown",
   "id": "8141d215",
   "metadata": {
    "pycharm": {
     "name": "#%% md\n"
    }
   },
   "source": [
    "### Making feature pointwise KL divergence profile between COCONUT and ZINC"
   ]
  },
  {
   "cell_type": "code",
   "execution_count": 9,
   "id": "e2da7160",
   "metadata": {
    "pycharm": {
     "name": "#%%\n"
    }
   },
   "outputs": [
    {
     "data": {
      "text/html": [
       "<div>\n",
       "<style scoped>\n",
       "    .dataframe tbody tr th:only-of-type {\n",
       "        vertical-align: middle;\n",
       "    }\n",
       "\n",
       "    .dataframe tbody tr th {\n",
       "        vertical-align: top;\n",
       "    }\n",
       "\n",
       "    .dataframe thead th {\n",
       "        text-align: right;\n",
       "    }\n",
       "</style>\n",
       "<table border=\"1\" class=\"dataframe\">\n",
       "  <thead>\n",
       "    <tr style=\"text-align: right;\">\n",
       "      <th></th>\n",
       "      <th></th>\n",
       "      <th>value</th>\n",
       "    </tr>\n",
       "    <tr>\n",
       "      <th>feature1</th>\n",
       "      <th>feature2</th>\n",
       "      <th></th>\n",
       "    </tr>\n",
       "  </thead>\n",
       "  <tbody>\n",
       "    <tr>\n",
       "      <th rowspan=\"5\" valign=\"top\">[CH2][CH2][CH2][CH2][CH]</th>\n",
       "      <th>[CH2][CH2][CH2][CH2][CH]</th>\n",
       "      <td>1.851986</td>\n",
       "    </tr>\n",
       "    <tr>\n",
       "      <th>[CH2][CH2][CH]([C]([CH2])=[O])[CH]([CH2])[CH2]</th>\n",
       "      <td>3.431963</td>\n",
       "    </tr>\n",
       "    <tr>\n",
       "      <th>[CH2][CH2][C](=[O])[CH]([CH2])[CH]</th>\n",
       "      <td>5.376253</td>\n",
       "    </tr>\n",
       "    <tr>\n",
       "      <th>[CH3][CH2][CH2][CH2]</th>\n",
       "      <td>4.158487</td>\n",
       "    </tr>\n",
       "    <tr>\n",
       "      <th>[CH3][CH2][CH2][CH2][CH2]</th>\n",
       "      <td>4.419948</td>\n",
       "    </tr>\n",
       "    <tr>\n",
       "      <th>...</th>\n",
       "      <th>...</th>\n",
       "      <td>...</td>\n",
       "    </tr>\n",
       "    <tr>\n",
       "      <th rowspan=\"2\" valign=\"top\">[CH][CH2][CH2][S]([CH2])(=[O])=[O]</th>\n",
       "      <th>[CH][NH][CH2][S]([CH2])(=[O])=[O]</th>\n",
       "      <td>-0.027473</td>\n",
       "    </tr>\n",
       "    <tr>\n",
       "      <th>[C][CH]([CH2])[NH][CH2][S]</th>\n",
       "      <td>-0.027473</td>\n",
       "    </tr>\n",
       "    <tr>\n",
       "      <th rowspan=\"2\" valign=\"top\">[CH][NH][CH2][S]([CH2])(=[O])=[O]</th>\n",
       "      <th>[C][CH]([CH2])[NH][CH2][S]</th>\n",
       "      <td>-0.027473</td>\n",
       "    </tr>\n",
       "    <tr>\n",
       "      <th>[C][CH]([NH])[CH2][CH2][S]</th>\n",
       "      <td>-0.027473</td>\n",
       "    </tr>\n",
       "    <tr>\n",
       "      <th>[C][CH]([CH2])[NH][CH2][S]</th>\n",
       "      <th>[C][CH]([NH])[CH2][CH2][S]</th>\n",
       "      <td>-0.027473</td>\n",
       "    </tr>\n",
       "  </tbody>\n",
       "</table>\n",
       "<p>28962537 rows × 1 columns</p>\n",
       "</div>"
      ],
      "text/plain": [
       "                                                                                      value\n",
       "feature1                           feature2                                                \n",
       "[CH2][CH2][CH2][CH2][CH]           [CH2][CH2][CH2][CH2][CH]                        1.851986\n",
       "                                   [CH2][CH2][CH]([C]([CH2])=[O])[CH]([CH2])[CH2]  3.431963\n",
       "                                   [CH2][CH2][C](=[O])[CH]([CH2])[CH]              5.376253\n",
       "                                   [CH3][CH2][CH2][CH2]                            4.158487\n",
       "                                   [CH3][CH2][CH2][CH2][CH2]                       4.419948\n",
       "...                                                                                     ...\n",
       "[CH][CH2][CH2][S]([CH2])(=[O])=[O] [CH][NH][CH2][S]([CH2])(=[O])=[O]              -0.027473\n",
       "                                   [C][CH]([CH2])[NH][CH2][S]                     -0.027473\n",
       "[CH][NH][CH2][S]([CH2])(=[O])=[O]  [C][CH]([CH2])[NH][CH2][S]                     -0.027473\n",
       "                                   [C][CH]([NH])[CH2][CH2][S]                     -0.027473\n",
       "[C][CH]([CH2])[NH][CH2][S]         [C][CH]([NH])[CH2][CH2][S]                     -0.027473\n",
       "\n",
       "[28962537 rows x 1 columns]"
      ]
     },
     "execution_count": 9,
     "metadata": {},
     "output_type": "execute_result"
    }
   ],
   "source": [
    "difference_pkld_profile = profiles.PointwiseKLDivergenceProfile.from_cooccurrence_probability_profiles(\n",
    "    probability_profile, reference_probability_profile)\n",
    "difference_pkld_profile.df"
   ]
  },
  {
   "cell_type": "markdown",
   "id": "280a3dd8",
   "metadata": {
    "pycharm": {
     "name": "#%% md\n"
    }
   },
   "source": [
    "### Sampling structures from COCONUT and ZINC datasets"
   ]
  },
  {
   "cell_type": "code",
   "execution_count": 10,
   "id": "212cd152",
   "metadata": {
    "pycharm": {
     "name": "#%%\n"
    }
   },
   "outputs": [],
   "source": [
    "coconut_samples = pd.read_csv('../data/CPF/COCONUT/COCOrandomF.csv', delimiter = ' ')\n",
    "coconut_samples = coconut_samples.drop(['Coconut_id'], axis=1)\n",
    "coconut_samples['Name'] = 'COCONUT'"
   ]
  },
  {
   "cell_type": "code",
   "execution_count": 11,
   "id": "95627151-b248-427d-a494-4f84494aa1d6",
   "metadata": {},
   "outputs": [],
   "source": [
    "df_split_coco = np.array_split(coconut_samples, 10)"
   ]
  },
  {
   "cell_type": "code",
   "execution_count": 12,
   "id": "13b1766b-989b-4995-950c-e7f7bbe1f5fd",
   "metadata": {},
   "outputs": [
    {
     "data": {
      "text/html": [
       "<div>\n",
       "<style scoped>\n",
       "    .dataframe tbody tr th:only-of-type {\n",
       "        vertical-align: middle;\n",
       "    }\n",
       "\n",
       "    .dataframe tbody tr th {\n",
       "        vertical-align: top;\n",
       "    }\n",
       "\n",
       "    .dataframe thead th {\n",
       "        text-align: right;\n",
       "    }\n",
       "</style>\n",
       "<table border=\"1\" class=\"dataframe\">\n",
       "  <thead>\n",
       "    <tr style=\"text-align: right;\">\n",
       "      <th></th>\n",
       "      <th>Smiles</th>\n",
       "      <th>MW</th>\n",
       "      <th>logP</th>\n",
       "      <th>Inchi</th>\n",
       "      <th>Inchi_s</th>\n",
       "      <th>Name</th>\n",
       "      <th>ECFP</th>\n",
       "      <th>Bitset</th>\n",
       "      <th>Fragments</th>\n",
       "    </tr>\n",
       "  </thead>\n",
       "  <tbody>\n",
       "    <tr>\n",
       "      <th>270410</th>\n",
       "      <td>C1CCC(C23CC(CC4CCCN=C42)C2CCCCN2C3)NC1</td>\n",
       "      <td>315.267448</td>\n",
       "      <td>3.2440</td>\n",
       "      <td>LHZDKNLVYWYRSS-UHFFFAOYSA-N</td>\n",
       "      <td>LHZDKNLVYWYRSS</td>\n",
       "      <td>COCONUT</td>\n",
       "      <td>&lt;rdkit.DataStructs.cDataStructs.ExplicitBitVec...</td>\n",
       "      <td>[33, 51, 118, 162, 264, 305, 313, 325, 378, 50...</td>\n",
       "      <td>'[CH2][CH2][CH2][CH]([CH])[N]', '[CH][CH2][CH2...</td>\n",
       "    </tr>\n",
       "    <tr>\n",
       "      <th>270411</th>\n",
       "      <td>COc1cccc(C=CC(O)C(O)C(O)C(C)OC)c1CO</td>\n",
       "      <td>312.157288</td>\n",
       "      <td>0.3183</td>\n",
       "      <td>ODQVGZIJMRNPQK-UHFFFAOYSA-N</td>\n",
       "      <td>ODQVGZIJMRNPQK</td>\n",
       "      <td>COCONUT</td>\n",
       "      <td>&lt;rdkit.DataStructs.cDataStructs.ExplicitBitVec...</td>\n",
       "      <td>[1, 40, 80, 146, 210, 222, 227, 249, 283, 368,...</td>\n",
       "      <td>'[cH][cH][c]([O][CH3])[c]([c])[CH2]', '[cH][c]...</td>\n",
       "    </tr>\n",
       "    <tr>\n",
       "      <th>270412</th>\n",
       "      <td>COc1ccc(CNC(=O)c2cc3c([nH]c4ccccc43)c(-c3ccc(C...</td>\n",
       "      <td>449.210327</td>\n",
       "      <td>6.4451</td>\n",
       "      <td>QRNUBGNGCMKPQO-UHFFFAOYSA-N</td>\n",
       "      <td>QRNUBGNGCMKPQO</td>\n",
       "      <td>COCONUT</td>\n",
       "      <td>&lt;rdkit.DataStructs.cDataStructs.ExplicitBitVec...</td>\n",
       "      <td>[1, 68, 80, 119, 197, 223, 255, 283, 310, 322,...</td>\n",
       "      <td>'[cH][cH][c]([cH][cH])-[c]([c])[n]', '[cH][cH]...</td>\n",
       "    </tr>\n",
       "    <tr>\n",
       "      <th>270413</th>\n",
       "      <td>CC(=O)OC(CCC(C)=CCCC(=O)c1ccc(O)cc1O)C(C)(O)CC...</td>\n",
       "      <td>432.251189</td>\n",
       "      <td>5.2163</td>\n",
       "      <td>JDVWBXDBNKCEEE-UHFFFAOYSA-N</td>\n",
       "      <td>JDVWBXDBNKCEEE</td>\n",
       "      <td>COCONUT</td>\n",
       "      <td>&lt;rdkit.DataStructs.cDataStructs.ExplicitBitVec...</td>\n",
       "      <td>[1, 24, 67, 69, 80, 114, 205, 237, 357, 370, 3...</td>\n",
       "      <td>'[C][c]([c])[cH][cH][c]', '[C][c]([cH])[c]([OH...</td>\n",
       "    </tr>\n",
       "    <tr>\n",
       "      <th>270414</th>\n",
       "      <td>COCNc1cc2c3c([nH+]1)-n1cc4cc(C56CCOCC5CCc5cccc...</td>\n",
       "      <td>1004.484442</td>\n",
       "      <td>10.6355</td>\n",
       "      <td>ANWQUIINLJNKGK-UHFFFAOYSA-O</td>\n",
       "      <td>ANWQUIINLJNKGK</td>\n",
       "      <td>COCONUT</td>\n",
       "      <td>&lt;rdkit.DataStructs.cDataStructs.ExplicitBitVec...</td>\n",
       "      <td>[22, 48, 49, 58, 65, 80, 95, 104, 128, 155, 21...</td>\n",
       "      <td>'[c][c]([c])[CH2][O][CH]', '[cH][cH][cH][cH][c...</td>\n",
       "    </tr>\n",
       "    <tr>\n",
       "      <th>...</th>\n",
       "      <td>...</td>\n",
       "      <td>...</td>\n",
       "      <td>...</td>\n",
       "      <td>...</td>\n",
       "      <td>...</td>\n",
       "      <td>...</td>\n",
       "      <td>...</td>\n",
       "      <td>...</td>\n",
       "      <td>...</td>\n",
       "    </tr>\n",
       "    <tr>\n",
       "      <th>309034</th>\n",
       "      <td>S=C(NNc1ccccc1)NC(c1ccccc1)(c1ccccc1)c1ccccc1</td>\n",
       "      <td>409.161269</td>\n",
       "      <td>5.4697</td>\n",
       "      <td>RFKBPYKOKYSLIQ-UHFFFAOYSA-N</td>\n",
       "      <td>RFKBPYKOKYSLIQ</td>\n",
       "      <td>COCONUT</td>\n",
       "      <td>&lt;rdkit.DataStructs.cDataStructs.ExplicitBitVec...</td>\n",
       "      <td>[97, 105, 110, 114, 191, 354, 389, 639, 696, 7...</td>\n",
       "      <td>'[cH][cH][cH][cH][cH]', '[cH][cH][c]([cH][cH])...</td>\n",
       "    </tr>\n",
       "    <tr>\n",
       "      <th>309035</th>\n",
       "      <td>COc1cc(C(O)C(O)OC2OC(COC(=O)C=Cc3cc(OC)c(O)c(O...</td>\n",
       "      <td>568.179206</td>\n",
       "      <td>-0.4438</td>\n",
       "      <td>LTEDCNNXJUTLEF-UHFFFAOYSA-N</td>\n",
       "      <td>LTEDCNNXJUTLEF</td>\n",
       "      <td>COCONUT</td>\n",
       "      <td>&lt;rdkit.DataStructs.cDataStructs.ExplicitBitVec...</td>\n",
       "      <td>[1, 31, 58, 80, 147, 176, 202, 220, 227, 249, ...</td>\n",
       "      <td>'[CH2][CH]([CH])[O][CH]([CH])[O]', '[cH][cH][c...</td>\n",
       "    </tr>\n",
       "    <tr>\n",
       "      <th>309036</th>\n",
       "      <td>CC(=O)OC1CC2(C)C3CC(OC4OC(CO)C(O)C(O)C4O)C4C(C...</td>\n",
       "      <td>910.492601</td>\n",
       "      <td>2.4365</td>\n",
       "      <td>GZJSPFHGRIJXBF-UHFFFAOYSA-N</td>\n",
       "      <td>GZJSPFHGRIJXBF</td>\n",
       "      <td>COCONUT</td>\n",
       "      <td>&lt;rdkit.DataStructs.cDataStructs.ExplicitBitVec...</td>\n",
       "      <td>[80, 114, 176, 222, 242, 249, 260, 267, 303, 3...</td>\n",
       "      <td>'[CH3][C](=[O])[O][CH]([CH])[CH]', '[CH2][CH2]...</td>\n",
       "    </tr>\n",
       "    <tr>\n",
       "      <th>309037</th>\n",
       "      <td>CC(C)=CCCC(C)C1CC(O)C2(C)C3=CCC4C(C)(CCC(O)C4(...</td>\n",
       "      <td>440.365431</td>\n",
       "      <td>7.2259</td>\n",
       "      <td>CCFQLQIYEHITNK-UHFFFAOYSA-N</td>\n",
       "      <td>CCFQLQIYEHITNK</td>\n",
       "      <td>COCONUT</td>\n",
       "      <td>&lt;rdkit.DataStructs.cDataStructs.ExplicitBitVec...</td>\n",
       "      <td>[1, 8, 61, 63, 80, 111, 137, 203, 283, 401, 44...</td>\n",
       "      <td>'[CH][CH2][CH]([C]([C])([CH3])[CH2])[C]([CH])(...</td>\n",
       "    </tr>\n",
       "    <tr>\n",
       "      <th>309038</th>\n",
       "      <td>NC(C(O)C=O)C(O)C(O)CO</td>\n",
       "      <td>179.079373</td>\n",
       "      <td>-3.4124</td>\n",
       "      <td>FOEXHEVNPRRHDY-UHFFFAOYSA-N</td>\n",
       "      <td>FOEXHEVNPRRHDY</td>\n",
       "      <td>COCONUT</td>\n",
       "      <td>&lt;rdkit.DataStructs.cDataStructs.ExplicitBitVec...</td>\n",
       "      <td>[1, 80, 222, 227, 441, 482, 508, 650, 657, 694...</td>\n",
       "      <td>'[CH][CH]([OH])[CH]([OH])[CH2][OH]', '[CH][CH]...</td>\n",
       "    </tr>\n",
       "  </tbody>\n",
       "</table>\n",
       "<p>38629 rows × 9 columns</p>\n",
       "</div>"
      ],
      "text/plain": [
       "                                                   Smiles           MW  \\\n",
       "270410             C1CCC(C23CC(CC4CCCN=C42)C2CCCCN2C3)NC1   315.267448   \n",
       "270411                COc1cccc(C=CC(O)C(O)C(O)C(C)OC)c1CO   312.157288   \n",
       "270412  COc1ccc(CNC(=O)c2cc3c([nH]c4ccccc43)c(-c3ccc(C...   449.210327   \n",
       "270413  CC(=O)OC(CCC(C)=CCCC(=O)c1ccc(O)cc1O)C(C)(O)CC...   432.251189   \n",
       "270414  COCNc1cc2c3c([nH+]1)-n1cc4cc(C56CCOCC5CCc5cccc...  1004.484442   \n",
       "...                                                   ...          ...   \n",
       "309034      S=C(NNc1ccccc1)NC(c1ccccc1)(c1ccccc1)c1ccccc1   409.161269   \n",
       "309035  COc1cc(C(O)C(O)OC2OC(COC(=O)C=Cc3cc(OC)c(O)c(O...   568.179206   \n",
       "309036  CC(=O)OC1CC2(C)C3CC(OC4OC(CO)C(O)C(O)C4O)C4C(C...   910.492601   \n",
       "309037  CC(C)=CCCC(C)C1CC(O)C2(C)C3=CCC4C(C)(CCC(O)C4(...   440.365431   \n",
       "309038                              NC(C(O)C=O)C(O)C(O)CO   179.079373   \n",
       "\n",
       "           logP                        Inchi         Inchi_s     Name  \\\n",
       "270410   3.2440  LHZDKNLVYWYRSS-UHFFFAOYSA-N  LHZDKNLVYWYRSS  COCONUT   \n",
       "270411   0.3183  ODQVGZIJMRNPQK-UHFFFAOYSA-N  ODQVGZIJMRNPQK  COCONUT   \n",
       "270412   6.4451  QRNUBGNGCMKPQO-UHFFFAOYSA-N  QRNUBGNGCMKPQO  COCONUT   \n",
       "270413   5.2163  JDVWBXDBNKCEEE-UHFFFAOYSA-N  JDVWBXDBNKCEEE  COCONUT   \n",
       "270414  10.6355  ANWQUIINLJNKGK-UHFFFAOYSA-O  ANWQUIINLJNKGK  COCONUT   \n",
       "...         ...                          ...             ...      ...   \n",
       "309034   5.4697  RFKBPYKOKYSLIQ-UHFFFAOYSA-N  RFKBPYKOKYSLIQ  COCONUT   \n",
       "309035  -0.4438  LTEDCNNXJUTLEF-UHFFFAOYSA-N  LTEDCNNXJUTLEF  COCONUT   \n",
       "309036   2.4365  GZJSPFHGRIJXBF-UHFFFAOYSA-N  GZJSPFHGRIJXBF  COCONUT   \n",
       "309037   7.2259  CCFQLQIYEHITNK-UHFFFAOYSA-N  CCFQLQIYEHITNK  COCONUT   \n",
       "309038  -3.4124  FOEXHEVNPRRHDY-UHFFFAOYSA-N  FOEXHEVNPRRHDY  COCONUT   \n",
       "\n",
       "                                                     ECFP  \\\n",
       "270410  <rdkit.DataStructs.cDataStructs.ExplicitBitVec...   \n",
       "270411  <rdkit.DataStructs.cDataStructs.ExplicitBitVec...   \n",
       "270412  <rdkit.DataStructs.cDataStructs.ExplicitBitVec...   \n",
       "270413  <rdkit.DataStructs.cDataStructs.ExplicitBitVec...   \n",
       "270414  <rdkit.DataStructs.cDataStructs.ExplicitBitVec...   \n",
       "...                                                   ...   \n",
       "309034  <rdkit.DataStructs.cDataStructs.ExplicitBitVec...   \n",
       "309035  <rdkit.DataStructs.cDataStructs.ExplicitBitVec...   \n",
       "309036  <rdkit.DataStructs.cDataStructs.ExplicitBitVec...   \n",
       "309037  <rdkit.DataStructs.cDataStructs.ExplicitBitVec...   \n",
       "309038  <rdkit.DataStructs.cDataStructs.ExplicitBitVec...   \n",
       "\n",
       "                                                   Bitset  \\\n",
       "270410  [33, 51, 118, 162, 264, 305, 313, 325, 378, 50...   \n",
       "270411  [1, 40, 80, 146, 210, 222, 227, 249, 283, 368,...   \n",
       "270412  [1, 68, 80, 119, 197, 223, 255, 283, 310, 322,...   \n",
       "270413  [1, 24, 67, 69, 80, 114, 205, 237, 357, 370, 3...   \n",
       "270414  [22, 48, 49, 58, 65, 80, 95, 104, 128, 155, 21...   \n",
       "...                                                   ...   \n",
       "309034  [97, 105, 110, 114, 191, 354, 389, 639, 696, 7...   \n",
       "309035  [1, 31, 58, 80, 147, 176, 202, 220, 227, 249, ...   \n",
       "309036  [80, 114, 176, 222, 242, 249, 260, 267, 303, 3...   \n",
       "309037  [1, 8, 61, 63, 80, 111, 137, 203, 283, 401, 44...   \n",
       "309038  [1, 80, 222, 227, 441, 482, 508, 650, 657, 694...   \n",
       "\n",
       "                                                Fragments  \n",
       "270410  '[CH2][CH2][CH2][CH]([CH])[N]', '[CH][CH2][CH2...  \n",
       "270411  '[cH][cH][c]([O][CH3])[c]([c])[CH2]', '[cH][c]...  \n",
       "270412  '[cH][cH][c]([cH][cH])-[c]([c])[n]', '[cH][cH]...  \n",
       "270413  '[C][c]([c])[cH][cH][c]', '[C][c]([cH])[c]([OH...  \n",
       "270414  '[c][c]([c])[CH2][O][CH]', '[cH][cH][cH][cH][c...  \n",
       "...                                                   ...  \n",
       "309034  '[cH][cH][cH][cH][cH]', '[cH][cH][c]([cH][cH])...  \n",
       "309035  '[CH2][CH]([CH])[O][CH]([CH])[O]', '[cH][cH][c...  \n",
       "309036  '[CH3][C](=[O])[O][CH]([CH])[CH]', '[CH2][CH2]...  \n",
       "309037  '[CH][CH2][CH]([C]([C])([CH3])[CH2])[C]([CH])(...  \n",
       "309038  '[CH][CH]([OH])[CH]([OH])[CH2][OH]', '[CH][CH]...  \n",
       "\n",
       "[38629 rows x 9 columns]"
      ]
     },
     "execution_count": 12,
     "metadata": {},
     "output_type": "execute_result"
    }
   ],
   "source": [
    "df_split_coco[7]"
   ]
  },
  {
   "cell_type": "code",
   "execution_count": 13,
   "id": "f7ed85f8",
   "metadata": {
    "pycharm": {
     "name": "#%%\n"
    }
   },
   "outputs": [],
   "source": [
    "zinc_samples = pd.read_csv('../data/CPF/ZINC/ZINCrandomF.csv', delimiter = ' ')\n",
    "zinc_samples = zinc_samples.drop(['Zinc_id'], axis=1)"
   ]
  },
  {
   "cell_type": "code",
   "execution_count": 14,
   "id": "f90fed46-cb6b-47c0-9dd3-a66ef9ee60d8",
   "metadata": {},
   "outputs": [
    {
     "data": {
      "text/html": [
       "<div>\n",
       "<style scoped>\n",
       "    .dataframe tbody tr th:only-of-type {\n",
       "        vertical-align: middle;\n",
       "    }\n",
       "\n",
       "    .dataframe tbody tr th {\n",
       "        vertical-align: top;\n",
       "    }\n",
       "\n",
       "    .dataframe thead th {\n",
       "        text-align: right;\n",
       "    }\n",
       "</style>\n",
       "<table border=\"1\" class=\"dataframe\">\n",
       "  <thead>\n",
       "    <tr style=\"text-align: right;\">\n",
       "      <th></th>\n",
       "      <th>Smiles</th>\n",
       "      <th>MW</th>\n",
       "      <th>logP</th>\n",
       "      <th>Inchi</th>\n",
       "      <th>Inchi_s</th>\n",
       "      <th>Name</th>\n",
       "      <th>ECFP</th>\n",
       "      <th>Bitset</th>\n",
       "      <th>Fragments</th>\n",
       "    </tr>\n",
       "  </thead>\n",
       "  <tbody>\n",
       "    <tr>\n",
       "      <th>265309</th>\n",
       "      <td>Cc1cnnc(N2CCS[C@H](C(F)(F)F)C2)c1</td>\n",
       "      <td>263.070403</td>\n",
       "      <td>2.26912</td>\n",
       "      <td>NFKXVPWUFOJQHO-QMMMGPOBSA-N</td>\n",
       "      <td>NFKXVPWUFOJQHO</td>\n",
       "      <td>ZINC</td>\n",
       "      <td>&lt;rdkit.DataStructs.cDataStructs.ExplicitBitVec...</td>\n",
       "      <td>[114, 177, 241, 255, 281, 377, 378, 407, 436, ...</td>\n",
       "      <td>'[c][N]([CH2])[CH2][CH2][S]', '[CH][S][CH2][CH...</td>\n",
       "    </tr>\n",
       "    <tr>\n",
       "      <th>265310</th>\n",
       "      <td>CC1=N[C@@H]2NN=CN2C(O)=C1</td>\n",
       "      <td>152.069811</td>\n",
       "      <td>-0.00760</td>\n",
       "      <td>JVTCVGIAQSOTBK-ZCFIWIBFSA-N</td>\n",
       "      <td>JVTCVGIAQSOTBK</td>\n",
       "      <td>ZINC</td>\n",
       "      <td>&lt;rdkit.DataStructs.cDataStructs.ExplicitBitVec...</td>\n",
       "      <td>[84, 106, 300, 378, 384, 397, 519, 739, 807, 8...</td>\n",
       "      <td>'[C][N]([CH])[CH]=[N][NH]', '[CH][NH][N]=[CH][...</td>\n",
       "    </tr>\n",
       "    <tr>\n",
       "      <th>265311</th>\n",
       "      <td>CCCCC(CCCC)c1ccnc(N)c1</td>\n",
       "      <td>220.193949</td>\n",
       "      <td>4.12780</td>\n",
       "      <td>CZBMURBNJQQQDC-UHFFFAOYSA-N</td>\n",
       "      <td>CZBMURBNJQQQDC</td>\n",
       "      <td>ZINC</td>\n",
       "      <td>&lt;rdkit.DataStructs.cDataStructs.ExplicitBitVec...</td>\n",
       "      <td>[1, 62, 80, 143, 294, 377, 378, 591, 627, 739,...</td>\n",
       "      <td>'[c][cH][c]([NH2])[n][cH]', '[CH3][CH2][CH2][C...</td>\n",
       "    </tr>\n",
       "    <tr>\n",
       "      <th>265312</th>\n",
       "      <td>CC(C)CCN1C[C@@H]2OCCN(c3ncc(F)cn3)[C@@H]2C1</td>\n",
       "      <td>294.185590</td>\n",
       "      <td>1.55120</td>\n",
       "      <td>DUGKINZEMKOWKF-KGLIPLIRSA-N</td>\n",
       "      <td>DUGKINZEMKOWKF</td>\n",
       "      <td>ZINC</td>\n",
       "      <td>&lt;rdkit.DataStructs.cDataStructs.ExplicitBitVec...</td>\n",
       "      <td>[1, 21, 68, 80, 102, 283, 340, 378, 656, 667, ...</td>\n",
       "      <td>'[cH][n][c]([n][cH])[N]([CH2])[CH]', '[CH2][CH...</td>\n",
       "    </tr>\n",
       "    <tr>\n",
       "      <th>265313</th>\n",
       "      <td>O=C(Cc1ccc(F)cc1)Nc1nnc(-c2ccccc2)s1</td>\n",
       "      <td>313.068511</td>\n",
       "      <td>3.52540</td>\n",
       "      <td>MDWISCUYGLSIGD-UHFFFAOYSA-N</td>\n",
       "      <td>MDWISCUYGLSIGD</td>\n",
       "      <td>ZINC</td>\n",
       "      <td>&lt;rdkit.DataStructs.cDataStructs.ExplicitBitVec...</td>\n",
       "      <td>[41, 80, 90, 162, 310, 325, 378, 385, 389, 650...</td>\n",
       "      <td>'[c]-[c]([s])[n][n][c]', '[C][CH2][c]([cH][cH]...</td>\n",
       "    </tr>\n",
       "    <tr>\n",
       "      <th>...</th>\n",
       "      <td>...</td>\n",
       "      <td>...</td>\n",
       "      <td>...</td>\n",
       "      <td>...</td>\n",
       "      <td>...</td>\n",
       "      <td>...</td>\n",
       "      <td>...</td>\n",
       "      <td>...</td>\n",
       "      <td>...</td>\n",
       "    </tr>\n",
       "    <tr>\n",
       "      <th>303205</th>\n",
       "      <td>CCOC(=O)c1c(NC(=O)c2cc(-c3ccc(CC)cc3)nc3ccccc2...</td>\n",
       "      <td>484.182064</td>\n",
       "      <td>6.83350</td>\n",
       "      <td>HMHFQFSULDXOOG-UHFFFAOYSA-N</td>\n",
       "      <td>HMHFQFSULDXOOG</td>\n",
       "      <td>ZINC</td>\n",
       "      <td>&lt;rdkit.DataStructs.cDataStructs.ExplicitBitVec...</td>\n",
       "      <td>[1, 42, 50, 54, 80, 145, 147, 162, 216, 220, 2...</td>\n",
       "      <td>'[c]-[c]([cH])[n][c]([cH])[c]', '[cH][cH][c]([...</td>\n",
       "    </tr>\n",
       "    <tr>\n",
       "      <th>303206</th>\n",
       "      <td>CN(C)c1nccnc1[C@H]1CN(Cc2cc3ccccc3s2)CCO1</td>\n",
       "      <td>354.151432</td>\n",
       "      <td>3.33080</td>\n",
       "      <td>FUFKNLNNLYPNRI-MRXNPFEDSA-N</td>\n",
       "      <td>FUFKNLNNLYPNRI</td>\n",
       "      <td>ZINC</td>\n",
       "      <td>&lt;rdkit.DataStructs.cDataStructs.ExplicitBitVec...</td>\n",
       "      <td>[80, 95, 162, 259, 377, 378, 388, 461, 556, 65...</td>\n",
       "      <td>'[cH][cH][cH][c]([c])[s]', '[c][CH2][N]([CH2][...</td>\n",
       "    </tr>\n",
       "    <tr>\n",
       "      <th>303207</th>\n",
       "      <td>COc1ccc(-c2oc3ncn4nc(CSc5nc6ccccc6o5)nc4c3c2-c...</td>\n",
       "      <td>535.131425</td>\n",
       "      <td>6.65520</td>\n",
       "      <td>ZFGYKGBESMBREX-UHFFFAOYSA-N</td>\n",
       "      <td>ZFGYKGBESMBREX</td>\n",
       "      <td>ZINC</td>\n",
       "      <td>&lt;rdkit.DataStructs.cDataStructs.ExplicitBitVec...</td>\n",
       "      <td>[80, 115, 116, 147, 153, 212, 289, 322, 341, 3...</td>\n",
       "      <td>'[c][c]([n])[n][c]([CH2])[n]', '[cH][cH][c]([c...</td>\n",
       "    </tr>\n",
       "    <tr>\n",
       "      <th>303208</th>\n",
       "      <td>Cc1sc(NC(=O)c2ccccn2)c(C(N)=O)c1C</td>\n",
       "      <td>275.072848</td>\n",
       "      <td>2.11114</td>\n",
       "      <td>XXDWSRDIRVDROE-UHFFFAOYSA-N</td>\n",
       "      <td>XXDWSRDIRVDROE</td>\n",
       "      <td>ZINC</td>\n",
       "      <td>&lt;rdkit.DataStructs.cDataStructs.ExplicitBitVec...</td>\n",
       "      <td>[1, 50, 122, 140, 162, 214, 216, 252, 309, 313...</td>\n",
       "      <td>'[c][NH][C](=[O])[c]([cH])[n]', '[C][c]([cH])[...</td>\n",
       "    </tr>\n",
       "    <tr>\n",
       "      <th>303209</th>\n",
       "      <td>CCCSc1nc2sc3c(c2c2nnc(SCC(=O)N[C@@H](C)CCc4ccc...</td>\n",
       "      <td>555.179638</td>\n",
       "      <td>5.92200</td>\n",
       "      <td>QMXFVSNVFNNIKK-KRWDZBQOSA-N</td>\n",
       "      <td>QMXFVSNVFNNIKK</td>\n",
       "      <td>ZINC</td>\n",
       "      <td>&lt;rdkit.DataStructs.cDataStructs.ExplicitBitVec...</td>\n",
       "      <td>[1, 41, 42, 59, 80, 97, 116, 117, 124, 162, 28...</td>\n",
       "      <td>'[cH][c]([cH])[CH2][CH2][CH]', '[c][n][c]([S][...</td>\n",
       "    </tr>\n",
       "  </tbody>\n",
       "</table>\n",
       "<p>37901 rows × 9 columns</p>\n",
       "</div>"
      ],
      "text/plain": [
       "                                                   Smiles          MW  \\\n",
       "265309                  Cc1cnnc(N2CCS[C@H](C(F)(F)F)C2)c1  263.070403   \n",
       "265310                          CC1=N[C@@H]2NN=CN2C(O)=C1  152.069811   \n",
       "265311                             CCCCC(CCCC)c1ccnc(N)c1  220.193949   \n",
       "265312        CC(C)CCN1C[C@@H]2OCCN(c3ncc(F)cn3)[C@@H]2C1  294.185590   \n",
       "265313               O=C(Cc1ccc(F)cc1)Nc1nnc(-c2ccccc2)s1  313.068511   \n",
       "...                                                   ...         ...   \n",
       "303205  CCOC(=O)c1c(NC(=O)c2cc(-c3ccc(CC)cc3)nc3ccccc2...  484.182064   \n",
       "303206          CN(C)c1nccnc1[C@H]1CN(Cc2cc3ccccc3s2)CCO1  354.151432   \n",
       "303207  COc1ccc(-c2oc3ncn4nc(CSc5nc6ccccc6o5)nc4c3c2-c...  535.131425   \n",
       "303208                  Cc1sc(NC(=O)c2ccccn2)c(C(N)=O)c1C  275.072848   \n",
       "303209  CCCSc1nc2sc3c(c2c2nnc(SCC(=O)N[C@@H](C)CCc4ccc...  555.179638   \n",
       "\n",
       "           logP                        Inchi         Inchi_s  Name  \\\n",
       "265309  2.26912  NFKXVPWUFOJQHO-QMMMGPOBSA-N  NFKXVPWUFOJQHO  ZINC   \n",
       "265310 -0.00760  JVTCVGIAQSOTBK-ZCFIWIBFSA-N  JVTCVGIAQSOTBK  ZINC   \n",
       "265311  4.12780  CZBMURBNJQQQDC-UHFFFAOYSA-N  CZBMURBNJQQQDC  ZINC   \n",
       "265312  1.55120  DUGKINZEMKOWKF-KGLIPLIRSA-N  DUGKINZEMKOWKF  ZINC   \n",
       "265313  3.52540  MDWISCUYGLSIGD-UHFFFAOYSA-N  MDWISCUYGLSIGD  ZINC   \n",
       "...         ...                          ...             ...   ...   \n",
       "303205  6.83350  HMHFQFSULDXOOG-UHFFFAOYSA-N  HMHFQFSULDXOOG  ZINC   \n",
       "303206  3.33080  FUFKNLNNLYPNRI-MRXNPFEDSA-N  FUFKNLNNLYPNRI  ZINC   \n",
       "303207  6.65520  ZFGYKGBESMBREX-UHFFFAOYSA-N  ZFGYKGBESMBREX  ZINC   \n",
       "303208  2.11114  XXDWSRDIRVDROE-UHFFFAOYSA-N  XXDWSRDIRVDROE  ZINC   \n",
       "303209  5.92200  QMXFVSNVFNNIKK-KRWDZBQOSA-N  QMXFVSNVFNNIKK  ZINC   \n",
       "\n",
       "                                                     ECFP  \\\n",
       "265309  <rdkit.DataStructs.cDataStructs.ExplicitBitVec...   \n",
       "265310  <rdkit.DataStructs.cDataStructs.ExplicitBitVec...   \n",
       "265311  <rdkit.DataStructs.cDataStructs.ExplicitBitVec...   \n",
       "265312  <rdkit.DataStructs.cDataStructs.ExplicitBitVec...   \n",
       "265313  <rdkit.DataStructs.cDataStructs.ExplicitBitVec...   \n",
       "...                                                   ...   \n",
       "303205  <rdkit.DataStructs.cDataStructs.ExplicitBitVec...   \n",
       "303206  <rdkit.DataStructs.cDataStructs.ExplicitBitVec...   \n",
       "303207  <rdkit.DataStructs.cDataStructs.ExplicitBitVec...   \n",
       "303208  <rdkit.DataStructs.cDataStructs.ExplicitBitVec...   \n",
       "303209  <rdkit.DataStructs.cDataStructs.ExplicitBitVec...   \n",
       "\n",
       "                                                   Bitset  \\\n",
       "265309  [114, 177, 241, 255, 281, 377, 378, 407, 436, ...   \n",
       "265310  [84, 106, 300, 378, 384, 397, 519, 739, 807, 8...   \n",
       "265311  [1, 62, 80, 143, 294, 377, 378, 591, 627, 739,...   \n",
       "265312  [1, 21, 68, 80, 102, 283, 340, 378, 656, 667, ...   \n",
       "265313  [41, 80, 90, 162, 310, 325, 378, 385, 389, 650...   \n",
       "...                                                   ...   \n",
       "303205  [1, 42, 50, 54, 80, 145, 147, 162, 216, 220, 2...   \n",
       "303206  [80, 95, 162, 259, 377, 378, 388, 461, 556, 65...   \n",
       "303207  [80, 115, 116, 147, 153, 212, 289, 322, 341, 3...   \n",
       "303208  [1, 50, 122, 140, 162, 214, 216, 252, 309, 313...   \n",
       "303209  [1, 41, 42, 59, 80, 97, 116, 117, 124, 162, 28...   \n",
       "\n",
       "                                                Fragments  \n",
       "265309  '[c][N]([CH2])[CH2][CH2][S]', '[CH][S][CH2][CH...  \n",
       "265310  '[C][N]([CH])[CH]=[N][NH]', '[CH][NH][N]=[CH][...  \n",
       "265311  '[c][cH][c]([NH2])[n][cH]', '[CH3][CH2][CH2][C...  \n",
       "265312  '[cH][n][c]([n][cH])[N]([CH2])[CH]', '[CH2][CH...  \n",
       "265313  '[c]-[c]([s])[n][n][c]', '[C][CH2][c]([cH][cH]...  \n",
       "...                                                   ...  \n",
       "303205  '[c]-[c]([cH])[n][c]([cH])[c]', '[cH][cH][c]([...  \n",
       "303206  '[cH][cH][cH][c]([c])[s]', '[c][CH2][N]([CH2][...  \n",
       "303207  '[c][c]([n])[n][c]([CH2])[n]', '[cH][cH][c]([c...  \n",
       "303208  '[c][NH][C](=[O])[c]([cH])[n]', '[C][c]([cH])[...  \n",
       "303209  '[cH][c]([cH])[CH2][CH2][CH]', '[c][n][c]([S][...  \n",
       "\n",
       "[37901 rows x 9 columns]"
      ]
     },
     "execution_count": 14,
     "metadata": {},
     "output_type": "execute_result"
    }
   ],
   "source": [
    "df_split_zinc = np.array_split(zinc_samples, 10)\n",
    "df_split_zinc[7]"
   ]
  },
  {
   "cell_type": "code",
   "execution_count": 15,
   "id": "7d675f14",
   "metadata": {},
   "outputs": [],
   "source": [
    "joint_samples = pd.concat((df_split_coco[7], df_split_zinc[7]), ignore_index=True)"
   ]
  },
  {
   "cell_type": "code",
   "execution_count": 16,
   "id": "1378e876-1044-43b3-80e4-5fdaa4afb463",
   "metadata": {},
   "outputs": [
    {
     "name": "stderr",
     "output_type": "stream",
     "text": [
      "/var/tmp/pbs.43587.lich-compute.vscht.cz/ipykernel_36566/2190264476.py:4: SettingWithCopyWarning: \n",
      "A value is trying to be set on a copy of a slice from a DataFrame\n",
      "\n",
      "See the caveats in the documentation: https://pandas.pydata.org/pandas-docs/stable/user_guide/indexing.html#returning-a-view-versus-a-copy\n",
      "  joint_samples['Fragments'][x] = tup\n"
     ]
    }
   ],
   "source": [
    "for x in joint_samples.index:\n",
    "    a = joint_samples['Fragments'][x]\n",
    "    tup = literal_eval(a)\n",
    "    joint_samples['Fragments'][x] = tup"
   ]
  },
  {
   "cell_type": "markdown",
   "id": "4139ba77",
   "metadata": {
    "pycharm": {
     "name": "#%% md\n"
    }
   },
   "source": [
    "## Relative feature tightness against a PMI interrelation profile"
   ]
  },
  {
   "cell_type": "code",
   "execution_count": 17,
   "id": "5b78b1e8",
   "metadata": {
    "collapsed": false,
    "jupyter": {
     "outputs_hidden": false
    },
    "pycharm": {
     "name": "#%%\n"
    }
   },
   "outputs": [
    {
     "name": "stderr",
     "output_type": "stream",
     "text": [
      "/home/liskovaf/.conda/envs/coco/lib/python3.9/site-packages/numpy/core/fromnumeric.py:3419: RuntimeWarning: Mean of empty slice.\n",
      "  return _methods._mean(a, axis=axis, dtype=dtype,\n"
     ]
    }
   ],
   "source": [
    "joint_samples['RFT'] = joint_samples['Fragments'].apply(\n",
    "    lambda x: difference_pkld_profile.relative_feature_divergence(x))"
   ]
  },
  {
   "cell_type": "code",
   "execution_count": 18,
   "id": "30d14231",
   "metadata": {
    "collapsed": false,
    "jupyter": {
     "outputs_hidden": false
    },
    "pycharm": {
     "name": "#%%\n"
    }
   },
   "outputs": [
    {
     "data": {
      "image/png": "[encoded data removed]",
      "text/plain": [
       "<Figure size 842.4x595.44 with 1 Axes>"
      ]
     },
     "metadata": {},
     "output_type": "display_data"
    }
   ],
   "source": [
    "plt.rcParams['font.size'] = '14'\n",
    "a4_dims = (11.7, 8.27)\n",
    "sns.set_style(\"darkgrid\")\n",
    "fig, ax = plt.subplots(figsize=a4_dims)\n",
    "sns.histplot(joint_samples, x='RFT', hue='Name')\n",
    "plt.title('Relative feature tightness against a PMI interrelation profile 7')\n",
    "plt.savefig(f\"../images//joint_samples_RFT7F.svg\", format=\"svg\")"
   ]
  },
  {
   "cell_type": "markdown",
   "id": "ba97db5d",
   "metadata": {
    "pycharm": {
     "name": "#%% md\n"
    }
   },
   "source": [
    "According to the histogram, there is a visible split between Relative feature tightness distribution against the pointwise KL divergence profile between COCONUT and ZINC datasets, based on their radius 2 fragments. Larger fragments might diverge even further."
   ]
  },
  {
   "cell_type": "markdown",
   "id": "5d6b4d0c-d4ae-40ac-8be0-23e3acb79a10",
   "metadata": {},
   "source": [
    "# ROC curve"
   ]
  },
  {
   "cell_type": "code",
   "execution_count": 19,
   "id": "13afeb38-8651-4dfc-b64c-12318efd3d8a",
   "metadata": {},
   "outputs": [
    {
     "data": {
      "text/html": [
       "<div>\n",
       "<style scoped>\n",
       "    .dataframe tbody tr th:only-of-type {\n",
       "        vertical-align: middle;\n",
       "    }\n",
       "\n",
       "    .dataframe tbody tr th {\n",
       "        vertical-align: top;\n",
       "    }\n",
       "\n",
       "    .dataframe thead th {\n",
       "        text-align: right;\n",
       "    }\n",
       "</style>\n",
       "<table border=\"1\" class=\"dataframe\">\n",
       "  <thead>\n",
       "    <tr style=\"text-align: right;\">\n",
       "      <th></th>\n",
       "      <th>Smiles</th>\n",
       "      <th>MW</th>\n",
       "      <th>logP</th>\n",
       "      <th>Inchi</th>\n",
       "      <th>Inchi_s</th>\n",
       "      <th>Name</th>\n",
       "      <th>ECFP</th>\n",
       "      <th>Bitset</th>\n",
       "      <th>Fragments</th>\n",
       "      <th>RFT</th>\n",
       "    </tr>\n",
       "  </thead>\n",
       "  <tbody>\n",
       "    <tr>\n",
       "      <th>52087</th>\n",
       "      <td>O=S(=O)=O</td>\n",
       "      <td>79.956815</td>\n",
       "      <td>-1.0041</td>\n",
       "      <td>AKEJUJNQAAGONA-UHFFFAOYSA-N</td>\n",
       "      <td>AKEJUJNQAAGONA</td>\n",
       "      <td>ZINC</td>\n",
       "      <td>&lt;rdkit.DataStructs.cDataStructs.ExplicitBitVec...</td>\n",
       "      <td>[427, 650, 1204, 1265]</td>\n",
       "      <td>{}</td>\n",
       "      <td>NaN</td>\n",
       "    </tr>\n",
       "    <tr>\n",
       "      <th>61082</th>\n",
       "      <td>O=[Sn](O)O</td>\n",
       "      <td>169.902589</td>\n",
       "      <td>-1.6136</td>\n",
       "      <td>AUYOHNUMSAGWQZ-UHFFFAOYSA-L</td>\n",
       "      <td>AUYOHNUMSAGWQZ</td>\n",
       "      <td>ZINC</td>\n",
       "      <td>&lt;rdkit.DataStructs.cDataStructs.ExplicitBitVec...</td>\n",
       "      <td>[650, 779, 807, 1177, 1415, 1913]</td>\n",
       "      <td>{}</td>\n",
       "      <td>NaN</td>\n",
       "    </tr>\n",
       "    <tr>\n",
       "      <th>61701</th>\n",
       "      <td>[BH3-]N(C)C</td>\n",
       "      <td>58.083353</td>\n",
       "      <td>-1.1716</td>\n",
       "      <td>GEERNEKFBDCHJJ-UHFFFAOYSA-N</td>\n",
       "      <td>GEERNEKFBDCHJJ</td>\n",
       "      <td>ZINC</td>\n",
       "      <td>&lt;rdkit.DataStructs.cDataStructs.ExplicitBitVec...</td>\n",
       "      <td>[390, 725, 843, 881, 1057, 1163]</td>\n",
       "      <td>{}</td>\n",
       "      <td>NaN</td>\n",
       "    </tr>\n",
       "    <tr>\n",
       "      <th>63073</th>\n",
       "      <td>[O-][I+3]([O-])([O-])O</td>\n",
       "      <td>191.891957</td>\n",
       "      <td>-7.1200</td>\n",
       "      <td>WXSIPUYRSBVXGK-UHFFFAOYSA-N</td>\n",
       "      <td>WXSIPUYRSBVXGK</td>\n",
       "      <td>ZINC</td>\n",
       "      <td>&lt;rdkit.DataStructs.cDataStructs.ExplicitBitVec...</td>\n",
       "      <td>[317, 700, 715, 807, 1117, 1967]</td>\n",
       "      <td>{}</td>\n",
       "      <td>NaN</td>\n",
       "    </tr>\n",
       "    <tr>\n",
       "      <th>64909</th>\n",
       "      <td>CC(C)(Cl)Br</td>\n",
       "      <td>155.934140</td>\n",
       "      <td>2.3562</td>\n",
       "      <td>YSQXISYCKHFJFJ-UHFFFAOYSA-N</td>\n",
       "      <td>YSQXISYCKHFJFJ</td>\n",
       "      <td>ZINC</td>\n",
       "      <td>&lt;rdkit.DataStructs.cDataStructs.ExplicitBitVec...</td>\n",
       "      <td>[114, 384, 392, 728, 803, 1057, 1683, 1873]</td>\n",
       "      <td>{}</td>\n",
       "      <td>NaN</td>\n",
       "    </tr>\n",
       "    <tr>\n",
       "      <th>65539</th>\n",
       "      <td>NS(N)(=O)=O</td>\n",
       "      <td>95.999348</td>\n",
       "      <td>-1.8514</td>\n",
       "      <td>NVBFHJWHLNUMCV-UHFFFAOYSA-N</td>\n",
       "      <td>NVBFHJWHLNUMCV</td>\n",
       "      <td>ZINC</td>\n",
       "      <td>&lt;rdkit.DataStructs.cDataStructs.ExplicitBitVec...</td>\n",
       "      <td>[350, 650, 1117, 1171, 1476, 1607]</td>\n",
       "      <td>{}</td>\n",
       "      <td>NaN</td>\n",
       "    </tr>\n",
       "  </tbody>\n",
       "</table>\n",
       "</div>"
      ],
      "text/plain": [
       "                       Smiles          MW    logP  \\\n",
       "52087               O=S(=O)=O   79.956815 -1.0041   \n",
       "61082              O=[Sn](O)O  169.902589 -1.6136   \n",
       "61701             [BH3-]N(C)C   58.083353 -1.1716   \n",
       "63073  [O-][I+3]([O-])([O-])O  191.891957 -7.1200   \n",
       "64909             CC(C)(Cl)Br  155.934140  2.3562   \n",
       "65539             NS(N)(=O)=O   95.999348 -1.8514   \n",
       "\n",
       "                             Inchi         Inchi_s  Name  \\\n",
       "52087  AKEJUJNQAAGONA-UHFFFAOYSA-N  AKEJUJNQAAGONA  ZINC   \n",
       "61082  AUYOHNUMSAGWQZ-UHFFFAOYSA-L  AUYOHNUMSAGWQZ  ZINC   \n",
       "61701  GEERNEKFBDCHJJ-UHFFFAOYSA-N  GEERNEKFBDCHJJ  ZINC   \n",
       "63073  WXSIPUYRSBVXGK-UHFFFAOYSA-N  WXSIPUYRSBVXGK  ZINC   \n",
       "64909  YSQXISYCKHFJFJ-UHFFFAOYSA-N  YSQXISYCKHFJFJ  ZINC   \n",
       "65539  NVBFHJWHLNUMCV-UHFFFAOYSA-N  NVBFHJWHLNUMCV  ZINC   \n",
       "\n",
       "                                                    ECFP  \\\n",
       "52087  <rdkit.DataStructs.cDataStructs.ExplicitBitVec...   \n",
       "61082  <rdkit.DataStructs.cDataStructs.ExplicitBitVec...   \n",
       "61701  <rdkit.DataStructs.cDataStructs.ExplicitBitVec...   \n",
       "63073  <rdkit.DataStructs.cDataStructs.ExplicitBitVec...   \n",
       "64909  <rdkit.DataStructs.cDataStructs.ExplicitBitVec...   \n",
       "65539  <rdkit.DataStructs.cDataStructs.ExplicitBitVec...   \n",
       "\n",
       "                                            Bitset Fragments  RFT  \n",
       "52087                       [427, 650, 1204, 1265]        {}  NaN  \n",
       "61082            [650, 779, 807, 1177, 1415, 1913]        {}  NaN  \n",
       "61701             [390, 725, 843, 881, 1057, 1163]        {}  NaN  \n",
       "63073             [317, 700, 715, 807, 1117, 1967]        {}  NaN  \n",
       "64909  [114, 384, 392, 728, 803, 1057, 1683, 1873]        {}  NaN  \n",
       "65539           [350, 650, 1117, 1171, 1476, 1607]        {}  NaN  "
      ]
     },
     "execution_count": 19,
     "metadata": {},
     "output_type": "execute_result"
    }
   ],
   "source": [
    "joint_samples[joint_samples['RFT'].isna()]"
   ]
  },
  {
   "cell_type": "code",
   "execution_count": 20,
   "id": "29c957ad-2417-496f-92e5-e1c57e475fac",
   "metadata": {},
   "outputs": [],
   "source": [
    "joint_samples = joint_samples[joint_samples['RFT'].notna()]"
   ]
  },
  {
   "cell_type": "code",
   "execution_count": 21,
   "id": "4853c105-4012-42a3-9cbc-be6c59ffddc9",
   "metadata": {},
   "outputs": [
    {
     "data": {
      "text/html": [
       "<div>\n",
       "<style scoped>\n",
       "    .dataframe tbody tr th:only-of-type {\n",
       "        vertical-align: middle;\n",
       "    }\n",
       "\n",
       "    .dataframe tbody tr th {\n",
       "        vertical-align: top;\n",
       "    }\n",
       "\n",
       "    .dataframe thead th {\n",
       "        text-align: right;\n",
       "    }\n",
       "</style>\n",
       "<table border=\"1\" class=\"dataframe\">\n",
       "  <thead>\n",
       "    <tr style=\"text-align: right;\">\n",
       "      <th></th>\n",
       "      <th>Smiles</th>\n",
       "      <th>MW</th>\n",
       "      <th>logP</th>\n",
       "      <th>Inchi</th>\n",
       "      <th>Inchi_s</th>\n",
       "      <th>Name</th>\n",
       "      <th>ECFP</th>\n",
       "      <th>Bitset</th>\n",
       "      <th>Fragments</th>\n",
       "      <th>RFT</th>\n",
       "    </tr>\n",
       "  </thead>\n",
       "  <tbody>\n",
       "  </tbody>\n",
       "</table>\n",
       "</div>"
      ],
      "text/plain": [
       "Empty DataFrame\n",
       "Columns: [Smiles, MW, logP, Inchi, Inchi_s, Name, ECFP, Bitset, Fragments, RFT]\n",
       "Index: []"
      ]
     },
     "execution_count": 21,
     "metadata": {},
     "output_type": "execute_result"
    }
   ],
   "source": [
    "joint_samples[joint_samples['RFT'].isna()]"
   ]
  },
  {
   "cell_type": "code",
   "execution_count": 22,
   "id": "499b5e15-b4ec-4a9c-b746-d97d43d1dccc",
   "metadata": {},
   "outputs": [],
   "source": [
    "from matplotlib.pyplot import figure\n",
    "from sklearn.metrics import roc_curve, auc\n",
    "from sklearn import metrics\n",
    "\n",
    "fpr, tpr, thresholds = metrics.roc_curve(joint_samples['Name'], joint_samples['RFT'], pos_label = 'COCONUT')\n",
    "roc_auc = metrics.auc(fpr, tpr)"
   ]
  },
  {
   "cell_type": "code",
   "execution_count": 23,
   "id": "9fe3e61c-37d2-49f5-9cdc-2876e8157fe4",
   "metadata": {},
   "outputs": [
    {
     "data": {
      "text/plain": [
       "0.9860297998364179"
      ]
     },
     "execution_count": 23,
     "metadata": {},
     "output_type": "execute_result"
    }
   ],
   "source": [
    "roc_auc"
   ]
  },
  {
   "cell_type": "code",
   "execution_count": 24,
   "id": "b883809a-0028-48ef-a078-9e8a3dd8aa0d",
   "metadata": {},
   "outputs": [
    {
     "data": {
      "text/plain": [
       "<Figure size 432x288 with 0 Axes>"
      ]
     },
     "metadata": {},
     "output_type": "display_data"
    },
    {
     "data": {
      "image/png": "[encoded data removed]",
      "text/plain": [
       "<Figure size 842.4x595.44 with 1 Axes>"
      ]
     },
     "metadata": {},
     "output_type": "display_data"
    }
   ],
   "source": [
    "plt.rcParams['font.size'] = '16'\n",
    "plt.figure()\n",
    "figure(figsize=(11.7, 8.27))\n",
    "plt.plot(fpr,tpr,color=\"darkorange\",label=\"ROC curve (area = %0.4f)\" % roc_auc)\n",
    "plt.plot([0, 1], [0, 1], color=\"navy\", linestyle=\"--\")\n",
    "plt.xlim([-0.01, 1.01])\n",
    "plt.ylim([0.0, 1.01])\n",
    "plt.xlabel(\"False Positive Rate\")\n",
    "plt.ylabel(\"True Positive Rate\")\n",
    "plt.title('Receiver Operating Characteristic 7')\n",
    "plt.legend(loc=\"lower right\")\n",
    "plt.savefig(f\"../images//joint_samples_ROC7F.svg\", format=\"svg\")\n",
    "plt.show()"
   ]
  },
  {
   "cell_type": "code",
   "execution_count": null,
   "id": "67611dec-7a85-4f4a-8d4d-6461762d852f",
   "metadata": {},
   "outputs": [],
   "source": []
  }
 ],
 "metadata": {
  "kernelspec": {
   "display_name": "Python 3 (ipykernel)",
   "language": "python",
   "name": "python3"
  },
  "language_info": {
   "codemirror_mode": {
    "name": "ipython",
    "version": 3
   },
   "file_extension": ".py",
   "mimetype": "text/x-python",
   "name": "python",
   "nbconvert_exporter": "python",
   "pygments_lexer": "ipython3",
   "version": "3.9.7"
  }
 },
 "nbformat": 4,
 "nbformat_minor": 5
}
