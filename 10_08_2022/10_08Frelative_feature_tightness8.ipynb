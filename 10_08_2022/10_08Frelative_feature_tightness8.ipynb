{
 "cells": [
  {
   "cell_type": "markdown",
   "id": "09cb58ba",
   "metadata": {
    "pycharm": {
     "name": "#%% md\n"
    }
   },
   "source": [
    "# Relative feature tightness of fragments using part 8 for test data"
   ]
  },
  {
   "cell_type": "code",
   "execution_count": 1,
   "id": "b7559bf4",
   "metadata": {
    "pycharm": {
     "name": "#%%\n"
    }
   },
   "outputs": [],
   "source": [
    "import pandas as pd\n",
    "import seaborn as sns\n",
    "import matplotlib.pyplot as plt\n",
    "import csv\n",
    "import numpy as np\n",
    "\n",
    "from ast import literal_eval\n",
    "import re\n",
    "import sys\n",
    "sys.path.insert(0,\"./../fip3\")\n",
    "from fip import profiles"
   ]
  },
  {
   "cell_type": "markdown",
   "id": "fc50f8f1",
   "metadata": {
    "pycharm": {
     "name": "#%% md\n"
    }
   },
   "source": [
    "## Dataset prep"
   ]
  },
  {
   "cell_type": "markdown",
   "id": "005b3e57",
   "metadata": {
    "pycharm": {
     "name": "#%% md\n"
    }
   },
   "source": [
    "### Making feature pointwise mutual information profiles"
   ]
  },
  {
   "cell_type": "code",
   "execution_count": 2,
   "id": "d60972a1-b5a0-4b6f-9c0e-9cf37fdb53f4",
   "metadata": {},
   "outputs": [],
   "source": [
    "profile0 = profiles.CooccurrenceProfile.from_dataframe(pd.read_csv('../data/CPF/COCONUT/COCOp0_38630.csv', dtype={'feature1': 'str','feature2' : 'str' }), vector_count=38630)\n",
    "profile1 = profiles.CooccurrenceProfile.from_dataframe(pd.read_csv('../data/CPF/COCONUT/COCOp1_38630.csv', dtype={'feature1': 'str','feature2' : 'str' }), vector_count=38630)\n",
    "profile2 = profiles.CooccurrenceProfile.from_dataframe(pd.read_csv('../data/CPF/COCONUT/COCOp2_38630.csv', dtype={'feature1': 'str','feature2' : 'str' }), vector_count=38630)\n",
    "profile3 = profiles.CooccurrenceProfile.from_dataframe(pd.read_csv('../data/CPF/COCONUT/COCOp3_38630.csv', dtype={'feature1': 'str','feature2' : 'str' }), vector_count=38630)\n",
    "profile4 = profiles.CooccurrenceProfile.from_dataframe(pd.read_csv('../data/CPF/COCONUT/COCOp4_38630.csv', dtype={'feature1': 'str','feature2' : 'str' }), vector_count=38630)\n",
    "profile5 = profiles.CooccurrenceProfile.from_dataframe(pd.read_csv('../data/CPF/COCONUT/COCOp5_38630.csv', dtype={'feature1': 'str','feature2' : 'str' }), vector_count=38630)\n",
    "profile6 = profiles.CooccurrenceProfile.from_dataframe(pd.read_csv('../data/CPF/COCONUT/COCOp6_38630.csv', dtype={'feature1': 'str','feature2' : 'str' }), vector_count=38630)\n",
    "profile7 = profiles.CooccurrenceProfile.from_dataframe(pd.read_csv('../data/CPF/COCONUT/COCOp7_38629.csv', dtype={'feature1': 'str','feature2' : 'str' }), vector_count=38629)\n",
    "profile9 = profiles.CooccurrenceProfile.from_dataframe(pd.read_csv('../data/CPF/COCONUT/COCOp9_38629.csv', dtype={'feature1': 'str','feature2' : 'str' }), vector_count=38629)"
   ]
  },
  {
   "cell_type": "code",
   "execution_count": 3,
   "id": "d928eb58-08cf-4743-8c58-7196f59da70b",
   "metadata": {},
   "outputs": [
    {
     "data": {
      "text/plain": [
       "<fip.profiles.CooccurrenceProfile at 0x7fb0e8ccd610>"
      ]
     },
     "execution_count": 3,
     "metadata": {},
     "output_type": "execute_result"
    }
   ],
   "source": [
    "profile0.add_another_cooccurrence_profile(profile1)\n",
    "profile0.add_another_cooccurrence_profile(profile2)\n",
    "profile0.add_another_cooccurrence_profile(profile3)\n",
    "profile0.add_another_cooccurrence_profile(profile4)\n",
    "profile0.add_another_cooccurrence_profile(profile5)\n",
    "profile0.add_another_cooccurrence_profile(profile6)\n",
    "profile0.add_another_cooccurrence_profile(profile7)\n",
    "profile0.add_another_cooccurrence_profile(profile9)"
   ]
  },
  {
   "cell_type": "code",
   "execution_count": 4,
   "id": "7147d116-0c36-4a62-8f6c-c1667667a7c9",
   "metadata": {},
   "outputs": [],
   "source": [
    "probability_profile = profiles.CooccurrenceProbabilityProfile.from_cooccurrence_profile(profile0)"
   ]
  },
  {
   "cell_type": "code",
   "execution_count": 5,
   "id": "d83c7314-5776-4b99-80cf-25536ba50afa",
   "metadata": {},
   "outputs": [],
   "source": [
    "reference_profile0 = profiles.CooccurrenceProfile.from_dataframe(pd.read_csv('../data/CPF/ZINC/ZINCp0_37902.csv', dtype={'feature1': 'str','feature2' : 'str' }), vector_count=37902)\n",
    "reference_profile1 = profiles.CooccurrenceProfile.from_dataframe(pd.read_csv('../data/CPF/ZINC/ZINCp1_37902.csv', dtype={'feature1': 'str','feature2' : 'str' }), vector_count=37902)\n",
    "reference_profile2 = profiles.CooccurrenceProfile.from_dataframe(pd.read_csv('../data/CPF/ZINC/ZINCp2_37901.csv', dtype={'feature1': 'str','feature2' : 'str' }), vector_count=37901)\n",
    "reference_profile3 = profiles.CooccurrenceProfile.from_dataframe(pd.read_csv('../data/CPF/ZINC/ZINCp3_37901.csv', dtype={'feature1': 'str','feature2' : 'str' }), vector_count=37901)\n",
    "reference_profile4 = profiles.CooccurrenceProfile.from_dataframe(pd.read_csv('../data/CPF/ZINC/ZINCp4_37901.csv', dtype={'feature1': 'str','feature2' : 'str' }), vector_count=37901)\n",
    "reference_profile5 = profiles.CooccurrenceProfile.from_dataframe(pd.read_csv('../data/CPF/ZINC/ZINCp5_37901.csv', dtype={'feature1': 'str','feature2' : 'str' }), vector_count=37901)\n",
    "reference_profile6 = profiles.CooccurrenceProfile.from_dataframe(pd.read_csv('../data/CPF/ZINC/ZINCp6_37901.csv', dtype={'feature1': 'str','feature2' : 'str' }), vector_count=37901)\n",
    "reference_profile7 = profiles.CooccurrenceProfile.from_dataframe(pd.read_csv('../data/CPF/ZINC/ZINCp7_37901.csv', dtype={'feature1': 'str','feature2' : 'str' }), vector_count=37901)\n",
    "reference_profile9 = profiles.CooccurrenceProfile.from_dataframe(pd.read_csv('../data/CPF/ZINC/ZINCp9_37901.csv', dtype={'feature1': 'str','feature2' : 'str' }), vector_count=37901)"
   ]
  },
  {
   "cell_type": "code",
   "execution_count": 6,
   "id": "3e7d1500-bc9f-424d-8be0-5a3c575b0dc8",
   "metadata": {},
   "outputs": [
    {
     "data": {
      "text/plain": [
       "<fip.profiles.CooccurrenceProfile at 0x7faf9b6d5b80>"
      ]
     },
     "execution_count": 6,
     "metadata": {},
     "output_type": "execute_result"
    }
   ],
   "source": [
    "reference_profile0.add_another_cooccurrence_profile(reference_profile1)\n",
    "reference_profile0.add_another_cooccurrence_profile(reference_profile2)\n",
    "reference_profile0.add_another_cooccurrence_profile(reference_profile3)\n",
    "reference_profile0.add_another_cooccurrence_profile(reference_profile4)\n",
    "reference_profile0.add_another_cooccurrence_profile(reference_profile5)\n",
    "reference_profile0.add_another_cooccurrence_profile(reference_profile6)\n",
    "reference_profile0.add_another_cooccurrence_profile(reference_profile7)\n",
    "reference_profile0.add_another_cooccurrence_profile(reference_profile9)"
   ]
  },
  {
   "cell_type": "code",
   "execution_count": 7,
   "id": "bbffde8b-6839-461a-8a68-8e466d80b123",
   "metadata": {},
   "outputs": [],
   "source": [
    "reference_probability_profile = profiles.CooccurrenceProbabilityProfile.from_cooccurrence_profile(reference_profile0)"
   ]
  },
  {
   "cell_type": "markdown",
   "id": "8141d215",
   "metadata": {
    "pycharm": {
     "name": "#%% md\n"
    }
   },
   "source": [
    "### Making feature pointwise KL divergence profile between COCONUT and ZINC"
   ]
  },
  {
   "cell_type": "code",
   "execution_count": 8,
   "id": "e2da7160",
   "metadata": {
    "pycharm": {
     "name": "#%%\n"
    }
   },
   "outputs": [
    {
     "data": {
      "text/html": [
       "<div>\n",
       "<style scoped>\n",
       "    .dataframe tbody tr th:only-of-type {\n",
       "        vertical-align: middle;\n",
       "    }\n",
       "\n",
       "    .dataframe tbody tr th {\n",
       "        vertical-align: top;\n",
       "    }\n",
       "\n",
       "    .dataframe thead th {\n",
       "        text-align: right;\n",
       "    }\n",
       "</style>\n",
       "<table border=\"1\" class=\"dataframe\">\n",
       "  <thead>\n",
       "    <tr style=\"text-align: right;\">\n",
       "      <th></th>\n",
       "      <th></th>\n",
       "      <th>value</th>\n",
       "    </tr>\n",
       "    <tr>\n",
       "      <th>feature1</th>\n",
       "      <th>feature2</th>\n",
       "      <th></th>\n",
       "    </tr>\n",
       "  </thead>\n",
       "  <tbody>\n",
       "    <tr>\n",
       "      <th rowspan=\"5\" valign=\"top\">[CH2][CH2][CH2][CH2][CH]</th>\n",
       "      <th>[CH2][CH2][CH2][CH2][CH]</th>\n",
       "      <td>1.845181</td>\n",
       "    </tr>\n",
       "    <tr>\n",
       "      <th>[CH2][CH2][CH]([C]([CH2])=[O])[CH]([CH2])[CH2]</th>\n",
       "      <td>3.142456</td>\n",
       "    </tr>\n",
       "    <tr>\n",
       "      <th>[CH2][CH2][C](=[O])[CH]([CH2])[CH]</th>\n",
       "      <td>4.949811</td>\n",
       "    </tr>\n",
       "    <tr>\n",
       "      <th>[CH3][CH2][CH2][CH2]</th>\n",
       "      <td>4.190885</td>\n",
       "    </tr>\n",
       "    <tr>\n",
       "      <th>[CH3][CH2][CH2][CH2][CH2]</th>\n",
       "      <td>4.430804</td>\n",
       "    </tr>\n",
       "    <tr>\n",
       "      <th>...</th>\n",
       "      <th>...</th>\n",
       "      <td>...</td>\n",
       "    </tr>\n",
       "    <tr>\n",
       "      <th rowspan=\"2\" valign=\"top\">[CH][CH2][CH2][S]([CH2])(=[O])=[O]</th>\n",
       "      <th>[CH][NH][CH2][S]([CH2])(=[O])=[O]</th>\n",
       "      <td>-0.027473</td>\n",
       "    </tr>\n",
       "    <tr>\n",
       "      <th>[C][CH]([CH2])[NH][CH2][S]</th>\n",
       "      <td>-0.027473</td>\n",
       "    </tr>\n",
       "    <tr>\n",
       "      <th rowspan=\"2\" valign=\"top\">[CH][NH][CH2][S]([CH2])(=[O])=[O]</th>\n",
       "      <th>[C][CH]([CH2])[NH][CH2][S]</th>\n",
       "      <td>-0.027473</td>\n",
       "    </tr>\n",
       "    <tr>\n",
       "      <th>[C][CH]([NH])[CH2][CH2][S]</th>\n",
       "      <td>-0.027473</td>\n",
       "    </tr>\n",
       "    <tr>\n",
       "      <th>[C][CH]([CH2])[NH][CH2][S]</th>\n",
       "      <th>[C][CH]([NH])[CH2][CH2][S]</th>\n",
       "      <td>-0.027473</td>\n",
       "    </tr>\n",
       "  </tbody>\n",
       "</table>\n",
       "<p>28957230 rows × 1 columns</p>\n",
       "</div>"
      ],
      "text/plain": [
       "                                                                                      value\n",
       "feature1                           feature2                                                \n",
       "[CH2][CH2][CH2][CH2][CH]           [CH2][CH2][CH2][CH2][CH]                        1.845181\n",
       "                                   [CH2][CH2][CH]([C]([CH2])=[O])[CH]([CH2])[CH2]  3.142456\n",
       "                                   [CH2][CH2][C](=[O])[CH]([CH2])[CH]              4.949811\n",
       "                                   [CH3][CH2][CH2][CH2]                            4.190885\n",
       "                                   [CH3][CH2][CH2][CH2][CH2]                       4.430804\n",
       "...                                                                                     ...\n",
       "[CH][CH2][CH2][S]([CH2])(=[O])=[O] [CH][NH][CH2][S]([CH2])(=[O])=[O]              -0.027473\n",
       "                                   [C][CH]([CH2])[NH][CH2][S]                     -0.027473\n",
       "[CH][NH][CH2][S]([CH2])(=[O])=[O]  [C][CH]([CH2])[NH][CH2][S]                     -0.027473\n",
       "                                   [C][CH]([NH])[CH2][CH2][S]                     -0.027473\n",
       "[C][CH]([CH2])[NH][CH2][S]         [C][CH]([NH])[CH2][CH2][S]                     -0.027473\n",
       "\n",
       "[28957230 rows x 1 columns]"
      ]
     },
     "execution_count": 8,
     "metadata": {},
     "output_type": "execute_result"
    }
   ],
   "source": [
    "difference_pkld_profile = profiles.PointwiseKLDivergenceProfile.from_cooccurrence_probability_profiles(\n",
    "    probability_profile, reference_probability_profile)\n",
    "difference_pkld_profile.df"
   ]
  },
  {
   "cell_type": "markdown",
   "id": "280a3dd8",
   "metadata": {
    "pycharm": {
     "name": "#%% md\n"
    }
   },
   "source": [
    "### Sampling structures from COCONUT and ZINC datasets"
   ]
  },
  {
   "cell_type": "code",
   "execution_count": 9,
   "id": "212cd152",
   "metadata": {
    "pycharm": {
     "name": "#%%\n"
    }
   },
   "outputs": [],
   "source": [
    "coconut_samples = pd.read_csv('../data/CPF/COCONUT/COCOrandomF.csv', delimiter = ' ')\n",
    "coconut_samples = coconut_samples.drop(['Coconut_id'], axis=1)\n",
    "coconut_samples['Name'] = 'COCONUT'"
   ]
  },
  {
   "cell_type": "code",
   "execution_count": 10,
   "id": "95627151-b248-427d-a494-4f84494aa1d6",
   "metadata": {},
   "outputs": [],
   "source": [
    "df_split_coco = np.array_split(coconut_samples, 10)"
   ]
  },
  {
   "cell_type": "code",
   "execution_count": 11,
   "id": "13b1766b-989b-4995-950c-e7f7bbe1f5fd",
   "metadata": {},
   "outputs": [
    {
     "data": {
      "text/html": [
       "<div>\n",
       "<style scoped>\n",
       "    .dataframe tbody tr th:only-of-type {\n",
       "        vertical-align: middle;\n",
       "    }\n",
       "\n",
       "    .dataframe tbody tr th {\n",
       "        vertical-align: top;\n",
       "    }\n",
       "\n",
       "    .dataframe thead th {\n",
       "        text-align: right;\n",
       "    }\n",
       "</style>\n",
       "<table border=\"1\" class=\"dataframe\">\n",
       "  <thead>\n",
       "    <tr style=\"text-align: right;\">\n",
       "      <th></th>\n",
       "      <th>Smiles</th>\n",
       "      <th>MW</th>\n",
       "      <th>logP</th>\n",
       "      <th>Inchi</th>\n",
       "      <th>Inchi_s</th>\n",
       "      <th>Name</th>\n",
       "      <th>ECFP</th>\n",
       "      <th>Bitset</th>\n",
       "      <th>Fragments</th>\n",
       "    </tr>\n",
       "  </thead>\n",
       "  <tbody>\n",
       "    <tr>\n",
       "      <th>309039</th>\n",
       "      <td>COc1cc2c(cc1OC)C1C(CC=C3CC[NH+](C)C31)OC2=O</td>\n",
       "      <td>316.154335</td>\n",
       "      <td>0.94350</td>\n",
       "      <td>WXZAKVLYZHWSNF-UHFFFAOYSA-O</td>\n",
       "      <td>WXZAKVLYZHWSNF</td>\n",
       "      <td>COCONUT</td>\n",
       "      <td>&lt;rdkit.DataStructs.cDataStructs.ExplicitBitVec...</td>\n",
       "      <td>[4, 40, 57, 149, 249, 314, 352, 415, 497, 598,...</td>\n",
       "      <td>'[CH]=[C]([CH])[CH2][CH2][NH+]', '[C][CH2][CH2...</td>\n",
       "    </tr>\n",
       "    <tr>\n",
       "      <th>309040</th>\n",
       "      <td>COc1ccc(-c2cc(C(=O)N3CC4CC(C3)c3ccc([N+](=O)[O...</td>\n",
       "      <td>465.164833</td>\n",
       "      <td>2.42330</td>\n",
       "      <td>HKNUGKSQKPYATJ-UHFFFAOYSA-N</td>\n",
       "      <td>HKNUGKSQKPYATJ</td>\n",
       "      <td>COCONUT</td>\n",
       "      <td>&lt;rdkit.DataStructs.cDataStructs.ExplicitBitVec...</td>\n",
       "      <td>[74, 82, 94, 126, 140, 143, 208, 249, 314, 354...</td>\n",
       "      <td>'[c]-[c]([cH])[cH][c]([c])[O]', '[cH][c]([CH])...</td>\n",
       "    </tr>\n",
       "    <tr>\n",
       "      <th>309041</th>\n",
       "      <td>CCC(C)C(N=C(O)C(Cc1c[nH]c2ccccc12)N=C(O)CN=C(O...</td>\n",
       "      <td>1377.729251</td>\n",
       "      <td>7.84631</td>\n",
       "      <td>BYDBXYKAICAWBU-UHFFFAOYSA-N</td>\n",
       "      <td>BYDBXYKAICAWBU</td>\n",
       "      <td>COCONUT</td>\n",
       "      <td>&lt;rdkit.DataStructs.cDataStructs.ExplicitBitVec...</td>\n",
       "      <td>[1, 48, 79, 80, 82, 119, 177, 227, 272, 283, 2...</td>\n",
       "      <td>'[cH][cH][cH][cH][c]', '[cH][cH][cH][cH][cH]',...</td>\n",
       "    </tr>\n",
       "    <tr>\n",
       "      <th>309042</th>\n",
       "      <td>COc1cc2c(c(OC)c1OC)-c1ccc(NCCCC(=O)Nc3ccc4[nH]...</td>\n",
       "      <td>629.248563</td>\n",
       "      <td>3.22360</td>\n",
       "      <td>JXXSUHVMXZLYCG-UHFFFAOYSA-N</td>\n",
       "      <td>JXXSUHVMXZLYCG</td>\n",
       "      <td>COCONUT</td>\n",
       "      <td>&lt;rdkit.DataStructs.cDataStructs.ExplicitBitVec...</td>\n",
       "      <td>[41, 80, 119, 125, 184, 191, 232, 245, 249, 30...</td>\n",
       "      <td>'[c][c]([c])[O][CH3]', '[c][c]([CH2])[cH][c]([...</td>\n",
       "    </tr>\n",
       "    <tr>\n",
       "      <th>309043</th>\n",
       "      <td>COC1(CC2C(=O)NC(c3ccc(O)cc3)CC(=O)OC(C)CC(C)C=...</td>\n",
       "      <td>692.342129</td>\n",
       "      <td>4.66690</td>\n",
       "      <td>FOEVCQQBKHZRMA-UHFFFAOYSA-N</td>\n",
       "      <td>FOEVCQQBKHZRMA</td>\n",
       "      <td>COCONUT</td>\n",
       "      <td>&lt;rdkit.DataStructs.cDataStructs.ExplicitBitVec...</td>\n",
       "      <td>[5, 63, 80, 194, 206, 231, 250, 293, 301, 314,...</td>\n",
       "      <td>'[cH][cH][c]([OH])[cH][cH]', '[cH][cH][cH][cH]...</td>\n",
       "    </tr>\n",
       "    <tr>\n",
       "      <th>...</th>\n",
       "      <td>...</td>\n",
       "      <td>...</td>\n",
       "      <td>...</td>\n",
       "      <td>...</td>\n",
       "      <td>...</td>\n",
       "      <td>...</td>\n",
       "      <td>...</td>\n",
       "      <td>...</td>\n",
       "      <td>...</td>\n",
       "    </tr>\n",
       "    <tr>\n",
       "      <th>347663</th>\n",
       "      <td>COC(=O)C1(C)CCC2(C)CCC3(C)C4=CC(=O)c5c(cc(O)c(...</td>\n",
       "      <td>494.266839</td>\n",
       "      <td>5.87660</td>\n",
       "      <td>HFOZJSCLBUTFCX-UHFFFAOYSA-N</td>\n",
       "      <td>HFOZJSCLBUTFCX</td>\n",
       "      <td>COCONUT</td>\n",
       "      <td>&lt;rdkit.DataStructs.cDataStructs.ExplicitBitVec...</td>\n",
       "      <td>[84, 173, 202, 273, 282, 314, 350, 363, 401, 4...</td>\n",
       "      <td>'[C][CH]=[C]([C]([c])([CH3])[CH2])[C]([CH2])([...</td>\n",
       "    </tr>\n",
       "    <tr>\n",
       "      <th>347664</th>\n",
       "      <td>COc1cc2oc(=O)ccc2c(OC)c1CC(=O)C(C)C</td>\n",
       "      <td>290.115424</td>\n",
       "      <td>2.57780</td>\n",
       "      <td>UBBJEHXBMMIIEU-UHFFFAOYSA-N</td>\n",
       "      <td>UBBJEHXBMMIIEU</td>\n",
       "      <td>COCONUT</td>\n",
       "      <td>&lt;rdkit.DataStructs.cDataStructs.ExplicitBitVec...</td>\n",
       "      <td>[1, 80, 109, 183, 239, 249, 283, 293, 314, 325...</td>\n",
       "      <td>'[cH][c](=[O])[o][c]([cH])[c]', '[c][c]([c])[O...</td>\n",
       "    </tr>\n",
       "    <tr>\n",
       "      <th>347665</th>\n",
       "      <td>Cc1cc(O)c2c(c1O)C(=O)C1=C(C2=O)C(O)=CC(O)C1</td>\n",
       "      <td>288.063388</td>\n",
       "      <td>1.28832</td>\n",
       "      <td>SCBOIQFQZQTWSW-UHFFFAOYSA-N</td>\n",
       "      <td>SCBOIQFQZQTWSW</td>\n",
       "      <td>COCONUT</td>\n",
       "      <td>&lt;rdkit.DataStructs.cDataStructs.ExplicitBitVec...</td>\n",
       "      <td>[167, 202, 203, 231, 269, 314, 395, 410, 420, ...</td>\n",
       "      <td>'[c][cH][c]([CH3])[c]([c])[OH]', '[C][C](=[C])...</td>\n",
       "    </tr>\n",
       "    <tr>\n",
       "      <th>347666</th>\n",
       "      <td>NC(=O)C(O)C(N)C(=O)O</td>\n",
       "      <td>148.048407</td>\n",
       "      <td>-2.75550</td>\n",
       "      <td>VQTLPSCRBFYDNX-UHFFFAOYSA-N</td>\n",
       "      <td>VQTLPSCRBFYDNX</td>\n",
       "      <td>COCONUT</td>\n",
       "      <td>&lt;rdkit.DataStructs.cDataStructs.ExplicitBitVec...</td>\n",
       "      <td>[1, 121, 140, 227, 389, 412, 650, 727, 786, 80...</td>\n",
       "      <td>'[C][CH]([NH2])[CH]([OH])[C]([NH2])=[O]', '[C]...</td>\n",
       "    </tr>\n",
       "    <tr>\n",
       "      <th>347667</th>\n",
       "      <td>CC12C(=O)NC(=O)NC1C1NC(=O)N=C(N)C12</td>\n",
       "      <td>237.086189</td>\n",
       "      <td>-1.72050</td>\n",
       "      <td>ICHACPCERMCAMT-UHFFFAOYSA-N</td>\n",
       "      <td>ICHACPCERMCAMT</td>\n",
       "      <td>COCONUT</td>\n",
       "      <td>&lt;rdkit.DataStructs.cDataStructs.ExplicitBitVec...</td>\n",
       "      <td>[204, 255, 293, 301, 314, 378, 384, 398, 494, ...</td>\n",
       "      <td>'[C][NH][C](=[O])[C]([CH3])([CH])[CH]', '[C][N...</td>\n",
       "    </tr>\n",
       "  </tbody>\n",
       "</table>\n",
       "<p>38629 rows × 9 columns</p>\n",
       "</div>"
      ],
      "text/plain": [
       "                                                   Smiles           MW  \\\n",
       "309039        COc1cc2c(cc1OC)C1C(CC=C3CC[NH+](C)C31)OC2=O   316.154335   \n",
       "309040  COc1ccc(-c2cc(C(=O)N3CC4CC(C3)c3ccc([N+](=O)[O...   465.164833   \n",
       "309041  CCC(C)C(N=C(O)C(Cc1c[nH]c2ccccc12)N=C(O)CN=C(O...  1377.729251   \n",
       "309042  COc1cc2c(c(OC)c1OC)-c1ccc(NCCCC(=O)Nc3ccc4[nH]...   629.248563   \n",
       "309043  COC1(CC2C(=O)NC(c3ccc(O)cc3)CC(=O)OC(C)CC(C)C=...   692.342129   \n",
       "...                                                   ...          ...   \n",
       "347663  COC(=O)C1(C)CCC2(C)CCC3(C)C4=CC(=O)c5c(cc(O)c(...   494.266839   \n",
       "347664                COc1cc2oc(=O)ccc2c(OC)c1CC(=O)C(C)C   290.115424   \n",
       "347665        Cc1cc(O)c2c(c1O)C(=O)C1=C(C2=O)C(O)=CC(O)C1   288.063388   \n",
       "347666                               NC(=O)C(O)C(N)C(=O)O   148.048407   \n",
       "347667                CC12C(=O)NC(=O)NC1C1NC(=O)N=C(N)C12   237.086189   \n",
       "\n",
       "           logP                        Inchi         Inchi_s     Name  \\\n",
       "309039  0.94350  WXZAKVLYZHWSNF-UHFFFAOYSA-O  WXZAKVLYZHWSNF  COCONUT   \n",
       "309040  2.42330  HKNUGKSQKPYATJ-UHFFFAOYSA-N  HKNUGKSQKPYATJ  COCONUT   \n",
       "309041  7.84631  BYDBXYKAICAWBU-UHFFFAOYSA-N  BYDBXYKAICAWBU  COCONUT   \n",
       "309042  3.22360  JXXSUHVMXZLYCG-UHFFFAOYSA-N  JXXSUHVMXZLYCG  COCONUT   \n",
       "309043  4.66690  FOEVCQQBKHZRMA-UHFFFAOYSA-N  FOEVCQQBKHZRMA  COCONUT   \n",
       "...         ...                          ...             ...      ...   \n",
       "347663  5.87660  HFOZJSCLBUTFCX-UHFFFAOYSA-N  HFOZJSCLBUTFCX  COCONUT   \n",
       "347664  2.57780  UBBJEHXBMMIIEU-UHFFFAOYSA-N  UBBJEHXBMMIIEU  COCONUT   \n",
       "347665  1.28832  SCBOIQFQZQTWSW-UHFFFAOYSA-N  SCBOIQFQZQTWSW  COCONUT   \n",
       "347666 -2.75550  VQTLPSCRBFYDNX-UHFFFAOYSA-N  VQTLPSCRBFYDNX  COCONUT   \n",
       "347667 -1.72050  ICHACPCERMCAMT-UHFFFAOYSA-N  ICHACPCERMCAMT  COCONUT   \n",
       "\n",
       "                                                     ECFP  \\\n",
       "309039  <rdkit.DataStructs.cDataStructs.ExplicitBitVec...   \n",
       "309040  <rdkit.DataStructs.cDataStructs.ExplicitBitVec...   \n",
       "309041  <rdkit.DataStructs.cDataStructs.ExplicitBitVec...   \n",
       "309042  <rdkit.DataStructs.cDataStructs.ExplicitBitVec...   \n",
       "309043  <rdkit.DataStructs.cDataStructs.ExplicitBitVec...   \n",
       "...                                                   ...   \n",
       "347663  <rdkit.DataStructs.cDataStructs.ExplicitBitVec...   \n",
       "347664  <rdkit.DataStructs.cDataStructs.ExplicitBitVec...   \n",
       "347665  <rdkit.DataStructs.cDataStructs.ExplicitBitVec...   \n",
       "347666  <rdkit.DataStructs.cDataStructs.ExplicitBitVec...   \n",
       "347667  <rdkit.DataStructs.cDataStructs.ExplicitBitVec...   \n",
       "\n",
       "                                                   Bitset  \\\n",
       "309039  [4, 40, 57, 149, 249, 314, 352, 415, 497, 598,...   \n",
       "309040  [74, 82, 94, 126, 140, 143, 208, 249, 314, 354...   \n",
       "309041  [1, 48, 79, 80, 82, 119, 177, 227, 272, 283, 2...   \n",
       "309042  [41, 80, 119, 125, 184, 191, 232, 245, 249, 30...   \n",
       "309043  [5, 63, 80, 194, 206, 231, 250, 293, 301, 314,...   \n",
       "...                                                   ...   \n",
       "347663  [84, 173, 202, 273, 282, 314, 350, 363, 401, 4...   \n",
       "347664  [1, 80, 109, 183, 239, 249, 283, 293, 314, 325...   \n",
       "347665  [167, 202, 203, 231, 269, 314, 395, 410, 420, ...   \n",
       "347666  [1, 121, 140, 227, 389, 412, 650, 727, 786, 80...   \n",
       "347667  [204, 255, 293, 301, 314, 378, 384, 398, 494, ...   \n",
       "\n",
       "                                                Fragments  \n",
       "309039  '[CH]=[C]([CH])[CH2][CH2][NH+]', '[C][CH2][CH2...  \n",
       "309040  '[c]-[c]([cH])[cH][c]([c])[O]', '[cH][c]([CH])...  \n",
       "309041  '[cH][cH][cH][cH][c]', '[cH][cH][cH][cH][cH]',...  \n",
       "309042  '[c][c]([c])[O][CH3]', '[c][c]([CH2])[cH][c]([...  \n",
       "309043  '[cH][cH][c]([OH])[cH][cH]', '[cH][cH][cH][cH]...  \n",
       "...                                                   ...  \n",
       "347663  '[C][CH]=[C]([C]([c])([CH3])[CH2])[C]([CH2])([...  \n",
       "347664  '[cH][c](=[O])[o][c]([cH])[c]', '[c][c]([c])[O...  \n",
       "347665  '[c][cH][c]([CH3])[c]([c])[OH]', '[C][C](=[C])...  \n",
       "347666  '[C][CH]([NH2])[CH]([OH])[C]([NH2])=[O]', '[C]...  \n",
       "347667  '[C][NH][C](=[O])[C]([CH3])([CH])[CH]', '[C][N...  \n",
       "\n",
       "[38629 rows x 9 columns]"
      ]
     },
     "execution_count": 11,
     "metadata": {},
     "output_type": "execute_result"
    }
   ],
   "source": [
    "df_split_coco[8]"
   ]
  },
  {
   "cell_type": "code",
   "execution_count": 12,
   "id": "f7ed85f8",
   "metadata": {
    "pycharm": {
     "name": "#%%\n"
    }
   },
   "outputs": [],
   "source": [
    "zinc_samples = pd.read_csv('../data/CPF/ZINC/ZINCrandomF.csv', delimiter = ' ')\n",
    "zinc_samples = zinc_samples.drop(['Zinc_id'], axis=1)"
   ]
  },
  {
   "cell_type": "code",
   "execution_count": 13,
   "id": "f90fed46-cb6b-47c0-9dd3-a66ef9ee60d8",
   "metadata": {},
   "outputs": [
    {
     "data": {
      "text/html": [
       "<div>\n",
       "<style scoped>\n",
       "    .dataframe tbody tr th:only-of-type {\n",
       "        vertical-align: middle;\n",
       "    }\n",
       "\n",
       "    .dataframe tbody tr th {\n",
       "        vertical-align: top;\n",
       "    }\n",
       "\n",
       "    .dataframe thead th {\n",
       "        text-align: right;\n",
       "    }\n",
       "</style>\n",
       "<table border=\"1\" class=\"dataframe\">\n",
       "  <thead>\n",
       "    <tr style=\"text-align: right;\">\n",
       "      <th></th>\n",
       "      <th>Smiles</th>\n",
       "      <th>MW</th>\n",
       "      <th>logP</th>\n",
       "      <th>Inchi</th>\n",
       "      <th>Inchi_s</th>\n",
       "      <th>Name</th>\n",
       "      <th>ECFP</th>\n",
       "      <th>Bitset</th>\n",
       "      <th>Fragments</th>\n",
       "    </tr>\n",
       "  </thead>\n",
       "  <tbody>\n",
       "    <tr>\n",
       "      <th>303210</th>\n",
       "      <td>COc1cc(CCC(C)=O)ccc1OC(=O)c1c(-c2c(F)cccc2Cl)n...</td>\n",
       "      <td>431.093579</td>\n",
       "      <td>5.19192</td>\n",
       "      <td>LXIUVLOXXFPIEC-UHFFFAOYSA-N</td>\n",
       "      <td>LXIUVLOXXFPIEC</td>\n",
       "      <td>ZINC</td>\n",
       "      <td>&lt;rdkit.DataStructs.cDataStructs.ExplicitBitVec...</td>\n",
       "      <td>[80, 94, 104, 145, 226, 248, 249, 310, 323, 36...</td>\n",
       "      <td>'[c]-[c]([c])[n][o][c]', '[c][cH][c]([cH][cH])...</td>\n",
       "    </tr>\n",
       "    <tr>\n",
       "      <th>303211</th>\n",
       "      <td>CC1=C(C(=O)OCc2ccccc2)[C@@H](c2ccccc2C)n2nc(-c...</td>\n",
       "      <td>470.150954</td>\n",
       "      <td>5.93922</td>\n",
       "      <td>ZWZZHAJSTBNYJD-XMMPIXPASA-N</td>\n",
       "      <td>ZWZZHAJSTBNYJD</td>\n",
       "      <td>ZINC</td>\n",
       "      <td>&lt;rdkit.DataStructs.cDataStructs.ExplicitBitVec...</td>\n",
       "      <td>[45, 71, 80, 95, 145, 147, 168, 199, 216, 371,...</td>\n",
       "      <td>'[C]=[C]([CH])[C](=[O])[O][CH2]', '[cH][cH][cH...</td>\n",
       "    </tr>\n",
       "    <tr>\n",
       "      <th>303212</th>\n",
       "      <td>CCc1ccc2oc(-c3cccc(NC(=O)C(C)C)c3)nc2c1</td>\n",
       "      <td>308.152478</td>\n",
       "      <td>4.65170</td>\n",
       "      <td>AUYCCXHFQBCPQW-UHFFFAOYSA-N</td>\n",
       "      <td>AUYCCXHFQBCPQW</td>\n",
       "      <td>ZINC</td>\n",
       "      <td>&lt;rdkit.DataStructs.cDataStructs.ExplicitBitVec...</td>\n",
       "      <td>[1, 80, 145, 155, 184, 191, 283, 294, 310, 372...</td>\n",
       "      <td>'[cH][c]([cH])[CH2][CH3]', '[cH][cH][c]([cH][c...</td>\n",
       "    </tr>\n",
       "    <tr>\n",
       "      <th>303213</th>\n",
       "      <td>N/C(=N/C[C@H]1CCCSC1)N1CCN(c2ccc(F)cc2)CC1</td>\n",
       "      <td>336.178396</td>\n",
       "      <td>2.40560</td>\n",
       "      <td>VABUAJLKDGQAMD-CQSZACIVSA-N</td>\n",
       "      <td>VABUAJLKDGQAMD</td>\n",
       "      <td>ZINC</td>\n",
       "      <td>&lt;rdkit.DataStructs.cDataStructs.ExplicitBitVec...</td>\n",
       "      <td>[29, 80, 90, 140, 174, 233, 407, 484, 593, 624...</td>\n",
       "      <td>'[c][cH][cH][c]([cH])[F]', '[CH2][N]=[C]([NH2]...</td>\n",
       "    </tr>\n",
       "    <tr>\n",
       "      <th>303214</th>\n",
       "      <td>C[C@H](CO)NC(=O)CSc1nc2[nH]ncc2c(=O)n1-c1ccccc1</td>\n",
       "      <td>359.105210</td>\n",
       "      <td>0.69790</td>\n",
       "      <td>AEJMUYKDTAMAQT-SNVBAGLBSA-N</td>\n",
       "      <td>AEJMUYKDTAMAQT</td>\n",
       "      <td>ZINC</td>\n",
       "      <td>&lt;rdkit.DataStructs.cDataStructs.ExplicitBitVec...</td>\n",
       "      <td>[1, 41, 58, 74, 80, 86, 97, 116, 117, 222, 283...</td>\n",
       "      <td>'[c][cH][n][nH][c]', '[CH][NH][C](=[O])[CH2][S...</td>\n",
       "    </tr>\n",
       "    <tr>\n",
       "      <th>...</th>\n",
       "      <td>...</td>\n",
       "      <td>...</td>\n",
       "      <td>...</td>\n",
       "      <td>...</td>\n",
       "      <td>...</td>\n",
       "      <td>...</td>\n",
       "      <td>...</td>\n",
       "      <td>...</td>\n",
       "      <td>...</td>\n",
       "    </tr>\n",
       "    <tr>\n",
       "      <th>341106</th>\n",
       "      <td>CCOC(=O)c1c(-c2ccc(OC)cc2)csc1NC(=O)CSc1nc(C)n...</td>\n",
       "      <td>539.100719</td>\n",
       "      <td>6.13302</td>\n",
       "      <td>OUXYYASGVNESMO-UHFFFAOYSA-N</td>\n",
       "      <td>OUXYYASGVNESMO</td>\n",
       "      <td>ZINC</td>\n",
       "      <td>&lt;rdkit.DataStructs.cDataStructs.ExplicitBitVec...</td>\n",
       "      <td>[14, 32, 41, 42, 50, 54, 80, 116, 145, 147, 16...</td>\n",
       "      <td>'[c][c]([s])[NH][C]([CH2])=[O]', '[c][n][c]([S...</td>\n",
       "    </tr>\n",
       "    <tr>\n",
       "      <th>341107</th>\n",
       "      <td>COCC(=O)N1CCN2C[C@H]1C(=O)NC[C@H]1O[C@@H](CC(=...</td>\n",
       "      <td>593.225241</td>\n",
       "      <td>-1.90600</td>\n",
       "      <td>ZRKVEFGZSCOBIL-RKRMHJIESA-N</td>\n",
       "      <td>ZRKVEFGZSCOBIL</td>\n",
       "      <td>ZINC</td>\n",
       "      <td>&lt;rdkit.DataStructs.cDataStructs.ExplicitBitVec...</td>\n",
       "      <td>[5, 80, 132, 134, 165, 216, 231, 238, 242, 244...</td>\n",
       "      <td>'[C][NH][CH]([CH2][CH])[CH2][N]', '[c][cH][c](...</td>\n",
       "    </tr>\n",
       "    <tr>\n",
       "      <th>341108</th>\n",
       "      <td>COc1ccc(CN2C(=O)c3oc4ccccc4c(=O)c3[C@H]2c2cc(B...</td>\n",
       "      <td>521.047399</td>\n",
       "      <td>5.02370</td>\n",
       "      <td>KBFSRBDMAYAUHM-JOCHJYFZSA-N</td>\n",
       "      <td>KBFSRBDMAYAUHM</td>\n",
       "      <td>ZINC</td>\n",
       "      <td>&lt;rdkit.DataStructs.cDataStructs.ExplicitBitVec...</td>\n",
       "      <td>[80, 161, 202, 227, 249, 310, 314, 322, 343, 3...</td>\n",
       "      <td>'[cH][c]([cH])[O][CH3]', '[C][c]([c])[o][c]([c...</td>\n",
       "    </tr>\n",
       "    <tr>\n",
       "      <th>341109</th>\n",
       "      <td>C[C@@H](NC(=O)c1cccc(OCc2ccccc2)c1)c1ccc(S(C)(...</td>\n",
       "      <td>409.134779</td>\n",
       "      <td>4.16010</td>\n",
       "      <td>NGCVREZJJNBAKZ-QGZVFWFLSA-N</td>\n",
       "      <td>NGCVREZJJNBAKZ</td>\n",
       "      <td>ZINC</td>\n",
       "      <td>&lt;rdkit.DataStructs.cDataStructs.ExplicitBitVec...</td>\n",
       "      <td>[1, 30, 80, 107, 117, 283, 319, 322, 350, 389,...</td>\n",
       "      <td>'[C][c]([cH])[cH][cH][cH]', '[cH][cH][cH][c]([...</td>\n",
       "    </tr>\n",
       "    <tr>\n",
       "      <th>341110</th>\n",
       "      <td>COCCNC(=O)[C@H](c1cccs1)N(Cc1ccc(F)cc1)C(=O)Cn...</td>\n",
       "      <td>481.158389</td>\n",
       "      <td>3.16460</td>\n",
       "      <td>KYOYJTYISPMSKI-QHCPKHFHSA-N</td>\n",
       "      <td>KYOYJTYISPMSKI</td>\n",
       "      <td>ZINC</td>\n",
       "      <td>&lt;rdkit.DataStructs.cDataStructs.ExplicitBitVec...</td>\n",
       "      <td>[1, 13, 14, 33, 45, 80, 90, 158, 197, 241, 256...</td>\n",
       "      <td>'[C][NH][CH2][CH2][O]', '[CH2][CH2][NH][C]([CH...</td>\n",
       "    </tr>\n",
       "  </tbody>\n",
       "</table>\n",
       "<p>37901 rows × 9 columns</p>\n",
       "</div>"
      ],
      "text/plain": [
       "                                                   Smiles          MW  \\\n",
       "303210  COc1cc(CCC(C)=O)ccc1OC(=O)c1c(-c2c(F)cccc2Cl)n...  431.093579   \n",
       "303211  CC1=C(C(=O)OCc2ccccc2)[C@@H](c2ccccc2C)n2nc(-c...  470.150954   \n",
       "303212            CCc1ccc2oc(-c3cccc(NC(=O)C(C)C)c3)nc2c1  308.152478   \n",
       "303213         N/C(=N/C[C@H]1CCCSC1)N1CCN(c2ccc(F)cc2)CC1  336.178396   \n",
       "303214    C[C@H](CO)NC(=O)CSc1nc2[nH]ncc2c(=O)n1-c1ccccc1  359.105210   \n",
       "...                                                   ...         ...   \n",
       "341106  CCOC(=O)c1c(-c2ccc(OC)cc2)csc1NC(=O)CSc1nc(C)n...  539.100719   \n",
       "341107  COCC(=O)N1CCN2C[C@H]1C(=O)NC[C@H]1O[C@@H](CC(=...  593.225241   \n",
       "341108  COc1ccc(CN2C(=O)c3oc4ccccc4c(=O)c3[C@H]2c2cc(B...  521.047399   \n",
       "341109  C[C@@H](NC(=O)c1cccc(OCc2ccccc2)c1)c1ccc(S(C)(...  409.134779   \n",
       "341110  COCCNC(=O)[C@H](c1cccs1)N(Cc1ccc(F)cc1)C(=O)Cn...  481.158389   \n",
       "\n",
       "           logP                        Inchi         Inchi_s  Name  \\\n",
       "303210  5.19192  LXIUVLOXXFPIEC-UHFFFAOYSA-N  LXIUVLOXXFPIEC  ZINC   \n",
       "303211  5.93922  ZWZZHAJSTBNYJD-XMMPIXPASA-N  ZWZZHAJSTBNYJD  ZINC   \n",
       "303212  4.65170  AUYCCXHFQBCPQW-UHFFFAOYSA-N  AUYCCXHFQBCPQW  ZINC   \n",
       "303213  2.40560  VABUAJLKDGQAMD-CQSZACIVSA-N  VABUAJLKDGQAMD  ZINC   \n",
       "303214  0.69790  AEJMUYKDTAMAQT-SNVBAGLBSA-N  AEJMUYKDTAMAQT  ZINC   \n",
       "...         ...                          ...             ...   ...   \n",
       "341106  6.13302  OUXYYASGVNESMO-UHFFFAOYSA-N  OUXYYASGVNESMO  ZINC   \n",
       "341107 -1.90600  ZRKVEFGZSCOBIL-RKRMHJIESA-N  ZRKVEFGZSCOBIL  ZINC   \n",
       "341108  5.02370  KBFSRBDMAYAUHM-JOCHJYFZSA-N  KBFSRBDMAYAUHM  ZINC   \n",
       "341109  4.16010  NGCVREZJJNBAKZ-QGZVFWFLSA-N  NGCVREZJJNBAKZ  ZINC   \n",
       "341110  3.16460  KYOYJTYISPMSKI-QHCPKHFHSA-N  KYOYJTYISPMSKI  ZINC   \n",
       "\n",
       "                                                     ECFP  \\\n",
       "303210  <rdkit.DataStructs.cDataStructs.ExplicitBitVec...   \n",
       "303211  <rdkit.DataStructs.cDataStructs.ExplicitBitVec...   \n",
       "303212  <rdkit.DataStructs.cDataStructs.ExplicitBitVec...   \n",
       "303213  <rdkit.DataStructs.cDataStructs.ExplicitBitVec...   \n",
       "303214  <rdkit.DataStructs.cDataStructs.ExplicitBitVec...   \n",
       "...                                                   ...   \n",
       "341106  <rdkit.DataStructs.cDataStructs.ExplicitBitVec...   \n",
       "341107  <rdkit.DataStructs.cDataStructs.ExplicitBitVec...   \n",
       "341108  <rdkit.DataStructs.cDataStructs.ExplicitBitVec...   \n",
       "341109  <rdkit.DataStructs.cDataStructs.ExplicitBitVec...   \n",
       "341110  <rdkit.DataStructs.cDataStructs.ExplicitBitVec...   \n",
       "\n",
       "                                                   Bitset  \\\n",
       "303210  [80, 94, 104, 145, 226, 248, 249, 310, 323, 36...   \n",
       "303211  [45, 71, 80, 95, 145, 147, 168, 199, 216, 371,...   \n",
       "303212  [1, 80, 145, 155, 184, 191, 283, 294, 310, 372...   \n",
       "303213  [29, 80, 90, 140, 174, 233, 407, 484, 593, 624...   \n",
       "303214  [1, 41, 58, 74, 80, 86, 97, 116, 117, 222, 283...   \n",
       "...                                                   ...   \n",
       "341106  [14, 32, 41, 42, 50, 54, 80, 116, 145, 147, 16...   \n",
       "341107  [5, 80, 132, 134, 165, 216, 231, 238, 242, 244...   \n",
       "341108  [80, 161, 202, 227, 249, 310, 314, 322, 343, 3...   \n",
       "341109  [1, 30, 80, 107, 117, 283, 319, 322, 350, 389,...   \n",
       "341110  [1, 13, 14, 33, 45, 80, 90, 158, 197, 241, 256...   \n",
       "\n",
       "                                                Fragments  \n",
       "303210  '[c]-[c]([c])[n][o][c]', '[c][cH][c]([cH][cH])...  \n",
       "303211  '[C]=[C]([CH])[C](=[O])[O][CH2]', '[cH][cH][cH...  \n",
       "303212  '[cH][c]([cH])[CH2][CH3]', '[cH][cH][c]([cH][c...  \n",
       "303213  '[c][cH][cH][c]([cH])[F]', '[CH2][N]=[C]([NH2]...  \n",
       "303214  '[c][cH][n][nH][c]', '[CH][NH][C](=[O])[CH2][S...  \n",
       "...                                                   ...  \n",
       "341106  '[c][c]([s])[NH][C]([CH2])=[O]', '[c][n][c]([S...  \n",
       "341107  '[C][NH][CH]([CH2][CH])[CH2][N]', '[c][cH][c](...  \n",
       "341108  '[cH][c]([cH])[O][CH3]', '[C][c]([c])[o][c]([c...  \n",
       "341109  '[C][c]([cH])[cH][cH][cH]', '[cH][cH][cH][c]([...  \n",
       "341110  '[C][NH][CH2][CH2][O]', '[CH2][CH2][NH][C]([CH...  \n",
       "\n",
       "[37901 rows x 9 columns]"
      ]
     },
     "execution_count": 13,
     "metadata": {},
     "output_type": "execute_result"
    }
   ],
   "source": [
    "df_split_zinc = np.array_split(zinc_samples, 10)\n",
    "df_split_zinc[8]"
   ]
  },
  {
   "cell_type": "code",
   "execution_count": 14,
   "id": "7d675f14",
   "metadata": {},
   "outputs": [],
   "source": [
    "joint_samples = pd.concat((df_split_coco[8], df_split_zinc[8]), ignore_index=True)"
   ]
  },
  {
   "cell_type": "code",
   "execution_count": 15,
   "id": "1378e876-1044-43b3-80e4-5fdaa4afb463",
   "metadata": {},
   "outputs": [
    {
     "name": "stderr",
     "output_type": "stream",
     "text": [
      "/var/tmp/pbs.43587.lich-compute.vscht.cz/ipykernel_36908/2190264476.py:4: SettingWithCopyWarning: \n",
      "A value is trying to be set on a copy of a slice from a DataFrame\n",
      "\n",
      "See the caveats in the documentation: https://pandas.pydata.org/pandas-docs/stable/user_guide/indexing.html#returning-a-view-versus-a-copy\n",
      "  joint_samples['Fragments'][x] = tup\n"
     ]
    }
   ],
   "source": [
    "for x in joint_samples.index:\n",
    "    a = joint_samples['Fragments'][x]\n",
    "    tup = literal_eval(a)\n",
    "    joint_samples['Fragments'][x] = tup"
   ]
  },
  {
   "cell_type": "markdown",
   "id": "4139ba77",
   "metadata": {
    "pycharm": {
     "name": "#%% md\n"
    }
   },
   "source": [
    "## Relative feature tightness against a PMI interrelation profile"
   ]
  },
  {
   "cell_type": "code",
   "execution_count": 16,
   "id": "5b78b1e8",
   "metadata": {
    "collapsed": false,
    "jupyter": {
     "outputs_hidden": false
    },
    "pycharm": {
     "name": "#%%\n"
    }
   },
   "outputs": [
    {
     "name": "stderr",
     "output_type": "stream",
     "text": [
      "/home/liskovaf/.conda/envs/coco/lib/python3.9/site-packages/numpy/core/fromnumeric.py:3419: RuntimeWarning: Mean of empty slice.\n",
      "  return _methods._mean(a, axis=axis, dtype=dtype,\n"
     ]
    }
   ],
   "source": [
    "joint_samples['RFT'] = joint_samples['Fragments'].apply(\n",
    "    lambda x: difference_pkld_profile.relative_feature_divergence(x))"
   ]
  },
  {
   "cell_type": "code",
   "execution_count": 17,
   "id": "30d14231",
   "metadata": {
    "collapsed": false,
    "jupyter": {
     "outputs_hidden": false
    },
    "pycharm": {
     "name": "#%%\n"
    }
   },
   "outputs": [
    {
     "data": {
      "image/png": "[encoded data removed]",
      "text/plain": [
       "<Figure size 842.4x595.44 with 1 Axes>"
      ]
     },
     "metadata": {},
     "output_type": "display_data"
    }
   ],
   "source": [
    "plt.rcParams['font.size'] = '14'\n",
    "a4_dims = (11.7, 8.27)\n",
    "sns.set_style(\"darkgrid\")\n",
    "fig, ax = plt.subplots(figsize=a4_dims)\n",
    "sns.histplot(joint_samples, x='RFT', hue='Name')\n",
    "plt.title('Relative feature tightness against a PMI interrelation profile 8')\n",
    "plt.savefig(f\"../images//joint_samples_RFT8F.svg\", format=\"svg\")"
   ]
  },
  {
   "cell_type": "markdown",
   "id": "ba97db5d",
   "metadata": {
    "pycharm": {
     "name": "#%% md\n"
    }
   },
   "source": [
    "According to the histogram, there is a visible split between Relative feature tightness distribution against the pointwise KL divergence profile between COCONUT and ZINC datasets, based on their radius 2 fragments. Larger fragments might diverge even further."
   ]
  },
  {
   "cell_type": "markdown",
   "id": "ff1f623d-e6e2-49f4-8a3c-59333c7f89b7",
   "metadata": {},
   "source": [
    "# ROC curve"
   ]
  },
  {
   "cell_type": "code",
   "execution_count": 18,
   "id": "53469ca7-9dae-4cc1-b997-f7ed8d8742bb",
   "metadata": {},
   "outputs": [
    {
     "data": {
      "text/html": [
       "<div>\n",
       "<style scoped>\n",
       "    .dataframe tbody tr th:only-of-type {\n",
       "        vertical-align: middle;\n",
       "    }\n",
       "\n",
       "    .dataframe tbody tr th {\n",
       "        vertical-align: top;\n",
       "    }\n",
       "\n",
       "    .dataframe thead th {\n",
       "        text-align: right;\n",
       "    }\n",
       "</style>\n",
       "<table border=\"1\" class=\"dataframe\">\n",
       "  <thead>\n",
       "    <tr style=\"text-align: right;\">\n",
       "      <th></th>\n",
       "      <th>Smiles</th>\n",
       "      <th>MW</th>\n",
       "      <th>logP</th>\n",
       "      <th>Inchi</th>\n",
       "      <th>Inchi_s</th>\n",
       "      <th>Name</th>\n",
       "      <th>ECFP</th>\n",
       "      <th>Bitset</th>\n",
       "      <th>Fragments</th>\n",
       "      <th>RFT</th>\n",
       "    </tr>\n",
       "  </thead>\n",
       "  <tbody>\n",
       "    <tr>\n",
       "      <th>38468</th>\n",
       "      <td>C[As](C)(C)(C)Br</td>\n",
       "      <td>213.933834</td>\n",
       "      <td>2.8</td>\n",
       "      <td>PCZGZQPGIPQNDK-UHFFFAOYSA-N</td>\n",
       "      <td>PCZGZQPGIPQNDK</td>\n",
       "      <td>COCONUT</td>\n",
       "      <td>&lt;rdkit.DataStructs.cDataStructs.ExplicitBitVec...</td>\n",
       "      <td>[105, 273, 387, 728, 1057, 1878]</td>\n",
       "      <td>{}</td>\n",
       "      <td>NaN</td>\n",
       "    </tr>\n",
       "  </tbody>\n",
       "</table>\n",
       "</div>"
      ],
      "text/plain": [
       "                 Smiles          MW  logP                        Inchi  \\\n",
       "38468  C[As](C)(C)(C)Br  213.933834   2.8  PCZGZQPGIPQNDK-UHFFFAOYSA-N   \n",
       "\n",
       "              Inchi_s     Name  \\\n",
       "38468  PCZGZQPGIPQNDK  COCONUT   \n",
       "\n",
       "                                                    ECFP  \\\n",
       "38468  <rdkit.DataStructs.cDataStructs.ExplicitBitVec...   \n",
       "\n",
       "                                 Bitset Fragments  RFT  \n",
       "38468  [105, 273, 387, 728, 1057, 1878]        {}  NaN  "
      ]
     },
     "execution_count": 18,
     "metadata": {},
     "output_type": "execute_result"
    }
   ],
   "source": [
    "joint_samples[joint_samples['RFT'].isna()]"
   ]
  },
  {
   "cell_type": "code",
   "execution_count": 19,
   "id": "d662e2b7-fa3e-4685-bb2a-91da1d1439c0",
   "metadata": {},
   "outputs": [],
   "source": [
    "joint_samples = joint_samples[joint_samples['RFT'].notna()]"
   ]
  },
  {
   "cell_type": "code",
   "execution_count": 20,
   "id": "5a61b4fd-5c0f-4492-b2ef-43528935b9fe",
   "metadata": {},
   "outputs": [
    {
     "data": {
      "text/html": [
       "<div>\n",
       "<style scoped>\n",
       "    .dataframe tbody tr th:only-of-type {\n",
       "        vertical-align: middle;\n",
       "    }\n",
       "\n",
       "    .dataframe tbody tr th {\n",
       "        vertical-align: top;\n",
       "    }\n",
       "\n",
       "    .dataframe thead th {\n",
       "        text-align: right;\n",
       "    }\n",
       "</style>\n",
       "<table border=\"1\" class=\"dataframe\">\n",
       "  <thead>\n",
       "    <tr style=\"text-align: right;\">\n",
       "      <th></th>\n",
       "      <th>Smiles</th>\n",
       "      <th>MW</th>\n",
       "      <th>logP</th>\n",
       "      <th>Inchi</th>\n",
       "      <th>Inchi_s</th>\n",
       "      <th>Name</th>\n",
       "      <th>ECFP</th>\n",
       "      <th>Bitset</th>\n",
       "      <th>Fragments</th>\n",
       "      <th>RFT</th>\n",
       "    </tr>\n",
       "  </thead>\n",
       "  <tbody>\n",
       "  </tbody>\n",
       "</table>\n",
       "</div>"
      ],
      "text/plain": [
       "Empty DataFrame\n",
       "Columns: [Smiles, MW, logP, Inchi, Inchi_s, Name, ECFP, Bitset, Fragments, RFT]\n",
       "Index: []"
      ]
     },
     "execution_count": 20,
     "metadata": {},
     "output_type": "execute_result"
    }
   ],
   "source": [
    "joint_samples[joint_samples['RFT'].isna()]"
   ]
  },
  {
   "cell_type": "code",
   "execution_count": 21,
   "id": "21b168a3-283f-487f-ba3b-9613e8c49184",
   "metadata": {},
   "outputs": [],
   "source": [
    "from matplotlib.pyplot import figure\n",
    "from sklearn.metrics import roc_curve, auc\n",
    "from sklearn import metrics\n",
    "\n",
    "fpr, tpr, thresholds = metrics.roc_curve(joint_samples['Name'], joint_samples['RFT'], pos_label = 'COCONUT')\n",
    "roc_auc = metrics.auc(fpr, tpr)"
   ]
  },
  {
   "cell_type": "code",
   "execution_count": 22,
   "id": "9a36b87c-c2a4-44e0-b3ef-377ffbdb597e",
   "metadata": {},
   "outputs": [
    {
     "data": {
      "text/plain": [
       "0.9865531458752093"
      ]
     },
     "execution_count": 22,
     "metadata": {},
     "output_type": "execute_result"
    }
   ],
   "source": [
    "roc_auc "
   ]
  },
  {
   "cell_type": "code",
   "execution_count": 23,
   "id": "ba0f6ee0-c2d1-44a5-bde3-90ee151298dc",
   "metadata": {},
   "outputs": [
    {
     "data": {
      "text/plain": [
       "<Figure size 432x288 with 0 Axes>"
      ]
     },
     "metadata": {},
     "output_type": "display_data"
    },
    {
     "data": {
      "image/png": "[encoded data removed]",
      "text/plain": [
       "<Figure size 842.4x595.44 with 1 Axes>"
      ]
     },
     "metadata": {},
     "output_type": "display_data"
    }
   ],
   "source": [
    "plt.rcParams['font.size'] = '16'\n",
    "plt.figure()\n",
    "figure(figsize=(11.7, 8.27))\n",
    "plt.plot(fpr,tpr,color=\"darkorange\",label=\"ROC curve (area = %0.4f)\" % roc_auc)\n",
    "plt.plot([0, 1], [0, 1], color=\"navy\", linestyle=\"--\")\n",
    "plt.xlim([-0.01, 1.01])\n",
    "plt.ylim([0.0, 1.01])\n",
    "plt.xlabel(\"False Positive Rate\")\n",
    "plt.ylabel(\"True Positive Rate\")\n",
    "plt.title('Receiver Operating Characteristic 8')\n",
    "plt.legend(loc=\"lower right\")\n",
    "plt.savefig(f\"../images//joint_samples_ROC8F.svg\", format=\"svg\")\n",
    "plt.show()"
   ]
  }
 ],
 "metadata": {
  "kernelspec": {
   "display_name": "Python 3 (ipykernel)",
   "language": "python",
   "name": "python3"
  },
  "language_info": {
   "codemirror_mode": {
    "name": "ipython",
    "version": 3
   },
   "file_extension": ".py",
   "mimetype": "text/x-python",
   "name": "python",
   "nbconvert_exporter": "python",
   "pygments_lexer": "ipython3",
   "version": "3.9.7"
  }
 },
 "nbformat": 4,
 "nbformat_minor": 5
}
