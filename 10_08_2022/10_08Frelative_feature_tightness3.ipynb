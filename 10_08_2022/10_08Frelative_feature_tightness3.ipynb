{
 "cells": [
  {
   "cell_type": "markdown",
   "id": "09cb58ba",
   "metadata": {
    "pycharm": {
     "name": "#%% md\n"
    }
   },
   "source": [
    "# Relative feature tightness of fragments using part 3 for test data"
   ]
  },
  {
   "cell_type": "code",
   "execution_count": 1,
   "id": "b7559bf4",
   "metadata": {
    "pycharm": {
     "name": "#%%\n"
    }
   },
   "outputs": [],
   "source": [
    "import pandas as pd\n",
    "import seaborn as sns\n",
    "import matplotlib.pyplot as plt\n",
    "import csv\n",
    "import numpy as np\n",
    "\n",
    "from ast import literal_eval\n",
    "import re\n",
    "import sys\n",
    "sys.path.insert(0,\"./../fip3\")\n",
    "from fip import profiles"
   ]
  },
  {
   "cell_type": "markdown",
   "id": "fc50f8f1",
   "metadata": {
    "pycharm": {
     "name": "#%% md\n"
    }
   },
   "source": [
    "## Dataset prep"
   ]
  },
  {
   "cell_type": "markdown",
   "id": "005b3e57",
   "metadata": {
    "pycharm": {
     "name": "#%% md\n"
    }
   },
   "source": [
    "### Making feature pointwise mutual information profiles"
   ]
  },
  {
   "cell_type": "code",
   "execution_count": 2,
   "id": "d60972a1-b5a0-4b6f-9c0e-9cf37fdb53f4",
   "metadata": {},
   "outputs": [],
   "source": [
    "profile0 = profiles.CooccurrenceProfile.from_dataframe(pd.read_csv('../data/CPF/COCONUT/COCOp0_38630.csv', dtype={'feature1': 'str','feature2' : 'str' }), vector_count=38630)\n",
    "profile1 = profiles.CooccurrenceProfile.from_dataframe(pd.read_csv('../data/CPF/COCONUT/COCOp1_38630.csv', dtype={'feature1': 'str','feature2' : 'str' }), vector_count=38630)\n",
    "profile2 = profiles.CooccurrenceProfile.from_dataframe(pd.read_csv('../data/CPF/COCONUT/COCOp2_38630.csv', dtype={'feature1': 'str','feature2' : 'str' }), vector_count=38630)\n",
    "profile4 = profiles.CooccurrenceProfile.from_dataframe(pd.read_csv('../data/CPF/COCONUT/COCOp4_38630.csv', dtype={'feature1': 'str','feature2' : 'str' }), vector_count=38630)\n",
    "profile5 = profiles.CooccurrenceProfile.from_dataframe(pd.read_csv('../data/CPF/COCONUT/COCOp5_38630.csv', dtype={'feature1': 'str','feature2' : 'str' }), vector_count=38630)\n",
    "profile6 = profiles.CooccurrenceProfile.from_dataframe(pd.read_csv('../data/CPF/COCONUT/COCOp6_38630.csv', dtype={'feature1': 'str','feature2' : 'str' }), vector_count=38630)\n",
    "profile7 = profiles.CooccurrenceProfile.from_dataframe(pd.read_csv('../data/CPF/COCONUT/COCOp7_38629.csv', dtype={'feature1': 'str','feature2' : 'str' }), vector_count=38629)\n",
    "profile8 = profiles.CooccurrenceProfile.from_dataframe(pd.read_csv('../data/CPF/COCONUT/COCOp8_38629.csv', dtype={'feature1': 'str','feature2' : 'str' }), vector_count=38629)\n",
    "profile9 = profiles.CooccurrenceProfile.from_dataframe(pd.read_csv('../data/CPF/COCONUT/COCOp9_38629.csv', dtype={'feature1': 'str','feature2' : 'str' }), vector_count=38629)"
   ]
  },
  {
   "cell_type": "code",
   "execution_count": 3,
   "id": "d928eb58-08cf-4743-8c58-7196f59da70b",
   "metadata": {},
   "outputs": [
    {
     "data": {
      "text/plain": [
       "<fip.profiles.CooccurrenceProfile at 0x7f70a02099a0>"
      ]
     },
     "execution_count": 3,
     "metadata": {},
     "output_type": "execute_result"
    }
   ],
   "source": [
    "profile0.add_another_cooccurrence_profile(profile1)\n",
    "profile0.add_another_cooccurrence_profile(profile2)\n",
    "profile0.add_another_cooccurrence_profile(profile4)\n",
    "profile0.add_another_cooccurrence_profile(profile5)\n",
    "profile0.add_another_cooccurrence_profile(profile6)\n",
    "profile0.add_another_cooccurrence_profile(profile7)\n",
    "profile0.add_another_cooccurrence_profile(profile8)\n",
    "profile0.add_another_cooccurrence_profile(profile9)"
   ]
  },
  {
   "cell_type": "code",
   "execution_count": 4,
   "id": "7147d116-0c36-4a62-8f6c-c1667667a7c9",
   "metadata": {},
   "outputs": [],
   "source": [
    "probability_profile = profiles.CooccurrenceProbabilityProfile.from_cooccurrence_profile(profile0)"
   ]
  },
  {
   "cell_type": "code",
   "execution_count": 5,
   "id": "d83c7314-5776-4b99-80cf-25536ba50afa",
   "metadata": {},
   "outputs": [],
   "source": [
    "reference_profile0 = profiles.CooccurrenceProfile.from_dataframe(pd.read_csv('../data/CPF/ZINC/ZINCp0_37902.csv', dtype={'feature1': 'str','feature2' : 'str' }), vector_count=37902)\n",
    "reference_profile1 = profiles.CooccurrenceProfile.from_dataframe(pd.read_csv('../data/CPF/ZINC/ZINCp1_37902.csv', dtype={'feature1': 'str','feature2' : 'str' }), vector_count=37902)\n",
    "reference_profile2 = profiles.CooccurrenceProfile.from_dataframe(pd.read_csv('../data/CPF/ZINC/ZINCp2_37901.csv', dtype={'feature1': 'str','feature2' : 'str' }), vector_count=37901)\n",
    "reference_profile4 = profiles.CooccurrenceProfile.from_dataframe(pd.read_csv('../data/CPF/ZINC/ZINCp4_37901.csv', dtype={'feature1': 'str','feature2' : 'str' }), vector_count=37901)\n",
    "reference_profile5 = profiles.CooccurrenceProfile.from_dataframe(pd.read_csv('../data/CPF/ZINC/ZINCp5_37901.csv', dtype={'feature1': 'str','feature2' : 'str' }), vector_count=37901)\n",
    "reference_profile6 = profiles.CooccurrenceProfile.from_dataframe(pd.read_csv('../data/CPF/ZINC/ZINCp6_37901.csv', dtype={'feature1': 'str','feature2' : 'str' }), vector_count=37901)\n",
    "reference_profile7 = profiles.CooccurrenceProfile.from_dataframe(pd.read_csv('../data/CPF/ZINC/ZINCp7_37901.csv', dtype={'feature1': 'str','feature2' : 'str' }), vector_count=37901)\n",
    "reference_profile8 = profiles.CooccurrenceProfile.from_dataframe(pd.read_csv('../data/CPF/ZINC/ZINCp8_37901.csv', dtype={'feature1': 'str','feature2' : 'str' }), vector_count=37901)\n",
    "reference_profile9 = profiles.CooccurrenceProfile.from_dataframe(pd.read_csv('../data/CPF/ZINC/ZINCp9_37901.csv', dtype={'feature1': 'str','feature2' : 'str' }), vector_count=37901)"
   ]
  },
  {
   "cell_type": "code",
   "execution_count": 6,
   "id": "3e7d1500-bc9f-424d-8be0-5a3c575b0dc8",
   "metadata": {},
   "outputs": [
    {
     "data": {
      "text/plain": [
       "<fip.profiles.CooccurrenceProfile at 0x7f6f6de07100>"
      ]
     },
     "execution_count": 6,
     "metadata": {},
     "output_type": "execute_result"
    }
   ],
   "source": [
    "reference_profile0.add_another_cooccurrence_profile(reference_profile1)\n",
    "reference_profile0.add_another_cooccurrence_profile(reference_profile2)\n",
    "reference_profile0.add_another_cooccurrence_profile(reference_profile4)\n",
    "reference_profile0.add_another_cooccurrence_profile(reference_profile5)\n",
    "reference_profile0.add_another_cooccurrence_profile(reference_profile6)\n",
    "reference_profile0.add_another_cooccurrence_profile(reference_profile7)\n",
    "reference_profile0.add_another_cooccurrence_profile(reference_profile8)\n",
    "reference_profile0.add_another_cooccurrence_profile(reference_profile9)"
   ]
  },
  {
   "cell_type": "code",
   "execution_count": 7,
   "id": "bbffde8b-6839-461a-8a68-8e466d80b123",
   "metadata": {},
   "outputs": [],
   "source": [
    "reference_probability_profile = profiles.CooccurrenceProbabilityProfile.from_cooccurrence_profile(reference_profile0)"
   ]
  },
  {
   "cell_type": "markdown",
   "id": "8141d215",
   "metadata": {
    "pycharm": {
     "name": "#%% md\n"
    }
   },
   "source": [
    "### Making feature pointwise KL divergence profile between COCONUT and ZINC"
   ]
  },
  {
   "cell_type": "code",
   "execution_count": 8,
   "id": "e2da7160",
   "metadata": {
    "pycharm": {
     "name": "#%%\n"
    }
   },
   "outputs": [
    {
     "data": {
      "text/html": [
       "<div>\n",
       "<style scoped>\n",
       "    .dataframe tbody tr th:only-of-type {\n",
       "        vertical-align: middle;\n",
       "    }\n",
       "\n",
       "    .dataframe tbody tr th {\n",
       "        vertical-align: top;\n",
       "    }\n",
       "\n",
       "    .dataframe thead th {\n",
       "        text-align: right;\n",
       "    }\n",
       "</style>\n",
       "<table border=\"1\" class=\"dataframe\">\n",
       "  <thead>\n",
       "    <tr style=\"text-align: right;\">\n",
       "      <th></th>\n",
       "      <th></th>\n",
       "      <th>value</th>\n",
       "    </tr>\n",
       "    <tr>\n",
       "      <th>feature1</th>\n",
       "      <th>feature2</th>\n",
       "      <th></th>\n",
       "    </tr>\n",
       "  </thead>\n",
       "  <tbody>\n",
       "    <tr>\n",
       "      <th rowspan=\"5\" valign=\"top\">[CH2][CH2][CH2][CH2][CH]</th>\n",
       "      <th>[CH2][CH2][CH2][CH2][CH]</th>\n",
       "      <td>1.836293</td>\n",
       "    </tr>\n",
       "    <tr>\n",
       "      <th>[CH2][CH2][CH]([C]([CH2])=[O])[CH]([CH2])[CH2]</th>\n",
       "      <td>3.294463</td>\n",
       "    </tr>\n",
       "    <tr>\n",
       "      <th>[CH2][CH2][C](=[O])[CH]([CH2])[CH]</th>\n",
       "      <td>4.903272</td>\n",
       "    </tr>\n",
       "    <tr>\n",
       "      <th>[CH3][CH2][CH2][CH2]</th>\n",
       "      <td>4.170053</td>\n",
       "    </tr>\n",
       "    <tr>\n",
       "      <th>[CH3][CH2][CH2][CH2][CH2]</th>\n",
       "      <td>4.422270</td>\n",
       "    </tr>\n",
       "    <tr>\n",
       "      <th>...</th>\n",
       "      <th>...</th>\n",
       "      <td>...</td>\n",
       "    </tr>\n",
       "    <tr>\n",
       "      <th>[CH][CH2][CH2][S]([CH2])(=[O])=[O]</th>\n",
       "      <th>[C][CH]([CH2])[NH][CH2][S]</th>\n",
       "      <td>-0.027469</td>\n",
       "    </tr>\n",
       "    <tr>\n",
       "      <th rowspan=\"3\" valign=\"top\">[CH][NH][CH2][S]([CH2])(=[O])=[O]</th>\n",
       "      <th>[CH][NH][CH2][S]([CH2])(=[O])=[O]</th>\n",
       "      <td>-0.027469</td>\n",
       "    </tr>\n",
       "    <tr>\n",
       "      <th>[C][CH]([CH2])[NH][CH2][S]</th>\n",
       "      <td>-0.027469</td>\n",
       "    </tr>\n",
       "    <tr>\n",
       "      <th>[C][CH]([NH])[CH2][CH2][S]</th>\n",
       "      <td>-0.027469</td>\n",
       "    </tr>\n",
       "    <tr>\n",
       "      <th>[C][CH]([CH2])[NH][CH2][S]</th>\n",
       "      <th>[C][CH]([NH])[CH2][CH2][S]</th>\n",
       "      <td>-0.027469</td>\n",
       "    </tr>\n",
       "  </tbody>\n",
       "</table>\n",
       "<p>28957866 rows × 1 columns</p>\n",
       "</div>"
      ],
      "text/plain": [
       "                                                                                      value\n",
       "feature1                           feature2                                                \n",
       "[CH2][CH2][CH2][CH2][CH]           [CH2][CH2][CH2][CH2][CH]                        1.836293\n",
       "                                   [CH2][CH2][CH]([C]([CH2])=[O])[CH]([CH2])[CH2]  3.294463\n",
       "                                   [CH2][CH2][C](=[O])[CH]([CH2])[CH]              4.903272\n",
       "                                   [CH3][CH2][CH2][CH2]                            4.170053\n",
       "                                   [CH3][CH2][CH2][CH2][CH2]                       4.422270\n",
       "...                                                                                     ...\n",
       "[CH][CH2][CH2][S]([CH2])(=[O])=[O] [C][CH]([CH2])[NH][CH2][S]                     -0.027469\n",
       "[CH][NH][CH2][S]([CH2])(=[O])=[O]  [CH][NH][CH2][S]([CH2])(=[O])=[O]              -0.027469\n",
       "                                   [C][CH]([CH2])[NH][CH2][S]                     -0.027469\n",
       "                                   [C][CH]([NH])[CH2][CH2][S]                     -0.027469\n",
       "[C][CH]([CH2])[NH][CH2][S]         [C][CH]([NH])[CH2][CH2][S]                     -0.027469\n",
       "\n",
       "[28957866 rows x 1 columns]"
      ]
     },
     "execution_count": 8,
     "metadata": {},
     "output_type": "execute_result"
    }
   ],
   "source": [
    "difference_pkld_profile = profiles.PointwiseKLDivergenceProfile.from_cooccurrence_probability_profiles(\n",
    "    probability_profile, reference_probability_profile)\n",
    "difference_pkld_profile.df"
   ]
  },
  {
   "cell_type": "markdown",
   "id": "280a3dd8",
   "metadata": {
    "pycharm": {
     "name": "#%% md\n"
    }
   },
   "source": [
    "### Sampling structures from COCONUT and ZINC datasets"
   ]
  },
  {
   "cell_type": "code",
   "execution_count": 9,
   "id": "212cd152",
   "metadata": {
    "pycharm": {
     "name": "#%%\n"
    }
   },
   "outputs": [],
   "source": [
    "coconut_samples = pd.read_csv('../data/CPF/COCONUT/COCOrandomF.csv', delimiter = ' ')\n",
    "coconut_samples = coconut_samples.drop(['Coconut_id'], axis=1)\n",
    "coconut_samples['Name'] = 'COCONUT'"
   ]
  },
  {
   "cell_type": "code",
   "execution_count": 10,
   "id": "95627151-b248-427d-a494-4f84494aa1d6",
   "metadata": {},
   "outputs": [],
   "source": [
    "df_split_coco = np.array_split(coconut_samples, 10)"
   ]
  },
  {
   "cell_type": "code",
   "execution_count": 11,
   "id": "13b1766b-989b-4995-950c-e7f7bbe1f5fd",
   "metadata": {},
   "outputs": [
    {
     "data": {
      "text/html": [
       "<div>\n",
       "<style scoped>\n",
       "    .dataframe tbody tr th:only-of-type {\n",
       "        vertical-align: middle;\n",
       "    }\n",
       "\n",
       "    .dataframe tbody tr th {\n",
       "        vertical-align: top;\n",
       "    }\n",
       "\n",
       "    .dataframe thead th {\n",
       "        text-align: right;\n",
       "    }\n",
       "</style>\n",
       "<table border=\"1\" class=\"dataframe\">\n",
       "  <thead>\n",
       "    <tr style=\"text-align: right;\">\n",
       "      <th></th>\n",
       "      <th>Smiles</th>\n",
       "      <th>MW</th>\n",
       "      <th>logP</th>\n",
       "      <th>Inchi</th>\n",
       "      <th>Inchi_s</th>\n",
       "      <th>Name</th>\n",
       "      <th>ECFP</th>\n",
       "      <th>Bitset</th>\n",
       "      <th>Fragments</th>\n",
       "    </tr>\n",
       "  </thead>\n",
       "  <tbody>\n",
       "    <tr>\n",
       "      <th>115890</th>\n",
       "      <td>COc1c(O)c(OC2OC(CO)C(O)C(O)C2O)cc2oc(-c3ccccc3...</td>\n",
       "      <td>446.121297</td>\n",
       "      <td>0.35290</td>\n",
       "      <td>OEZOKUSEUYXERJ-UHFFFAOYSA-N</td>\n",
       "      <td>OEZOKUSEUYXERJ</td>\n",
       "      <td>COCONUT</td>\n",
       "      <td>&lt;rdkit.DataStructs.cDataStructs.ExplicitBitVec...</td>\n",
       "      <td>[80, 121, 202, 222, 314, 333, 389, 489, 501, 5...</td>\n",
       "      <td>'[c][c]([c])[O][CH3]', '[cH][c]([O])[c]([OH])[...</td>\n",
       "    </tr>\n",
       "    <tr>\n",
       "      <th>115891</th>\n",
       "      <td>Oc1ccc(C2Oc3cc(O)ccc3C3C(c4cc(O)cc(O)c4)c4c(O)...</td>\n",
       "      <td>470.136553</td>\n",
       "      <td>5.06680</td>\n",
       "      <td>HHCRXJSIODUTQN-UHFFFAOYSA-N</td>\n",
       "      <td>HHCRXJSIODUTQN</td>\n",
       "      <td>COCONUT</td>\n",
       "      <td>&lt;rdkit.DataStructs.cDataStructs.ExplicitBitVec...</td>\n",
       "      <td>[52, 112, 167, 381, 398, 414, 416, 656, 736, 7...</td>\n",
       "      <td>'[cH][cH][c]([OH])[cH][cH]', '[c][O][CH]([c]([...</td>\n",
       "    </tr>\n",
       "    <tr>\n",
       "      <th>115892</th>\n",
       "      <td>C#CC1(O)CCC2C3CCC4=CC(=NOCC(=O)NCCC5(c6ccccc6)...</td>\n",
       "      <td>614.431619</td>\n",
       "      <td>5.07340</td>\n",
       "      <td>ACCZPKBWXZLDOB-UHFFFAOYSA-O</td>\n",
       "      <td>ACCZPKBWXZLDOB</td>\n",
       "      <td>COCONUT</td>\n",
       "      <td>&lt;rdkit.DataStructs.cDataStructs.ExplicitBitVec...</td>\n",
       "      <td>[7, 16, 41, 80, 84, 88, 182, 197, 219, 273, 27...</td>\n",
       "      <td>'[N][O][CH2][C]([NH])=[O]', '[CH2][CH2][NH][C]...</td>\n",
       "    </tr>\n",
       "    <tr>\n",
       "      <th>115893</th>\n",
       "      <td>COC(=O)c1c(C)[nH]c(-c2ccco2)c1C1C(=O)Nc2ccc(Br...</td>\n",
       "      <td>414.021519</td>\n",
       "      <td>4.21622</td>\n",
       "      <td>ZNNVKKPGGBQDAH-UHFFFAOYSA-N</td>\n",
       "      <td>ZNNVKKPGGBQDAH</td>\n",
       "      <td>COCONUT</td>\n",
       "      <td>&lt;rdkit.DataStructs.cDataStructs.ExplicitBitVec...</td>\n",
       "      <td>[7, 74, 121, 145, 155, 156, 312, 314, 474, 525...</td>\n",
       "      <td>'[cH][cH][cH][o][c]', '[c][cH][cH][cH][o]', '[...</td>\n",
       "    </tr>\n",
       "    <tr>\n",
       "      <th>115894</th>\n",
       "      <td>CC1CC(O)C2=C(CO)CCCC2C12CC(c1ccoc1)OC2=O</td>\n",
       "      <td>332.162374</td>\n",
       "      <td>2.74370</td>\n",
       "      <td>NQFQJZXPCAHOPD-UHFFFAOYSA-N</td>\n",
       "      <td>NQFQJZXPCAHOPD</td>\n",
       "      <td>COCONUT</td>\n",
       "      <td>&lt;rdkit.DataStructs.cDataStructs.ExplicitBitVec...</td>\n",
       "      <td>[56, 67, 80, 175, 222, 287, 314, 384, 390, 396...</td>\n",
       "      <td>'[C][CH2][CH2][CH2][CH]', '[c][cH][cH][o][cH]'...</td>\n",
       "    </tr>\n",
       "    <tr>\n",
       "      <th>...</th>\n",
       "      <td>...</td>\n",
       "      <td>...</td>\n",
       "      <td>...</td>\n",
       "      <td>...</td>\n",
       "      <td>...</td>\n",
       "      <td>...</td>\n",
       "      <td>...</td>\n",
       "      <td>...</td>\n",
       "      <td>...</td>\n",
       "    </tr>\n",
       "    <tr>\n",
       "      <th>154515</th>\n",
       "      <td>C=CC(C)(CCC=C(C)CCC=C(C)C)c1ccc(O)c(Oc2cc(C(C)...</td>\n",
       "      <td>626.433510</td>\n",
       "      <td>12.42890</td>\n",
       "      <td>SRYUFQNDYPIUQF-UHFFFAOYSA-N</td>\n",
       "      <td>SRYUFQNDYPIUQF</td>\n",
       "      <td>COCONUT</td>\n",
       "      <td>&lt;rdkit.DataStructs.cDataStructs.ExplicitBitVec...</td>\n",
       "      <td>[53, 80, 101, 114, 202, 237, 306, 357, 385, 39...</td>\n",
       "      <td>'[CH][CH2][CH2][C](=[CH])[CH3]', '[CH][C]([CH3...</td>\n",
       "    </tr>\n",
       "    <tr>\n",
       "      <th>154516</th>\n",
       "      <td>C=Cc1cc(C(=O)OC)c2c(cnc3ccccc32)c1</td>\n",
       "      <td>263.094629</td>\n",
       "      <td>3.81760</td>\n",
       "      <td>ICHHFDQICLUNRA-UHFFFAOYSA-N</td>\n",
       "      <td>ICHHFDQICLUNRA</td>\n",
       "      <td>COCONUT</td>\n",
       "      <td>&lt;rdkit.DataStructs.cDataStructs.ExplicitBitVec...</td>\n",
       "      <td>[15, 88, 145, 168, 227, 289, 378, 390, 629, 65...</td>\n",
       "      <td>'[cH][cH][cH][cH][c]', '[c][n][cH][c]([c])[cH]...</td>\n",
       "    </tr>\n",
       "    <tr>\n",
       "      <th>154517</th>\n",
       "      <td>CC(C)C1CCC2=CC(=O)CC(C)(O)C2(C)C1</td>\n",
       "      <td>236.177630</td>\n",
       "      <td>3.09900</td>\n",
       "      <td>OJDVMTKOUGIONZ-UHFFFAOYSA-N</td>\n",
       "      <td>OJDVMTKOUGIONZ</td>\n",
       "      <td>COCONUT</td>\n",
       "      <td>&lt;rdkit.DataStructs.cDataStructs.ExplicitBitVec...</td>\n",
       "      <td>[1, 40, 84, 182, 242, 253, 283, 314, 339, 418,...</td>\n",
       "      <td>'[C][CH]=[C]([CH2][CH2])[C]([C])([CH3])[CH2]',...</td>\n",
       "    </tr>\n",
       "    <tr>\n",
       "      <th>154518</th>\n",
       "      <td>COCOC1C=C(C(=O)O)CC(N=NN)C1N</td>\n",
       "      <td>244.117155</td>\n",
       "      <td>-0.58800</td>\n",
       "      <td>VZZHSARKWNEPAY-UHFFFAOYSA-N</td>\n",
       "      <td>VZZHSARKWNEPAY</td>\n",
       "      <td>COCONUT</td>\n",
       "      <td>&lt;rdkit.DataStructs.cDataStructs.ExplicitBitVec...</td>\n",
       "      <td>[16, 33, 80, 231, 269, 346, 350, 389, 452, 456...</td>\n",
       "      <td>'[CH][N]=[N][NH2]', '[CH]=[C]([CH2])[C](=[O])[...</td>\n",
       "    </tr>\n",
       "    <tr>\n",
       "      <th>154519</th>\n",
       "      <td>COc1c(O)c2c3c4c1Oc1cc5c(cc1O4)C(Cc1ccc(O)c(c1)...</td>\n",
       "      <td>564.226037</td>\n",
       "      <td>6.31130</td>\n",
       "      <td>QMWGIARJBCCWME-UHFFFAOYSA-N</td>\n",
       "      <td>QMWGIARJBCCWME</td>\n",
       "      <td>COCONUT</td>\n",
       "      <td>&lt;rdkit.DataStructs.cDataStructs.ExplicitBitVec...</td>\n",
       "      <td>[17, 44, 53, 83, 87, 202, 231, 233, 305, 307, ...</td>\n",
       "      <td>'[c][c]([c])[O][CH3]', '[c][c]([CH2])[cH][c]([...</td>\n",
       "    </tr>\n",
       "  </tbody>\n",
       "</table>\n",
       "<p>38630 rows × 9 columns</p>\n",
       "</div>"
      ],
      "text/plain": [
       "                                                   Smiles          MW  \\\n",
       "115890  COc1c(O)c(OC2OC(CO)C(O)C(O)C2O)cc2oc(-c3ccccc3...  446.121297   \n",
       "115891  Oc1ccc(C2Oc3cc(O)ccc3C3C(c4cc(O)cc(O)c4)c4c(O)...  470.136553   \n",
       "115892  C#CC1(O)CCC2C3CCC4=CC(=NOCC(=O)NCCC5(c6ccccc6)...  614.431619   \n",
       "115893  COC(=O)c1c(C)[nH]c(-c2ccco2)c1C1C(=O)Nc2ccc(Br...  414.021519   \n",
       "115894           CC1CC(O)C2=C(CO)CCCC2C12CC(c1ccoc1)OC2=O  332.162374   \n",
       "...                                                   ...         ...   \n",
       "154515  C=CC(C)(CCC=C(C)CCC=C(C)C)c1ccc(O)c(Oc2cc(C(C)...  626.433510   \n",
       "154516                 C=Cc1cc(C(=O)OC)c2c(cnc3ccccc32)c1  263.094629   \n",
       "154517                  CC(C)C1CCC2=CC(=O)CC(C)(O)C2(C)C1  236.177630   \n",
       "154518                       COCOC1C=C(C(=O)O)CC(N=NN)C1N  244.117155   \n",
       "154519  COc1c(O)c2c3c4c1Oc1cc5c(cc1O4)C(Cc1ccc(O)c(c1)...  564.226037   \n",
       "\n",
       "            logP                        Inchi         Inchi_s     Name  \\\n",
       "115890   0.35290  OEZOKUSEUYXERJ-UHFFFAOYSA-N  OEZOKUSEUYXERJ  COCONUT   \n",
       "115891   5.06680  HHCRXJSIODUTQN-UHFFFAOYSA-N  HHCRXJSIODUTQN  COCONUT   \n",
       "115892   5.07340  ACCZPKBWXZLDOB-UHFFFAOYSA-O  ACCZPKBWXZLDOB  COCONUT   \n",
       "115893   4.21622  ZNNVKKPGGBQDAH-UHFFFAOYSA-N  ZNNVKKPGGBQDAH  COCONUT   \n",
       "115894   2.74370  NQFQJZXPCAHOPD-UHFFFAOYSA-N  NQFQJZXPCAHOPD  COCONUT   \n",
       "...          ...                          ...             ...      ...   \n",
       "154515  12.42890  SRYUFQNDYPIUQF-UHFFFAOYSA-N  SRYUFQNDYPIUQF  COCONUT   \n",
       "154516   3.81760  ICHHFDQICLUNRA-UHFFFAOYSA-N  ICHHFDQICLUNRA  COCONUT   \n",
       "154517   3.09900  OJDVMTKOUGIONZ-UHFFFAOYSA-N  OJDVMTKOUGIONZ  COCONUT   \n",
       "154518  -0.58800  VZZHSARKWNEPAY-UHFFFAOYSA-N  VZZHSARKWNEPAY  COCONUT   \n",
       "154519   6.31130  QMWGIARJBCCWME-UHFFFAOYSA-N  QMWGIARJBCCWME  COCONUT   \n",
       "\n",
       "                                                     ECFP  \\\n",
       "115890  <rdkit.DataStructs.cDataStructs.ExplicitBitVec...   \n",
       "115891  <rdkit.DataStructs.cDataStructs.ExplicitBitVec...   \n",
       "115892  <rdkit.DataStructs.cDataStructs.ExplicitBitVec...   \n",
       "115893  <rdkit.DataStructs.cDataStructs.ExplicitBitVec...   \n",
       "115894  <rdkit.DataStructs.cDataStructs.ExplicitBitVec...   \n",
       "...                                                   ...   \n",
       "154515  <rdkit.DataStructs.cDataStructs.ExplicitBitVec...   \n",
       "154516  <rdkit.DataStructs.cDataStructs.ExplicitBitVec...   \n",
       "154517  <rdkit.DataStructs.cDataStructs.ExplicitBitVec...   \n",
       "154518  <rdkit.DataStructs.cDataStructs.ExplicitBitVec...   \n",
       "154519  <rdkit.DataStructs.cDataStructs.ExplicitBitVec...   \n",
       "\n",
       "                                                   Bitset  \\\n",
       "115890  [80, 121, 202, 222, 314, 333, 389, 489, 501, 5...   \n",
       "115891  [52, 112, 167, 381, 398, 414, 416, 656, 736, 7...   \n",
       "115892  [7, 16, 41, 80, 84, 88, 182, 197, 219, 273, 27...   \n",
       "115893  [7, 74, 121, 145, 155, 156, 312, 314, 474, 525...   \n",
       "115894  [56, 67, 80, 175, 222, 287, 314, 384, 390, 396...   \n",
       "...                                                   ...   \n",
       "154515  [53, 80, 101, 114, 202, 237, 306, 357, 385, 39...   \n",
       "154516  [15, 88, 145, 168, 227, 289, 378, 390, 629, 65...   \n",
       "154517  [1, 40, 84, 182, 242, 253, 283, 314, 339, 418,...   \n",
       "154518  [16, 33, 80, 231, 269, 346, 350, 389, 452, 456...   \n",
       "154519  [17, 44, 53, 83, 87, 202, 231, 233, 305, 307, ...   \n",
       "\n",
       "                                                Fragments  \n",
       "115890  '[c][c]([c])[O][CH3]', '[cH][c]([O])[c]([OH])[...  \n",
       "115891  '[cH][cH][c]([OH])[cH][cH]', '[c][O][CH]([c]([...  \n",
       "115892  '[N][O][CH2][C]([NH])=[O]', '[CH2][CH2][NH][C]...  \n",
       "115893  '[cH][cH][cH][o][c]', '[c][cH][cH][cH][o]', '[...  \n",
       "115894  '[C][CH2][CH2][CH2][CH]', '[c][cH][cH][o][cH]'...  \n",
       "...                                                   ...  \n",
       "154515  '[CH][CH2][CH2][C](=[CH])[CH3]', '[CH][C]([CH3...  \n",
       "154516  '[cH][cH][cH][cH][c]', '[c][n][cH][c]([c])[cH]...  \n",
       "154517  '[C][CH]=[C]([CH2][CH2])[C]([C])([CH3])[CH2]',...  \n",
       "154518  '[CH][N]=[N][NH2]', '[CH]=[C]([CH2])[C](=[O])[...  \n",
       "154519  '[c][c]([c])[O][CH3]', '[c][c]([CH2])[cH][c]([...  \n",
       "\n",
       "[38630 rows x 9 columns]"
      ]
     },
     "execution_count": 11,
     "metadata": {},
     "output_type": "execute_result"
    }
   ],
   "source": [
    "df_split_coco[3]"
   ]
  },
  {
   "cell_type": "code",
   "execution_count": 12,
   "id": "f7ed85f8",
   "metadata": {
    "pycharm": {
     "name": "#%%\n"
    }
   },
   "outputs": [],
   "source": [
    "zinc_samples = pd.read_csv('../data/CPF/ZINC/ZINCrandomF.csv', delimiter = ' ')\n",
    "zinc_samples = zinc_samples.drop(['Zinc_id'], axis=1)"
   ]
  },
  {
   "cell_type": "code",
   "execution_count": 13,
   "id": "f90fed46-cb6b-47c0-9dd3-a66ef9ee60d8",
   "metadata": {},
   "outputs": [
    {
     "data": {
      "text/html": [
       "<div>\n",
       "<style scoped>\n",
       "    .dataframe tbody tr th:only-of-type {\n",
       "        vertical-align: middle;\n",
       "    }\n",
       "\n",
       "    .dataframe tbody tr th {\n",
       "        vertical-align: top;\n",
       "    }\n",
       "\n",
       "    .dataframe thead th {\n",
       "        text-align: right;\n",
       "    }\n",
       "</style>\n",
       "<table border=\"1\" class=\"dataframe\">\n",
       "  <thead>\n",
       "    <tr style=\"text-align: right;\">\n",
       "      <th></th>\n",
       "      <th>Smiles</th>\n",
       "      <th>MW</th>\n",
       "      <th>logP</th>\n",
       "      <th>Inchi</th>\n",
       "      <th>Inchi_s</th>\n",
       "      <th>Name</th>\n",
       "      <th>ECFP</th>\n",
       "      <th>Bitset</th>\n",
       "      <th>Fragments</th>\n",
       "    </tr>\n",
       "  </thead>\n",
       "  <tbody>\n",
       "    <tr>\n",
       "      <th>113705</th>\n",
       "      <td>O=C(OC1CCCCC1)[C@@H]1C[C@H]2C=C[C@H]1C2</td>\n",
       "      <td>220.146330</td>\n",
       "      <td>3.07450</td>\n",
       "      <td>MSPIWBYBMMBCEX-GMXVVIOVSA-N</td>\n",
       "      <td>MSPIWBYBMMBCEX</td>\n",
       "      <td>ZINC</td>\n",
       "      <td>&lt;rdkit.DataStructs.cDataStructs.ExplicitBitVec...</td>\n",
       "      <td>[2, 90, 119, 209, 273, 390, 394, 534, 605, 650...</td>\n",
       "      <td>'[CH2][CH2][CH2][CH2][CH2]', '[CH][CH]([CH2])[...</td>\n",
       "    </tr>\n",
       "    <tr>\n",
       "      <th>113706</th>\n",
       "      <td>COc1ccc(-c2n[nH]c(-c3ccncc3)n2)cc1</td>\n",
       "      <td>252.101111</td>\n",
       "      <td>2.54230</td>\n",
       "      <td>YUVVMHVLGDNDCJ-UHFFFAOYSA-N</td>\n",
       "      <td>YUVVMHVLGDNDCJ</td>\n",
       "      <td>ZINC</td>\n",
       "      <td>&lt;rdkit.DataStructs.cDataStructs.ExplicitBitVec...</td>\n",
       "      <td>[74, 105, 168, 304, 322, 378, 383, 552, 695, 7...</td>\n",
       "      <td>'[c][cH][cH][n][cH]', '[cH][cH][c]([cH][cH])-[...</td>\n",
       "    </tr>\n",
       "    <tr>\n",
       "      <th>113707</th>\n",
       "      <td>Cc1occc1C(=O)N[C@@H]1CC[C@H](C)N(CC#Cc2ccccc2)C1</td>\n",
       "      <td>336.183778</td>\n",
       "      <td>3.22242</td>\n",
       "      <td>PIPJUZHBBSRSMN-QFBILLFUSA-N</td>\n",
       "      <td>PIPJUZHBBSRSMN</td>\n",
       "      <td>ZINC</td>\n",
       "      <td>&lt;rdkit.DataStructs.cDataStructs.ExplicitBitVec...</td>\n",
       "      <td>[9, 80, 102, 151, 166, 272, 387, 389, 430, 433...</td>\n",
       "      <td>'[C][c]([cH])[cH][cH][cH]', '[cH][cH][o][c]([c...</td>\n",
       "    </tr>\n",
       "    <tr>\n",
       "      <th>113708</th>\n",
       "      <td>Cc1cc(=O)oc2cc(NC(=S)Nc3ccc(S(=O)(=O)N4CCCc5cc...</td>\n",
       "      <td>505.112998</td>\n",
       "      <td>5.05182</td>\n",
       "      <td>WBBRZXPCMQXNDT-UHFFFAOYSA-N</td>\n",
       "      <td>WBBRZXPCMQXNDT</td>\n",
       "      <td>ZINC</td>\n",
       "      <td>&lt;rdkit.DataStructs.cDataStructs.ExplicitBitVec...</td>\n",
       "      <td>[14, 97, 110, 171, 177, 184, 191, 245, 314, 31...</td>\n",
       "      <td>'[cH][cH][cH][c]([c])[N]', '[cH][cH][c]([c]([c...</td>\n",
       "    </tr>\n",
       "    <tr>\n",
       "      <th>113709</th>\n",
       "      <td>CC(C)(C)c1ccc(C(=O)Nc2nnc(CCS(=O)(=O)c3ccc(Br)...</td>\n",
       "      <td>507.028596</td>\n",
       "      <td>4.86680</td>\n",
       "      <td>YYLSEVJAVCFKFN-UHFFFAOYSA-N</td>\n",
       "      <td>YYLSEVJAVCFKFN</td>\n",
       "      <td>ZINC</td>\n",
       "      <td>&lt;rdkit.DataStructs.cDataStructs.ExplicitBitVec...</td>\n",
       "      <td>[33, 80, 114, 162, 245, 251, 291, 319, 350, 37...</td>\n",
       "      <td>'[c][s][c]([CH2][CH2])[n][n]', '[cH][cH][c]([c...</td>\n",
       "    </tr>\n",
       "    <tr>\n",
       "      <th>...</th>\n",
       "      <td>...</td>\n",
       "      <td>...</td>\n",
       "      <td>...</td>\n",
       "      <td>...</td>\n",
       "      <td>...</td>\n",
       "      <td>...</td>\n",
       "      <td>...</td>\n",
       "      <td>...</td>\n",
       "      <td>...</td>\n",
       "    </tr>\n",
       "    <tr>\n",
       "      <th>151601</th>\n",
       "      <td>Cc1cccn2c(=O)c(/C=C3\\SC(=S)N(CCCCCC(=O)O)C3=O)...</td>\n",
       "      <td>515.166096</td>\n",
       "      <td>2.60092</td>\n",
       "      <td>FQFWJFLZVAUUFY-SDXDJHTJSA-N</td>\n",
       "      <td>FQFWJFLZVAUUFY</td>\n",
       "      <td>ZINC</td>\n",
       "      <td>&lt;rdkit.DataStructs.cDataStructs.ExplicitBitVec...</td>\n",
       "      <td>[14, 67, 80, 88, 95, 97, 130, 207, 215, 273, 2...</td>\n",
       "      <td>'[CH2][CH2][CH2][CH2][N]', '[C]=[CH][c]([c]([n...</td>\n",
       "    </tr>\n",
       "    <tr>\n",
       "      <th>151602</th>\n",
       "      <td>CCn1c(=O)c(=O)n(CC(=O)N2CCC(CCc3ccc(C)cc3)CC2)...</td>\n",
       "      <td>540.240641</td>\n",
       "      <td>2.61322</td>\n",
       "      <td>LWNKCBHUPPDNLH-UHFFFAOYSA-N</td>\n",
       "      <td>LWNKCBHUPPDNLH</td>\n",
       "      <td>ZINC</td>\n",
       "      <td>&lt;rdkit.DataStructs.cDataStructs.ExplicitBitVec...</td>\n",
       "      <td>[29, 34, 45, 80, 112, 114, 235, 286, 294, 310,...</td>\n",
       "      <td>'[cH][cH][c]([CH3])[cH][cH]', '[cH][c]([cH])[C...</td>\n",
       "    </tr>\n",
       "    <tr>\n",
       "      <th>151603</th>\n",
       "      <td>Cc1nc2c(s1)[C@@H](N(C)C(=O)COC[C@@H]1CCCO1)CCC2</td>\n",
       "      <td>324.150764</td>\n",
       "      <td>2.48292</td>\n",
       "      <td>LHOOQSOAISSWDC-JSGCOSHPSA-N</td>\n",
       "      <td>LHOOQSOAISSWDC</td>\n",
       "      <td>ZINC</td>\n",
       "      <td>&lt;rdkit.DataStructs.cDataStructs.ExplicitBitVec...</td>\n",
       "      <td>[80, 159, 162, 248, 361, 378, 461, 473, 490, 5...</td>\n",
       "      <td>'[CH2][CH2][CH2][O][CH]', '[CH2][CH2][CH2][CH]...</td>\n",
       "    </tr>\n",
       "    <tr>\n",
       "      <th>151604</th>\n",
       "      <td>CCc1ccc(N(CCCC(=O)N(Cc2ccccc2Cl)[C@@H](C)C(=O)...</td>\n",
       "      <td>535.227155</td>\n",
       "      <td>4.78060</td>\n",
       "      <td>BZUBLMIWWTYDBN-RTWAWAEBSA-N</td>\n",
       "      <td>BZUBLMIWWTYDBN</td>\n",
       "      <td>ZINC</td>\n",
       "      <td>&lt;rdkit.DataStructs.cDataStructs.ExplicitBitVec...</td>\n",
       "      <td>[1, 66, 80, 81, 117, 132, 145, 158, 238, 283, ...</td>\n",
       "      <td>'[CH][NH][C](=[O])[CH]([CH3])[N]', '[C][N]([CH...</td>\n",
       "    </tr>\n",
       "    <tr>\n",
       "      <th>151605</th>\n",
       "      <td>CS[C@@H]1CCCC[C@@H]1NC(=O)c1ccc(NC(C)=O)cc1</td>\n",
       "      <td>306.140199</td>\n",
       "      <td>3.04900</td>\n",
       "      <td>NMGOODCEZJKAMA-LSDHHAIUSA-N</td>\n",
       "      <td>NMGOODCEZJKAMA</td>\n",
       "      <td>ZINC</td>\n",
       "      <td>&lt;rdkit.DataStructs.cDataStructs.ExplicitBitVec...</td>\n",
       "      <td>[94, 116, 190, 191, 245, 317, 387, 394, 486, 5...</td>\n",
       "      <td>'[c][NH][C]([CH3])=[O]', '[CH2][CH2][CH]([S][C...</td>\n",
       "    </tr>\n",
       "  </tbody>\n",
       "</table>\n",
       "<p>37901 rows × 9 columns</p>\n",
       "</div>"
      ],
      "text/plain": [
       "                                                   Smiles          MW  \\\n",
       "113705            O=C(OC1CCCCC1)[C@@H]1C[C@H]2C=C[C@H]1C2  220.146330   \n",
       "113706                 COc1ccc(-c2n[nH]c(-c3ccncc3)n2)cc1  252.101111   \n",
       "113707   Cc1occc1C(=O)N[C@@H]1CC[C@H](C)N(CC#Cc2ccccc2)C1  336.183778   \n",
       "113708  Cc1cc(=O)oc2cc(NC(=S)Nc3ccc(S(=O)(=O)N4CCCc5cc...  505.112998   \n",
       "113709  CC(C)(C)c1ccc(C(=O)Nc2nnc(CCS(=O)(=O)c3ccc(Br)...  507.028596   \n",
       "...                                                   ...         ...   \n",
       "151601  Cc1cccn2c(=O)c(/C=C3\\SC(=S)N(CCCCCC(=O)O)C3=O)...  515.166096   \n",
       "151602  CCn1c(=O)c(=O)n(CC(=O)N2CCC(CCc3ccc(C)cc3)CC2)...  540.240641   \n",
       "151603    Cc1nc2c(s1)[C@@H](N(C)C(=O)COC[C@@H]1CCCO1)CCC2  324.150764   \n",
       "151604  CCc1ccc(N(CCCC(=O)N(Cc2ccccc2Cl)[C@@H](C)C(=O)...  535.227155   \n",
       "151605        CS[C@@H]1CCCC[C@@H]1NC(=O)c1ccc(NC(C)=O)cc1  306.140199   \n",
       "\n",
       "           logP                        Inchi         Inchi_s  Name  \\\n",
       "113705  3.07450  MSPIWBYBMMBCEX-GMXVVIOVSA-N  MSPIWBYBMMBCEX  ZINC   \n",
       "113706  2.54230  YUVVMHVLGDNDCJ-UHFFFAOYSA-N  YUVVMHVLGDNDCJ  ZINC   \n",
       "113707  3.22242  PIPJUZHBBSRSMN-QFBILLFUSA-N  PIPJUZHBBSRSMN  ZINC   \n",
       "113708  5.05182  WBBRZXPCMQXNDT-UHFFFAOYSA-N  WBBRZXPCMQXNDT  ZINC   \n",
       "113709  4.86680  YYLSEVJAVCFKFN-UHFFFAOYSA-N  YYLSEVJAVCFKFN  ZINC   \n",
       "...         ...                          ...             ...   ...   \n",
       "151601  2.60092  FQFWJFLZVAUUFY-SDXDJHTJSA-N  FQFWJFLZVAUUFY  ZINC   \n",
       "151602  2.61322  LWNKCBHUPPDNLH-UHFFFAOYSA-N  LWNKCBHUPPDNLH  ZINC   \n",
       "151603  2.48292  LHOOQSOAISSWDC-JSGCOSHPSA-N  LHOOQSOAISSWDC  ZINC   \n",
       "151604  4.78060  BZUBLMIWWTYDBN-RTWAWAEBSA-N  BZUBLMIWWTYDBN  ZINC   \n",
       "151605  3.04900  NMGOODCEZJKAMA-LSDHHAIUSA-N  NMGOODCEZJKAMA  ZINC   \n",
       "\n",
       "                                                     ECFP  \\\n",
       "113705  <rdkit.DataStructs.cDataStructs.ExplicitBitVec...   \n",
       "113706  <rdkit.DataStructs.cDataStructs.ExplicitBitVec...   \n",
       "113707  <rdkit.DataStructs.cDataStructs.ExplicitBitVec...   \n",
       "113708  <rdkit.DataStructs.cDataStructs.ExplicitBitVec...   \n",
       "113709  <rdkit.DataStructs.cDataStructs.ExplicitBitVec...   \n",
       "...                                                   ...   \n",
       "151601  <rdkit.DataStructs.cDataStructs.ExplicitBitVec...   \n",
       "151602  <rdkit.DataStructs.cDataStructs.ExplicitBitVec...   \n",
       "151603  <rdkit.DataStructs.cDataStructs.ExplicitBitVec...   \n",
       "151604  <rdkit.DataStructs.cDataStructs.ExplicitBitVec...   \n",
       "151605  <rdkit.DataStructs.cDataStructs.ExplicitBitVec...   \n",
       "\n",
       "                                                   Bitset  \\\n",
       "113705  [2, 90, 119, 209, 273, 390, 394, 534, 605, 650...   \n",
       "113706  [74, 105, 168, 304, 322, 378, 383, 552, 695, 7...   \n",
       "113707  [9, 80, 102, 151, 166, 272, 387, 389, 430, 433...   \n",
       "113708  [14, 97, 110, 171, 177, 184, 191, 245, 314, 31...   \n",
       "113709  [33, 80, 114, 162, 245, 251, 291, 319, 350, 37...   \n",
       "...                                                   ...   \n",
       "151601  [14, 67, 80, 88, 95, 97, 130, 207, 215, 273, 2...   \n",
       "151602  [29, 34, 45, 80, 112, 114, 235, 286, 294, 310,...   \n",
       "151603  [80, 159, 162, 248, 361, 378, 461, 473, 490, 5...   \n",
       "151604  [1, 66, 80, 81, 117, 132, 145, 158, 238, 283, ...   \n",
       "151605  [94, 116, 190, 191, 245, 317, 387, 394, 486, 5...   \n",
       "\n",
       "                                                Fragments  \n",
       "113705  '[CH2][CH2][CH2][CH2][CH2]', '[CH][CH]([CH2])[...  \n",
       "113706  '[c][cH][cH][n][cH]', '[cH][cH][c]([cH][cH])-[...  \n",
       "113707  '[C][c]([cH])[cH][cH][cH]', '[cH][cH][o][c]([c...  \n",
       "113708  '[cH][cH][cH][c]([c])[N]', '[cH][cH][c]([c]([c...  \n",
       "113709  '[c][s][c]([CH2][CH2])[n][n]', '[cH][cH][c]([c...  \n",
       "...                                                   ...  \n",
       "151601  '[CH2][CH2][CH2][CH2][N]', '[C]=[CH][c]([c]([n...  \n",
       "151602  '[cH][cH][c]([CH3])[cH][cH]', '[cH][c]([cH])[C...  \n",
       "151603  '[CH2][CH2][CH2][O][CH]', '[CH2][CH2][CH2][CH]...  \n",
       "151604  '[CH][NH][C](=[O])[CH]([CH3])[N]', '[C][N]([CH...  \n",
       "151605  '[c][NH][C]([CH3])=[O]', '[CH2][CH2][CH]([S][C...  \n",
       "\n",
       "[37901 rows x 9 columns]"
      ]
     },
     "execution_count": 13,
     "metadata": {},
     "output_type": "execute_result"
    }
   ],
   "source": [
    "df_split_zinc = np.array_split(zinc_samples, 10)\n",
    "df_split_zinc[3]"
   ]
  },
  {
   "cell_type": "code",
   "execution_count": 14,
   "id": "7d675f14",
   "metadata": {},
   "outputs": [],
   "source": [
    "joint_samples = pd.concat((df_split_coco[3], df_split_zinc[3]), ignore_index=True)"
   ]
  },
  {
   "cell_type": "code",
   "execution_count": 15,
   "id": "1378e876-1044-43b3-80e4-5fdaa4afb463",
   "metadata": {},
   "outputs": [
    {
     "name": "stderr",
     "output_type": "stream",
     "text": [
      "/var/tmp/pbs.43587.lich-compute.vscht.cz/ipykernel_18798/2190264476.py:4: SettingWithCopyWarning: \n",
      "A value is trying to be set on a copy of a slice from a DataFrame\n",
      "\n",
      "See the caveats in the documentation: https://pandas.pydata.org/pandas-docs/stable/user_guide/indexing.html#returning-a-view-versus-a-copy\n",
      "  joint_samples['Fragments'][x] = tup\n"
     ]
    }
   ],
   "source": [
    "for x in joint_samples.index:\n",
    "    a = joint_samples['Fragments'][x]\n",
    "    tup = literal_eval(a)\n",
    "    joint_samples['Fragments'][x] = tup"
   ]
  },
  {
   "cell_type": "markdown",
   "id": "4139ba77",
   "metadata": {
    "pycharm": {
     "name": "#%% md\n"
    }
   },
   "source": [
    "## Relative feature tightness against a PMI interrelation profile"
   ]
  },
  {
   "cell_type": "code",
   "execution_count": 16,
   "id": "5b78b1e8",
   "metadata": {
    "collapsed": false,
    "jupyter": {
     "outputs_hidden": false
    },
    "pycharm": {
     "name": "#%%\n"
    }
   },
   "outputs": [
    {
     "name": "stderr",
     "output_type": "stream",
     "text": [
      "/home/liskovaf/.conda/envs/coco/lib/python3.9/site-packages/numpy/core/fromnumeric.py:3419: RuntimeWarning: Mean of empty slice.\n",
      "  return _methods._mean(a, axis=axis, dtype=dtype,\n"
     ]
    }
   ],
   "source": [
    "joint_samples['RFT'] = joint_samples['Fragments'].apply(\n",
    "    lambda x: difference_pkld_profile.relative_feature_divergence(x))"
   ]
  },
  {
   "cell_type": "code",
   "execution_count": 17,
   "id": "30d14231",
   "metadata": {
    "collapsed": false,
    "jupyter": {
     "outputs_hidden": false
    },
    "pycharm": {
     "name": "#%%\n"
    }
   },
   "outputs": [
    {
     "data": {
      "image/png": "[encoded data removed]",
      "text/plain": [
       "<Figure size 842.4x595.44 with 1 Axes>"
      ]
     },
     "metadata": {},
     "output_type": "display_data"
    }
   ],
   "source": [
    "plt.rcParams['font.size'] = '14'\n",
    "a4_dims = (11.7, 8.27)\n",
    "sns.set_style(\"darkgrid\")\n",
    "fig, ax = plt.subplots(figsize=a4_dims)\n",
    "sns.histplot(joint_samples, x='RFT', hue='Name')\n",
    "plt.title('Relative feature tightness against a PMI interrelation profile 3')\n",
    "plt.savefig(f\"../images//joint_samples_RFT3F.svg\", format=\"svg\")"
   ]
  },
  {
   "cell_type": "markdown",
   "id": "ba97db5d",
   "metadata": {
    "pycharm": {
     "name": "#%% md\n"
    }
   },
   "source": [
    "According to the histogram, there is a visible split between Relative feature tightness distribution against the pointwise KL divergence profile between COCONUT and ZINC datasets, based on their radius 2 fragments. Larger fragments might diverge even further."
   ]
  },
  {
   "cell_type": "markdown",
   "id": "24fe56c7-83f8-4dfe-8430-401499c1b938",
   "metadata": {},
   "source": [
    "# ROC curve"
   ]
  },
  {
   "cell_type": "code",
   "execution_count": 18,
   "id": "7ca27fa8-515b-4dff-b0ee-0ed7da7a7e5e",
   "metadata": {},
   "outputs": [
    {
     "data": {
      "text/html": [
       "<div>\n",
       "<style scoped>\n",
       "    .dataframe tbody tr th:only-of-type {\n",
       "        vertical-align: middle;\n",
       "    }\n",
       "\n",
       "    .dataframe tbody tr th {\n",
       "        vertical-align: top;\n",
       "    }\n",
       "\n",
       "    .dataframe thead th {\n",
       "        text-align: right;\n",
       "    }\n",
       "</style>\n",
       "<table border=\"1\" class=\"dataframe\">\n",
       "  <thead>\n",
       "    <tr style=\"text-align: right;\">\n",
       "      <th></th>\n",
       "      <th>Smiles</th>\n",
       "      <th>MW</th>\n",
       "      <th>logP</th>\n",
       "      <th>Inchi</th>\n",
       "      <th>Inchi_s</th>\n",
       "      <th>Name</th>\n",
       "      <th>ECFP</th>\n",
       "      <th>Bitset</th>\n",
       "      <th>Fragments</th>\n",
       "      <th>RFT</th>\n",
       "    </tr>\n",
       "  </thead>\n",
       "  <tbody>\n",
       "    <tr>\n",
       "      <th>39084</th>\n",
       "      <td>O[Br+2](O)O</td>\n",
       "      <td>129.925459</td>\n",
       "      <td>-1.6710</td>\n",
       "      <td>DYRKUKBTNINVOS-UHFFFAOYSA-N</td>\n",
       "      <td>DYRKUKBTNINVOS</td>\n",
       "      <td>ZINC</td>\n",
       "      <td>&lt;rdkit.DataStructs.cDataStructs.ExplicitBitVec...</td>\n",
       "      <td>[105, 807, 1843, 1915]</td>\n",
       "      <td>{}</td>\n",
       "      <td>NaN</td>\n",
       "    </tr>\n",
       "    <tr>\n",
       "      <th>42444</th>\n",
       "      <td>CN(C)Cl</td>\n",
       "      <td>79.018877</td>\n",
       "      <td>0.7018</td>\n",
       "      <td>MAGVJLLHDZWQFM-UHFFFAOYSA-N</td>\n",
       "      <td>MAGVJLLHDZWQFM</td>\n",
       "      <td>ZINC</td>\n",
       "      <td>&lt;rdkit.DataStructs.cDataStructs.ExplicitBitVec...</td>\n",
       "      <td>[34, 686, 881, 1057, 1163, 1683]</td>\n",
       "      <td>{}</td>\n",
       "      <td>NaN</td>\n",
       "    </tr>\n",
       "    <tr>\n",
       "      <th>49229</th>\n",
       "      <td>FC(F)(Cl)Cl</td>\n",
       "      <td>119.934512</td>\n",
       "      <td>2.0143</td>\n",
       "      <td>PXBRQCKWGAHEHS-UHFFFAOYSA-N</td>\n",
       "      <td>PXBRQCKWGAHEHS</td>\n",
       "      <td>ZINC</td>\n",
       "      <td>&lt;rdkit.DataStructs.cDataStructs.ExplicitBitVec...</td>\n",
       "      <td>[114, 803, 1453, 1683, 1927, 1928]</td>\n",
       "      <td>{}</td>\n",
       "      <td>NaN</td>\n",
       "    </tr>\n",
       "    <tr>\n",
       "      <th>54749</th>\n",
       "      <td>C=C(Br)Br</td>\n",
       "      <td>183.852324</td>\n",
       "      <td>2.2474</td>\n",
       "      <td>IWHJPYXAFGKABF-UHFFFAOYSA-N</td>\n",
       "      <td>IWHJPYXAFGKABF</td>\n",
       "      <td>ZINC</td>\n",
       "      <td>&lt;rdkit.DataStructs.cDataStructs.ExplicitBitVec...</td>\n",
       "      <td>[256, 728, 807, 1022, 1061, 1366]</td>\n",
       "      <td>{}</td>\n",
       "      <td>NaN</td>\n",
       "    </tr>\n",
       "  </tbody>\n",
       "</table>\n",
       "</div>"
      ],
      "text/plain": [
       "            Smiles          MW    logP                        Inchi  \\\n",
       "39084  O[Br+2](O)O  129.925459 -1.6710  DYRKUKBTNINVOS-UHFFFAOYSA-N   \n",
       "42444      CN(C)Cl   79.018877  0.7018  MAGVJLLHDZWQFM-UHFFFAOYSA-N   \n",
       "49229  FC(F)(Cl)Cl  119.934512  2.0143  PXBRQCKWGAHEHS-UHFFFAOYSA-N   \n",
       "54749    C=C(Br)Br  183.852324  2.2474  IWHJPYXAFGKABF-UHFFFAOYSA-N   \n",
       "\n",
       "              Inchi_s  Name  \\\n",
       "39084  DYRKUKBTNINVOS  ZINC   \n",
       "42444  MAGVJLLHDZWQFM  ZINC   \n",
       "49229  PXBRQCKWGAHEHS  ZINC   \n",
       "54749  IWHJPYXAFGKABF  ZINC   \n",
       "\n",
       "                                                    ECFP  \\\n",
       "39084  <rdkit.DataStructs.cDataStructs.ExplicitBitVec...   \n",
       "42444  <rdkit.DataStructs.cDataStructs.ExplicitBitVec...   \n",
       "49229  <rdkit.DataStructs.cDataStructs.ExplicitBitVec...   \n",
       "54749  <rdkit.DataStructs.cDataStructs.ExplicitBitVec...   \n",
       "\n",
       "                                   Bitset Fragments  RFT  \n",
       "39084              [105, 807, 1843, 1915]        {}  NaN  \n",
       "42444    [34, 686, 881, 1057, 1163, 1683]        {}  NaN  \n",
       "49229  [114, 803, 1453, 1683, 1927, 1928]        {}  NaN  \n",
       "54749   [256, 728, 807, 1022, 1061, 1366]        {}  NaN  "
      ]
     },
     "execution_count": 18,
     "metadata": {},
     "output_type": "execute_result"
    }
   ],
   "source": [
    "joint_samples[joint_samples['RFT'].isna()]"
   ]
  },
  {
   "cell_type": "code",
   "execution_count": 19,
   "id": "bf5f403f-e330-470d-946a-6c7514335fae",
   "metadata": {},
   "outputs": [],
   "source": [
    "joint_samples = joint_samples[joint_samples['RFT'].notna()]"
   ]
  },
  {
   "cell_type": "code",
   "execution_count": 20,
   "id": "f5faac20-057f-4a90-9ee9-4c4ee012d311",
   "metadata": {},
   "outputs": [
    {
     "data": {
      "text/html": [
       "<div>\n",
       "<style scoped>\n",
       "    .dataframe tbody tr th:only-of-type {\n",
       "        vertical-align: middle;\n",
       "    }\n",
       "\n",
       "    .dataframe tbody tr th {\n",
       "        vertical-align: top;\n",
       "    }\n",
       "\n",
       "    .dataframe thead th {\n",
       "        text-align: right;\n",
       "    }\n",
       "</style>\n",
       "<table border=\"1\" class=\"dataframe\">\n",
       "  <thead>\n",
       "    <tr style=\"text-align: right;\">\n",
       "      <th></th>\n",
       "      <th>Smiles</th>\n",
       "      <th>MW</th>\n",
       "      <th>logP</th>\n",
       "      <th>Inchi</th>\n",
       "      <th>Inchi_s</th>\n",
       "      <th>Name</th>\n",
       "      <th>ECFP</th>\n",
       "      <th>Bitset</th>\n",
       "      <th>Fragments</th>\n",
       "      <th>RFT</th>\n",
       "    </tr>\n",
       "  </thead>\n",
       "  <tbody>\n",
       "  </tbody>\n",
       "</table>\n",
       "</div>"
      ],
      "text/plain": [
       "Empty DataFrame\n",
       "Columns: [Smiles, MW, logP, Inchi, Inchi_s, Name, ECFP, Bitset, Fragments, RFT]\n",
       "Index: []"
      ]
     },
     "execution_count": 20,
     "metadata": {},
     "output_type": "execute_result"
    }
   ],
   "source": [
    "joint_samples[joint_samples['RFT'].isna()]"
   ]
  },
  {
   "cell_type": "code",
   "execution_count": 21,
   "id": "d7a03a66-ed5f-4d2d-b46a-7aa1ea240e0d",
   "metadata": {},
   "outputs": [],
   "source": [
    "from matplotlib.pyplot import figure\n",
    "from sklearn.metrics import roc_curve, auc\n",
    "from sklearn import metrics\n",
    "\n",
    "fpr, tpr, thresholds = metrics.roc_curve(joint_samples['Name'], joint_samples['RFT'], pos_label = 'COCONUT')\n",
    "roc_auc = metrics.auc(fpr, tpr)"
   ]
  },
  {
   "cell_type": "code",
   "execution_count": 22,
   "id": "30ee4944-1c0d-439e-9a53-0e5fe3639844",
   "metadata": {},
   "outputs": [
    {
     "data": {
      "text/plain": [
       "0.986392034348508"
      ]
     },
     "execution_count": 22,
     "metadata": {},
     "output_type": "execute_result"
    }
   ],
   "source": [
    "roc_auc"
   ]
  },
  {
   "cell_type": "code",
   "execution_count": 23,
   "id": "b09e39df-8f95-40c4-8a87-6c729a1234d0",
   "metadata": {},
   "outputs": [
    {
     "data": {
      "text/plain": [
       "<Figure size 432x288 with 0 Axes>"
      ]
     },
     "metadata": {},
     "output_type": "display_data"
    },
    {
     "data": {
      "image/png": "[encoded data removed]",
      "text/plain": [
       "<Figure size 842.4x595.44 with 1 Axes>"
      ]
     },
     "metadata": {},
     "output_type": "display_data"
    }
   ],
   "source": [
    "plt.rcParams['font.size'] = '16'\n",
    "plt.figure()\n",
    "figure(figsize=(11.7, 8.27))\n",
    "plt.plot(fpr,tpr,color=\"darkorange\",label=\"ROC curve (area = %0.4f)\" % roc_auc)\n",
    "plt.plot([0, 1], [0, 1], color=\"navy\", linestyle=\"--\")\n",
    "plt.xlim([-0.01, 1.01])\n",
    "plt.ylim([0.0, 1.01])\n",
    "plt.xlabel(\"False Positive Rate\")\n",
    "plt.ylabel(\"True Positive Rate\")\n",
    "plt.title('Receiver Operating Characteristic 3')\n",
    "plt.legend(loc=\"lower right\")\n",
    "plt.savefig(f\"../images//joint_samples_ROC3F.svg\", format=\"svg\")\n",
    "plt.show()"
   ]
  },
  {
   "cell_type": "code",
   "execution_count": null,
   "id": "28171f4d-8c95-45b8-9171-c0cbf572f6e6",
   "metadata": {},
   "outputs": [],
   "source": []
  }
 ],
 "metadata": {
  "kernelspec": {
   "display_name": "Python 3 (ipykernel)",
   "language": "python",
   "name": "python3"
  },
  "language_info": {
   "codemirror_mode": {
    "name": "ipython",
    "version": 3
   },
   "file_extension": ".py",
   "mimetype": "text/x-python",
   "name": "python",
   "nbconvert_exporter": "python",
   "pygments_lexer": "ipython3",
   "version": "3.9.7"
  }
 },
 "nbformat": 4,
 "nbformat_minor": 5
}
