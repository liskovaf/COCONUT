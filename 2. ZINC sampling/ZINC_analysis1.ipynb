{
 "cells": [
  {
   "cell_type": "markdown",
   "id": "a10859b1-b35b-4736-a110-411a8443fdeb",
   "metadata": {},
   "source": [
    "# ZINC reference database analysis"
   ]
  },
  {
   "cell_type": "code",
   "execution_count": 6,
   "id": "3b615214-3f80-413d-a204-7391216a724c",
   "metadata": {},
   "outputs": [],
   "source": [
    "#Libraries\n",
    "from rdkit.Chem import AllChem as Chem\n",
    "from rdkit.Chem import Descriptors\n",
    "from rdkit.Chem.Draw import IPythonConsole\n",
    "import pandas as pd\n",
    "from rdkit.Chem import rdMolDescriptors as rdescriptors\n",
    "import matplotlib.pyplot as plt\n",
    "import seaborn as sns\n",
    "import numpy as np\n",
    "import re\n",
    "from rdkit import RDLogger \n",
    "RDLogger.DisableLog('rdApp.*') "
   ]
  },
  {
   "cell_type": "code",
   "execution_count": 39,
   "id": "e6315f56-9418-4cc4-be9f-ee7a12ef467f",
   "metadata": {},
   "outputs": [],
   "source": [
    "#Loading coconut database from sdf format\n",
    "coco = Chem.SDMolSupplier('COCONUT_DB.sdf')\n",
    "coco_d = [m for m in coco if m]"
   ]
  },
  {
   "cell_type": "code",
   "execution_count": 22,
   "id": "f1f6de9e-396e-4aa1-8745-32a441c97d31",
   "metadata": {},
   "outputs": [
    {
     "data": {
      "text/html": [
       "<div>\n",
       "<style scoped>\n",
       "    .dataframe tbody tr th:only-of-type {\n",
       "        vertical-align: middle;\n",
       "    }\n",
       "\n",
       "    .dataframe tbody tr th {\n",
       "        vertical-align: top;\n",
       "    }\n",
       "\n",
       "    .dataframe thead th {\n",
       "        text-align: right;\n",
       "    }\n",
       "</style>\n",
       "<table border=\"1\" class=\"dataframe\">\n",
       "  <thead>\n",
       "    <tr style=\"text-align: right;\">\n",
       "      <th></th>\n",
       "      <th>Smiles</th>\n",
       "      <th>zinc_id</th>\n",
       "    </tr>\n",
       "  </thead>\n",
       "  <tbody>\n",
       "    <tr>\n",
       "      <th>0</th>\n",
       "      <td>N=C(N)NCC[C@H](N)C(=O)O</td>\n",
       "      <td>1589384</td>\n",
       "    </tr>\n",
       "    <tr>\n",
       "      <th>1</th>\n",
       "      <td>CN(C)CC(=O)NCC(=O)O</td>\n",
       "      <td>83822513</td>\n",
       "    </tr>\n",
       "    <tr>\n",
       "      <th>2</th>\n",
       "      <td>O=C(O)CN1CCCNS1(=O)=O</td>\n",
       "      <td>214763687</td>\n",
       "    </tr>\n",
       "    <tr>\n",
       "      <th>3</th>\n",
       "      <td>O=C(O)[C@@H]1C[C@H]2O[C@H]1[C@H](O)[C@H]2O</td>\n",
       "      <td>306392345</td>\n",
       "    </tr>\n",
       "    <tr>\n",
       "      <th>4</th>\n",
       "      <td>N[C@@H]1N=C2N=C(O)N=C2C(=O)N1</td>\n",
       "      <td>85343607</td>\n",
       "    </tr>\n",
       "    <tr>\n",
       "      <th>...</th>\n",
       "      <td>...</td>\n",
       "      <td>...</td>\n",
       "    </tr>\n",
       "    <tr>\n",
       "      <th>379017</th>\n",
       "      <td>Cc1ccc(C(=O)N(c2ccc(N(C(=O)c3ccc(C)cc3)S(=O)(=...</td>\n",
       "      <td>97986502</td>\n",
       "    </tr>\n",
       "    <tr>\n",
       "      <th>379018</th>\n",
       "      <td>CCc1c(-c2ccc(OC)c(OC)c2)nn(-c2nc(-c3ccc(C)cc3)...</td>\n",
       "      <td>97948800</td>\n",
       "    </tr>\n",
       "    <tr>\n",
       "      <th>379019</th>\n",
       "      <td>Cc1cc(N2CCN(CCOc3cccc4ccccc34)CC2)n2nc(C)c(-c3...</td>\n",
       "      <td>54274624</td>\n",
       "    </tr>\n",
       "    <tr>\n",
       "      <th>379020</th>\n",
       "      <td>CCOc1cc(CNc2cc(Cl)ccc2C)cc(I)c1OCc1ccccc1Cl</td>\n",
       "      <td>2093448</td>\n",
       "    </tr>\n",
       "    <tr>\n",
       "      <th>379021</th>\n",
       "      <td>CCCOc1cccc([C@@H]2C(S(=O)(=O)c3ccccc3)=C(O)C(=...</td>\n",
       "      <td>24193211</td>\n",
       "    </tr>\n",
       "  </tbody>\n",
       "</table>\n",
       "<p>379022 rows × 2 columns</p>\n",
       "</div>"
      ],
      "text/plain": [
       "                                                   Smiles    zinc_id\n",
       "0                                 N=C(N)NCC[C@H](N)C(=O)O    1589384\n",
       "1                                     CN(C)CC(=O)NCC(=O)O   83822513\n",
       "2                                   O=C(O)CN1CCCNS1(=O)=O  214763687\n",
       "3              O=C(O)[C@@H]1C[C@H]2O[C@H]1[C@H](O)[C@H]2O  306392345\n",
       "4                           N[C@@H]1N=C2N=C(O)N=C2C(=O)N1   85343607\n",
       "...                                                   ...        ...\n",
       "379017  Cc1ccc(C(=O)N(c2ccc(N(C(=O)c3ccc(C)cc3)S(=O)(=...   97986502\n",
       "379018  CCc1c(-c2ccc(OC)c(OC)c2)nn(-c2nc(-c3ccc(C)cc3)...   97948800\n",
       "379019  Cc1cc(N2CCN(CCOc3cccc4ccccc34)CC2)n2nc(C)c(-c3...   54274624\n",
       "379020        CCOc1cc(CNc2cc(Cl)ccc2C)cc(I)c1OCc1ccccc1Cl    2093448\n",
       "379021  CCCOc1cccc([C@@H]2C(S(=O)(=O)c3ccccc3)=C(O)C(=...   24193211\n",
       "\n",
       "[379022 rows x 2 columns]"
      ]
     },
     "execution_count": 22,
     "metadata": {},
     "output_type": "execute_result"
    }
   ],
   "source": [
    "#Loading zinc database from csv \n",
    "suppl_csv = pd.read_csv('ZINC_csv1/ZINCALL.csv', delimiter = ' ')\n",
    "suppl_csv"
   ]
  },
  {
   "cell_type": "code",
   "execution_count": 9,
   "id": "5de95c06-d7c3-42c8-8c33-c5b09641073f",
   "metadata": {},
   "outputs": [
    {
     "data": {
      "text/plain": [
       "379022"
      ]
     },
     "execution_count": 9,
     "metadata": {},
     "output_type": "execute_result"
    }
   ],
   "source": [
    "#Number of zinc products\n",
    "len(suppl_csv)"
   ]
  },
  {
   "cell_type": "code",
   "execution_count": 23,
   "id": "e52bb82c-8a26-4c24-adb6-7768906972b8",
   "metadata": {},
   "outputs": [
    {
     "name": "stdout",
     "output_type": "stream",
     "text": [
      "379022\n",
      "379022\n"
     ]
    }
   ],
   "source": [
    "# List of molecular weights of zinc products\n",
    "ligandm_database = []\n",
    "for ligand in suppl_csv[\"Smiles\"]:\n",
    "\t\tligandm_database.append(Chem.MolFromSmiles(ligand))\n",
    "#List of MW from csv\n",
    "db_MW_z = []\n",
    "for substance in ligandm_database:\n",
    "\t\tdb_MW_z.append(rdescriptors.CalcExactMolWt(substance))\n",
    "print(len(db_MW_z))\n",
    "#List of logP from csv\n",
    "db_logP_z = []\n",
    "for substance in ligandm_database:\n",
    "\t\tdb_logP_z.append(Descriptors.MolLogP(substance))\n",
    "print(len(db_logP_z))\n"
   ]
  },
  {
   "cell_type": "code",
   "execution_count": 51,
   "id": "67decc51-f08d-4a36-9d83-277536d6423f",
   "metadata": {},
   "outputs": [
    {
     "name": "stdout",
     "output_type": "stream",
     "text": [
      "379022\n"
     ]
    }
   ],
   "source": [
    "#List of INCHI from csv\n",
    "db_Inchi_z = []\n",
    "for substance in ligandm_database:\n",
    "\t\tdb_Inchi_z.append(Chem.MolToInchiKey(substance).split('-')[0])\n",
    "print(len(db_Inchi_z))"
   ]
  },
  {
   "cell_type": "code",
   "execution_count": 52,
   "id": "49ed3775-5139-4945-9acf-8ee7f035061f",
   "metadata": {},
   "outputs": [
    {
     "data": {
      "text/html": [
       "<div>\n",
       "<style scoped>\n",
       "    .dataframe tbody tr th:only-of-type {\n",
       "        vertical-align: middle;\n",
       "    }\n",
       "\n",
       "    .dataframe tbody tr th {\n",
       "        vertical-align: top;\n",
       "    }\n",
       "\n",
       "    .dataframe thead th {\n",
       "        text-align: right;\n",
       "    }\n",
       "</style>\n",
       "<table border=\"1\" class=\"dataframe\">\n",
       "  <thead>\n",
       "    <tr style=\"text-align: right;\">\n",
       "      <th></th>\n",
       "      <th>MW</th>\n",
       "      <th>logP</th>\n",
       "      <th>Smiles</th>\n",
       "      <th>Inchi_s</th>\n",
       "      <th>name</th>\n",
       "    </tr>\n",
       "  </thead>\n",
       "  <tbody>\n",
       "    <tr>\n",
       "      <th>0</th>\n",
       "      <td>160.096026</td>\n",
       "      <td>-1.72853</td>\n",
       "      <td>N=C(N)NCC[C@H](N)C(=O)O</td>\n",
       "      <td>IFPQOXNWLSRZKX</td>\n",
       "      <td>ZINC</td>\n",
       "    </tr>\n",
       "    <tr>\n",
       "      <th>1</th>\n",
       "      <td>160.084792</td>\n",
       "      <td>-1.25120</td>\n",
       "      <td>CN(C)CC(=O)NCC(=O)O</td>\n",
       "      <td>HQFNONZTUQSPJS</td>\n",
       "      <td>ZINC</td>\n",
       "    </tr>\n",
       "    <tr>\n",
       "      <th>2</th>\n",
       "      <td>194.036128</td>\n",
       "      <td>-1.38890</td>\n",
       "      <td>O=C(O)CN1CCCNS1(=O)=O</td>\n",
       "      <td>KCIDTUHJDPZBTQ</td>\n",
       "      <td>ZINC</td>\n",
       "    </tr>\n",
       "    <tr>\n",
       "      <th>3</th>\n",
       "      <td>174.052823</td>\n",
       "      <td>-1.41990</td>\n",
       "      <td>O=C(O)[C@@H]1C[C@H]2O[C@H]1[C@H](O)[C@H]2O</td>\n",
       "      <td>ZZTJOHOETCDWML</td>\n",
       "      <td>ZINC</td>\n",
       "    </tr>\n",
       "    <tr>\n",
       "      <th>4</th>\n",
       "      <td>167.044324</td>\n",
       "      <td>-1.87440</td>\n",
       "      <td>N[C@@H]1N=C2N=C(O)N=C2C(=O)N1</td>\n",
       "      <td>OSXQHYVRCFCLQV</td>\n",
       "      <td>ZINC</td>\n",
       "    </tr>\n",
       "    <tr>\n",
       "      <th>...</th>\n",
       "      <td>...</td>\n",
       "      <td>...</td>\n",
       "      <td>...</td>\n",
       "      <td>...</td>\n",
       "      <td>...</td>\n",
       "    </tr>\n",
       "    <tr>\n",
       "      <th>379017</th>\n",
       "      <td>636.051720</td>\n",
       "      <td>6.49784</td>\n",
       "      <td>Cc1ccc(C(=O)N(c2ccc(N(C(=O)c3ccc(C)cc3)S(=O)(=...</td>\n",
       "      <td>KYPDAVIHIYTGQW</td>\n",
       "      <td>ZINC</td>\n",
       "    </tr>\n",
       "    <tr>\n",
       "      <th>379018</th>\n",
       "      <td>604.229740</td>\n",
       "      <td>7.58732</td>\n",
       "      <td>CCc1c(-c2ccc(OC)c(OC)c2)nn(-c2nc(-c3ccc(C)cc3)...</td>\n",
       "      <td>AWQWFNRTEBAZJO</td>\n",
       "      <td>ZINC</td>\n",
       "    </tr>\n",
       "    <tr>\n",
       "      <th>379019</th>\n",
       "      <td>511.213888</td>\n",
       "      <td>6.02074</td>\n",
       "      <td>Cc1cc(N2CCN(CCOc3cccc4ccccc34)CC2)n2nc(C)c(-c3...</td>\n",
       "      <td>HAHVCBFPDRUVIL</td>\n",
       "      <td>ZINC</td>\n",
       "    </tr>\n",
       "    <tr>\n",
       "      <th>379020</th>\n",
       "      <td>541.007232</td>\n",
       "      <td>7.49622</td>\n",
       "      <td>CCOc1cc(CNc2cc(Cl)ccc2C)cc(I)c1OCc1ccccc1Cl</td>\n",
       "      <td>IYFPBZIIJDRXMB</td>\n",
       "      <td>ZINC</td>\n",
       "    </tr>\n",
       "    <tr>\n",
       "      <th>379021</th>\n",
       "      <td>517.051749</td>\n",
       "      <td>6.11360</td>\n",
       "      <td>CCCOc1cccc([C@@H]2C(S(=O)(=O)c3ccccc3)=C(O)C(=...</td>\n",
       "      <td>LDSGAMYJONZMDX</td>\n",
       "      <td>ZINC</td>\n",
       "    </tr>\n",
       "  </tbody>\n",
       "</table>\n",
       "<p>379022 rows × 5 columns</p>\n",
       "</div>"
      ],
      "text/plain": [
       "                MW     logP  \\\n",
       "0       160.096026 -1.72853   \n",
       "1       160.084792 -1.25120   \n",
       "2       194.036128 -1.38890   \n",
       "3       174.052823 -1.41990   \n",
       "4       167.044324 -1.87440   \n",
       "...            ...      ...   \n",
       "379017  636.051720  6.49784   \n",
       "379018  604.229740  7.58732   \n",
       "379019  511.213888  6.02074   \n",
       "379020  541.007232  7.49622   \n",
       "379021  517.051749  6.11360   \n",
       "\n",
       "                                                   Smiles         Inchi_s  \\\n",
       "0                                 N=C(N)NCC[C@H](N)C(=O)O  IFPQOXNWLSRZKX   \n",
       "1                                     CN(C)CC(=O)NCC(=O)O  HQFNONZTUQSPJS   \n",
       "2                                   O=C(O)CN1CCCNS1(=O)=O  KCIDTUHJDPZBTQ   \n",
       "3              O=C(O)[C@@H]1C[C@H]2O[C@H]1[C@H](O)[C@H]2O  ZZTJOHOETCDWML   \n",
       "4                           N[C@@H]1N=C2N=C(O)N=C2C(=O)N1  OSXQHYVRCFCLQV   \n",
       "...                                                   ...             ...   \n",
       "379017  Cc1ccc(C(=O)N(c2ccc(N(C(=O)c3ccc(C)cc3)S(=O)(=...  KYPDAVIHIYTGQW   \n",
       "379018  CCc1c(-c2ccc(OC)c(OC)c2)nn(-c2nc(-c3ccc(C)cc3)...  AWQWFNRTEBAZJO   \n",
       "379019  Cc1cc(N2CCN(CCOc3cccc4ccccc34)CC2)n2nc(C)c(-c3...  HAHVCBFPDRUVIL   \n",
       "379020        CCOc1cc(CNc2cc(Cl)ccc2C)cc(I)c1OCc1ccccc1Cl  IYFPBZIIJDRXMB   \n",
       "379021  CCCOc1cccc([C@@H]2C(S(=O)(=O)c3ccccc3)=C(O)C(=...  LDSGAMYJONZMDX   \n",
       "\n",
       "        name  \n",
       "0       ZINC  \n",
       "1       ZINC  \n",
       "2       ZINC  \n",
       "3       ZINC  \n",
       "4       ZINC  \n",
       "...      ...  \n",
       "379017  ZINC  \n",
       "379018  ZINC  \n",
       "379019  ZINC  \n",
       "379020  ZINC  \n",
       "379021  ZINC  \n",
       "\n",
       "[379022 rows x 5 columns]"
      ]
     },
     "execution_count": 52,
     "metadata": {},
     "output_type": "execute_result"
    }
   ],
   "source": [
    "#Creating dataframe of logP and MW value of ZINC products\n",
    "df_ZINC = pd.DataFrame(data={'MW': db_MW_z,'logP': db_logP_z, 'Smiles': suppl_csv['Smiles'], 'Inchi_s': db_Inchi_z})\n",
    "                    \n",
    "df_ZINC['name'] = \"ZINC\"\n",
    "df_ZINC"
   ]
  },
  {
   "cell_type": "code",
   "execution_count": 25,
   "id": "31c0b50e-2b70-48a2-886a-20ef4eaf9982",
   "metadata": {},
   "outputs": [
    {
     "data": {
      "text/plain": [
       "count    379022.000000\n",
       "mean          3.323813\n",
       "std           2.144468\n",
       "min         -17.490700\n",
       "25%           1.922000\n",
       "50%           3.280900\n",
       "75%           4.807385\n",
       "max          21.151800\n",
       "Name: logP, dtype: float64"
      ]
     },
     "execution_count": 25,
     "metadata": {},
     "output_type": "execute_result"
    }
   ],
   "source": [
    "#Statistic of ZINC'S logP values\n",
    "df_ZINC[\"logP\"].describe()"
   ]
  },
  {
   "cell_type": "code",
   "execution_count": 26,
   "id": "ca867b1c-8d76-4c1c-af8e-6525bf64f645",
   "metadata": {},
   "outputs": [
    {
     "data": {
      "text/plain": [
       "2.144467745276283"
      ]
     },
     "execution_count": 26,
     "metadata": {},
     "output_type": "execute_result"
    }
   ],
   "source": [
    "#Standard deviation of logP\n",
    "df_ZINC[\"logP\"].std()"
   ]
  },
  {
   "cell_type": "code",
   "execution_count": 27,
   "id": "afd0b9bb-f675-4f0a-ac5d-49018ca21bc2",
   "metadata": {},
   "outputs": [
    {
     "data": {
      "text/plain": [
       "count    379022.000000\n",
       "mean        406.080862\n",
       "std         125.093577\n",
       "min          54.010565\n",
       "25%         318.107653\n",
       "50%         403.120192\n",
       "75%         503.187877\n",
       "max        1001.254949\n",
       "Name: MW, dtype: float64"
      ]
     },
     "execution_count": 27,
     "metadata": {},
     "output_type": "execute_result"
    }
   ],
   "source": [
    "#Statistic of ZINC'S MW values\n",
    "df_ZINC[\"MW\"].describe()"
   ]
  },
  {
   "cell_type": "code",
   "execution_count": 28,
   "id": "14702676-61db-4546-9029-a311451ee51c",
   "metadata": {},
   "outputs": [
    {
     "data": {
      "image/png": "[encoded data removed]",
      "text/plain": [
       "<Figure size 360x360 with 1 Axes>"
      ]
     },
     "metadata": {},
     "output_type": "display_data"
    }
   ],
   "source": [
    "#Histogram of logP value of products\n",
    "sns.displot(df_ZINC, x=\"logP\" )\n",
    "plt.xlim(-20, 20);"
   ]
  },
  {
   "cell_type": "code",
   "execution_count": 29,
   "id": "cbde69f4-6ccc-4328-a3f9-dce038af6f2b",
   "metadata": {},
   "outputs": [
    {
     "data": {
      "image/png": "[encoded data removed]",
      "text/plain": [
       "<Figure size 360x360 with 1 Axes>"
      ]
     },
     "metadata": {},
     "output_type": "display_data"
    }
   ],
   "source": [
    "#Histogram of MW value of products\n",
    "sns.displot(df_ZINC, x=\"MW\" )\n",
    "plt.xlim(0, 1500);"
   ]
  },
  {
   "cell_type": "code",
   "execution_count": 30,
   "id": "4cc70847-7669-43aa-a99e-afdf01fc1d40",
   "metadata": {},
   "outputs": [
    {
     "data": {
      "text/plain": [
       "<AxesSubplot:>"
      ]
     },
     "execution_count": 30,
     "metadata": {},
     "output_type": "execute_result"
    },
    {
     "data": {
      "image/png": "[encoded data removed]",
      "text/plain": [
       "<Figure size 432x432 with 1 Axes>"
      ]
     },
     "metadata": {},
     "output_type": "display_data"
    }
   ],
   "source": [
    "#Boxplot of ZINC'S MW values\n",
    "sns.set(rc={'figure.figsize':(6, 6)})\n",
    "sns.boxplot(data=df_ZINC[['MW']], \n",
    "            palette = \"pastel\", \n",
    "            \n",
    "            showfliers = False)"
   ]
  },
  {
   "cell_type": "code",
   "execution_count": 31,
   "id": "ac5a4370-6cf7-4593-bded-d14ef2e7224f",
   "metadata": {},
   "outputs": [
    {
     "data": {
      "text/plain": [
       "<AxesSubplot:>"
      ]
     },
     "execution_count": 31,
     "metadata": {},
     "output_type": "execute_result"
    },
    {
     "data": {
      "image/png": "[encoded data removed]",
      "text/plain": [
       "<Figure size 432x432 with 1 Axes>"
      ]
     },
     "metadata": {},
     "output_type": "display_data"
    }
   ],
   "source": [
    "#Boxplot of ZINC'S logP values\n",
    "sns.set(rc={'figure.figsize':(6, 6)})\n",
    "sns.boxplot(data=df_ZINC[['logP']], \n",
    "            palette = \"pastel\", \n",
    "            showfliers = False)"
   ]
  },
  {
   "cell_type": "code",
   "execution_count": 32,
   "id": "2f5972e8-27e5-4734-924b-7cd48b3936f4",
   "metadata": {},
   "outputs": [
    {
     "name": "stdout",
     "output_type": "stream",
     "text": [
      "379022\n"
     ]
    }
   ],
   "source": [
    "print(len(df_ZINC))"
   ]
  },
  {
   "cell_type": "code",
   "execution_count": 33,
   "id": "a43141ab-7c51-4575-bfe8-5ab4cced703b",
   "metadata": {},
   "outputs": [
    {
     "name": "stdout",
     "output_type": "stream",
     "text": [
      "23200\n"
     ]
    }
   ],
   "source": [
    "print(len(df_ZINC.loc[(df_ZINC['MW'] > 200) & (df_ZINC['MW']<=250)]))"
   ]
  },
  {
   "cell_type": "code",
   "execution_count": 34,
   "id": "dc547943-6496-45a2-9f19-c5cffd8b1d83",
   "metadata": {},
   "outputs": [
    {
     "data": {
      "text/plain": [
       "[20703, 23200, 34154, 24202, 27452, 28627, 27680, 26992, 25513, 39797, 100702]"
      ]
     },
     "execution_count": 34,
     "metadata": {},
     "output_type": "execute_result"
    }
   ],
   "source": [
    "\n",
    "intervals = (0,200),(200,250),(250,300),(300,325),(325,350),(350,375),(375,400),(400,425),(425,450),(450,500),(500, 3500)\n",
    "numbers = []\n",
    "for count, value in enumerate(intervals):\n",
    "    numbers.append(len(df_ZINC.loc[(df_ZINC['MW'] > intervals[count][0]) & (df_ZINC['MW']<= intervals[count][1])]))\n",
    "numbers"
   ]
  },
  {
   "cell_type": "code",
   "execution_count": 35,
   "id": "885af04e-6e90-48cc-8fa5-14a4801bb4ea",
   "metadata": {},
   "outputs": [],
   "source": [
    "intervals_MW = (0,200),(200,250),(250,300),(300,325),(325,350),(350,375),(375,400),(400,425),(425,450),(450,500),(500, 3500)\n",
    "intervals_logP = (-34,-1),(-1,0),(0,1),(1,2),(2,2.5),(2.5,3),(3,3.5),(3.5,4),(4,4.5),(4.5,5),(5, 50)\n",
    "names = ['MW_0-200','MW_200-250','MW_250-300','MW_300-325','MW_325-350','MW_350-375','MW_375-400','MW_400-425','MW_425-450','MW_450-500','MW_500-3500']\n",
    "\n",
    "\n",
    "def MW(intervals):\n",
    "    return df_ZINC.loc[(df_ZINC['MW'] > intervals[0]) & (df_ZINC['MW'] <= intervals[1])]  \n",
    "\n",
    "df_MW_0_200 = MW([0,200])\n",
    "df_MW_200_250 = MW([200,250])\n",
    "df_MW_250_300 = MW([250,300])\n",
    "df_MW_300_325 = MW([300,325])\n",
    "df_MW_325_350 = MW([325,350])\n",
    "df_MW_350_375 = MW([350,375])\n",
    "df_MW_375_400 = MW([375,400])\n",
    "df_MW_400_425 = MW([400,425])\n",
    "df_MW_425_450 = MW([425,450])\n",
    "df_MW_450_500 = MW([450,500])\n",
    "df_MW_500_3500 = MW([500,3500])\n"
   ]
  },
  {
   "cell_type": "code",
   "execution_count": 36,
   "id": "7f20f272-2921-4c84-9164-8fd5621f660c",
   "metadata": {},
   "outputs": [
    {
     "data": {
      "text/plain": [
       "[20703, 23200, 34154, 24202, 27452, 28627, 27680, 26992, 25513, 39797, 100702]"
      ]
     },
     "execution_count": 36,
     "metadata": {},
     "output_type": "execute_result"
    }
   ],
   "source": [
    "intervals_MW = (0,200),(200,250),(250,300),(300,325),(325,350),(350,375),(375,400),(400,425),(425,450),(450,500),(500, 3500)\n",
    "intervals_logP = (-34,-1),(-1,0),(0,1),(1,2),(2,2.5),(2.5,3),(3,3.5),(3.5,4),(4,4.5),(4.5,5),(5, 50)\n",
    "\n",
    "def logP(df):\n",
    "    num = []\n",
    "    for count, value in enumerate(intervals_logP):\n",
    "        num.append(len(df.loc[(df['logP'] > intervals_logP[count][0]) & (df['logP']<= intervals_logP[count][1])]))\n",
    "    return num\n",
    "    \n",
    "df_logP_1 = logP(df_MW_0_200)\n",
    "df_logP_2 = logP(df_MW_200_250)\n",
    "df_logP_3 = logP(df_MW_250_300)\n",
    "df_logP_4 = logP(df_MW_300_325) \n",
    "df_logP_5 = logP(df_MW_325_350)\n",
    "df_logP_6 = logP(df_MW_350_375) \n",
    "df_logP_7 = logP(df_MW_375_400)\n",
    "df_logP_8 = logP(df_MW_400_425) \n",
    "df_logP_9 = logP(df_MW_425_450)\n",
    "df_logP_10 = logP(df_MW_450_500) \n",
    "df_logP_11 = logP(df_MW_500_3500)\n",
    "numbers"
   ]
  },
  {
   "cell_type": "code",
   "execution_count": 37,
   "id": "18a5944e-edc1-4e7b-8e59-2dabbdc63f28",
   "metadata": {},
   "outputs": [],
   "source": [
    "my_array =np.stack([df_logP_1, df_logP_2, df_logP_3,df_logP_4,df_logP_5,df_logP_6,df_logP_7,df_logP_8,df_logP_9,df_logP_10, df_logP_11], axis=1)"
   ]
  },
  {
   "cell_type": "code",
   "execution_count": 38,
   "id": "44226cc7-9bfd-4393-9654-2589fddb11d1",
   "metadata": {},
   "outputs": [
    {
     "data": {
      "text/html": [
       "<div>\n",
       "<style scoped>\n",
       "    .dataframe tbody tr th:only-of-type {\n",
       "        vertical-align: middle;\n",
       "    }\n",
       "\n",
       "    .dataframe tbody tr th {\n",
       "        vertical-align: top;\n",
       "    }\n",
       "\n",
       "    .dataframe thead th {\n",
       "        text-align: right;\n",
       "    }\n",
       "</style>\n",
       "<table border=\"1\" class=\"dataframe\">\n",
       "  <thead>\n",
       "    <tr style=\"text-align: right;\">\n",
       "      <th></th>\n",
       "      <th>200</th>\n",
       "      <th>250</th>\n",
       "      <th>300</th>\n",
       "      <th>325</th>\n",
       "      <th>350</th>\n",
       "      <th>375</th>\n",
       "      <th>400</th>\n",
       "      <th>425</th>\n",
       "      <th>450</th>\n",
       "      <th>500</th>\n",
       "      <th>&gt;500</th>\n",
       "    </tr>\n",
       "  </thead>\n",
       "  <tbody>\n",
       "    <tr>\n",
       "      <th>-1</th>\n",
       "      <td>1588</td>\n",
       "      <td>983</td>\n",
       "      <td>1277</td>\n",
       "      <td>793</td>\n",
       "      <td>1092</td>\n",
       "      <td>942</td>\n",
       "      <td>744</td>\n",
       "      <td>456</td>\n",
       "      <td>324</td>\n",
       "      <td>464</td>\n",
       "      <td>1455</td>\n",
       "    </tr>\n",
       "    <tr>\n",
       "      <th>0</th>\n",
       "      <td>2226</td>\n",
       "      <td>1195</td>\n",
       "      <td>1333</td>\n",
       "      <td>815</td>\n",
       "      <td>949</td>\n",
       "      <td>843</td>\n",
       "      <td>948</td>\n",
       "      <td>922</td>\n",
       "      <td>925</td>\n",
       "      <td>1145</td>\n",
       "      <td>1830</td>\n",
       "    </tr>\n",
       "    <tr>\n",
       "      <th>1</th>\n",
       "      <td>5031</td>\n",
       "      <td>2456</td>\n",
       "      <td>3054</td>\n",
       "      <td>1601</td>\n",
       "      <td>1749</td>\n",
       "      <td>1768</td>\n",
       "      <td>1749</td>\n",
       "      <td>1604</td>\n",
       "      <td>1524</td>\n",
       "      <td>2343</td>\n",
       "      <td>4795</td>\n",
       "    </tr>\n",
       "    <tr>\n",
       "      <th>2</th>\n",
       "      <td>5854</td>\n",
       "      <td>4778</td>\n",
       "      <td>6566</td>\n",
       "      <td>3455</td>\n",
       "      <td>3637</td>\n",
       "      <td>4155</td>\n",
       "      <td>3537</td>\n",
       "      <td>2995</td>\n",
       "      <td>2191</td>\n",
       "      <td>3174</td>\n",
       "      <td>8811</td>\n",
       "    </tr>\n",
       "    <tr>\n",
       "      <th>2.5</th>\n",
       "      <td>2446</td>\n",
       "      <td>3092</td>\n",
       "      <td>4563</td>\n",
       "      <td>2406</td>\n",
       "      <td>2941</td>\n",
       "      <td>3037</td>\n",
       "      <td>2606</td>\n",
       "      <td>2306</td>\n",
       "      <td>1698</td>\n",
       "      <td>2237</td>\n",
       "      <td>4931</td>\n",
       "    </tr>\n",
       "    <tr>\n",
       "      <th>3</th>\n",
       "      <td>1844</td>\n",
       "      <td>3366</td>\n",
       "      <td>4678</td>\n",
       "      <td>2996</td>\n",
       "      <td>3758</td>\n",
       "      <td>3606</td>\n",
       "      <td>3146</td>\n",
       "      <td>2748</td>\n",
       "      <td>2068</td>\n",
       "      <td>2764</td>\n",
       "      <td>5603</td>\n",
       "    </tr>\n",
       "    <tr>\n",
       "      <th>3.5</th>\n",
       "      <td>1040</td>\n",
       "      <td>2599</td>\n",
       "      <td>4184</td>\n",
       "      <td>3137</td>\n",
       "      <td>3720</td>\n",
       "      <td>3620</td>\n",
       "      <td>3252</td>\n",
       "      <td>2979</td>\n",
       "      <td>2490</td>\n",
       "      <td>3379</td>\n",
       "      <td>6072</td>\n",
       "    </tr>\n",
       "    <tr>\n",
       "      <th>4</th>\n",
       "      <td>430</td>\n",
       "      <td>2197</td>\n",
       "      <td>2901</td>\n",
       "      <td>2754</td>\n",
       "      <td>3132</td>\n",
       "      <td>3216</td>\n",
       "      <td>2959</td>\n",
       "      <td>2942</td>\n",
       "      <td>2616</td>\n",
       "      <td>3634</td>\n",
       "      <td>6180</td>\n",
       "    </tr>\n",
       "    <tr>\n",
       "      <th>4.5</th>\n",
       "      <td>184</td>\n",
       "      <td>1361</td>\n",
       "      <td>1973</td>\n",
       "      <td>2612</td>\n",
       "      <td>2500</td>\n",
       "      <td>2681</td>\n",
       "      <td>2641</td>\n",
       "      <td>2710</td>\n",
       "      <td>2603</td>\n",
       "      <td>3965</td>\n",
       "      <td>6505</td>\n",
       "    </tr>\n",
       "    <tr>\n",
       "      <th>5</th>\n",
       "      <td>50</td>\n",
       "      <td>812</td>\n",
       "      <td>1355</td>\n",
       "      <td>1784</td>\n",
       "      <td>1669</td>\n",
       "      <td>1835</td>\n",
       "      <td>1978</td>\n",
       "      <td>2521</td>\n",
       "      <td>2304</td>\n",
       "      <td>3751</td>\n",
       "      <td>6394</td>\n",
       "    </tr>\n",
       "    <tr>\n",
       "      <th>&gt;5</th>\n",
       "      <td>10</td>\n",
       "      <td>361</td>\n",
       "      <td>2270</td>\n",
       "      <td>1849</td>\n",
       "      <td>2305</td>\n",
       "      <td>2924</td>\n",
       "      <td>4120</td>\n",
       "      <td>4809</td>\n",
       "      <td>6770</td>\n",
       "      <td>12941</td>\n",
       "      <td>48126</td>\n",
       "    </tr>\n",
       "  </tbody>\n",
       "</table>\n",
       "</div>"
      ],
      "text/plain": [
       "      200   250   300   325   350   375   400   425   450    500   >500\n",
       "-1   1588   983  1277   793  1092   942   744   456   324    464   1455\n",
       "0    2226  1195  1333   815   949   843   948   922   925   1145   1830\n",
       "1    5031  2456  3054  1601  1749  1768  1749  1604  1524   2343   4795\n",
       "2    5854  4778  6566  3455  3637  4155  3537  2995  2191   3174   8811\n",
       "2.5  2446  3092  4563  2406  2941  3037  2606  2306  1698   2237   4931\n",
       "3    1844  3366  4678  2996  3758  3606  3146  2748  2068   2764   5603\n",
       "3.5  1040  2599  4184  3137  3720  3620  3252  2979  2490   3379   6072\n",
       "4     430  2197  2901  2754  3132  3216  2959  2942  2616   3634   6180\n",
       "4.5   184  1361  1973  2612  2500  2681  2641  2710  2603   3965   6505\n",
       "5      50   812  1355  1784  1669  1835  1978  2521  2304   3751   6394\n",
       ">5     10   361  2270  1849  2305  2924  4120  4809  6770  12941  48126"
      ]
     },
     "execution_count": 38,
     "metadata": {},
     "output_type": "execute_result"
    }
   ],
   "source": [
    "df_array = pd.DataFrame(my_array, columns = ['200','250','300','325','350','375','400','425', '450','500','>500'],\n",
    "                        index=['-1', '0','1','2','2.5','3','3.5','4','4.5','5','>5'])\n",
    "df_array"
   ]
  },
  {
   "cell_type": "code",
   "execution_count": 40,
   "id": "fbd90dcf-1d21-41bd-b71d-55b23c2296c1",
   "metadata": {},
   "outputs": [],
   "source": [
    "# List of molecular weights of natural products\n",
    "db_mw = []\n",
    "for substance in coco_d:\n",
    "\t\tdb_mw.append(rdescriptors.CalcExactMolWt(substance))"
   ]
  },
  {
   "cell_type": "code",
   "execution_count": 41,
   "id": "13bb68ee-add7-4147-bc92-5fa249b743e3",
   "metadata": {},
   "outputs": [],
   "source": [
    "# List of molecular octanol-water partition coefficient\n",
    "db_logP = []\n",
    "for substance in coco_d:\n",
    "\t\tdb_logP.append(Descriptors.MolLogP(substance))"
   ]
  },
  {
   "cell_type": "code",
   "execution_count": 42,
   "id": "3e97737f-947f-4874-bd28-ac1e5a9b6dfa",
   "metadata": {},
   "outputs": [],
   "source": [
    "#List of smiles\n",
    "db_smiles = []\n",
    "for substance in coco_d:\n",
    "\t\tdb_smiles.append(Chem.MolToSmiles(substance))"
   ]
  },
  {
   "cell_type": "code",
   "execution_count": 43,
   "id": "064d27fd-5f1e-44dc-afea-745d71bb1d8f",
   "metadata": {},
   "outputs": [],
   "source": [
    "#List of Inchi\n",
    "db_Inchi = []\n",
    "for substance in coco_d:\n",
    "\t\tdb_Inchi.append(substance.GetProp('inchi'))"
   ]
  },
  {
   "cell_type": "code",
   "execution_count": 53,
   "id": "e2caf10e-190d-4458-9445-23beaddd2a24",
   "metadata": {},
   "outputs": [],
   "source": [
    "db_inchikey = []\n",
    "for substance in coco_d:\n",
    "\t\tdb_inchikey.append(Chem.MolToInchiKey(substance).split('-')[0])"
   ]
  },
  {
   "cell_type": "code",
   "execution_count": 54,
   "id": "cf651d2b-d1ed-4373-b484-ce85b19b82a7",
   "metadata": {},
   "outputs": [
    {
     "data": {
      "text/html": [
       "<div>\n",
       "<style scoped>\n",
       "    .dataframe tbody tr th:only-of-type {\n",
       "        vertical-align: middle;\n",
       "    }\n",
       "\n",
       "    .dataframe tbody tr th {\n",
       "        vertical-align: top;\n",
       "    }\n",
       "\n",
       "    .dataframe thead th {\n",
       "        text-align: right;\n",
       "    }\n",
       "</style>\n",
       "<table border=\"1\" class=\"dataframe\">\n",
       "  <thead>\n",
       "    <tr style=\"text-align: right;\">\n",
       "      <th></th>\n",
       "      <th>MW</th>\n",
       "      <th>logP</th>\n",
       "      <th>Smiles</th>\n",
       "      <th>Inchi</th>\n",
       "      <th>Inchi_s</th>\n",
       "      <th>name</th>\n",
       "    </tr>\n",
       "  </thead>\n",
       "  <tbody>\n",
       "    <tr>\n",
       "      <th>0</th>\n",
       "      <td>660.183639</td>\n",
       "      <td>-2.08210</td>\n",
       "      <td>CC=C(N=CS)C(=O)OC1C(COC(C)=O)OC(C2(O)CC(=O)C(N...</td>\n",
       "      <td>InChI=1S/C27H36N2O15S/c1-5-12(29-9-45)26(37)44...</td>\n",
       "      <td>FJEMIESGEMWDOB</td>\n",
       "      <td>COCO</td>\n",
       "    </tr>\n",
       "    <tr>\n",
       "      <th>1</th>\n",
       "      <td>598.183897</td>\n",
       "      <td>3.63422</td>\n",
       "      <td>COc1cc(C)cc2c1C(=O)OC1C(O)C=CC3c4c(cc(OC)c5c4C...</td>\n",
       "      <td>InChI=1S/C34H30O10/c1-14-10-16-24(21(11-14)42-...</td>\n",
       "      <td>KLWKJVYCDFWQMK</td>\n",
       "      <td>COCO</td>\n",
       "    </tr>\n",
       "    <tr>\n",
       "      <th>2</th>\n",
       "      <td>554.157682</td>\n",
       "      <td>3.32262</td>\n",
       "      <td>COc1cc(C)cc2c1C(=O)OC1C(O)C=CC3c4c(cc(OC)c5c4C...</td>\n",
       "      <td>InChI=1S/C32H26O9/c1-13-9-16-24(20(10-13)39-2)...</td>\n",
       "      <td>PTEKHLCNKCAXPH</td>\n",
       "      <td>COCO</td>\n",
       "    </tr>\n",
       "    <tr>\n",
       "      <th>3</th>\n",
       "      <td>534.298139</td>\n",
       "      <td>6.87940</td>\n",
       "      <td>CC1(C)CC2C(OC(=O)c3ccccc3)C(OC(=O)c3ccccc3)CC(...</td>\n",
       "      <td>InChI=1S/C33H42O6/c1-31(2,3)30(36)37-18-17-33(...</td>\n",
       "      <td>ZVAVQCZAGOKAMX</td>\n",
       "      <td>COCO</td>\n",
       "    </tr>\n",
       "    <tr>\n",
       "      <th>4</th>\n",
       "      <td>540.142032</td>\n",
       "      <td>3.01962</td>\n",
       "      <td>COc1cc(C)cc2c1C(=O)OC1C(O)C=CC3c4c(cc(O)c5c4C(...</td>\n",
       "      <td>InChI=1S/C31H24O9/c1-12-8-15-23(20(9-12)39-2)3...</td>\n",
       "      <td>UYIPOCQHTAYRMA</td>\n",
       "      <td>COCO</td>\n",
       "    </tr>\n",
       "    <tr>\n",
       "      <th>...</th>\n",
       "      <td>...</td>\n",
       "      <td>...</td>\n",
       "      <td>...</td>\n",
       "      <td>...</td>\n",
       "      <td>...</td>\n",
       "      <td>...</td>\n",
       "    </tr>\n",
       "    <tr>\n",
       "      <th>405955</th>\n",
       "      <td>216.078644</td>\n",
       "      <td>2.75660</td>\n",
       "      <td>COc1cccc2ccc(C(C)=O)c(O)c12</td>\n",
       "      <td>InChI=1S/C13H12O3/c1-8(14)10-7-6-9-4-3-5-11(16...</td>\n",
       "      <td>XNWOWNYWQOTWIX</td>\n",
       "      <td>COCO</td>\n",
       "    </tr>\n",
       "    <tr>\n",
       "      <th>405956</th>\n",
       "      <td>570.188983</td>\n",
       "      <td>4.77902</td>\n",
       "      <td>COc1cc(OC)c2c(c1)C(OC)(c1ccc3c(c1O)C(=O)c1c(O)...</td>\n",
       "      <td>InChI=1S/C33H30O9/c1-14-9-19-26(23(34)10-14)32...</td>\n",
       "      <td>XWGVAZYMLDVIDS</td>\n",
       "      <td>COCO</td>\n",
       "    </tr>\n",
       "    <tr>\n",
       "      <th>405957</th>\n",
       "      <td>420.157288</td>\n",
       "      <td>4.82510</td>\n",
       "      <td>CC1(C)C=Cc2cc(C3COc4c5c(cc(O)c4C3=O)OC(C)(C)C=...</td>\n",
       "      <td>InChI=1S/C25H24O6/c1-24(2)7-5-13-9-15(17(26)10...</td>\n",
       "      <td>XZXMEYSQXQNHCX</td>\n",
       "      <td>COCO</td>\n",
       "    </tr>\n",
       "    <tr>\n",
       "      <th>405958</th>\n",
       "      <td>1183.685261</td>\n",
       "      <td>-1.20930</td>\n",
       "      <td>CCCCCCCC1CC(=O)NC(CO)C(=O)NC(CO)C(=O)N2CCCC2C(...</td>\n",
       "      <td>InChI=1S/C58H93N11O15/c1-8-11-12-13-14-17-37-2...</td>\n",
       "      <td>YNLIJTVZSFUHKP</td>\n",
       "      <td>COCO</td>\n",
       "    </tr>\n",
       "    <tr>\n",
       "      <th>405959</th>\n",
       "      <td>1456.817732</td>\n",
       "      <td>-3.86630</td>\n",
       "      <td>CCCCCCCC1CC(=O)NC(C(C)C)C(=O)NC(C(O)C(C)C)C(=O...</td>\n",
       "      <td>InChI=1S/C69H112N14O20/c1-13-15-16-17-21-24-41...</td>\n",
       "      <td>ZQEJMIHHZHRPMS</td>\n",
       "      <td>COCO</td>\n",
       "    </tr>\n",
       "  </tbody>\n",
       "</table>\n",
       "<p>405960 rows × 6 columns</p>\n",
       "</div>"
      ],
      "text/plain": [
       "                 MW     logP  \\\n",
       "0        660.183639 -2.08210   \n",
       "1        598.183897  3.63422   \n",
       "2        554.157682  3.32262   \n",
       "3        534.298139  6.87940   \n",
       "4        540.142032  3.01962   \n",
       "...             ...      ...   \n",
       "405955   216.078644  2.75660   \n",
       "405956   570.188983  4.77902   \n",
       "405957   420.157288  4.82510   \n",
       "405958  1183.685261 -1.20930   \n",
       "405959  1456.817732 -3.86630   \n",
       "\n",
       "                                                   Smiles  \\\n",
       "0       CC=C(N=CS)C(=O)OC1C(COC(C)=O)OC(C2(O)CC(=O)C(N...   \n",
       "1       COc1cc(C)cc2c1C(=O)OC1C(O)C=CC3c4c(cc(OC)c5c4C...   \n",
       "2       COc1cc(C)cc2c1C(=O)OC1C(O)C=CC3c4c(cc(OC)c5c4C...   \n",
       "3       CC1(C)CC2C(OC(=O)c3ccccc3)C(OC(=O)c3ccccc3)CC(...   \n",
       "4       COc1cc(C)cc2c1C(=O)OC1C(O)C=CC3c4c(cc(O)c5c4C(...   \n",
       "...                                                   ...   \n",
       "405955                        COc1cccc2ccc(C(C)=O)c(O)c12   \n",
       "405956  COc1cc(OC)c2c(c1)C(OC)(c1ccc3c(c1O)C(=O)c1c(O)...   \n",
       "405957  CC1(C)C=Cc2cc(C3COc4c5c(cc(O)c4C3=O)OC(C)(C)C=...   \n",
       "405958  CCCCCCCC1CC(=O)NC(CO)C(=O)NC(CO)C(=O)N2CCCC2C(...   \n",
       "405959  CCCCCCCC1CC(=O)NC(C(C)C)C(=O)NC(C(O)C(C)C)C(=O...   \n",
       "\n",
       "                                                    Inchi         Inchi_s  \\\n",
       "0       InChI=1S/C27H36N2O15S/c1-5-12(29-9-45)26(37)44...  FJEMIESGEMWDOB   \n",
       "1       InChI=1S/C34H30O10/c1-14-10-16-24(21(11-14)42-...  KLWKJVYCDFWQMK   \n",
       "2       InChI=1S/C32H26O9/c1-13-9-16-24(20(10-13)39-2)...  PTEKHLCNKCAXPH   \n",
       "3       InChI=1S/C33H42O6/c1-31(2,3)30(36)37-18-17-33(...  ZVAVQCZAGOKAMX   \n",
       "4       InChI=1S/C31H24O9/c1-12-8-15-23(20(9-12)39-2)3...  UYIPOCQHTAYRMA   \n",
       "...                                                   ...             ...   \n",
       "405955  InChI=1S/C13H12O3/c1-8(14)10-7-6-9-4-3-5-11(16...  XNWOWNYWQOTWIX   \n",
       "405956  InChI=1S/C33H30O9/c1-14-9-19-26(23(34)10-14)32...  XWGVAZYMLDVIDS   \n",
       "405957  InChI=1S/C25H24O6/c1-24(2)7-5-13-9-15(17(26)10...  XZXMEYSQXQNHCX   \n",
       "405958  InChI=1S/C58H93N11O15/c1-8-11-12-13-14-17-37-2...  YNLIJTVZSFUHKP   \n",
       "405959  InChI=1S/C69H112N14O20/c1-13-15-16-17-21-24-41...  ZQEJMIHHZHRPMS   \n",
       "\n",
       "        name  \n",
       "0       COCO  \n",
       "1       COCO  \n",
       "2       COCO  \n",
       "3       COCO  \n",
       "4       COCO  \n",
       "...      ...  \n",
       "405955  COCO  \n",
       "405956  COCO  \n",
       "405957  COCO  \n",
       "405958  COCO  \n",
       "405959  COCO  \n",
       "\n",
       "[405960 rows x 6 columns]"
      ]
     },
     "execution_count": 54,
     "metadata": {},
     "output_type": "execute_result"
    }
   ],
   "source": [
    "#Creating dataframe of logP and MW value of COCONUT products\n",
    "df_COCO = pd.DataFrame(data={'MW': db_mw,'logP': db_logP , 'Smiles': db_smiles, 'Inchi': db_Inchi, 'Inchi_s':db_inchikey})\n",
    "df_COCO['name'] = \"COCO\"\n",
    "df_COCO"
   ]
  },
  {
   "cell_type": "code",
   "execution_count": 45,
   "id": "6916d96a-dd95-417d-9ed9-d0c731e04610",
   "metadata": {},
   "outputs": [
    {
     "data": {
      "image/png": "[encoded data removed]",
      "text/plain": [
       "<Figure size 360x360 with 1 Axes>"
      ]
     },
     "metadata": {},
     "output_type": "display_data"
    }
   ],
   "source": [
    "#Histogram of logP value of products\n",
    "sns.displot(df_COCO, x=\"logP\" )\n",
    "plt.xlim(-20, 20);"
   ]
  },
  {
   "cell_type": "code",
   "execution_count": 46,
   "id": "e45df938-ffa3-4d4f-9a6b-3cdd45704889",
   "metadata": {},
   "outputs": [
    {
     "data": {
      "image/png": "[encoded data removed]",
      "text/plain": [
       "<Figure size 360x360 with 1 Axes>"
      ]
     },
     "metadata": {},
     "output_type": "display_data"
    }
   ],
   "source": [
    "#Histogram of MW value of products\n",
    "sns.displot(df_COCO, x=\"MW\" )\n",
    "plt.xlim(0, 2000);"
   ]
  },
  {
   "cell_type": "code",
   "execution_count": 62,
   "id": "72447f0e-0fe2-48a4-8ba6-1138de99a5c6",
   "metadata": {},
   "outputs": [
    {
     "data": {
      "text/html": [
       "<div>\n",
       "<style scoped>\n",
       "    .dataframe tbody tr th:only-of-type {\n",
       "        vertical-align: middle;\n",
       "    }\n",
       "\n",
       "    .dataframe tbody tr th {\n",
       "        vertical-align: top;\n",
       "    }\n",
       "\n",
       "    .dataframe thead th {\n",
       "        text-align: right;\n",
       "    }\n",
       "</style>\n",
       "<table border=\"1\" class=\"dataframe\">\n",
       "  <thead>\n",
       "    <tr style=\"text-align: right;\">\n",
       "      <th></th>\n",
       "      <th>MW</th>\n",
       "      <th>logP</th>\n",
       "      <th>Smiles</th>\n",
       "      <th>Inchi</th>\n",
       "      <th>Inchi_s</th>\n",
       "      <th>name</th>\n",
       "    </tr>\n",
       "  </thead>\n",
       "  <tbody>\n",
       "    <tr>\n",
       "      <th>0</th>\n",
       "      <td>660.183639</td>\n",
       "      <td>-2.08210</td>\n",
       "      <td>CC=C(N=CS)C(=O)OC1C(COC(C)=O)OC(C2(O)CC(=O)C(N...</td>\n",
       "      <td>InChI=1S/C27H36N2O15S/c1-5-12(29-9-45)26(37)44...</td>\n",
       "      <td>FJEMIESGEMWDOB</td>\n",
       "      <td>COCO</td>\n",
       "    </tr>\n",
       "    <tr>\n",
       "      <th>1</th>\n",
       "      <td>598.183897</td>\n",
       "      <td>3.63422</td>\n",
       "      <td>COc1cc(C)cc2c1C(=O)OC1C(O)C=CC3c4c(cc(OC)c5c4C...</td>\n",
       "      <td>InChI=1S/C34H30O10/c1-14-10-16-24(21(11-14)42-...</td>\n",
       "      <td>KLWKJVYCDFWQMK</td>\n",
       "      <td>COCO</td>\n",
       "    </tr>\n",
       "    <tr>\n",
       "      <th>2</th>\n",
       "      <td>554.157682</td>\n",
       "      <td>3.32262</td>\n",
       "      <td>COc1cc(C)cc2c1C(=O)OC1C(O)C=CC3c4c(cc(OC)c5c4C...</td>\n",
       "      <td>InChI=1S/C32H26O9/c1-13-9-16-24(20(10-13)39-2)...</td>\n",
       "      <td>PTEKHLCNKCAXPH</td>\n",
       "      <td>COCO</td>\n",
       "    </tr>\n",
       "    <tr>\n",
       "      <th>3</th>\n",
       "      <td>534.298139</td>\n",
       "      <td>6.87940</td>\n",
       "      <td>CC1(C)CC2C(OC(=O)c3ccccc3)C(OC(=O)c3ccccc3)CC(...</td>\n",
       "      <td>InChI=1S/C33H42O6/c1-31(2,3)30(36)37-18-17-33(...</td>\n",
       "      <td>ZVAVQCZAGOKAMX</td>\n",
       "      <td>COCO</td>\n",
       "    </tr>\n",
       "    <tr>\n",
       "      <th>4</th>\n",
       "      <td>540.142032</td>\n",
       "      <td>3.01962</td>\n",
       "      <td>COc1cc(C)cc2c1C(=O)OC1C(O)C=CC3c4c(cc(O)c5c4C(...</td>\n",
       "      <td>InChI=1S/C31H24O9/c1-12-8-15-23(20(9-12)39-2)3...</td>\n",
       "      <td>UYIPOCQHTAYRMA</td>\n",
       "      <td>COCO</td>\n",
       "    </tr>\n",
       "    <tr>\n",
       "      <th>...</th>\n",
       "      <td>...</td>\n",
       "      <td>...</td>\n",
       "      <td>...</td>\n",
       "      <td>...</td>\n",
       "      <td>...</td>\n",
       "      <td>...</td>\n",
       "    </tr>\n",
       "    <tr>\n",
       "      <th>379017</th>\n",
       "      <td>636.051720</td>\n",
       "      <td>6.49784</td>\n",
       "      <td>Cc1ccc(C(=O)N(c2ccc(N(C(=O)c3ccc(C)cc3)S(=O)(=...</td>\n",
       "      <td>NaN</td>\n",
       "      <td>KYPDAVIHIYTGQW</td>\n",
       "      <td>ZINC</td>\n",
       "    </tr>\n",
       "    <tr>\n",
       "      <th>379018</th>\n",
       "      <td>604.229740</td>\n",
       "      <td>7.58732</td>\n",
       "      <td>CCc1c(-c2ccc(OC)c(OC)c2)nn(-c2nc(-c3ccc(C)cc3)...</td>\n",
       "      <td>NaN</td>\n",
       "      <td>AWQWFNRTEBAZJO</td>\n",
       "      <td>ZINC</td>\n",
       "    </tr>\n",
       "    <tr>\n",
       "      <th>379019</th>\n",
       "      <td>511.213888</td>\n",
       "      <td>6.02074</td>\n",
       "      <td>Cc1cc(N2CCN(CCOc3cccc4ccccc34)CC2)n2nc(C)c(-c3...</td>\n",
       "      <td>NaN</td>\n",
       "      <td>HAHVCBFPDRUVIL</td>\n",
       "      <td>ZINC</td>\n",
       "    </tr>\n",
       "    <tr>\n",
       "      <th>379020</th>\n",
       "      <td>541.007232</td>\n",
       "      <td>7.49622</td>\n",
       "      <td>CCOc1cc(CNc2cc(Cl)ccc2C)cc(I)c1OCc1ccccc1Cl</td>\n",
       "      <td>NaN</td>\n",
       "      <td>IYFPBZIIJDRXMB</td>\n",
       "      <td>ZINC</td>\n",
       "    </tr>\n",
       "    <tr>\n",
       "      <th>379021</th>\n",
       "      <td>517.051749</td>\n",
       "      <td>6.11360</td>\n",
       "      <td>CCCOc1cccc([C@@H]2C(S(=O)(=O)c3ccccc3)=C(O)C(=...</td>\n",
       "      <td>NaN</td>\n",
       "      <td>LDSGAMYJONZMDX</td>\n",
       "      <td>ZINC</td>\n",
       "    </tr>\n",
       "  </tbody>\n",
       "</table>\n",
       "<p>784982 rows × 6 columns</p>\n",
       "</div>"
      ],
      "text/plain": [
       "                MW     logP  \\\n",
       "0       660.183639 -2.08210   \n",
       "1       598.183897  3.63422   \n",
       "2       554.157682  3.32262   \n",
       "3       534.298139  6.87940   \n",
       "4       540.142032  3.01962   \n",
       "...            ...      ...   \n",
       "379017  636.051720  6.49784   \n",
       "379018  604.229740  7.58732   \n",
       "379019  511.213888  6.02074   \n",
       "379020  541.007232  7.49622   \n",
       "379021  517.051749  6.11360   \n",
       "\n",
       "                                                   Smiles  \\\n",
       "0       CC=C(N=CS)C(=O)OC1C(COC(C)=O)OC(C2(O)CC(=O)C(N...   \n",
       "1       COc1cc(C)cc2c1C(=O)OC1C(O)C=CC3c4c(cc(OC)c5c4C...   \n",
       "2       COc1cc(C)cc2c1C(=O)OC1C(O)C=CC3c4c(cc(OC)c5c4C...   \n",
       "3       CC1(C)CC2C(OC(=O)c3ccccc3)C(OC(=O)c3ccccc3)CC(...   \n",
       "4       COc1cc(C)cc2c1C(=O)OC1C(O)C=CC3c4c(cc(O)c5c4C(...   \n",
       "...                                                   ...   \n",
       "379017  Cc1ccc(C(=O)N(c2ccc(N(C(=O)c3ccc(C)cc3)S(=O)(=...   \n",
       "379018  CCc1c(-c2ccc(OC)c(OC)c2)nn(-c2nc(-c3ccc(C)cc3)...   \n",
       "379019  Cc1cc(N2CCN(CCOc3cccc4ccccc34)CC2)n2nc(C)c(-c3...   \n",
       "379020        CCOc1cc(CNc2cc(Cl)ccc2C)cc(I)c1OCc1ccccc1Cl   \n",
       "379021  CCCOc1cccc([C@@H]2C(S(=O)(=O)c3ccccc3)=C(O)C(=...   \n",
       "\n",
       "                                                    Inchi         Inchi_s  \\\n",
       "0       InChI=1S/C27H36N2O15S/c1-5-12(29-9-45)26(37)44...  FJEMIESGEMWDOB   \n",
       "1       InChI=1S/C34H30O10/c1-14-10-16-24(21(11-14)42-...  KLWKJVYCDFWQMK   \n",
       "2       InChI=1S/C32H26O9/c1-13-9-16-24(20(10-13)39-2)...  PTEKHLCNKCAXPH   \n",
       "3       InChI=1S/C33H42O6/c1-31(2,3)30(36)37-18-17-33(...  ZVAVQCZAGOKAMX   \n",
       "4       InChI=1S/C31H24O9/c1-12-8-15-23(20(9-12)39-2)3...  UYIPOCQHTAYRMA   \n",
       "...                                                   ...             ...   \n",
       "379017                                                NaN  KYPDAVIHIYTGQW   \n",
       "379018                                                NaN  AWQWFNRTEBAZJO   \n",
       "379019                                                NaN  HAHVCBFPDRUVIL   \n",
       "379020                                                NaN  IYFPBZIIJDRXMB   \n",
       "379021                                                NaN  LDSGAMYJONZMDX   \n",
       "\n",
       "        name  \n",
       "0       COCO  \n",
       "1       COCO  \n",
       "2       COCO  \n",
       "3       COCO  \n",
       "4       COCO  \n",
       "...      ...  \n",
       "379017  ZINC  \n",
       "379018  ZINC  \n",
       "379019  ZINC  \n",
       "379020  ZINC  \n",
       "379021  ZINC  \n",
       "\n",
       "[784982 rows x 6 columns]"
      ]
     },
     "execution_count": 62,
     "metadata": {},
     "output_type": "execute_result"
    }
   ],
   "source": [
    "#Join ZINC and COCONUT data\n",
    "df_merge = pd.concat([df_COCO,df_ZINC], axis=0)\n",
    "df_merge"
   ]
  },
  {
   "cell_type": "code",
   "execution_count": 65,
   "id": "542700f7-a361-41a8-9f4c-53ec896a4bf3",
   "metadata": {},
   "outputs": [
    {
     "name": "stdout",
     "output_type": "stream",
     "text": [
      "20\n"
     ]
    }
   ],
   "source": [
    "#Check dplicate in both dataframes by Inchi\n",
    "ids = df_merge['Inchi_s']\n",
    "df_merge = df_merge[ids.isin(ids[ids.duplicated()])].sort_values('Inchi_s')\n",
    "df_merge = df_merge[df_merge.name != 'COCO']\n",
    "print(len(df_merge))"
   ]
  },
  {
   "cell_type": "code",
   "execution_count": 48,
   "id": "3a94ff97-394b-4f44-b127-1de52813d77f",
   "metadata": {},
   "outputs": [
    {
     "data": {
      "text/plain": [
       "[20733, 23172, 34127, 24327, 27387, 28633, 27732, 28910, 26016, 40637, 124286]"
      ]
     },
     "execution_count": 48,
     "metadata": {},
     "output_type": "execute_result"
    }
   ],
   "source": [
    "#Let's split the dataframe into intervals\n",
    "intervals = (0,200),(200,250),(250,300),(300,325),(325,350),(350,375),(375,400),(400,425),(425,450),(450,500),(500, 3500)\n",
    "numbers_coco = []\n",
    "for count, value in enumerate(intervals):\n",
    "    numbers_coco.append(len(df_COCO.loc[(df_COCO['MW'] > intervals[count][0]) & (df_COCO['MW']<= intervals[count][1])]))\n",
    "numbers_coco\n"
   ]
  },
  {
   "cell_type": "code",
   "execution_count": 49,
   "id": "8cc8a04e-a296-403c-9a2e-94915e900cd9",
   "metadata": {},
   "outputs": [
    {
     "data": {
      "text/plain": [
       "[20703, 23200, 34154, 24202, 27452, 28627, 27680, 26992, 25513, 39797, 100702]"
      ]
     },
     "execution_count": 49,
     "metadata": {},
     "output_type": "execute_result"
    }
   ],
   "source": [
    "numbers"
   ]
  },
  {
   "cell_type": "code",
   "execution_count": 50,
   "id": "5ed7ce45-0681-41a9-9fc7-769fe0c9d6b6",
   "metadata": {},
   "outputs": [
    {
     "data": {
      "text/plain": [
       "[30, -28, -27, 125, -65, 6, 52, 1918, 503, 840, 23584]"
      ]
     },
     "execution_count": 50,
     "metadata": {},
     "output_type": "execute_result"
    }
   ],
   "source": [
    "diff= []\n",
    "for count,x in enumerate(numbers_coco):\n",
    "    diff.append(x - numbers[count])\n",
    "    \n",
    "diff"
   ]
  }
 ],
 "metadata": {
  "kernelspec": {
   "display_name": "Python 3 (ipykernel)",
   "language": "python",
   "name": "python3"
  },
  "language_info": {
   "codemirror_mode": {
    "name": "ipython",
    "version": 3
   },
   "file_extension": ".py",
   "mimetype": "text/x-python",
   "name": "python",
   "nbconvert_exporter": "python",
   "pygments_lexer": "ipython3",
   "version": "3.9.7"
  }
 },
 "nbformat": 4,
 "nbformat_minor": 5
}
