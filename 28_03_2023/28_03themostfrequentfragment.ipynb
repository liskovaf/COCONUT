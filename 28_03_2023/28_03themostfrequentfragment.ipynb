{
 "cells": [
  {
   "cell_type": "markdown",
   "id": "cc2c27ea-5b20-4456-a3bf-5d4a60764596",
   "metadata": {},
   "source": [
    "# More occuring fragments in COCONUT dataset in comparison to ZINC dataset"
   ]
  },
  {
   "cell_type": "code",
   "execution_count": 81,
   "id": "c51537d4-4d28-4452-8e85-1844bbf7b89d",
   "metadata": {},
   "outputs": [],
   "source": [
    "import pandas as pd\n",
    "import seaborn as sns\n",
    "import matplotlib.pyplot as plt\n",
    "import csv\n",
    "from rdkit.Chem import AllChem as Chem\n",
    "from rdkit.Chem import Draw\n",
    "from rdkit.Chem.Draw import IPythonConsole\n",
    "import csv\n",
    "\n",
    "from ast import literal_eval\n",
    "import re\n",
    "import sys\n",
    "sys.path.insert(0,\"./../fip3\")\n",
    "from fip import profiles"
   ]
  },
  {
   "cell_type": "markdown",
   "id": "990109bc-f7e8-41be-8e18-dc5cd9d3dc87",
   "metadata": {},
   "source": [
    "### Making feature pointwise mutual information profiles"
   ]
  },
  {
   "cell_type": "code",
   "execution_count": 9,
   "id": "d4a85681-d186-4bb3-bb4f-bc5edae288f1",
   "metadata": {},
   "outputs": [
    {
     "data": {
      "text/html": [
       "<div>\n",
       "<style scoped>\n",
       "    .dataframe tbody tr th:only-of-type {\n",
       "        vertical-align: middle;\n",
       "    }\n",
       "\n",
       "    .dataframe tbody tr th {\n",
       "        vertical-align: top;\n",
       "    }\n",
       "\n",
       "    .dataframe thead th {\n",
       "        text-align: right;\n",
       "    }\n",
       "</style>\n",
       "<table border=\"1\" class=\"dataframe\">\n",
       "  <thead>\n",
       "    <tr style=\"text-align: right;\">\n",
       "      <th></th>\n",
       "      <th></th>\n",
       "      <th>value</th>\n",
       "    </tr>\n",
       "    <tr>\n",
       "      <th>feature1</th>\n",
       "      <th>feature2</th>\n",
       "      <th></th>\n",
       "    </tr>\n",
       "  </thead>\n",
       "  <tbody>\n",
       "    <tr>\n",
       "      <th rowspan=\"5\" valign=\"top\">[CH2][CH2][CH2][CH2][CH]</th>\n",
       "      <th>[CH2][CH2][CH2][CH2][CH]</th>\n",
       "      <td>15582</td>\n",
       "    </tr>\n",
       "    <tr>\n",
       "      <th>[CH2][CH2][CH]([C]([CH2])=[O])[CH]([CH2])[CH2]</th>\n",
       "      <td>11</td>\n",
       "    </tr>\n",
       "    <tr>\n",
       "      <th>[CH2][CH2][C](=[O])[CH]([CH2])[CH]</th>\n",
       "      <td>139</td>\n",
       "    </tr>\n",
       "    <tr>\n",
       "      <th>[CH3][CH2][CH2][CH2]</th>\n",
       "      <td>7133</td>\n",
       "    </tr>\n",
       "    <tr>\n",
       "      <th>[CH3][CH2][CH2][CH2][CH2]</th>\n",
       "      <td>6905</td>\n",
       "    </tr>\n",
       "    <tr>\n",
       "      <th>...</th>\n",
       "      <th>...</th>\n",
       "      <td>...</td>\n",
       "    </tr>\n",
       "    <tr>\n",
       "      <th>[C][c]([c])[cH][cH][cH]</th>\n",
       "      <th>[c][C](=[O])[C]([OH])([CH]([CH2])[O])[C]([C])([CH2])[OH]</th>\n",
       "      <td>1</td>\n",
       "    </tr>\n",
       "    <tr>\n",
       "      <th>[C][c]([c])[c]([OH])[cH][cH]</th>\n",
       "      <th>[c][C](=[O])[C]([OH])([CH]([CH2])[O])[C]([C])([CH2])[OH]</th>\n",
       "      <td>1</td>\n",
       "    </tr>\n",
       "    <tr>\n",
       "      <th>[C][c]([c])[c]([cH][cH])[C]([C])=[O]</th>\n",
       "      <th>[c][C](=[O])[C]([OH])([CH]([CH2])[O])[C]([C])([CH2])[OH]</th>\n",
       "      <td>1</td>\n",
       "    </tr>\n",
       "    <tr>\n",
       "      <th>[cH][cH][cH][c]([c])[OH]</th>\n",
       "      <th>[c][C](=[O])[C]([OH])([CH]([CH2])[O])[C]([C])([CH2])[OH]</th>\n",
       "      <td>1</td>\n",
       "    </tr>\n",
       "    <tr>\n",
       "      <th>[c][C](=[O])[C]([OH])([CH]([CH2])[O])[C]([C])([CH2])[OH]</th>\n",
       "      <th>[c][cH][cH][cH][c]</th>\n",
       "      <td>1</td>\n",
       "    </tr>\n",
       "  </tbody>\n",
       "</table>\n",
       "<p>18368174 rows × 1 columns</p>\n",
       "</div>"
      ],
      "text/plain": [
       "                                                                                                       value\n",
       "feature1                                           feature2                                                 \n",
       "[CH2][CH2][CH2][CH2][CH]                           [CH2][CH2][CH2][CH2][CH]                            15582\n",
       "                                                   [CH2][CH2][CH]([C]([CH2])=[O])[CH]([CH2])[CH2]         11\n",
       "                                                   [CH2][CH2][C](=[O])[CH]([CH2])[CH]                    139\n",
       "                                                   [CH3][CH2][CH2][CH2]                                 7133\n",
       "                                                   [CH3][CH2][CH2][CH2][CH2]                            6905\n",
       "...                                                                                                      ...\n",
       "[C][c]([c])[cH][cH][cH]                            [c][C](=[O])[C]([OH])([CH]([CH2])[O])[C]([C])([...      1\n",
       "[C][c]([c])[c]([OH])[cH][cH]                       [c][C](=[O])[C]([OH])([CH]([CH2])[O])[C]([C])([...      1\n",
       "[C][c]([c])[c]([cH][cH])[C]([C])=[O]               [c][C](=[O])[C]([OH])([CH]([CH2])[O])[C]([C])([...      1\n",
       "[cH][cH][cH][c]([c])[OH]                           [c][C](=[O])[C]([OH])([CH]([CH2])[O])[C]([C])([...      1\n",
       "[c][C](=[O])[C]([OH])([CH]([CH2])[O])[C]([C])([... [c][cH][cH][cH][c]                                      1\n",
       "\n",
       "[18368174 rows x 1 columns]"
      ]
     },
     "execution_count": 9,
     "metadata": {},
     "output_type": "execute_result"
    }
   ],
   "source": [
    "profile = profiles.CooccurrenceProfile.from_dataframe(pd.read_csv('../data/CPF/COCONUT/COCOp_386297.csv', dtype={'feature1': 'str','feature2' : 'str' }), vector_count=386297)\n",
    "profile.df"
   ]
  },
  {
   "cell_type": "code",
   "execution_count": 10,
   "id": "6ed2f867-0da6-4483-b019-a30ef12d4713",
   "metadata": {},
   "outputs": [
    {
     "data": {
      "text/html": [
       "<div>\n",
       "<style scoped>\n",
       "    .dataframe tbody tr th:only-of-type {\n",
       "        vertical-align: middle;\n",
       "    }\n",
       "\n",
       "    .dataframe tbody tr th {\n",
       "        vertical-align: top;\n",
       "    }\n",
       "\n",
       "    .dataframe thead th {\n",
       "        text-align: right;\n",
       "    }\n",
       "</style>\n",
       "<table border=\"1\" class=\"dataframe\">\n",
       "  <thead>\n",
       "    <tr style=\"text-align: right;\">\n",
       "      <th></th>\n",
       "      <th></th>\n",
       "      <th>value</th>\n",
       "    </tr>\n",
       "    <tr>\n",
       "      <th>feature1</th>\n",
       "      <th>feature2</th>\n",
       "      <th></th>\n",
       "    </tr>\n",
       "  </thead>\n",
       "  <tbody>\n",
       "    <tr>\n",
       "      <th rowspan=\"5\" valign=\"top\">[CH2][CH2][CH2][CH2][CH]</th>\n",
       "      <th>[CH2][CH2][CH2][CH2][CH]</th>\n",
       "      <td>0.040337</td>\n",
       "    </tr>\n",
       "    <tr>\n",
       "      <th>[CH2][CH2][CH]([C]([CH2])=[O])[CH]([CH2])[CH2]</th>\n",
       "      <td>0.000028</td>\n",
       "    </tr>\n",
       "    <tr>\n",
       "      <th>[CH2][CH2][C](=[O])[CH]([CH2])[CH]</th>\n",
       "      <td>0.000360</td>\n",
       "    </tr>\n",
       "    <tr>\n",
       "      <th>[CH3][CH2][CH2][CH2]</th>\n",
       "      <td>0.018465</td>\n",
       "    </tr>\n",
       "    <tr>\n",
       "      <th>[CH3][CH2][CH2][CH2][CH2]</th>\n",
       "      <td>0.017875</td>\n",
       "    </tr>\n",
       "    <tr>\n",
       "      <th>...</th>\n",
       "      <th>...</th>\n",
       "      <td>...</td>\n",
       "    </tr>\n",
       "    <tr>\n",
       "      <th>[C][c]([c])[cH][cH][cH]</th>\n",
       "      <th>[c][C](=[O])[C]([OH])([CH]([CH2])[O])[C]([C])([CH2])[OH]</th>\n",
       "      <td>0.000003</td>\n",
       "    </tr>\n",
       "    <tr>\n",
       "      <th>[C][c]([c])[c]([OH])[cH][cH]</th>\n",
       "      <th>[c][C](=[O])[C]([OH])([CH]([CH2])[O])[C]([C])([CH2])[OH]</th>\n",
       "      <td>0.000003</td>\n",
       "    </tr>\n",
       "    <tr>\n",
       "      <th>[C][c]([c])[c]([cH][cH])[C]([C])=[O]</th>\n",
       "      <th>[c][C](=[O])[C]([OH])([CH]([CH2])[O])[C]([C])([CH2])[OH]</th>\n",
       "      <td>0.000003</td>\n",
       "    </tr>\n",
       "    <tr>\n",
       "      <th>[cH][cH][cH][c]([c])[OH]</th>\n",
       "      <th>[c][C](=[O])[C]([OH])([CH]([CH2])[O])[C]([C])([CH2])[OH]</th>\n",
       "      <td>0.000003</td>\n",
       "    </tr>\n",
       "    <tr>\n",
       "      <th>[c][C](=[O])[C]([OH])([CH]([CH2])[O])[C]([C])([CH2])[OH]</th>\n",
       "      <th>[c][cH][cH][cH][c]</th>\n",
       "      <td>0.000003</td>\n",
       "    </tr>\n",
       "  </tbody>\n",
       "</table>\n",
       "<p>18368174 rows × 1 columns</p>\n",
       "</div>"
      ],
      "text/plain": [
       "                                                                                                          value\n",
       "feature1                                           feature2                                                    \n",
       "[CH2][CH2][CH2][CH2][CH]                           [CH2][CH2][CH2][CH2][CH]                            0.040337\n",
       "                                                   [CH2][CH2][CH]([C]([CH2])=[O])[CH]([CH2])[CH2]      0.000028\n",
       "                                                   [CH2][CH2][C](=[O])[CH]([CH2])[CH]                  0.000360\n",
       "                                                   [CH3][CH2][CH2][CH2]                                0.018465\n",
       "                                                   [CH3][CH2][CH2][CH2][CH2]                           0.017875\n",
       "...                                                                                                         ...\n",
       "[C][c]([c])[cH][cH][cH]                            [c][C](=[O])[C]([OH])([CH]([CH2])[O])[C]([C])([...  0.000003\n",
       "[C][c]([c])[c]([OH])[cH][cH]                       [c][C](=[O])[C]([OH])([CH]([CH2])[O])[C]([C])([...  0.000003\n",
       "[C][c]([c])[c]([cH][cH])[C]([C])=[O]               [c][C](=[O])[C]([OH])([CH]([CH2])[O])[C]([C])([...  0.000003\n",
       "[cH][cH][cH][c]([c])[OH]                           [c][C](=[O])[C]([OH])([CH]([CH2])[O])[C]([C])([...  0.000003\n",
       "[c][C](=[O])[C]([OH])([CH]([CH2])[O])[C]([C])([... [c][cH][cH][cH][c]                                  0.000003\n",
       "\n",
       "[18368174 rows x 1 columns]"
      ]
     },
     "execution_count": 10,
     "metadata": {},
     "output_type": "execute_result"
    }
   ],
   "source": [
    "probability_profile = profiles.CooccurrenceProbabilityProfile.from_cooccurrence_profile(profile)\n",
    "probability_profile.df"
   ]
  },
  {
   "cell_type": "code",
   "execution_count": 11,
   "id": "9ecf50db-c1b9-42c1-9bfa-2f34e6e69056",
   "metadata": {},
   "outputs": [
    {
     "data": {
      "text/html": [
       "<div>\n",
       "<style scoped>\n",
       "    .dataframe tbody tr th:only-of-type {\n",
       "        vertical-align: middle;\n",
       "    }\n",
       "\n",
       "    .dataframe tbody tr th {\n",
       "        vertical-align: top;\n",
       "    }\n",
       "\n",
       "    .dataframe thead th {\n",
       "        text-align: right;\n",
       "    }\n",
       "</style>\n",
       "<table border=\"1\" class=\"dataframe\">\n",
       "  <thead>\n",
       "    <tr style=\"text-align: right;\">\n",
       "      <th></th>\n",
       "      <th></th>\n",
       "      <th>value</th>\n",
       "    </tr>\n",
       "    <tr>\n",
       "      <th>feature1</th>\n",
       "      <th>feature2</th>\n",
       "      <th></th>\n",
       "    </tr>\n",
       "  </thead>\n",
       "  <tbody>\n",
       "    <tr>\n",
       "      <th rowspan=\"5\" valign=\"top\">[CH2][CH2][CH2][CH2][CH2]</th>\n",
       "      <th>[CH2][CH2][CH2][CH2][CH2]</th>\n",
       "      <td>20003</td>\n",
       "    </tr>\n",
       "    <tr>\n",
       "      <th>[CH2][CH2][S][c]([n])[n]</th>\n",
       "      <td>143</td>\n",
       "    </tr>\n",
       "    <tr>\n",
       "      <th>[C][CH2][CH2][CH2][CH2]</th>\n",
       "      <td>3587</td>\n",
       "    </tr>\n",
       "    <tr>\n",
       "      <th>[cH][cH][cH][cH][cH]</th>\n",
       "      <td>2802</td>\n",
       "    </tr>\n",
       "    <tr>\n",
       "      <th>[cH][cH][cH][cH][c]</th>\n",
       "      <td>4376</td>\n",
       "    </tr>\n",
       "    <tr>\n",
       "      <th>...</th>\n",
       "      <th>...</th>\n",
       "      <td>...</td>\n",
       "    </tr>\n",
       "    <tr>\n",
       "      <th rowspan=\"2\" valign=\"top\">[CH][CH2][CH2][S]([CH2])(=[O])=[O]</th>\n",
       "      <th>[CH][NH][CH2][S]([CH2])(=[O])=[O]</th>\n",
       "      <td>1</td>\n",
       "    </tr>\n",
       "    <tr>\n",
       "      <th>[C][CH]([CH2])[NH][CH2][S]</th>\n",
       "      <td>1</td>\n",
       "    </tr>\n",
       "    <tr>\n",
       "      <th rowspan=\"2\" valign=\"top\">[CH][NH][CH2][S]([CH2])(=[O])=[O]</th>\n",
       "      <th>[C][CH]([CH2])[NH][CH2][S]</th>\n",
       "      <td>1</td>\n",
       "    </tr>\n",
       "    <tr>\n",
       "      <th>[C][CH]([NH])[CH2][CH2][S]</th>\n",
       "      <td>1</td>\n",
       "    </tr>\n",
       "    <tr>\n",
       "      <th>[C][CH]([CH2])[NH][CH2][S]</th>\n",
       "      <th>[C][CH]([NH])[CH2][CH2][S]</th>\n",
       "      <td>1</td>\n",
       "    </tr>\n",
       "  </tbody>\n",
       "</table>\n",
       "<p>13960003 rows × 1 columns</p>\n",
       "</div>"
      ],
      "text/plain": [
       "                                                                      value\n",
       "feature1                           feature2                                \n",
       "[CH2][CH2][CH2][CH2][CH2]          [CH2][CH2][CH2][CH2][CH2]          20003\n",
       "                                   [CH2][CH2][S][c]([n])[n]             143\n",
       "                                   [C][CH2][CH2][CH2][CH2]             3587\n",
       "                                   [cH][cH][cH][cH][cH]                2802\n",
       "                                   [cH][cH][cH][cH][c]                 4376\n",
       "...                                                                     ...\n",
       "[CH][CH2][CH2][S]([CH2])(=[O])=[O] [CH][NH][CH2][S]([CH2])(=[O])=[O]      1\n",
       "                                   [C][CH]([CH2])[NH][CH2][S]             1\n",
       "[CH][NH][CH2][S]([CH2])(=[O])=[O]  [C][CH]([CH2])[NH][CH2][S]             1\n",
       "                                   [C][CH]([NH])[CH2][CH2][S]             1\n",
       "[C][CH]([CH2])[NH][CH2][S]         [C][CH]([NH])[CH2][CH2][S]             1\n",
       "\n",
       "[13960003 rows x 1 columns]"
      ]
     },
     "execution_count": 11,
     "metadata": {},
     "output_type": "execute_result"
    }
   ],
   "source": [
    "reference_profile = profiles.CooccurrenceProfile.from_dataframe(pd.read_csv('../data/CPF/ZINC/ZINCp_379012.csv', dtype={'feature1': 'str','feature2' : 'str' }), vector_count=379012)\n",
    "reference_profile.df"
   ]
  },
  {
   "cell_type": "code",
   "execution_count": 12,
   "id": "109fa453-c5e6-4a1c-9ebe-1241998ccb2d",
   "metadata": {},
   "outputs": [
    {
     "data": {
      "text/html": [
       "<div>\n",
       "<style scoped>\n",
       "    .dataframe tbody tr th:only-of-type {\n",
       "        vertical-align: middle;\n",
       "    }\n",
       "\n",
       "    .dataframe tbody tr th {\n",
       "        vertical-align: top;\n",
       "    }\n",
       "\n",
       "    .dataframe thead th {\n",
       "        text-align: right;\n",
       "    }\n",
       "</style>\n",
       "<table border=\"1\" class=\"dataframe\">\n",
       "  <thead>\n",
       "    <tr style=\"text-align: right;\">\n",
       "      <th></th>\n",
       "      <th></th>\n",
       "      <th>value</th>\n",
       "    </tr>\n",
       "    <tr>\n",
       "      <th>feature1</th>\n",
       "      <th>feature2</th>\n",
       "      <th></th>\n",
       "    </tr>\n",
       "  </thead>\n",
       "  <tbody>\n",
       "    <tr>\n",
       "      <th rowspan=\"5\" valign=\"top\">[CH2][CH2][CH2][CH2][CH2]</th>\n",
       "      <th>[CH2][CH2][CH2][CH2][CH2]</th>\n",
       "      <td>0.052777</td>\n",
       "    </tr>\n",
       "    <tr>\n",
       "      <th>[CH2][CH2][S][c]([n])[n]</th>\n",
       "      <td>0.000377</td>\n",
       "    </tr>\n",
       "    <tr>\n",
       "      <th>[C][CH2][CH2][CH2][CH2]</th>\n",
       "      <td>0.009464</td>\n",
       "    </tr>\n",
       "    <tr>\n",
       "      <th>[cH][cH][cH][cH][cH]</th>\n",
       "      <td>0.007393</td>\n",
       "    </tr>\n",
       "    <tr>\n",
       "      <th>[cH][cH][cH][cH][c]</th>\n",
       "      <td>0.011546</td>\n",
       "    </tr>\n",
       "    <tr>\n",
       "      <th>...</th>\n",
       "      <th>...</th>\n",
       "      <td>...</td>\n",
       "    </tr>\n",
       "    <tr>\n",
       "      <th rowspan=\"2\" valign=\"top\">[CH][CH2][CH2][S]([CH2])(=[O])=[O]</th>\n",
       "      <th>[CH][NH][CH2][S]([CH2])(=[O])=[O]</th>\n",
       "      <td>0.000003</td>\n",
       "    </tr>\n",
       "    <tr>\n",
       "      <th>[C][CH]([CH2])[NH][CH2][S]</th>\n",
       "      <td>0.000003</td>\n",
       "    </tr>\n",
       "    <tr>\n",
       "      <th rowspan=\"2\" valign=\"top\">[CH][NH][CH2][S]([CH2])(=[O])=[O]</th>\n",
       "      <th>[C][CH]([CH2])[NH][CH2][S]</th>\n",
       "      <td>0.000003</td>\n",
       "    </tr>\n",
       "    <tr>\n",
       "      <th>[C][CH]([NH])[CH2][CH2][S]</th>\n",
       "      <td>0.000003</td>\n",
       "    </tr>\n",
       "    <tr>\n",
       "      <th>[C][CH]([CH2])[NH][CH2][S]</th>\n",
       "      <th>[C][CH]([NH])[CH2][CH2][S]</th>\n",
       "      <td>0.000003</td>\n",
       "    </tr>\n",
       "  </tbody>\n",
       "</table>\n",
       "<p>13960003 rows × 1 columns</p>\n",
       "</div>"
      ],
      "text/plain": [
       "                                                                         value\n",
       "feature1                           feature2                                   \n",
       "[CH2][CH2][CH2][CH2][CH2]          [CH2][CH2][CH2][CH2][CH2]          0.052777\n",
       "                                   [CH2][CH2][S][c]([n])[n]           0.000377\n",
       "                                   [C][CH2][CH2][CH2][CH2]            0.009464\n",
       "                                   [cH][cH][cH][cH][cH]               0.007393\n",
       "                                   [cH][cH][cH][cH][c]                0.011546\n",
       "...                                                                        ...\n",
       "[CH][CH2][CH2][S]([CH2])(=[O])=[O] [CH][NH][CH2][S]([CH2])(=[O])=[O]  0.000003\n",
       "                                   [C][CH]([CH2])[NH][CH2][S]         0.000003\n",
       "[CH][NH][CH2][S]([CH2])(=[O])=[O]  [C][CH]([CH2])[NH][CH2][S]         0.000003\n",
       "                                   [C][CH]([NH])[CH2][CH2][S]         0.000003\n",
       "[C][CH]([CH2])[NH][CH2][S]         [C][CH]([NH])[CH2][CH2][S]         0.000003\n",
       "\n",
       "[13960003 rows x 1 columns]"
      ]
     },
     "execution_count": 12,
     "metadata": {},
     "output_type": "execute_result"
    }
   ],
   "source": [
    "reference_probability_profile = profiles.CooccurrenceProbabilityProfile.from_cooccurrence_profile(reference_profile)\n",
    "reference_probability_profile.df"
   ]
  },
  {
   "cell_type": "markdown",
   "id": "e05a3421-ce92-4384-b44d-0fdec767f133",
   "metadata": {},
   "source": [
    "### Making feature pointwise KL divergence profile between COCONUT and ZINC"
   ]
  },
  {
   "cell_type": "code",
   "execution_count": 13,
   "id": "b5a6a18e-5304-430b-a9d8-c0af5e3638bb",
   "metadata": {},
   "outputs": [
    {
     "data": {
      "text/html": [
       "<div>\n",
       "<style scoped>\n",
       "    .dataframe tbody tr th:only-of-type {\n",
       "        vertical-align: middle;\n",
       "    }\n",
       "\n",
       "    .dataframe tbody tr th {\n",
       "        vertical-align: top;\n",
       "    }\n",
       "\n",
       "    .dataframe thead th {\n",
       "        text-align: right;\n",
       "    }\n",
       "</style>\n",
       "<table border=\"1\" class=\"dataframe\">\n",
       "  <thead>\n",
       "    <tr style=\"text-align: right;\">\n",
       "      <th></th>\n",
       "      <th></th>\n",
       "      <th>value</th>\n",
       "    </tr>\n",
       "    <tr>\n",
       "      <th>feature1</th>\n",
       "      <th>feature2</th>\n",
       "      <th></th>\n",
       "    </tr>\n",
       "  </thead>\n",
       "  <tbody>\n",
       "    <tr>\n",
       "      <th rowspan=\"5\" valign=\"top\">[CH2][CH2][CH2][CH2][CH]</th>\n",
       "      <th>[CH2][CH2][CH2][CH2][CH]</th>\n",
       "      <td>1.847558</td>\n",
       "    </tr>\n",
       "    <tr>\n",
       "      <th>[CH2][CH2][CH]([C]([CH2])=[O])[CH]([CH2])[CH2]</th>\n",
       "      <td>3.431965</td>\n",
       "    </tr>\n",
       "    <tr>\n",
       "      <th>[CH2][CH2][C](=[O])[CH]([CH2])[CH]</th>\n",
       "      <td>5.091474</td>\n",
       "    </tr>\n",
       "    <tr>\n",
       "      <th>[CH3][CH2][CH2][CH2]</th>\n",
       "      <td>4.187864</td>\n",
       "    </tr>\n",
       "    <tr>\n",
       "      <th>[CH3][CH2][CH2][CH2][CH2]</th>\n",
       "      <td>4.440557</td>\n",
       "    </tr>\n",
       "    <tr>\n",
       "      <th>...</th>\n",
       "      <th>...</th>\n",
       "      <td>...</td>\n",
       "    </tr>\n",
       "    <tr>\n",
       "      <th rowspan=\"2\" valign=\"top\">[CH][CH2][CH2][S]([CH2])(=[O])=[O]</th>\n",
       "      <th>[CH][NH][CH2][S]([CH2])(=[O])=[O]</th>\n",
       "      <td>-0.027471</td>\n",
       "    </tr>\n",
       "    <tr>\n",
       "      <th>[C][CH]([CH2])[NH][CH2][S]</th>\n",
       "      <td>-0.027471</td>\n",
       "    </tr>\n",
       "    <tr>\n",
       "      <th rowspan=\"2\" valign=\"top\">[CH][NH][CH2][S]([CH2])(=[O])=[O]</th>\n",
       "      <th>[C][CH]([CH2])[NH][CH2][S]</th>\n",
       "      <td>-0.027471</td>\n",
       "    </tr>\n",
       "    <tr>\n",
       "      <th>[C][CH]([NH])[CH2][CH2][S]</th>\n",
       "      <td>-0.027471</td>\n",
       "    </tr>\n",
       "    <tr>\n",
       "      <th>[C][CH]([CH2])[NH][CH2][S]</th>\n",
       "      <th>[C][CH]([NH])[CH2][CH2][S]</th>\n",
       "      <td>-0.027471</td>\n",
       "    </tr>\n",
       "  </tbody>\n",
       "</table>\n",
       "<p>30685450 rows × 1 columns</p>\n",
       "</div>"
      ],
      "text/plain": [
       "                                                                                      value\n",
       "feature1                           feature2                                                \n",
       "[CH2][CH2][CH2][CH2][CH]           [CH2][CH2][CH2][CH2][CH]                        1.847558\n",
       "                                   [CH2][CH2][CH]([C]([CH2])=[O])[CH]([CH2])[CH2]  3.431965\n",
       "                                   [CH2][CH2][C](=[O])[CH]([CH2])[CH]              5.091474\n",
       "                                   [CH3][CH2][CH2][CH2]                            4.187864\n",
       "                                   [CH3][CH2][CH2][CH2][CH2]                       4.440557\n",
       "...                                                                                     ...\n",
       "[CH][CH2][CH2][S]([CH2])(=[O])=[O] [CH][NH][CH2][S]([CH2])(=[O])=[O]              -0.027471\n",
       "                                   [C][CH]([CH2])[NH][CH2][S]                     -0.027471\n",
       "[CH][NH][CH2][S]([CH2])(=[O])=[O]  [C][CH]([CH2])[NH][CH2][S]                     -0.027471\n",
       "                                   [C][CH]([NH])[CH2][CH2][S]                     -0.027471\n",
       "[C][CH]([CH2])[NH][CH2][S]         [C][CH]([NH])[CH2][CH2][S]                     -0.027471\n",
       "\n",
       "[30685450 rows x 1 columns]"
      ]
     },
     "execution_count": 13,
     "metadata": {},
     "output_type": "execute_result"
    }
   ],
   "source": [
    "difference_pkld_profile = profiles.PointwiseKLDivergenceProfile.from_cooccurrence_probability_profiles(\n",
    "    probability_profile, reference_probability_profile)\n",
    "difference_pkld_profile.df"
   ]
  },
  {
   "cell_type": "markdown",
   "id": "0a8d1d52-e9b9-4d08-9fb5-76be5e28ded2",
   "metadata": {},
   "source": [
    "### More occuring fragments in COCONUT dataset than in ZINC dataset"
   ]
  },
  {
   "cell_type": "code",
   "execution_count": 14,
   "id": "e2f4fb6e-f5d2-49ec-89ea-f8877361c586",
   "metadata": {},
   "outputs": [
    {
     "data": {
      "text/html": [
       "<div>\n",
       "<style scoped>\n",
       "    .dataframe tbody tr th:only-of-type {\n",
       "        vertical-align: middle;\n",
       "    }\n",
       "\n",
       "    .dataframe tbody tr th {\n",
       "        vertical-align: top;\n",
       "    }\n",
       "\n",
       "    .dataframe thead th {\n",
       "        text-align: right;\n",
       "    }\n",
       "</style>\n",
       "<table border=\"1\" class=\"dataframe\">\n",
       "  <thead>\n",
       "    <tr style=\"text-align: right;\">\n",
       "      <th></th>\n",
       "      <th></th>\n",
       "      <th>value</th>\n",
       "    </tr>\n",
       "    <tr>\n",
       "      <th>feature1</th>\n",
       "      <th>feature2</th>\n",
       "      <th></th>\n",
       "    </tr>\n",
       "  </thead>\n",
       "  <tbody>\n",
       "    <tr>\n",
       "      <th>[CH2]=[C]([CH])[C](=[O])[O][CH]</th>\n",
       "      <th>[CH2]=[C]([CH])[C](=[O])[O][CH]</th>\n",
       "      <td>11.962995</td>\n",
       "    </tr>\n",
       "    <tr>\n",
       "      <th rowspan=\"2\" valign=\"top\">[CH2][CH]([O])[CH2][O][P]</th>\n",
       "      <th>[CH]=[CH][CH2][CH2][CH2]</th>\n",
       "      <td>11.586323</td>\n",
       "    </tr>\n",
       "    <tr>\n",
       "      <th>[CH][CH2][CH2][CH2][CH2]</th>\n",
       "      <td>11.583097</td>\n",
       "    </tr>\n",
       "    <tr>\n",
       "      <th>[CH][O][CH2][CH]([CH])[OH]</th>\n",
       "      <th>[C]=[CH][CH2][CH]([C])[C]</th>\n",
       "      <td>11.531910</td>\n",
       "    </tr>\n",
       "    <tr>\n",
       "      <th>[CH][O][CH]([O][CH2])[CH]([CH])[OH]</th>\n",
       "      <th>[C][CH2][CH2][CH]([C])[C]</th>\n",
       "      <td>11.517015</td>\n",
       "    </tr>\n",
       "    <tr>\n",
       "      <th>[CH2][CH2][C]([CH3])([CH]([C])[CH2])[CH]([CH2])[C]</th>\n",
       "      <th>[CH][CH2][O][CH]([CH])[O]</th>\n",
       "      <td>11.490694</td>\n",
       "    </tr>\n",
       "    <tr>\n",
       "      <th>[CH2]=[C]([CH])[C](=[O])[O][CH]</th>\n",
       "      <th>[C][C](=[O])[O][CH]([CH])[CH]</th>\n",
       "      <td>11.402989</td>\n",
       "    </tr>\n",
       "    <tr>\n",
       "      <th>[CH][CH]([OH])[CH]([OH])[CH2][O]</th>\n",
       "      <th>[C]=[CH][CH2][CH]([C])[C]</th>\n",
       "      <td>11.358395</td>\n",
       "    </tr>\n",
       "    <tr>\n",
       "      <th>[C]=[CH][CH2][CH]([C])[C]</th>\n",
       "      <th>[C][C](=[O])[O][CH]([CH])[O]</th>\n",
       "      <td>11.336668</td>\n",
       "    </tr>\n",
       "    <tr>\n",
       "      <th>[CH2]=[C]([C](=[O])[O])[CH]([CH])[CH]</th>\n",
       "      <th>[CH2]=[C]([C](=[O])[O])[CH]([CH])[CH]</th>\n",
       "      <td>11.309043</td>\n",
       "    </tr>\n",
       "    <tr>\n",
       "      <th>[CH2]=[C]([CH])[C](=[O])[O][CH]</th>\n",
       "      <th>[CH2]=[C]([C](=[O])[O])[CH]([CH])[CH]</th>\n",
       "      <td>11.286554</td>\n",
       "    </tr>\n",
       "    <tr>\n",
       "      <th>[CH][CH]([O])[CH2][OH]</th>\n",
       "      <th>[CH][O][CH]([CH3])[CH]([CH])[O]</th>\n",
       "      <td>11.280872</td>\n",
       "    </tr>\n",
       "    <tr>\n",
       "      <th>[CH][O][CH]([O][CH2])[CH]([CH])[OH]</th>\n",
       "      <th>[C]=[CH][CH2][CH]([C])[C]</th>\n",
       "      <td>11.268880</td>\n",
       "    </tr>\n",
       "    <tr>\n",
       "      <th>[CH3][CH]([CH])[O][CH]([CH])[O]</th>\n",
       "      <th>[C]=[CH][CH2][CH]([C])[C]</th>\n",
       "      <td>11.242248</td>\n",
       "    </tr>\n",
       "    <tr>\n",
       "      <th>[CH][O][CH]([CH2][OH])[CH]([CH])[OH]</th>\n",
       "      <th>[CH][O][CH]([CH3])[CH]([CH])[O]</th>\n",
       "      <td>11.192307</td>\n",
       "    </tr>\n",
       "    <tr>\n",
       "      <th>[CH][CH2][CH]=[C]([CH])[C]</th>\n",
       "      <th>[CH][CH2][O][CH]([CH])[O]</th>\n",
       "      <td>11.183813</td>\n",
       "    </tr>\n",
       "    <tr>\n",
       "      <th>[CH2][CH2][C]([CH3])([CH]([C])[CH2])[CH]([CH2])[C]</th>\n",
       "      <th>[CH][O][CH2][CH]([CH])[OH]</th>\n",
       "      <td>11.177715</td>\n",
       "    </tr>\n",
       "    <tr>\n",
       "      <th>[CH3][CH]([CH])[O][CH]([CH])[O]</th>\n",
       "      <th>[CH][CH2][CH2][C]([CH])([CH3])[CH]</th>\n",
       "      <td>11.157408</td>\n",
       "    </tr>\n",
       "    <tr>\n",
       "      <th>[CH2][CH]([C])[O][CH]([CH])[O]</th>\n",
       "      <th>[CH][O][CH]([O][CH2])[CH]([CH])[OH]</th>\n",
       "      <td>11.123550</td>\n",
       "    </tr>\n",
       "    <tr>\n",
       "      <th>[CH2][CH2][CH]([C]([CH])([CH3])[CH2])[C]([CH])([CH3])[CH3]</th>\n",
       "      <th>[CH][CH]([OH])[CH]([OH])[CH]([O])[O]</th>\n",
       "      <td>11.117828</td>\n",
       "    </tr>\n",
       "    <tr>\n",
       "      <th>[C][c]([c])[cH][cH][c]</th>\n",
       "      <th>[c][CH]=[C]([O][c])[C]([c])=[O]</th>\n",
       "      <td>11.117510</td>\n",
       "    </tr>\n",
       "    <tr>\n",
       "      <th>[c][CH]([CH])[O][c]([c])[c]</th>\n",
       "      <th>[c][CH]([CH])[O][c]([c])[c]</th>\n",
       "      <td>11.100527</td>\n",
       "    </tr>\n",
       "    <tr>\n",
       "      <th rowspan=\"2\" valign=\"top\">[CH]=[C]([O])[C](=[O])[c]([cH])[c]</th>\n",
       "      <th>[CH]=[C]([O])[C](=[O])[c]([cH])[c]</th>\n",
       "      <td>11.064629</td>\n",
       "    </tr>\n",
       "    <tr>\n",
       "      <th>[C][c]([c])[cH][cH][c]</th>\n",
       "      <td>11.036602</td>\n",
       "    </tr>\n",
       "    <tr>\n",
       "      <th>[CH2][CH2][CH]([O][CH])[C]([CH3])([CH3])[CH]</th>\n",
       "      <th>[CH][CH2][CH2][C]([CH])([CH3])[CH]</th>\n",
       "      <td>11.012138</td>\n",
       "    </tr>\n",
       "    <tr>\n",
       "      <th>[CH][CH2][CH2][C]([CH])([CH3])[CH]</th>\n",
       "      <th>[CH][O][CH]([CH3])[CH]([CH])[OH]</th>\n",
       "      <td>11.008020</td>\n",
       "    </tr>\n",
       "    <tr>\n",
       "      <th>[CH][CH]([OH])[CH]([OH])[CH]([CH2])[OH]</th>\n",
       "      <th>[C]=[CH][CH2][CH]([C])[C]</th>\n",
       "      <td>11.003893</td>\n",
       "    </tr>\n",
       "    <tr>\n",
       "      <th>[CH2][CH2][CH]([C]([CH])([CH3])[CH2])[C]([CH])([CH3])[CH3]</th>\n",
       "      <th>[CH][CH]([OH])[CH]([OH])[CH]([CH])[OH]</th>\n",
       "      <td>11.003890</td>\n",
       "    </tr>\n",
       "    <tr>\n",
       "      <th>[CH2][CH2][C]([CH3])([CH]([C])[CH2])[CH]([CH2])[C]</th>\n",
       "      <th>[CH][CH]([OH])[CH]([OH])[CH2][O]</th>\n",
       "      <td>10.992819</td>\n",
       "    </tr>\n",
       "    <tr>\n",
       "      <th>[CH2]=[C]([C](=[O])[O])[CH]([CH])[CH]</th>\n",
       "      <th>[C][C](=[O])[O][CH]([CH])[CH]</th>\n",
       "      <td>10.985860</td>\n",
       "    </tr>\n",
       "    <tr>\n",
       "      <th>[CH3][CH]([CH])[O][CH]([CH])[O]</th>\n",
       "      <th>[CH][CH2][CH]=[C]([CH])[C]</th>\n",
       "      <td>10.969010</td>\n",
       "    </tr>\n",
       "    <tr>\n",
       "      <th>[CH2][CH2][CH]([C]([CH])([CH3])[CH2])[C]([CH])([CH3])[CH3]</th>\n",
       "      <th>[CH2][CH2][CH]([O][CH])[C]([CH3])([CH3])[CH]</th>\n",
       "      <td>10.967594</td>\n",
       "    </tr>\n",
       "    <tr>\n",
       "      <th>[CH2][CH2][C]([CH3])([CH]([C])[CH2])[CH]([CH2])[C]</th>\n",
       "      <th>[CH3][CH]([CH])[O][CH]([CH])[O]</th>\n",
       "      <td>10.961222</td>\n",
       "    </tr>\n",
       "    <tr>\n",
       "      <th>[CH]=[C]([O])[C](=[O])[c]([cH])[c]</th>\n",
       "      <th>[c][CH]=[C]([O][c])[C]([c])=[O]</th>\n",
       "      <td>10.959797</td>\n",
       "    </tr>\n",
       "    <tr>\n",
       "      <th rowspan=\"2\" valign=\"top\">[CH2][CH2][CH]([C]([CH])([CH3])[CH2])[C]([CH])([CH3])[CH3]</th>\n",
       "      <th>[CH2][CH]([CH])[O][CH]([CH])[O]</th>\n",
       "      <td>10.956239</td>\n",
       "    </tr>\n",
       "    <tr>\n",
       "      <th>[CH2][CH]([C])[O][CH]([CH])[O]</th>\n",
       "      <td>10.954100</td>\n",
       "    </tr>\n",
       "    <tr>\n",
       "      <th>[CH][O][CH2][CH]([CH])[OH]</th>\n",
       "      <th>[CH][O][CH]([O][CH])[CH]([CH])[O]</th>\n",
       "      <td>10.951958</td>\n",
       "    </tr>\n",
       "    <tr>\n",
       "      <th>[CH]=[C]([CH])[C]([CH3])([CH2][CH2])[C]([CH])([CH2])[CH3]</th>\n",
       "      <th>[CH][CH]([OH])[CH]([OH])[CH]([O])[O]</th>\n",
       "      <td>10.951958</td>\n",
       "    </tr>\n",
       "    <tr>\n",
       "      <th>[CH][CH]([O])[CH]([OH])[CH]([O])[O]</th>\n",
       "      <th>[CH][O][CH]([CH3])[CH]([CH])[O]</th>\n",
       "      <td>10.951247</td>\n",
       "    </tr>\n",
       "    <tr>\n",
       "      <th>[CH]=[C]([O])[C](=[O])[c]([c])[cH]</th>\n",
       "      <th>[c][cH][cH][c]([cH])[O]</th>\n",
       "      <td>10.933983</td>\n",
       "    </tr>\n",
       "    <tr>\n",
       "      <th>[CH2][CH2][CH]([O][CH])[C]([CH3])([CH3])[CH]</th>\n",
       "      <th>[CH2][CH2][C]([CH3])([CH]([C])[CH2])[CH]([CH2])[C]</th>\n",
       "      <td>10.926729</td>\n",
       "    </tr>\n",
       "    <tr>\n",
       "      <th>[CH][CH2][CH]=[C]([CH])[C]</th>\n",
       "      <th>[CH][O][CH2][CH]([CH])[OH]</th>\n",
       "      <td>10.912116</td>\n",
       "    </tr>\n",
       "    <tr>\n",
       "      <th>[CH][O][CH]([CH3])[CH]([CH])[OH]</th>\n",
       "      <th>[C]=[CH][CH2][CH]([C])[C]</th>\n",
       "      <td>10.912116</td>\n",
       "    </tr>\n",
       "    <tr>\n",
       "      <th>[CH2][CH2][CH]([C]([CH])([CH3])[CH2])[C]([CH])([CH3])[CH3]</th>\n",
       "      <th>[CH2][CH]([O])[CH]([OH])[CH]([CH])[OH]</th>\n",
       "      <td>10.911378</td>\n",
       "    </tr>\n",
       "    <tr>\n",
       "      <th>[C][C]([O])=[CH][c]([cH])[cH]</th>\n",
       "      <th>[C][c]([c])[cH][cH][c]</th>\n",
       "      <td>10.906965</td>\n",
       "    </tr>\n",
       "    <tr>\n",
       "      <th rowspan=\"2\" valign=\"top\">[CH2][CH2][CH]([C]([CH])([CH3])[CH2])[C]([CH])([CH3])[CH3]</th>\n",
       "      <th>[CH][O][CH]([O][CH])[CH]([CH])[OH]</th>\n",
       "      <td>10.905486</td>\n",
       "    </tr>\n",
       "    <tr>\n",
       "      <th>[CH][CH]([O])[CH2][OH]</th>\n",
       "      <td>10.877920</td>\n",
       "    </tr>\n",
       "    <tr>\n",
       "      <th>[CH3][CH]([O])[CH]([OH])[CH]([CH])[OH]</th>\n",
       "      <th>[CH][CH2][CH2][C]([CH])([CH3])[CH]</th>\n",
       "      <td>10.872645</td>\n",
       "    </tr>\n",
       "    <tr>\n",
       "      <th>[CH][CH]([OH])[CH]([OH])[CH2][O]</th>\n",
       "      <th>[CH][O][CH]([O][CH])[CH]([CH])[O]</th>\n",
       "      <td>10.860515</td>\n",
       "    </tr>\n",
       "    <tr>\n",
       "      <th>[CH2][CH2][C]([CH3])([CH]([C])[CH2])[CH]([CH2])[C]</th>\n",
       "      <th>[C][C](=[O])[O][CH]([CH])[O]</th>\n",
       "      <td>10.859757</td>\n",
       "    </tr>\n",
       "  </tbody>\n",
       "</table>\n",
       "</div>"
      ],
      "text/plain": [
       "                                                                                                           value\n",
       "feature1                                           feature2                                                     \n",
       "[CH2]=[C]([CH])[C](=[O])[O][CH]                    [CH2]=[C]([CH])[C](=[O])[O][CH]                     11.962995\n",
       "[CH2][CH]([O])[CH2][O][P]                          [CH]=[CH][CH2][CH2][CH2]                            11.586323\n",
       "                                                   [CH][CH2][CH2][CH2][CH2]                            11.583097\n",
       "[CH][O][CH2][CH]([CH])[OH]                         [C]=[CH][CH2][CH]([C])[C]                           11.531910\n",
       "[CH][O][CH]([O][CH2])[CH]([CH])[OH]                [C][CH2][CH2][CH]([C])[C]                           11.517015\n",
       "[CH2][CH2][C]([CH3])([CH]([C])[CH2])[CH]([CH2])[C] [CH][CH2][O][CH]([CH])[O]                           11.490694\n",
       "[CH2]=[C]([CH])[C](=[O])[O][CH]                    [C][C](=[O])[O][CH]([CH])[CH]                       11.402989\n",
       "[CH][CH]([OH])[CH]([OH])[CH2][O]                   [C]=[CH][CH2][CH]([C])[C]                           11.358395\n",
       "[C]=[CH][CH2][CH]([C])[C]                          [C][C](=[O])[O][CH]([CH])[O]                        11.336668\n",
       "[CH2]=[C]([C](=[O])[O])[CH]([CH])[CH]              [CH2]=[C]([C](=[O])[O])[CH]([CH])[CH]               11.309043\n",
       "[CH2]=[C]([CH])[C](=[O])[O][CH]                    [CH2]=[C]([C](=[O])[O])[CH]([CH])[CH]               11.286554\n",
       "[CH][CH]([O])[CH2][OH]                             [CH][O][CH]([CH3])[CH]([CH])[O]                     11.280872\n",
       "[CH][O][CH]([O][CH2])[CH]([CH])[OH]                [C]=[CH][CH2][CH]([C])[C]                           11.268880\n",
       "[CH3][CH]([CH])[O][CH]([CH])[O]                    [C]=[CH][CH2][CH]([C])[C]                           11.242248\n",
       "[CH][O][CH]([CH2][OH])[CH]([CH])[OH]               [CH][O][CH]([CH3])[CH]([CH])[O]                     11.192307\n",
       "[CH][CH2][CH]=[C]([CH])[C]                         [CH][CH2][O][CH]([CH])[O]                           11.183813\n",
       "[CH2][CH2][C]([CH3])([CH]([C])[CH2])[CH]([CH2])[C] [CH][O][CH2][CH]([CH])[OH]                          11.177715\n",
       "[CH3][CH]([CH])[O][CH]([CH])[O]                    [CH][CH2][CH2][C]([CH])([CH3])[CH]                  11.157408\n",
       "[CH2][CH]([C])[O][CH]([CH])[O]                     [CH][O][CH]([O][CH2])[CH]([CH])[OH]                 11.123550\n",
       "[CH2][CH2][CH]([C]([CH])([CH3])[CH2])[C]([CH])(... [CH][CH]([OH])[CH]([OH])[CH]([O])[O]                11.117828\n",
       "[C][c]([c])[cH][cH][c]                             [c][CH]=[C]([O][c])[C]([c])=[O]                     11.117510\n",
       "[c][CH]([CH])[O][c]([c])[c]                        [c][CH]([CH])[O][c]([c])[c]                         11.100527\n",
       "[CH]=[C]([O])[C](=[O])[c]([cH])[c]                 [CH]=[C]([O])[C](=[O])[c]([cH])[c]                  11.064629\n",
       "                                                   [C][c]([c])[cH][cH][c]                              11.036602\n",
       "[CH2][CH2][CH]([O][CH])[C]([CH3])([CH3])[CH]       [CH][CH2][CH2][C]([CH])([CH3])[CH]                  11.012138\n",
       "[CH][CH2][CH2][C]([CH])([CH3])[CH]                 [CH][O][CH]([CH3])[CH]([CH])[OH]                    11.008020\n",
       "[CH][CH]([OH])[CH]([OH])[CH]([CH2])[OH]            [C]=[CH][CH2][CH]([C])[C]                           11.003893\n",
       "[CH2][CH2][CH]([C]([CH])([CH3])[CH2])[C]([CH])(... [CH][CH]([OH])[CH]([OH])[CH]([CH])[OH]              11.003890\n",
       "[CH2][CH2][C]([CH3])([CH]([C])[CH2])[CH]([CH2])[C] [CH][CH]([OH])[CH]([OH])[CH2][O]                    10.992819\n",
       "[CH2]=[C]([C](=[O])[O])[CH]([CH])[CH]              [C][C](=[O])[O][CH]([CH])[CH]                       10.985860\n",
       "[CH3][CH]([CH])[O][CH]([CH])[O]                    [CH][CH2][CH]=[C]([CH])[C]                          10.969010\n",
       "[CH2][CH2][CH]([C]([CH])([CH3])[CH2])[C]([CH])(... [CH2][CH2][CH]([O][CH])[C]([CH3])([CH3])[CH]        10.967594\n",
       "[CH2][CH2][C]([CH3])([CH]([C])[CH2])[CH]([CH2])[C] [CH3][CH]([CH])[O][CH]([CH])[O]                     10.961222\n",
       "[CH]=[C]([O])[C](=[O])[c]([cH])[c]                 [c][CH]=[C]([O][c])[C]([c])=[O]                     10.959797\n",
       "[CH2][CH2][CH]([C]([CH])([CH3])[CH2])[C]([CH])(... [CH2][CH]([CH])[O][CH]([CH])[O]                     10.956239\n",
       "                                                   [CH2][CH]([C])[O][CH]([CH])[O]                      10.954100\n",
       "[CH][O][CH2][CH]([CH])[OH]                         [CH][O][CH]([O][CH])[CH]([CH])[O]                   10.951958\n",
       "[CH]=[C]([CH])[C]([CH3])([CH2][CH2])[C]([CH])([... [CH][CH]([OH])[CH]([OH])[CH]([O])[O]                10.951958\n",
       "[CH][CH]([O])[CH]([OH])[CH]([O])[O]                [CH][O][CH]([CH3])[CH]([CH])[O]                     10.951247\n",
       "[CH]=[C]([O])[C](=[O])[c]([c])[cH]                 [c][cH][cH][c]([cH])[O]                             10.933983\n",
       "[CH2][CH2][CH]([O][CH])[C]([CH3])([CH3])[CH]       [CH2][CH2][C]([CH3])([CH]([C])[CH2])[CH]([CH2])[C]  10.926729\n",
       "[CH][CH2][CH]=[C]([CH])[C]                         [CH][O][CH2][CH]([CH])[OH]                          10.912116\n",
       "[CH][O][CH]([CH3])[CH]([CH])[OH]                   [C]=[CH][CH2][CH]([C])[C]                           10.912116\n",
       "[CH2][CH2][CH]([C]([CH])([CH3])[CH2])[C]([CH])(... [CH2][CH]([O])[CH]([OH])[CH]([CH])[OH]              10.911378\n",
       "[C][C]([O])=[CH][c]([cH])[cH]                      [C][c]([c])[cH][cH][c]                              10.906965\n",
       "[CH2][CH2][CH]([C]([CH])([CH3])[CH2])[C]([CH])(... [CH][O][CH]([O][CH])[CH]([CH])[OH]                  10.905486\n",
       "                                                   [CH][CH]([O])[CH2][OH]                              10.877920\n",
       "[CH3][CH]([O])[CH]([OH])[CH]([CH])[OH]             [CH][CH2][CH2][C]([CH])([CH3])[CH]                  10.872645\n",
       "[CH][CH]([OH])[CH]([OH])[CH2][O]                   [CH][O][CH]([O][CH])[CH]([CH])[O]                   10.860515\n",
       "[CH2][CH2][C]([CH3])([CH]([C])[CH2])[CH]([CH2])[C] [C][C](=[O])[O][CH]([CH])[O]                        10.859757"
      ]
     },
     "execution_count": 14,
     "metadata": {},
     "output_type": "execute_result"
    }
   ],
   "source": [
    "difference_pkld_profile.df.nlargest(50,\"value\")"
   ]
  },
  {
   "cell_type": "markdown",
   "id": "8fbe7704-37ce-45ba-acdc-2a44facc355a",
   "metadata": {},
   "source": [
    "### Drawing those fragments"
   ]
  },
  {
   "cell_type": "code",
   "execution_count": null,
   "id": "07bfa113-70cd-45d9-9fe4-9541f76f4a1d",
   "metadata": {},
   "outputs": [],
   "source": [
    "# Combination [CH2]=[C]([CH])[C](=[O])[O][CH] and [CH2]=[C]([CH])[C](=[O])[O][CH] value: 11.962995"
   ]
  },
  {
   "cell_type": "code",
   "execution_count": 37,
   "id": "8685220e-3db2-4aca-b729-2004dba8fafb",
   "metadata": {},
   "outputs": [
    {
     "data": {
      "image/png": "[encoded data removed]",
      "text/plain": [
       "<rdkit.Chem.rdchem.Mol at 0x7fddb50e05e0>"
      ]
     },
     "execution_count": 37,
     "metadata": {},
     "output_type": "execute_result"
    }
   ],
   "source": [
    "Chem.MolFromSmarts('[CH2]=[C]([CH])[C](=[O])[O][CH]')"
   ]
  },
  {
   "cell_type": "code",
   "execution_count": 38,
   "id": "a10dad85-ac42-450f-aff5-9e2afaf4f162",
   "metadata": {},
   "outputs": [
    {
     "data": {
      "image/png": "[encoded data removed]",
      "text/plain": [
       "<rdkit.Chem.rdchem.Mol at 0x7fddb50e3a00>"
      ]
     },
     "execution_count": 38,
     "metadata": {},
     "output_type": "execute_result"
    }
   ],
   "source": [
    "Chem.MolFromSmarts('[CH2]=[C]([CH])[C](=[O])[O][CH]')"
   ]
  },
  {
   "cell_type": "code",
   "execution_count": null,
   "id": "ad9dc73f-078a-4d14-83f4-b599f1fdaccc",
   "metadata": {},
   "outputs": [],
   "source": [
    "# Fragments [CH2][CH]([O])[CH2][O][P] and [CH]=[CH][CH2][CH2][CH2] value: 11.586323"
   ]
  },
  {
   "cell_type": "code",
   "execution_count": 42,
   "id": "e0b9f0cf-005f-4fc2-89fa-5ebd5b6e7a40",
   "metadata": {},
   "outputs": [
    {
     "data": {
      "image/png": "[encoded data removed]",
      "text/plain": [
       "<rdkit.Chem.rdchem.Mol at 0x7fddb4ff6e20>"
      ]
     },
     "execution_count": 42,
     "metadata": {},
     "output_type": "execute_result"
    }
   ],
   "source": [
    "Chem.MolFromSmarts('[CH2][CH]([O])[CH2][O][P]')"
   ]
  },
  {
   "cell_type": "code",
   "execution_count": 41,
   "id": "0f1a48d4-751b-49e2-bb2e-fd730a9cee13",
   "metadata": {},
   "outputs": [
    {
     "data": {
      "image/png": "[encoded data removed]",
      "text/plain": [
       "<rdkit.Chem.rdchem.Mol at 0x7fddb50e3280>"
      ]
     },
     "execution_count": 41,
     "metadata": {},
     "output_type": "execute_result"
    }
   ],
   "source": [
    "Chem.MolFromSmarts('[CH]=[CH][CH2][CH2][CH2]')"
   ]
  },
  {
   "cell_type": "code",
   "execution_count": null,
   "id": "60c53e0d-9760-4598-bc10-4cc707d91ff8",
   "metadata": {},
   "outputs": [],
   "source": [
    "## Fragments [CH2][CH]([O])[CH2][O][P] and [CH][CH2][CH2][CH2][CH2] 11.583097"
   ]
  },
  {
   "cell_type": "code",
   "execution_count": 43,
   "id": "327b7ba5-9ca9-4385-b1d6-0acd94e7b905",
   "metadata": {},
   "outputs": [
    {
     "data": {
      "image/png": "[encoded data removed]",
      "text/plain": [
       "<rdkit.Chem.rdchem.Mol at 0x7fddb4ff61c0>"
      ]
     },
     "execution_count": 43,
     "metadata": {},
     "output_type": "execute_result"
    }
   ],
   "source": [
    "Chem.MolFromSmarts('[CH2][CH]([O])[CH2][O][P]')"
   ]
  },
  {
   "cell_type": "code",
   "execution_count": 44,
   "id": "d9d30bce-7cd1-439b-977b-57b7553345fe",
   "metadata": {},
   "outputs": [
    {
     "data": {
      "image/png": "[encoded data removed]",
      "text/plain": [
       "<rdkit.Chem.rdchem.Mol at 0x7fddb50e3340>"
      ]
     },
     "execution_count": 44,
     "metadata": {},
     "output_type": "execute_result"
    }
   ],
   "source": [
    "Chem.MolFromSmarts('[CH][CH2][CH2][CH2][CH2]')"
   ]
  },
  {
   "cell_type": "code",
   "execution_count": null,
   "id": "68bf208d-61c2-49d4-8876-ea75b4225677",
   "metadata": {},
   "outputs": [],
   "source": [
    "# Fragments [CH][O][CH2][CH]([CH])[OH] [C]=[CH][CH2][CH]([C])[C] 11.531910"
   ]
  },
  {
   "cell_type": "code",
   "execution_count": 45,
   "id": "1f7625e7-5574-4521-869e-6ae6ac74220e",
   "metadata": {},
   "outputs": [
    {
     "data": {
      "image/png": "[encoded data removed]",
      "text/plain": [
       "<rdkit.Chem.rdchem.Mol at 0x7fdf10b0ce80>"
      ]
     },
     "execution_count": 45,
     "metadata": {},
     "output_type": "execute_result"
    }
   ],
   "source": [
    "Chem.MolFromSmarts('[CH][O][CH2][CH]([CH])[OH]')"
   ]
  },
  {
   "cell_type": "code",
   "execution_count": 46,
   "id": "c4a5a6c5-0e8d-4e80-be16-58eebbbb386b",
   "metadata": {},
   "outputs": [
    {
     "data": {
      "image/png": "[encoded data removed]",
      "text/plain": [
       "<rdkit.Chem.rdchem.Mol at 0x7fddb4ff6e80>"
      ]
     },
     "execution_count": 46,
     "metadata": {},
     "output_type": "execute_result"
    }
   ],
   "source": [
    "Chem.MolFromSmarts('[C]=[CH][CH2][CH]([C])[C]')"
   ]
  },
  {
   "cell_type": "code",
   "execution_count": null,
   "id": "8d0640c7-8f3a-4b88-90b5-4ff09262f39b",
   "metadata": {},
   "outputs": [],
   "source": [
    "# Fragments [CH][O][CH]([O][CH2])[CH]([CH])[OH] [C][CH2][CH2][CH]([C])[C] 11.517015"
   ]
  },
  {
   "cell_type": "code",
   "execution_count": 47,
   "id": "958e735d-07dc-4805-858d-6765ef9e0cc0",
   "metadata": {},
   "outputs": [
    {
     "data": {
      "image/png": "[encoded data removed]",
      "text/plain": [
       "<rdkit.Chem.rdchem.Mol at 0x7fddb4ff6160>"
      ]
     },
     "execution_count": 47,
     "metadata": {},
     "output_type": "execute_result"
    }
   ],
   "source": [
    "Chem.MolFromSmarts('[CH][O][CH]([O][CH2])[CH]([CH])[OH]')"
   ]
  },
  {
   "cell_type": "code",
   "execution_count": 48,
   "id": "fba4b7fb-1abe-4e1e-8bd7-b0a9c67f5a69",
   "metadata": {},
   "outputs": [
    {
     "data": {
      "image/png": "[encoded data removed]",
      "text/plain": [
       "<rdkit.Chem.rdchem.Mol at 0x7fddb4ff6ca0>"
      ]
     },
     "execution_count": 48,
     "metadata": {},
     "output_type": "execute_result"
    }
   ],
   "source": [
    "Chem.MolFromSmarts('[C][CH2][CH2][CH]([C])[C]')"
   ]
  },
  {
   "cell_type": "code",
   "execution_count": null,
   "id": "d06b2c2a-00cf-43bc-accb-d0e8b3203176",
   "metadata": {},
   "outputs": [],
   "source": [
    "# Fragments [CH2][CH2][C]([CH3])([CH]([C])[CH2])[CH]([CH2])[C] [CH][CH2][O][CH]([CH])[O] 11.490694"
   ]
  },
  {
   "cell_type": "code",
   "execution_count": 51,
   "id": "e02e4b5f-12ec-4346-993e-6ad8ae38f236",
   "metadata": {},
   "outputs": [
    {
     "data": {
      "image/png": "[encoded data removed]",
      "text/plain": [
       "<rdkit.Chem.rdchem.Mol at 0x7fddb4ff6ee0>"
      ]
     },
     "execution_count": 51,
     "metadata": {},
     "output_type": "execute_result"
    }
   ],
   "source": [
    "Chem.MolFromSmarts('[CH2][CH2][C]([CH3])([CH]([C])[CH2])[CH]([CH2])[C]')"
   ]
  },
  {
   "cell_type": "code",
   "execution_count": 52,
   "id": "cbf1db8b-da4f-4110-bbc4-b83c0034a47b",
   "metadata": {},
   "outputs": [
    {
     "data": {
      "image/png": "[encoded data removed]",
      "text/plain": [
       "<rdkit.Chem.rdchem.Mol at 0x7fddb4ff91c0>"
      ]
     },
     "execution_count": 52,
     "metadata": {},
     "output_type": "execute_result"
    }
   ],
   "source": [
    "Chem.MolFromSmarts('[CH][CH2][O][CH]([CH])[O]')"
   ]
  },
  {
   "cell_type": "code",
   "execution_count": null,
   "id": "7c457096-277a-4fb6-8e83-b0ce78c58dea",
   "metadata": {},
   "outputs": [],
   "source": [
    "# Fragments [CH2]=[C]([CH])[C](=[O])[O][CH] [C][C](=[O])[O][CH]([CH])[CH] 11.402989"
   ]
  },
  {
   "cell_type": "code",
   "execution_count": 53,
   "id": "5e61a1fe-6792-4663-b741-6f496e76127d",
   "metadata": {},
   "outputs": [
    {
     "data": {
      "image/png": "[encoded data removed]",
      "text/plain": [
       "<rdkit.Chem.rdchem.Mol at 0x7fddb50e6640>"
      ]
     },
     "execution_count": 53,
     "metadata": {},
     "output_type": "execute_result"
    }
   ],
   "source": [
    "Chem.MolFromSmarts('[CH2]=[C]([CH])[C](=[O])[O][CH]')"
   ]
  },
  {
   "cell_type": "code",
   "execution_count": 54,
   "id": "57ac59e2-43b3-4ce1-b0c3-51df509ddbdc",
   "metadata": {},
   "outputs": [
    {
     "data": {
      "image/png": "[encoded data removed]",
      "text/plain": [
       "<rdkit.Chem.rdchem.Mol at 0x7fddb4ff6280>"
      ]
     },
     "execution_count": 54,
     "metadata": {},
     "output_type": "execute_result"
    }
   ],
   "source": [
    "Chem.MolFromSmarts('[C][C](=[O])[O][CH]([CH])[CH]')"
   ]
  },
  {
   "cell_type": "code",
   "execution_count": null,
   "id": "96e7241f-1ab6-4cea-bf0a-5c490bfd04b1",
   "metadata": {},
   "outputs": [],
   "source": [
    "# Fragments [CH][CH]([OH])[CH]([OH])[CH2][O] [C]=[CH][CH2][CH]([C])[C] 11.358395"
   ]
  },
  {
   "cell_type": "code",
   "execution_count": 55,
   "id": "8446150e-1a19-479d-a87c-1a27164197c9",
   "metadata": {},
   "outputs": [
    {
     "data": {
      "image/png": "[encoded data removed]",
      "text/plain": [
       "<rdkit.Chem.rdchem.Mol at 0x7fddb4ff93a0>"
      ]
     },
     "execution_count": 55,
     "metadata": {},
     "output_type": "execute_result"
    }
   ],
   "source": [
    "Chem.MolFromSmarts('[CH][CH]([OH])[CH]([OH])[CH2][O]')"
   ]
  },
  {
   "cell_type": "code",
   "execution_count": 56,
   "id": "8dcc51da-caee-4345-aaef-37943599d614",
   "metadata": {},
   "outputs": [
    {
     "data": {
      "image/png": "[encoded data removed]",
      "text/plain": [
       "<rdkit.Chem.rdchem.Mol at 0x7fddb4ff9160>"
      ]
     },
     "execution_count": 56,
     "metadata": {},
     "output_type": "execute_result"
    }
   ],
   "source": [
    "Chem.MolFromSmarts('[C]=[CH][CH2][CH]([C])[C]')"
   ]
  },
  {
   "cell_type": "code",
   "execution_count": null,
   "id": "91da640d-4851-4a17-b9a9-e7b590d4e457",
   "metadata": {},
   "outputs": [],
   "source": [
    "#Fragments [C]=[CH][CH2][CH]([C])[C] [C][C](=[O])[O][CH]([CH])[O] 11.336668"
   ]
  },
  {
   "cell_type": "code",
   "execution_count": 57,
   "id": "9dd10341-bbac-4a6c-8c1a-640439df1476",
   "metadata": {},
   "outputs": [
    {
     "data": {
      "image/png": "[encoded data removed]",
      "text/plain": [
       "<rdkit.Chem.rdchem.Mol at 0x7fddb4ff9b80>"
      ]
     },
     "execution_count": 57,
     "metadata": {},
     "output_type": "execute_result"
    }
   ],
   "source": [
    "Chem.MolFromSmarts('[C]=[CH][CH2][CH]([C])[C]')"
   ]
  },
  {
   "cell_type": "code",
   "execution_count": 58,
   "id": "c610dec3-3808-4ec4-91a3-0c47b8be19d6",
   "metadata": {},
   "outputs": [
    {
     "data": {
      "image/png": "[encoded data removed]",
      "text/plain": [
       "<rdkit.Chem.rdchem.Mol at 0x7fddb4ff6640>"
      ]
     },
     "execution_count": 58,
     "metadata": {},
     "output_type": "execute_result"
    }
   ],
   "source": [
    "Chem.MolFromSmarts('[C][C](=[O])[O][CH]([CH])[O]')"
   ]
  },
  {
   "cell_type": "code",
   "execution_count": null,
   "id": "28173191-28cf-49c7-9dd6-0800bffaa2d0",
   "metadata": {},
   "outputs": [],
   "source": [
    "#Fragments [CH2]=[C]([C](=[O])[O])[CH]([CH])[CH] [CH2]=[C]([C](=[O])[O])[CH]([CH])[CH] 11.309043"
   ]
  },
  {
   "cell_type": "code",
   "execution_count": 59,
   "id": "49405ea8-f818-44a4-90d5-2e2bba275fa7",
   "metadata": {},
   "outputs": [
    {
     "data": {
      "image/png": "[encoded data removed]",
      "text/plain": [
       "<rdkit.Chem.rdchem.Mol at 0x7fddb4ff9520>"
      ]
     },
     "execution_count": 59,
     "metadata": {},
     "output_type": "execute_result"
    }
   ],
   "source": [
    "Chem.MolFromSmarts('[CH2]=[C]([C](=[O])[O])[CH]([CH])[CH]')"
   ]
  },
  {
   "cell_type": "code",
   "execution_count": 60,
   "id": "fbbfd4b6-9337-47b0-b2c6-33789d84f679",
   "metadata": {},
   "outputs": [
    {
     "data": {
      "image/png": "[encoded data removed]",
      "text/plain": [
       "<rdkit.Chem.rdchem.Mol at 0x7fddb4ff95e0>"
      ]
     },
     "execution_count": 60,
     "metadata": {},
     "output_type": "execute_result"
    }
   ],
   "source": [
    "Chem.MolFromSmarts('[CH2]=[C]([C](=[O])[O])[CH]([CH])[CH]')"
   ]
  },
  {
   "cell_type": "markdown",
   "id": "6c6043a6-bd9d-4815-af01-13b2f66bd0e3",
   "metadata": {},
   "source": [
    "## More occuring fragments in ZINC than COCONUT"
   ]
  },
  {
   "cell_type": "code",
   "execution_count": null,
   "id": "dc737618-3ca6-4559-9a0e-a602a333f882",
   "metadata": {},
   "outputs": [
    {
     "data": {
      "text/html": [
       "<div>\n",
       "<style scoped>\n",
       "    .dataframe tbody tr th:only-of-type {\n",
       "        vertical-align: middle;\n",
       "    }\n",
       "\n",
       "    .dataframe tbody tr th {\n",
       "        vertical-align: top;\n",
       "    }\n",
       "\n",
       "    .dataframe thead th {\n",
       "        text-align: right;\n",
       "    }\n",
       "</style>\n",
       "<table border=\"1\" class=\"dataframe\">\n",
       "  <thead>\n",
       "    <tr style=\"text-align: right;\">\n",
       "      <th></th>\n",
       "      <th></th>\n",
       "      <th>value</th>\n",
       "    </tr>\n",
       "    <tr>\n",
       "      <th>feature1</th>\n",
       "      <th>feature2</th>\n",
       "      <th></th>\n",
       "    </tr>\n",
       "  </thead>\n",
       "  <tbody>\n",
       "    <tr>\n",
       "      <th>[c][NH][C](=[O])[CH2][S]</th>\n",
       "      <th>[c][n][n][c]([n])[S]</th>\n",
       "      <td>-12.511538</td>\n",
       "    </tr>\n",
       "    <tr>\n",
       "      <th>[c][N]([S])[CH2][C]([NH])=[O]</th>\n",
       "      <th>[c][N]([S])[CH2][C]([NH])=[O]</th>\n",
       "      <td>-12.146732</td>\n",
       "    </tr>\n",
       "    <tr>\n",
       "      <th rowspan=\"2\" valign=\"top\">[CH]=[c]([c])[s][c](=[N])[n]</th>\n",
       "      <th>[CH]=[c]([c])[s][c](=[N])[n]</th>\n",
       "      <td>-11.669071</td>\n",
       "    </tr>\n",
       "    <tr>\n",
       "      <th>[c][CH]=[c]([s][c])[c]([n])=[O]</th>\n",
       "      <td>-11.647691</td>\n",
       "    </tr>\n",
       "    <tr>\n",
       "      <th>[CH]=[c]([s])[c](=[O])[n]([c])[CH]</th>\n",
       "      <th>[CH]=[c]([s])[c](=[O])[n]([c])[CH]</th>\n",
       "      <td>-11.642181</td>\n",
       "    </tr>\n",
       "    <tr>\n",
       "      <th>[C][N]=[c]([s][c])[n]([c])[CH]</th>\n",
       "      <th>[C][N]=[c]([s][c])[n]([c])[CH]</th>\n",
       "      <td>-11.640800</td>\n",
       "    </tr>\n",
       "    <tr>\n",
       "      <th>[CH]=[c]([c])[s][c](=[N])[n]</th>\n",
       "      <th>[CH]=[c]([s])[c](=[O])[n]([c])[CH]</th>\n",
       "      <td>-11.638495</td>\n",
       "    </tr>\n",
       "    <tr>\n",
       "      <th>[CH]=[c]([s])[c](=[O])[n]([c])[CH]</th>\n",
       "      <th>[c][CH]=[c]([s][c])[c]([n])=[O]</th>\n",
       "      <td>-11.622262</td>\n",
       "    </tr>\n",
       "    <tr>\n",
       "      <th>[C][CH2][S][c]([n])[n]</th>\n",
       "      <th>[c][n][n][c]([CH2])[n]</th>\n",
       "      <td>-11.594472</td>\n",
       "    </tr>\n",
       "    <tr>\n",
       "      <th>[CH]=[c]([c])[s][c](=[N])[n]</th>\n",
       "      <th>[C][N]=[c]([s][c])[n]([c])[CH]</th>\n",
       "      <td>-11.586848</td>\n",
       "    </tr>\n",
       "    <tr>\n",
       "      <th>[CH]=[c]([s])[c](=[O])[n]([c])[CH]</th>\n",
       "      <th>[C][N]=[c]([s][c])[n]([c])[CH]</th>\n",
       "      <td>-11.586848</td>\n",
       "    </tr>\n",
       "    <tr>\n",
       "      <th>[C][N]=[c]([s][c])[n]([c])[CH]</th>\n",
       "      <th>[c][CH]=[c]([s][c])[c]([n])=[O]</th>\n",
       "      <td>-11.568567</td>\n",
       "    </tr>\n",
       "    <tr>\n",
       "      <th>[cH][c]([cH])[NH][C]([CH2])=[O]</th>\n",
       "      <th>[c][n][n][c]([n])[S]</th>\n",
       "      <td>-11.412794</td>\n",
       "    </tr>\n",
       "    <tr>\n",
       "      <th>[c]-[n]([c])[c]([n][n])[S][CH2]</th>\n",
       "      <th>[c][NH][C](=[O])[CH2][S]</th>\n",
       "      <td>-11.372876</td>\n",
       "    </tr>\n",
       "    <tr>\n",
       "      <th>[C][N]([CH2])[CH]([CH3])[C]([NH])=[O]</th>\n",
       "      <th>[c][CH2][N]([C]([CH2])=[O])[CH]([C])[CH3]</th>\n",
       "      <td>-11.359507</td>\n",
       "    </tr>\n",
       "    <tr>\n",
       "      <th>[c][CH2][N]([C]([CH2])=[O])[CH]([C])[CH3]</th>\n",
       "      <th>[c][CH2][N]([C]([CH2])=[O])[CH]([C])[CH3]</th>\n",
       "      <td>-11.359507</td>\n",
       "    </tr>\n",
       "    <tr>\n",
       "      <th>[c]-[c]([n])[n][n][c]</th>\n",
       "      <th>[c][NH][C](=[O])[CH2][S]</th>\n",
       "      <td>-11.336378</td>\n",
       "    </tr>\n",
       "    <tr>\n",
       "      <th rowspan=\"3\" valign=\"top\">[C]=[C]([CH3])[N]=[c]([n])[s]</th>\n",
       "      <th>[C]=[C]([CH3])[N]=[c]([n])[s]</th>\n",
       "      <td>-11.311716</td>\n",
       "    </tr>\n",
       "    <tr>\n",
       "      <th>[C][C]([CH])=[C]([CH3])[N]=[c]</th>\n",
       "      <td>-11.311138</td>\n",
       "    </tr>\n",
       "    <tr>\n",
       "      <th>[C][N]=[c]([s][c])[n]([c])[CH]</th>\n",
       "      <td>-11.311138</td>\n",
       "    </tr>\n",
       "    <tr>\n",
       "      <th rowspan=\"2\" valign=\"top\">[C][C]([CH])=[C]([CH3])[N]=[c]</th>\n",
       "      <th>[C][C]([CH])=[C]([CH3])[N]=[c]</th>\n",
       "      <td>-11.311138</td>\n",
       "    </tr>\n",
       "    <tr>\n",
       "      <th>[C][N]=[c]([s][c])[n]([c])[CH]</th>\n",
       "      <td>-11.311138</td>\n",
       "    </tr>\n",
       "    <tr>\n",
       "      <th>[C][CH2][S][c]([n])[n]</th>\n",
       "      <th>[c][n]([CH2])[c]([n][n])[S][CH2]</th>\n",
       "      <td>-11.286625</td>\n",
       "    </tr>\n",
       "    <tr>\n",
       "      <th rowspan=\"2\" valign=\"top\">[CH]=[c]([c])[s][c](=[N])[n]</th>\n",
       "      <th>[C]=[C]([CH3])[N]=[c]([n])[s]</th>\n",
       "      <td>-11.249662</td>\n",
       "    </tr>\n",
       "    <tr>\n",
       "      <th>[C][C]([CH])=[C]([CH3])[N]=[c]</th>\n",
       "      <td>-11.249058</td>\n",
       "    </tr>\n",
       "    <tr>\n",
       "      <th rowspan=\"2\" valign=\"top\">[CH]=[c]([s])[c](=[O])[n]([c])[CH]</th>\n",
       "      <th>[C]=[C]([CH3])[N]=[c]([n])[s]</th>\n",
       "      <td>-11.249058</td>\n",
       "    </tr>\n",
       "    <tr>\n",
       "      <th>[C][C]([CH])=[C]([CH3])[N]=[c]</th>\n",
       "      <td>-11.249058</td>\n",
       "    </tr>\n",
       "    <tr>\n",
       "      <th>[C]=[C]([CH3])[N]=[c]([n])[s]</th>\n",
       "      <th>[c][CH]=[c]([s][c])[c]([n])=[O]</th>\n",
       "      <td>-11.230819</td>\n",
       "    </tr>\n",
       "    <tr>\n",
       "      <th>[C][C]([CH])=[C]([CH3])[N]=[c]</th>\n",
       "      <th>[c][CH]=[c]([s][c])[c]([n])=[O]</th>\n",
       "      <td>-11.230207</td>\n",
       "    </tr>\n",
       "    <tr>\n",
       "      <th>[c][N]([S])[CH2][C]([NH])=[O]</th>\n",
       "      <th>[c][cH][cH][cH][cH]</th>\n",
       "      <td>-11.198018</td>\n",
       "    </tr>\n",
       "    <tr>\n",
       "      <th>[cH][c]([cH])-[n]([c]([n])[S])[c]([c])=[O]</th>\n",
       "      <th>[c]-[n]([c])[c]([n][c])[S][CH2]</th>\n",
       "      <td>-11.187338</td>\n",
       "    </tr>\n",
       "    <tr>\n",
       "      <th>[c][cH][cH][c]([cH])[NH]</th>\n",
       "      <th>[c][n][n][c]([n])[S]</th>\n",
       "      <td>-11.176583</td>\n",
       "    </tr>\n",
       "    <tr>\n",
       "      <th>[c][S][CH2][C]([NH])=[O]</th>\n",
       "      <th>[c][n][n][c]([CH2])[n]</th>\n",
       "      <td>-11.175947</td>\n",
       "    </tr>\n",
       "    <tr>\n",
       "      <th>[c][N]([CH2])[S](=[O])(=[O])[c]([cH])[cH]</th>\n",
       "      <th>[c][N]([S])[CH2][C]([NH])=[O]</th>\n",
       "      <td>-11.169574</td>\n",
       "    </tr>\n",
       "    <tr>\n",
       "      <th>[C]=[C]([CH])[C](=[O])[O][CH2]</th>\n",
       "      <th>[C][N]=[c]([s][c])[n]([c])[CH]</th>\n",
       "      <td>-11.157398</td>\n",
       "    </tr>\n",
       "    <tr>\n",
       "      <th>[c][NH][C](=[O])[CH2][N]</th>\n",
       "      <th>[c][N]([S])[CH2][C]([NH])=[O]</th>\n",
       "      <td>-11.150299</td>\n",
       "    </tr>\n",
       "    <tr>\n",
       "      <th rowspan=\"2\" valign=\"top\">[C][CH]([c])[n]([c]([c])=[O])[c](=[N])[s]</th>\n",
       "      <th>[C][CH]([c])[n]([c]([c])=[O])[c](=[N])[s]</th>\n",
       "      <td>-11.139258</td>\n",
       "    </tr>\n",
       "    <tr>\n",
       "      <th>[C][N]=[c]([s][c])[n]([c])[CH]</th>\n",
       "      <td>-11.139258</td>\n",
       "    </tr>\n",
       "    <tr>\n",
       "      <th>[C]=[C]([CH])[C](=[O])[O][CH2]</th>\n",
       "      <th>[c][CH]=[c]([s][c])[c]([n])=[O]</th>\n",
       "      <td>-11.131414</td>\n",
       "    </tr>\n",
       "    <tr>\n",
       "      <th>[CH]=[c]([c])[s][c](=[N])[n]</th>\n",
       "      <th>[C]=[C]([CH])[C](=[O])[O][CH2]</th>\n",
       "      <td>-11.126818</td>\n",
       "    </tr>\n",
       "    <tr>\n",
       "      <th>[C]=[C]([CH3])[N]=[c]([n])[s]</th>\n",
       "      <th>[c][CH]([n])[C]([C](=[O])[O])=[C]([CH3])[N]</th>\n",
       "      <td>-11.124844</td>\n",
       "    </tr>\n",
       "    <tr>\n",
       "      <th>[C][C]([CH])=[C]([CH3])[N]=[c]</th>\n",
       "      <th>[c][CH]([n])[C]([C](=[O])[O])=[C]([CH3])[N]</th>\n",
       "      <td>-11.124844</td>\n",
       "    </tr>\n",
       "    <tr>\n",
       "      <th>[C][N]=[c]([s][c])[n]([c])[CH]</th>\n",
       "      <th>[c][CH]([n])[C]([C](=[O])[O])=[C]([CH3])[N]</th>\n",
       "      <td>-11.124844</td>\n",
       "    </tr>\n",
       "    <tr>\n",
       "      <th>[c][CH]([n])[C]([C](=[O])[O])=[C]([CH3])[N]</th>\n",
       "      <th>[c][CH]([n])[C]([C](=[O])[O])=[C]([CH3])[N]</th>\n",
       "      <td>-11.124844</td>\n",
       "    </tr>\n",
       "    <tr>\n",
       "      <th>[CH]=[c]([s])[c](=[O])[n]([c])[CH]</th>\n",
       "      <th>[C]=[C]([CH])[C](=[O])[O][CH2]</th>\n",
       "      <td>-11.113607</td>\n",
       "    </tr>\n",
       "    <tr>\n",
       "      <th>[C][O][CH2][CH3]</th>\n",
       "      <th>[c][CH]=[c]([s][c])[c]([n])=[O]</th>\n",
       "      <td>-11.105621</td>\n",
       "    </tr>\n",
       "    <tr>\n",
       "      <th>[CH]=[c]([c])[s][c](=[N])[n]</th>\n",
       "      <th>[C][CH]([c])[n]([c]([c])=[O])[c](=[N])[s]</th>\n",
       "      <td>-11.101612</td>\n",
       "    </tr>\n",
       "    <tr>\n",
       "      <th>[CH]=[c]([s])[c](=[O])[n]([c])[CH]</th>\n",
       "      <th>[C][CH]([c])[n]([c]([c])=[O])[c](=[N])[s]</th>\n",
       "      <td>-11.101612</td>\n",
       "    </tr>\n",
       "    <tr>\n",
       "      <th>[cH][cH][c]([cH][cH])[S]([N])(=[O])=[O]</th>\n",
       "      <th>[c][N]([S])[CH2][C]([NH])=[O]</th>\n",
       "      <td>-11.091536</td>\n",
       "    </tr>\n",
       "    <tr>\n",
       "      <th>[C][CH]([c])[n]([c]([c])=[O])[c](=[N])[s]</th>\n",
       "      <th>[c][CH]=[c]([s][c])[c]([n])=[O]</th>\n",
       "      <td>-11.080039</td>\n",
       "    </tr>\n",
       "  </tbody>\n",
       "</table>\n",
       "</div>"
      ],
      "text/plain": [
       "                                                                                             value\n",
       "feature1                                    feature2                                              \n",
       "[c][NH][C](=[O])[CH2][S]                    [c][n][n][c]([n])[S]                        -12.511538\n",
       "[c][N]([S])[CH2][C]([NH])=[O]               [c][N]([S])[CH2][C]([NH])=[O]               -12.146732\n",
       "[CH]=[c]([c])[s][c](=[N])[n]                [CH]=[c]([c])[s][c](=[N])[n]                -11.669071\n",
       "                                            [c][CH]=[c]([s][c])[c]([n])=[O]             -11.647691\n",
       "[CH]=[c]([s])[c](=[O])[n]([c])[CH]          [CH]=[c]([s])[c](=[O])[n]([c])[CH]          -11.642181\n",
       "[C][N]=[c]([s][c])[n]([c])[CH]              [C][N]=[c]([s][c])[n]([c])[CH]              -11.640800\n",
       "[CH]=[c]([c])[s][c](=[N])[n]                [CH]=[c]([s])[c](=[O])[n]([c])[CH]          -11.638495\n",
       "[CH]=[c]([s])[c](=[O])[n]([c])[CH]          [c][CH]=[c]([s][c])[c]([n])=[O]             -11.622262\n",
       "[C][CH2][S][c]([n])[n]                      [c][n][n][c]([CH2])[n]                      -11.594472\n",
       "[CH]=[c]([c])[s][c](=[N])[n]                [C][N]=[c]([s][c])[n]([c])[CH]              -11.586848\n",
       "[CH]=[c]([s])[c](=[O])[n]([c])[CH]          [C][N]=[c]([s][c])[n]([c])[CH]              -11.586848\n",
       "[C][N]=[c]([s][c])[n]([c])[CH]              [c][CH]=[c]([s][c])[c]([n])=[O]             -11.568567\n",
       "[cH][c]([cH])[NH][C]([CH2])=[O]             [c][n][n][c]([n])[S]                        -11.412794\n",
       "[c]-[n]([c])[c]([n][n])[S][CH2]             [c][NH][C](=[O])[CH2][S]                    -11.372876\n",
       "[C][N]([CH2])[CH]([CH3])[C]([NH])=[O]       [c][CH2][N]([C]([CH2])=[O])[CH]([C])[CH3]   -11.359507\n",
       "[c][CH2][N]([C]([CH2])=[O])[CH]([C])[CH3]   [c][CH2][N]([C]([CH2])=[O])[CH]([C])[CH3]   -11.359507\n",
       "[c]-[c]([n])[n][n][c]                       [c][NH][C](=[O])[CH2][S]                    -11.336378\n",
       "[C]=[C]([CH3])[N]=[c]([n])[s]               [C]=[C]([CH3])[N]=[c]([n])[s]               -11.311716\n",
       "                                            [C][C]([CH])=[C]([CH3])[N]=[c]              -11.311138\n",
       "                                            [C][N]=[c]([s][c])[n]([c])[CH]              -11.311138\n",
       "[C][C]([CH])=[C]([CH3])[N]=[c]              [C][C]([CH])=[C]([CH3])[N]=[c]              -11.311138\n",
       "                                            [C][N]=[c]([s][c])[n]([c])[CH]              -11.311138\n",
       "[C][CH2][S][c]([n])[n]                      [c][n]([CH2])[c]([n][n])[S][CH2]            -11.286625\n",
       "[CH]=[c]([c])[s][c](=[N])[n]                [C]=[C]([CH3])[N]=[c]([n])[s]               -11.249662\n",
       "                                            [C][C]([CH])=[C]([CH3])[N]=[c]              -11.249058\n",
       "[CH]=[c]([s])[c](=[O])[n]([c])[CH]          [C]=[C]([CH3])[N]=[c]([n])[s]               -11.249058\n",
       "                                            [C][C]([CH])=[C]([CH3])[N]=[c]              -11.249058\n",
       "[C]=[C]([CH3])[N]=[c]([n])[s]               [c][CH]=[c]([s][c])[c]([n])=[O]             -11.230819\n",
       "[C][C]([CH])=[C]([CH3])[N]=[c]              [c][CH]=[c]([s][c])[c]([n])=[O]             -11.230207\n",
       "[c][N]([S])[CH2][C]([NH])=[O]               [c][cH][cH][cH][cH]                         -11.198018\n",
       "[cH][c]([cH])-[n]([c]([n])[S])[c]([c])=[O]  [c]-[n]([c])[c]([n][c])[S][CH2]             -11.187338\n",
       "[c][cH][cH][c]([cH])[NH]                    [c][n][n][c]([n])[S]                        -11.176583\n",
       "[c][S][CH2][C]([NH])=[O]                    [c][n][n][c]([CH2])[n]                      -11.175947\n",
       "[c][N]([CH2])[S](=[O])(=[O])[c]([cH])[cH]   [c][N]([S])[CH2][C]([NH])=[O]               -11.169574\n",
       "[C]=[C]([CH])[C](=[O])[O][CH2]              [C][N]=[c]([s][c])[n]([c])[CH]              -11.157398\n",
       "[c][NH][C](=[O])[CH2][N]                    [c][N]([S])[CH2][C]([NH])=[O]               -11.150299\n",
       "[C][CH]([c])[n]([c]([c])=[O])[c](=[N])[s]   [C][CH]([c])[n]([c]([c])=[O])[c](=[N])[s]   -11.139258\n",
       "                                            [C][N]=[c]([s][c])[n]([c])[CH]              -11.139258\n",
       "[C]=[C]([CH])[C](=[O])[O][CH2]              [c][CH]=[c]([s][c])[c]([n])=[O]             -11.131414\n",
       "[CH]=[c]([c])[s][c](=[N])[n]                [C]=[C]([CH])[C](=[O])[O][CH2]              -11.126818\n",
       "[C]=[C]([CH3])[N]=[c]([n])[s]               [c][CH]([n])[C]([C](=[O])[O])=[C]([CH3])[N] -11.124844\n",
       "[C][C]([CH])=[C]([CH3])[N]=[c]              [c][CH]([n])[C]([C](=[O])[O])=[C]([CH3])[N] -11.124844\n",
       "[C][N]=[c]([s][c])[n]([c])[CH]              [c][CH]([n])[C]([C](=[O])[O])=[C]([CH3])[N] -11.124844\n",
       "[c][CH]([n])[C]([C](=[O])[O])=[C]([CH3])[N] [c][CH]([n])[C]([C](=[O])[O])=[C]([CH3])[N] -11.124844\n",
       "[CH]=[c]([s])[c](=[O])[n]([c])[CH]          [C]=[C]([CH])[C](=[O])[O][CH2]              -11.113607\n",
       "[C][O][CH2][CH3]                            [c][CH]=[c]([s][c])[c]([n])=[O]             -11.105621\n",
       "[CH]=[c]([c])[s][c](=[N])[n]                [C][CH]([c])[n]([c]([c])=[O])[c](=[N])[s]   -11.101612\n",
       "[CH]=[c]([s])[c](=[O])[n]([c])[CH]          [C][CH]([c])[n]([c]([c])=[O])[c](=[N])[s]   -11.101612\n",
       "[cH][cH][c]([cH][cH])[S]([N])(=[O])=[O]     [c][N]([S])[CH2][C]([NH])=[O]               -11.091536\n",
       "[C][CH]([c])[n]([c]([c])=[O])[c](=[N])[s]   [c][CH]=[c]([s][c])[c]([n])=[O]             -11.080039"
      ]
     },
     "execution_count": 36,
     "metadata": {},
     "output_type": "execute_result"
    }
   ],
   "source": [
    "difference_pkld_profile.df.nsmallest(50,\"value\")"
   ]
  },
  {
   "cell_type": "code",
   "execution_count": 61,
   "id": "978422fc-62ef-4682-b0da-6b9ec5bd653c",
   "metadata": {},
   "outputs": [
    {
     "data": {
      "image/png": "[encoded data removed]",
      "text/plain": [
       "<rdkit.Chem.rdchem.Mol at 0x7fddb4ff99a0>"
      ]
     },
     "execution_count": 61,
     "metadata": {},
     "output_type": "execute_result"
    }
   ],
   "source": [
    "# [c][NH][C](=[O])[CH2][S]\t[c][n][n][c]([n])[S]\t-12.511538\n",
    "Chem.MolFromSmarts('[c][NH][C](=[O])[CH2][S]')"
   ]
  },
  {
   "cell_type": "code",
   "execution_count": 62,
   "id": "f61bf457-8633-4b1a-ae78-e8db4d71c459",
   "metadata": {},
   "outputs": [
    {
     "data": {
      "image/png": "[encoded data removed]",
      "text/plain": [
       "<rdkit.Chem.rdchem.Mol at 0x7fddb4ff9ac0>"
      ]
     },
     "execution_count": 62,
     "metadata": {},
     "output_type": "execute_result"
    }
   ],
   "source": [
    "Chem.MolFromSmarts('[c][n][n][c]([n])[S]')"
   ]
  },
  {
   "cell_type": "code",
   "execution_count": null,
   "id": "b2131ac1-a5d5-47bc-85a4-817262873c06",
   "metadata": {},
   "outputs": [],
   "source": [
    "# [c][N]([S])[CH2][C]([NH])=[O]\t[c][N]([S])[CH2][C]([NH])=[O]\t-12.146732"
   ]
  },
  {
   "cell_type": "code",
   "execution_count": 63,
   "id": "11cb2336-4fe6-4f0d-a6a6-d8dd51a29c7d",
   "metadata": {},
   "outputs": [
    {
     "data": {
      "image/png": "[encoded data removed]",
      "text/plain": [
       "<rdkit.Chem.rdchem.Mol at 0x7fddb4ff9a00>"
      ]
     },
     "execution_count": 63,
     "metadata": {},
     "output_type": "execute_result"
    }
   ],
   "source": [
    "Chem.MolFromSmarts('[c][N]([S])[CH2][C]([NH])=[O]')"
   ]
  },
  {
   "cell_type": "code",
   "execution_count": 64,
   "id": "782f42f1-b55f-40f7-8778-bbb40a6a7bd5",
   "metadata": {},
   "outputs": [
    {
     "data": {
      "image/png": "[encoded data removed]",
      "text/plain": [
       "<rdkit.Chem.rdchem.Mol at 0x7fddb4ff9b20>"
      ]
     },
     "execution_count": 64,
     "metadata": {},
     "output_type": "execute_result"
    }
   ],
   "source": [
    "Chem.MolFromSmarts('[c][N]([S])[CH2][C]([NH])=[O]')"
   ]
  },
  {
   "cell_type": "code",
   "execution_count": null,
   "id": "100b94d0-2ac7-4577-a09a-284e05ebb4cf",
   "metadata": {},
   "outputs": [],
   "source": [
    "# [CH]=[c]([c])[s][c](=[N])[n]\t[CH]=[c]([c])[s][c](=[N])[n]\t-11.669071"
   ]
  },
  {
   "cell_type": "code",
   "execution_count": 65,
   "id": "f643bc8c-fae5-49d8-b014-ff548b0a4a65",
   "metadata": {},
   "outputs": [
    {
     "data": {
      "image/png": "[encoded data removed]",
      "text/plain": [
       "<rdkit.Chem.rdchem.Mol at 0x7fddb4ff9dc0>"
      ]
     },
     "execution_count": 65,
     "metadata": {},
     "output_type": "execute_result"
    }
   ],
   "source": [
    "Chem.MolFromSmarts('[CH]=[c]([c])[s][c](=[N])[n]')"
   ]
  },
  {
   "cell_type": "code",
   "execution_count": 66,
   "id": "98f23ed0-54ab-4433-803c-877a2afc203d",
   "metadata": {},
   "outputs": [
    {
     "data": {
      "image/png": "[encoded data removed]",
      "text/plain": [
       "<rdkit.Chem.rdchem.Mol at 0x7fddb4ff9100>"
      ]
     },
     "execution_count": 66,
     "metadata": {},
     "output_type": "execute_result"
    }
   ],
   "source": [
    "Chem.MolFromSmarts('[CH]=[c]([c])[s][c](=[N])[n]')"
   ]
  },
  {
   "cell_type": "code",
   "execution_count": null,
   "id": "4dd4f089-3f62-47ae-a160-b31b8d58bcdc",
   "metadata": {},
   "outputs": [],
   "source": [
    "# [CH]=[c]([c])[s][c](=[N])[n] [c][CH]=[c]([s][c])[c]([n])=[O]\t-11.647691"
   ]
  },
  {
   "cell_type": "code",
   "execution_count": 67,
   "id": "30657ad2-29e7-4f05-be9d-2cf4edf79592",
   "metadata": {},
   "outputs": [
    {
     "data": {
      "image/png": "[encoded data removed]",
      "text/plain": [
       "<rdkit.Chem.rdchem.Mol at 0x7fddb4ff9e80>"
      ]
     },
     "execution_count": 67,
     "metadata": {},
     "output_type": "execute_result"
    }
   ],
   "source": [
    "Chem.MolFromSmarts('[CH]=[c]([c])[s][c](=[N])[n]')"
   ]
  },
  {
   "cell_type": "code",
   "execution_count": 68,
   "id": "0df2f6be-9c5b-4bfc-b25d-164c9685f65b",
   "metadata": {},
   "outputs": [
    {
     "data": {
      "image/png": "[encoded data removed]",
      "text/plain": [
       "<rdkit.Chem.rdchem.Mol at 0x7fddb4ff6460>"
      ]
     },
     "execution_count": 68,
     "metadata": {},
     "output_type": "execute_result"
    }
   ],
   "source": [
    "Chem.MolFromSmarts('[c][CH]=[c]([s][c])[c]([n])=[O]')"
   ]
  },
  {
   "cell_type": "code",
   "execution_count": null,
   "id": "af45c5b9-9c69-41d3-afbf-5e0c6e185d90",
   "metadata": {},
   "outputs": [],
   "source": [
    "# [CH]=[c]([s])[c](=[O])[n]([c])[CH]\t[CH]=[c]([s])[c](=[O])[n]([c])[CH]\t-11.642181"
   ]
  },
  {
   "cell_type": "code",
   "execution_count": 69,
   "id": "298faf04-c9fc-439a-8d9b-2c00689bc254",
   "metadata": {},
   "outputs": [
    {
     "data": {
      "image/png": "[encoded data removed]",
      "text/plain": [
       "<rdkit.Chem.rdchem.Mol at 0x7fddb4ffaca0>"
      ]
     },
     "execution_count": 69,
     "metadata": {},
     "output_type": "execute_result"
    }
   ],
   "source": [
    "Chem.MolFromSmarts('[CH]=[c]([s])[c](=[O])[n]([c])[CH]')"
   ]
  },
  {
   "cell_type": "code",
   "execution_count": 70,
   "id": "4cf984f3-f37d-40a9-9242-4d5c46da9cc0",
   "metadata": {},
   "outputs": [
    {
     "data": {
      "image/png": "[encoded data removed]",
      "text/plain": [
       "<rdkit.Chem.rdchem.Mol at 0x7fddb4ffa400>"
      ]
     },
     "execution_count": 70,
     "metadata": {},
     "output_type": "execute_result"
    }
   ],
   "source": [
    "Chem.MolFromSmarts('[CH]=[c]([s])[c](=[O])[n]([c])[CH]')"
   ]
  },
  {
   "cell_type": "code",
   "execution_count": null,
   "id": "513dc48b-d414-4ae5-8d41-6392bd7eb33c",
   "metadata": {},
   "outputs": [],
   "source": [
    "# [C][N]=[c]([s][c])[n]([c])[CH]\t[C][N]=[c]([s][c])[n]([c])[CH]\t-11.640800"
   ]
  },
  {
   "cell_type": "code",
   "execution_count": 71,
   "id": "84aff4c6-a460-412e-843a-f8cf78d41363",
   "metadata": {},
   "outputs": [
    {
     "data": {
      "image/png": "[encoded data removed]",
      "text/plain": [
       "<rdkit.Chem.rdchem.Mol at 0x7fddb4ff3100>"
      ]
     },
     "execution_count": 71,
     "metadata": {},
     "output_type": "execute_result"
    }
   ],
   "source": [
    "Chem.MolFromSmarts('[C][N]=[c]([s][c])[n]([c])[CH]')"
   ]
  },
  {
   "cell_type": "code",
   "execution_count": 72,
   "id": "6151905a-f2ba-4225-bb30-3a41ca427428",
   "metadata": {},
   "outputs": [
    {
     "data": {
      "image/png": "[encoded data removed]",
      "text/plain": [
       "<rdkit.Chem.rdchem.Mol at 0x7fddb4ff9f40>"
      ]
     },
     "execution_count": 72,
     "metadata": {},
     "output_type": "execute_result"
    }
   ],
   "source": [
    "Chem.MolFromSmarts('[C][N]=[c]([s][c])[n]([c])[CH]')"
   ]
  },
  {
   "cell_type": "code",
   "execution_count": null,
   "id": "57012903-ac13-4ae3-94aa-902a48746e12",
   "metadata": {},
   "outputs": [],
   "source": [
    "# [CH]=[c]([c])[s][c](=[N])[n]\t[CH]=[c]([s])[c](=[O])[n]([c])[CH]\t-11.638495"
   ]
  },
  {
   "cell_type": "code",
   "execution_count": 73,
   "id": "82893ab5-0611-4136-b90e-bf190cef3cc1",
   "metadata": {},
   "outputs": [
    {
     "data": {
      "image/png": "[encoded data removed]",
      "text/plain": [
       "<rdkit.Chem.rdchem.Mol at 0x7fddb4ffaa60>"
      ]
     },
     "execution_count": 73,
     "metadata": {},
     "output_type": "execute_result"
    }
   ],
   "source": [
    "Chem.MolFromSmarts('[CH]=[c]([c])[s][c](=[N])[n]')"
   ]
  },
  {
   "cell_type": "code",
   "execution_count": 74,
   "id": "251bbd95-13a4-48b0-87df-8953b518c9c2",
   "metadata": {},
   "outputs": [
    {
     "data": {
      "image/png": "[encoded data removed]",
      "text/plain": [
       "<rdkit.Chem.rdchem.Mol at 0x7fddb4ffa700>"
      ]
     },
     "execution_count": 74,
     "metadata": {},
     "output_type": "execute_result"
    }
   ],
   "source": [
    "Chem.MolFromSmarts('[CH]=[c]([s])[c](=[O])[n]([c])[CH]')"
   ]
  },
  {
   "cell_type": "code",
   "execution_count": null,
   "id": "a1d1a8f6-616a-4393-8ac0-284716963162",
   "metadata": {},
   "outputs": [],
   "source": [
    "# [CH]=[c]([s])[c](=[O])[n]([c])[CH]\t[c][CH]=[c]([s][c])[c]([n])=[O]\t-11.622262"
   ]
  },
  {
   "cell_type": "code",
   "execution_count": 75,
   "id": "6083cba8-2794-4596-92ba-589898c8288e",
   "metadata": {},
   "outputs": [
    {
     "data": {
      "image/png": "[encoded data removed]",
      "text/plain": [
       "<rdkit.Chem.rdchem.Mol at 0x7fddb4ffab20>"
      ]
     },
     "execution_count": 75,
     "metadata": {},
     "output_type": "execute_result"
    }
   ],
   "source": [
    "Chem.MolFromSmarts('[CH]=[c]([s])[c](=[O])[n]([c])[CH]')"
   ]
  },
  {
   "cell_type": "code",
   "execution_count": 76,
   "id": "1123fd44-e48a-4863-bc9b-4c68c8dd8c08",
   "metadata": {},
   "outputs": [
    {
     "data": {
      "image/png": "[encoded data removed]",
      "text/plain": [
       "<rdkit.Chem.rdchem.Mol at 0x7fddb4ff60a0>"
      ]
     },
     "execution_count": 76,
     "metadata": {},
     "output_type": "execute_result"
    }
   ],
   "source": [
    "Chem.MolFromSmarts('[c][CH]=[c]([s][c])[c]([n])=[O]')"
   ]
  },
  {
   "cell_type": "code",
   "execution_count": null,
   "id": "a3c4ced5-19a7-469d-88b7-5d712a24878c",
   "metadata": {},
   "outputs": [],
   "source": [
    "# [C][CH2][S][c]([n])[n]\t[c][n][n][c]([CH2])[n]\t-11.594472"
   ]
  },
  {
   "cell_type": "code",
   "execution_count": 77,
   "id": "be010576-6ca5-410d-8c3e-f8f127754c54",
   "metadata": {},
   "outputs": [
    {
     "data": {
      "image/png": "[encoded data removed]",
      "text/plain": [
       "<rdkit.Chem.rdchem.Mol at 0x7fddb4ffa9a0>"
      ]
     },
     "execution_count": 77,
     "metadata": {},
     "output_type": "execute_result"
    }
   ],
   "source": [
    "Chem.MolFromSmarts('[C][CH2][S][c]([n])[n]')"
   ]
  },
  {
   "cell_type": "code",
   "execution_count": 78,
   "id": "5e9f9197-816d-4900-ac12-024d012c955d",
   "metadata": {},
   "outputs": [
    {
     "data": {
      "image/png": "[encoded data removed]",
      "text/plain": [
       "<rdkit.Chem.rdchem.Mol at 0x7fddb4ffc280>"
      ]
     },
     "execution_count": 78,
     "metadata": {},
     "output_type": "execute_result"
    }
   ],
   "source": [
    "Chem.MolFromSmarts('[c][n][n][c]([CH2])[n]')"
   ]
  },
  {
   "cell_type": "code",
   "execution_count": null,
   "id": "0f03e224-daa4-491c-96a7-e3f82861e5a6",
   "metadata": {},
   "outputs": [],
   "source": [
    "# [CH]=[c]([c])[s][c](=[N])[n]\t[C][N]=[c]([s][c])[n]([c])[CH]\t-11.586848"
   ]
  },
  {
   "cell_type": "code",
   "execution_count": 79,
   "id": "31b30609-7b69-406b-bff3-1af9d480b704",
   "metadata": {},
   "outputs": [
    {
     "data": {
      "image/png": "[encoded data removed]",
      "text/plain": [
       "<rdkit.Chem.rdchem.Mol at 0x7fddb4ffae80>"
      ]
     },
     "execution_count": 79,
     "metadata": {},
     "output_type": "execute_result"
    }
   ],
   "source": [
    "Chem.MolFromSmarts('[CH]=[c]([c])[s][c](=[N])[n]')"
   ]
  },
  {
   "cell_type": "code",
   "execution_count": 80,
   "id": "d8eaa954-fefa-4dbd-9d22-362467e8e290",
   "metadata": {},
   "outputs": [
    {
     "data": {
      "image/png": "[encoded data removed]",
      "text/plain": [
       "<rdkit.Chem.rdchem.Mol at 0x7fddb4ffaf40>"
      ]
     },
     "execution_count": 80,
     "metadata": {},
     "output_type": "execute_result"
    }
   ],
   "source": [
    "Chem.MolFromSmarts('[C][N]=[c]([s][c])[n]([c])[CH]')"
   ]
  },
  {
   "cell_type": "code",
   "execution_count": null,
   "id": "c6680243-b728-43c0-a2f9-e4ec8baa32b8",
   "metadata": {},
   "outputs": [],
   "source": []
  }
 ],
 "metadata": {
  "kernelspec": {
   "display_name": "Python 3 (ipykernel)",
   "language": "python",
   "name": "python3"
  },
  "language_info": {
   "codemirror_mode": {
    "name": "ipython",
    "version": 3
   },
   "file_extension": ".py",
   "mimetype": "text/x-python",
   "name": "python",
   "nbconvert_exporter": "python",
   "pygments_lexer": "ipython3",
   "version": "3.9.7"
  }
 },
 "nbformat": 4,
 "nbformat_minor": 5
}
