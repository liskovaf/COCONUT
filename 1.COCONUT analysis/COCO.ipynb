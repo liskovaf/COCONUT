{
 "cells": [
  {
   "cell_type": "markdown",
   "id": "a10859b1-b35b-4736-a110-411a8443fdeb",
   "metadata": {},
   "source": [
    "# COCONUT database analysis"
   ]
  },
  {
   "cell_type": "code",
   "execution_count": 1,
   "id": "3b615214-3f80-413d-a204-7391216a724c",
   "metadata": {},
   "outputs": [
    {
     "name": "stderr",
     "output_type": "stream",
     "text": [
      "RDKit WARNING: [12:56:26] Enabling RDKit 2019.09.3 jupyter extensions\n"
     ]
    }
   ],
   "source": [
    "from rdkit.Chem import AllChem as Chem\n",
    "from rdkit.Chem import Descriptors\n",
    "from rdkit.Chem.Draw import IPythonConsole\n",
    "import pandas as pd\n",
    "from rdkit.Chem import rdMolDescriptors as rdescriptors\n",
    "import matplotlib.pyplot as plt\n",
    "import seaborn as sns"
   ]
  },
  {
   "cell_type": "code",
   "execution_count": 2,
   "id": "f1f6de9e-396e-4aa1-8745-32a441c97d31",
   "metadata": {},
   "outputs": [],
   "source": [
    "#Loading coconut database from sdf format\n",
    "coco = Chem.SDMolSupplier('COCONUT_DB.sdf')\n",
    "coco_d = [m for m in coco if m]"
   ]
  },
  {
   "cell_type": "code",
   "execution_count": 5,
   "id": "5de95c06-d7c3-42c8-8c33-c5b09641073f",
   "metadata": {},
   "outputs": [
    {
     "data": {
      "text/plain": [
       "405960"
      ]
     },
     "execution_count": 5,
     "metadata": {},
     "output_type": "execute_result"
    }
   ],
   "source": [
    "#Number of natural products\n",
    "len(coco_d)"
   ]
  },
  {
   "cell_type": "code",
   "execution_count": 6,
   "id": "0f67ffba-f600-40af-ab70-96f54c676fb9",
   "metadata": {},
   "outputs": [
    {
     "data": {
      "text/plain": [
       "438.0328070879999"
      ]
     },
     "execution_count": 6,
     "metadata": {},
     "output_type": "execute_result"
    }
   ],
   "source": [
    "#Molecular weight of specific substance ( i = 12)\n",
    "rdescriptors.CalcExactMolWt(coco_d[12])"
   ]
  },
  {
   "cell_type": "code",
   "execution_count": 7,
   "id": "de07637c-9201-4c53-a642-c83a1eb835f8",
   "metadata": {},
   "outputs": [
    {
     "data": {
      "text/plain": [
       "3.3226200000000023"
      ]
     },
     "execution_count": 7,
     "metadata": {},
     "output_type": "execute_result"
    }
   ],
   "source": [
    "#LogP of specific substance ( i = 2)\n",
    "Descriptors.MolLogP(coco_d[2])"
   ]
  },
  {
   "cell_type": "code",
   "execution_count": 8,
   "id": "e52bb82c-8a26-4c24-adb6-7768906972b8",
   "metadata": {},
   "outputs": [],
   "source": [
    "# List of molecular weights of natural products\n",
    "db_mw = []\n",
    "for substance in coco_d:\n",
    "\t\tdb_mw.append(rdescriptors.CalcExactMolWt(substance))"
   ]
  },
  {
   "cell_type": "code",
   "execution_count": 9,
   "id": "86dccb18-14e3-4ed4-be9d-63416653083f",
   "metadata": {},
   "outputs": [],
   "source": [
    "# List of molecular octanol-water partition coefficient\n",
    "db_logP = []\n",
    "for substance in coco_d:\n",
    "\t\tdb_logP.append(Descriptors.MolLogP(substance))"
   ]
  },
  {
   "cell_type": "code",
   "execution_count": 10,
   "id": "49ed3775-5139-4945-9acf-8ee7f035061f",
   "metadata": {},
   "outputs": [
    {
     "data": {
      "text/html": [
       "<div>\n",
       "<style scoped>\n",
       "    .dataframe tbody tr th:only-of-type {\n",
       "        vertical-align: middle;\n",
       "    }\n",
       "\n",
       "    .dataframe tbody tr th {\n",
       "        vertical-align: top;\n",
       "    }\n",
       "\n",
       "    .dataframe thead th {\n",
       "        text-align: right;\n",
       "    }\n",
       "</style>\n",
       "<table border=\"1\" class=\"dataframe\">\n",
       "  <thead>\n",
       "    <tr style=\"text-align: right;\">\n",
       "      <th></th>\n",
       "      <th>MW</th>\n",
       "      <th>logP</th>\n",
       "      <th>name</th>\n",
       "    </tr>\n",
       "  </thead>\n",
       "  <tbody>\n",
       "    <tr>\n",
       "      <th>0</th>\n",
       "      <td>660.183639</td>\n",
       "      <td>-2.08210</td>\n",
       "      <td>COCO</td>\n",
       "    </tr>\n",
       "    <tr>\n",
       "      <th>1</th>\n",
       "      <td>598.183897</td>\n",
       "      <td>3.63422</td>\n",
       "      <td>COCO</td>\n",
       "    </tr>\n",
       "    <tr>\n",
       "      <th>2</th>\n",
       "      <td>554.157682</td>\n",
       "      <td>3.32262</td>\n",
       "      <td>COCO</td>\n",
       "    </tr>\n",
       "    <tr>\n",
       "      <th>3</th>\n",
       "      <td>534.298139</td>\n",
       "      <td>6.87940</td>\n",
       "      <td>COCO</td>\n",
       "    </tr>\n",
       "    <tr>\n",
       "      <th>4</th>\n",
       "      <td>540.142032</td>\n",
       "      <td>3.01962</td>\n",
       "      <td>COCO</td>\n",
       "    </tr>\n",
       "    <tr>\n",
       "      <th>...</th>\n",
       "      <td>...</td>\n",
       "      <td>...</td>\n",
       "      <td>...</td>\n",
       "    </tr>\n",
       "    <tr>\n",
       "      <th>405955</th>\n",
       "      <td>216.078644</td>\n",
       "      <td>2.75660</td>\n",
       "      <td>COCO</td>\n",
       "    </tr>\n",
       "    <tr>\n",
       "      <th>405956</th>\n",
       "      <td>570.188983</td>\n",
       "      <td>4.77902</td>\n",
       "      <td>COCO</td>\n",
       "    </tr>\n",
       "    <tr>\n",
       "      <th>405957</th>\n",
       "      <td>420.157288</td>\n",
       "      <td>4.82510</td>\n",
       "      <td>COCO</td>\n",
       "    </tr>\n",
       "    <tr>\n",
       "      <th>405958</th>\n",
       "      <td>1183.685261</td>\n",
       "      <td>-1.20930</td>\n",
       "      <td>COCO</td>\n",
       "    </tr>\n",
       "    <tr>\n",
       "      <th>405959</th>\n",
       "      <td>1456.817732</td>\n",
       "      <td>-3.86630</td>\n",
       "      <td>COCO</td>\n",
       "    </tr>\n",
       "  </tbody>\n",
       "</table>\n",
       "<p>405960 rows × 3 columns</p>\n",
       "</div>"
      ],
      "text/plain": [
       "                 MW     logP  name\n",
       "0        660.183639 -2.08210  COCO\n",
       "1        598.183897  3.63422  COCO\n",
       "2        554.157682  3.32262  COCO\n",
       "3        534.298139  6.87940  COCO\n",
       "4        540.142032  3.01962  COCO\n",
       "...             ...      ...   ...\n",
       "405955   216.078644  2.75660  COCO\n",
       "405956   570.188983  4.77902  COCO\n",
       "405957   420.157288  4.82510  COCO\n",
       "405958  1183.685261 -1.20930  COCO\n",
       "405959  1456.817732 -3.86630  COCO\n",
       "\n",
       "[405960 rows x 3 columns]"
      ]
     },
     "execution_count": 10,
     "metadata": {},
     "output_type": "execute_result"
    }
   ],
   "source": [
    "#Creating dataframe of logP and MW value of COCONUT products\n",
    "df_COCO = pd.DataFrame(data={'MW': db_mw,'logP': db_logP })\n",
    "\n",
    "df_COCO['name'] = \"COCO\"\n",
    "df_COCO"
   ]
  },
  {
   "cell_type": "code",
   "execution_count": 11,
   "id": "31c0b50e-2b70-48a2-886a-20ef4eaf9982",
   "metadata": {},
   "outputs": [
    {
     "data": {
      "text/plain": [
       "count    405960.000000\n",
       "mean          3.237199\n",
       "std           3.284358\n",
       "min         -33.287100\n",
       "25%           1.569700\n",
       "50%           3.123500\n",
       "75%           4.715605\n",
       "max          47.597260\n",
       "Name: logP, dtype: float64"
      ]
     },
     "execution_count": 11,
     "metadata": {},
     "output_type": "execute_result"
    }
   ],
   "source": [
    "#Statistic of COCONUT'S logP values\n",
    "df_COCO[\"logP\"].describe()"
   ]
  },
  {
   "cell_type": "code",
   "execution_count": 12,
   "id": "afd0b9bb-f675-4f0a-ac5d-49018ca21bc2",
   "metadata": {},
   "outputs": [
    {
     "data": {
      "text/plain": [
       "count    405960.000000\n",
       "mean        478.502381\n",
       "std         259.526564\n",
       "min          74.015650\n",
       "25%         324.111007\n",
       "50%         414.226705\n",
       "75%         547.202859\n",
       "max        3343.924977\n",
       "Name: MW, dtype: float64"
      ]
     },
     "execution_count": 12,
     "metadata": {},
     "output_type": "execute_result"
    }
   ],
   "source": [
    "#Statistic of COCONUT'S MW values\n",
    "df_COCO[\"MW\"].describe()"
   ]
  },
  {
   "cell_type": "code",
   "execution_count": 13,
   "id": "14702676-61db-4546-9029-a311451ee51c",
   "metadata": {},
   "outputs": [
    {
     "data": {
      "image/png": "[encoded data removed]",
      "text/plain": [
       "<Figure size 360x360 with 1 Axes>"
      ]
     },
     "metadata": {
      "needs_background": "light"
     },
     "output_type": "display_data"
    }
   ],
   "source": [
    "#Histogram of logP value of products\n",
    "sns.displot(df_COCO, x=\"logP\" )\n",
    "plt.xlim(-20, 20);"
   ]
  },
  {
   "cell_type": "code",
   "execution_count": 14,
   "id": "cbde69f4-6ccc-4328-a3f9-dce038af6f2b",
   "metadata": {},
   "outputs": [
    {
     "data": {
      "image/png": "[encoded data removed]",
      "text/plain": [
       "<Figure size 360x360 with 1 Axes>"
      ]
     },
     "metadata": {
      "needs_background": "light"
     },
     "output_type": "display_data"
    }
   ],
   "source": [
    "#Histogram of MW value of products\n",
    "sns.displot(df_COCO, x=\"MW\" )\n",
    "plt.xlim(0, 2000);"
   ]
  },
  {
   "cell_type": "code",
   "execution_count": 15,
   "id": "4cc70847-7669-43aa-a99e-afdf01fc1d40",
   "metadata": {},
   "outputs": [
    {
     "data": {
      "text/plain": [
       "<AxesSubplot:>"
      ]
     },
     "execution_count": 15,
     "metadata": {},
     "output_type": "execute_result"
    },
    {
     "data": {
      "image/png": "[encoded data removed]",
      "text/plain": [
       "<Figure size 432x432 with 1 Axes>"
      ]
     },
     "metadata": {},
     "output_type": "display_data"
    }
   ],
   "source": [
    "#Boxplot of COCONUT'S MW values\n",
    "sns.set(rc={'figure.figsize':(6, 6)})\n",
    "sns.boxplot(data=df_COCO[['MW']], \n",
    "            palette = \"pastel\", \n",
    "            showfliers = False)"
   ]
  },
  {
   "cell_type": "code",
   "execution_count": 16,
   "id": "ac5a4370-6cf7-4593-bded-d14ef2e7224f",
   "metadata": {},
   "outputs": [
    {
     "data": {
      "text/plain": [
       "<AxesSubplot:>"
      ]
     },
     "execution_count": 16,
     "metadata": {},
     "output_type": "execute_result"
    },
    {
     "data": {
      "image/png": "[encoded data removed]",
      "text/plain": [
       "<Figure size 432x432 with 1 Axes>"
      ]
     },
     "metadata": {},
     "output_type": "display_data"
    }
   ],
   "source": [
    "#Boxplot of COCONUT'S logP values\n",
    "sns.set(rc={'figure.figsize':(6, 6)})\n",
    "sns.boxplot(data=df_COCO[['logP']], \n",
    "            palette = \"pastel\", \n",
    "            showfliers = False)"
   ]
  }
 ],
 "metadata": {
  "kernelspec": {
   "display_name": "Python 3 (ipykernel)",
   "language": "python",
   "name": "python3"
  },
  "language_info": {
   "codemirror_mode": {
    "name": "ipython",
    "version": 3
   },
   "file_extension": ".py",
   "mimetype": "text/x-python",
   "name": "python",
   "nbconvert_exporter": "python",
   "pygments_lexer": "ipython3",
   "version": "3.7.10"
  }
 },
 "nbformat": 4,
 "nbformat_minor": 5
}
